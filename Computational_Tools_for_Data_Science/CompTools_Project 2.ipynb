{
  "nbformat": 4,
  "nbformat_minor": 0,
  "metadata": {
    "colab": {
      "name": "Final Bigger_Boi_Project.ipynb",
      "provenance": [],
      "collapsed_sections": []
    },
    "kernelspec": {
      "display_name": "Python 3",
      "language": "python",
      "name": "python3"
    },
    "language_info": {
      "codemirror_mode": {
        "name": "ipython",
        "version": 3
      },
      "file_extension": ".py",
      "mimetype": "text/x-python",
      "name": "python",
      "nbconvert_exporter": "python",
      "pygments_lexer": "ipython3",
      "version": "3.6.6"
    }
  },
  "cells": [
    {
      "cell_type": "markdown",
      "metadata": {
        "id": "PlsPJUw7wCWZ"
      },
      "source": [
        "# 02807: Project 2\n",
        " \n",
        "## Practical information\n",
        " \n",
        "* This project must be completed in groups of 3 students.\n",
        "* This project must be handed in as an *.ipynb notebook to the course site on DTU Inside. Go to the Assignments tab to upload your submission. \n",
        "* The notebook must be runnable on Google Colab.\n",
        "* This project is due on Monday, November 30, 20:00.\n",
        "* Each group has to hand in *one* notebook with their solutions.\n",
        "* Your code must be written in Python/PySpark.\n",
        "* For each question you may use as many cells for your solution as you like.\n",
        "* You should not remove the problem statements.\n",
        "* Your notebook should be runnable, i.e., clicking in the code cells should display the result that you want to have assessed.  \n",
        "* You are not expected to use machine learning to solve any of the exercises.\n",
        " \n",
        "## Colaboration policy\n",
        " \n",
        "* It is not allowed to collaborate on the exercises with students outside your group, except for discussing the text of the exercise with teachers and fellow students enrolled on the course in the same semester. \n",
        "* It is not allowed to exchange, hand-over or in any other way communicate solutions or parts of solutions to the exercises. \n",
        "* It is not allowed to use solutions from similar courses, or solutions found elsewhere."
      ]
    },
    {
      "cell_type": "markdown",
      "metadata": {
        "id": "ZP30rwxHDQyG"
      },
      "source": [
        "## Contribution table and grading\n",
        "\n",
        "* The total amount of points in the project is 105.\n",
        "* You have to indicate who has solved each part of each exercise in a **contribution table**. \n",
        "* The following is an example of a contribution table:\n",
        "\n",
        "|        | Exercise 1 | Exercise 2 | Exercise 3 | Exercise 4 |\n",
        "|--------|------------|------------|------------|------------|\n",
        "| **Part 1** | John       |    Mary        |     Ann       |   Mary, Ann         |\n",
        "| **Part 2** |     Mary       |    Mary        |   Ann         |    John, Ann        |\n",
        "| **Part 3** |     John, Mary, Ann       |      John, Ann      |   John         | **n.a.**      |\n",
        "| **Part 4** | **n.a.**       |  Ann          |     John, Mary       | **n.a.**       |\n",
        "| **Part 5** | **n.a.**     | John, Mary, Ann           | **n.a.**       | **n.a.**       |\n",
        "| **Part 6** | **n.a.**       | John, Mary, Ann           | **n.a.**      | **n.a.**      |\n",
        "\n",
        "* A group member can take credit for solving a part of an exercise only if they have contributed **substantially** to the solution. \n",
        "* Simple contributions, such as correcting a small bug or double-checking the results of functions, are not sufficient for taking credit for a solution.\n",
        "* Several group members can take credit for the same solution if they all have contributed substantially to it.\n",
        "* **Each group member must solve at least 105/3=35 points**. \n",
        "* **If no name is provided for an exercise's part, all group members will be assigned responsibility for it**.\n",
        "* Group members should decide amongst themselves how to collaborate on the project to meet the above-mentioned constraints.  \n",
        "* Grades are individual. The grade $\\text{grade}(m)$ for a group member $m$ ranges from 0 to 10 and is calculated as follows: \n",
        "\n",
        "  * $\\text{individual-score}(m) = \\frac{\\text{total number of points for the parts correctly solved by }m}{\\text{total number of points for the parts contributed by }m}$\n",
        "\n",
        "  * $\\text{group-score} = \\frac{\\text{total number of points correctly solved by any group member}}{\\text{total number of points in the project}}$\n",
        "\n",
        "  * $\\text{grade}(m) =  7.5 \\cdot \\text{individual-score}(m) + 2.5 \\cdot \\text{group-score}$\n",
        "\n",
        "* **Example**: in the contribution table above, suppose that all parts are solved correctly except for those of Exercise 4, which are both wrong. Then Ann's grade is calculated as follows:\n",
        "\n",
        "  * $\\text{individual-part}(Ann) = \\frac{2.5 + 2.5 + 10 + 10 + 5 + 10 + 5}{2.5 + 2.5 + 10 + 10 + 5 + 10 + 5 + 10 + 10} = \\frac{45}{65} = 0.692$\n",
        "\n",
        "  * $\\text{group-part} = \\frac{85}{105} = 0.809$\n",
        "\n",
        "  * $\\text{grade}(Ann) =  7.14$\n"
      ]
    },
    {
      "cell_type": "markdown",
      "metadata": {
        "id": "m7RWIOjnTvxC"
      },
      "source": [
        "# Guidelines\n",
        "- Data processing should be done using PySpark. Once data has been reduced to aggregate form, you may use collect to extract it into Python for visualisation.\n",
        "- Your solutions will be evaluated by correctness, code quality and interpretability of the output. This means that you have to write clean and efficient Spark code that will generate sensible execution plans, and that the tables and visualisations that you produce are meaningful and easy to read.\n",
        "- You may add more cells for your solutions, but you should not modify the notebook otherwise."
      ]
    },
    {
      "cell_type": "markdown",
      "metadata": {
        "id": "fFNRs5ehSSjy"
      },
      "source": [
        "#<font color='red'>Additional Guidelines (added 4-Nov)</font>\n",
        "\n",
        "- You have to submit an *.ipynb file that runs on Google Colab. You may work on any other platform to develop your solutions, but you must make sure that the final form of the notebook is runnable on Colab. \n",
        "\n",
        "- Do not clear output cells when submitting the *.ipynb file, so we can see the results of your code cell executions without necessarily running them.\n",
        "\n",
        "- To work with the 2 large files in Project 2, we suggest that you do the following:\n",
        "\n",
        "1.   Create a new google account dedicated exclusively to Project 2.\n",
        "2.   Use the free 15 GB of Google Drive storage provided with the account to store listings.csv and reviews.csv (if necessary, zip the files first).\n",
        "3. Mount your Google Drive in the runtime's virtual machine. This will allow you to access the data from your Google Drive. Here is an official guide to mounting Drive on Colab: https://colab.research.google.com/notebooks/io.ipynb#scrollTo=p2E4EKhCWEC5\n",
        "4. Now, the two files are available in the `/content/drive folder of your runtime's virtual machine. \n",
        "\n",
        "* You are allowed to use a different way of storing/reading the two large files, but make sure to do so in a way in which we can easily run your notebook.\n",
        "\n",
        "\n",
        "\n",
        "\n",
        "\n",
        "\n",
        "\n"
      ]
    },
    {
      "cell_type": "markdown",
      "metadata": {
        "id": "vklet8XdRGVV"
      },
      "source": [
        "# Group declaration table \n",
        "\n",
        "This table must be filled before submission.\n",
        "\n"
      ]
    },
    {
      "cell_type": "code",
      "metadata": {
        "colab": {
          "base_uri": "https://localhost:8080/",
          "height": 331
        },
        "id": "chiXA3CzRSA1",
        "outputId": "cc8a780c-fb37-4f0a-8a9f-d217032fb6a8"
      },
      "source": [
        "import pandas as pd\n",
        "\n",
        "d = {'Exercise 1' : [\"\", \"\", \"\", \"\", \"\", \"\", \"\", \"\", \"\"], \n",
        "     'Exercise 2' : [\"\", \"\", \"\", \"\", \"\", \"\", \"\", \"\", \"\"],\n",
        "     } \n",
        "  \n",
        "ct = pd.DataFrame(d, index =['Part 1','Part 2.1','Part 2.2','Part 2.3','Part 2.4','Part 2.5','Part 2.6','Part 3.1','Part 3.2']) \n",
        "\n",
        "ct"
      ],
      "execution_count": 1,
      "outputs": [
        {
          "output_type": "execute_result",
          "data": {
            "text/html": [
              "<div>\n",
              "<style scoped>\n",
              "    .dataframe tbody tr th:only-of-type {\n",
              "        vertical-align: middle;\n",
              "    }\n",
              "\n",
              "    .dataframe tbody tr th {\n",
              "        vertical-align: top;\n",
              "    }\n",
              "\n",
              "    .dataframe thead th {\n",
              "        text-align: right;\n",
              "    }\n",
              "</style>\n",
              "<table border=\"1\" class=\"dataframe\">\n",
              "  <thead>\n",
              "    <tr style=\"text-align: right;\">\n",
              "      <th></th>\n",
              "      <th>Exercise 1</th>\n",
              "      <th>Exercise 2</th>\n",
              "    </tr>\n",
              "  </thead>\n",
              "  <tbody>\n",
              "    <tr>\n",
              "      <th>Part 1</th>\n",
              "      <td></td>\n",
              "      <td></td>\n",
              "    </tr>\n",
              "    <tr>\n",
              "      <th>Part 2.1</th>\n",
              "      <td></td>\n",
              "      <td></td>\n",
              "    </tr>\n",
              "    <tr>\n",
              "      <th>Part 2.2</th>\n",
              "      <td></td>\n",
              "      <td></td>\n",
              "    </tr>\n",
              "    <tr>\n",
              "      <th>Part 2.3</th>\n",
              "      <td></td>\n",
              "      <td></td>\n",
              "    </tr>\n",
              "    <tr>\n",
              "      <th>Part 2.4</th>\n",
              "      <td></td>\n",
              "      <td></td>\n",
              "    </tr>\n",
              "    <tr>\n",
              "      <th>Part 2.5</th>\n",
              "      <td></td>\n",
              "      <td></td>\n",
              "    </tr>\n",
              "    <tr>\n",
              "      <th>Part 2.6</th>\n",
              "      <td></td>\n",
              "      <td></td>\n",
              "    </tr>\n",
              "    <tr>\n",
              "      <th>Part 3.1</th>\n",
              "      <td></td>\n",
              "      <td></td>\n",
              "    </tr>\n",
              "    <tr>\n",
              "      <th>Part 3.2</th>\n",
              "      <td></td>\n",
              "      <td></td>\n",
              "    </tr>\n",
              "  </tbody>\n",
              "</table>\n",
              "</div>"
            ],
            "text/plain": [
              "         Exercise 1 Exercise 2\n",
              "Part 1                        \n",
              "Part 2.1                      \n",
              "Part 2.2                      \n",
              "Part 2.3                      \n",
              "Part 2.4                      \n",
              "Part 2.5                      \n",
              "Part 2.6                      \n",
              "Part 3.1                      \n",
              "Part 3.2                      "
            ]
          },
          "metadata": {
            "tags": []
          },
          "execution_count": 1
        }
      ]
    },
    {
      "cell_type": "markdown",
      "metadata": {
        "id": "-4hk-43Io9sI"
      },
      "source": [
        "# Create Spark session and define imports"
      ]
    },
    {
      "cell_type": "code",
      "metadata": {
        "colab": {
          "base_uri": "https://localhost:8080/"
        },
        "id": "CBscBejEDXkC",
        "outputId": "2a3dd5c7-11af-40a4-bc73-ab4488a143db"
      },
      "source": [
        "!pip install pyspark\n",
        "!pip install -U -q PyDrive\n",
        "!apt install openjdk-8-jdk-headless -qq\n",
        "# !apt-get update\n",
        "# !pip install pyarrow --upgrade\n",
        "import os\n",
        "os.environ[\"JAVA_HOME\"] = \"/usr/lib/jvm/java-8-openjdk-amd64\""
      ],
      "execution_count": 2,
      "outputs": [
        {
          "output_type": "stream",
          "text": [
            "Collecting pyspark\n",
            "\u001b[?25l  Downloading https://files.pythonhosted.org/packages/f0/26/198fc8c0b98580f617cb03cb298c6056587b8f0447e20fa40c5b634ced77/pyspark-3.0.1.tar.gz (204.2MB)\n",
            "\u001b[K     |████████████████████████████████| 204.2MB 72kB/s \n",
            "\u001b[?25hCollecting py4j==0.10.9\n",
            "\u001b[?25l  Downloading https://files.pythonhosted.org/packages/9e/b6/6a4fb90cd235dc8e265a6a2067f2a2c99f0d91787f06aca4bcf7c23f3f80/py4j-0.10.9-py2.py3-none-any.whl (198kB)\n",
            "\u001b[K     |████████████████████████████████| 204kB 39.6MB/s \n",
            "\u001b[?25hBuilding wheels for collected packages: pyspark\n",
            "  Building wheel for pyspark (setup.py) ... \u001b[?25l\u001b[?25hdone\n",
            "  Created wheel for pyspark: filename=pyspark-3.0.1-py2.py3-none-any.whl size=204612243 sha256=97a0bcf8933528237222193cd9e2913d60a1958277a1ae2181e0e88c65a7e6e9\n",
            "  Stored in directory: /root/.cache/pip/wheels/5e/bd/07/031766ca628adec8435bb40f0bd83bb676ce65ff4007f8e73f\n",
            "Successfully built pyspark\n",
            "Installing collected packages: py4j, pyspark\n",
            "Successfully installed py4j-0.10.9 pyspark-3.0.1\n",
            "The following additional packages will be installed:\n",
            "  openjdk-8-jre-headless\n",
            "Suggested packages:\n",
            "  openjdk-8-demo openjdk-8-source libnss-mdns fonts-dejavu-extra\n",
            "  fonts-ipafont-gothic fonts-ipafont-mincho fonts-wqy-microhei\n",
            "  fonts-wqy-zenhei fonts-indic\n",
            "The following NEW packages will be installed:\n",
            "  openjdk-8-jdk-headless openjdk-8-jre-headless\n",
            "0 upgraded, 2 newly installed, 0 to remove and 14 not upgraded.\n",
            "Need to get 36.5 MB of archives.\n",
            "After this operation, 143 MB of additional disk space will be used.\n",
            "Selecting previously unselected package openjdk-8-jre-headless:amd64.\n",
            "(Reading database ... 144793 files and directories currently installed.)\n",
            "Preparing to unpack .../openjdk-8-jre-headless_8u275-b01-0ubuntu1~18.04_amd64.deb ...\n",
            "Unpacking openjdk-8-jre-headless:amd64 (8u275-b01-0ubuntu1~18.04) ...\n",
            "Selecting previously unselected package openjdk-8-jdk-headless:amd64.\n",
            "Preparing to unpack .../openjdk-8-jdk-headless_8u275-b01-0ubuntu1~18.04_amd64.deb ...\n",
            "Unpacking openjdk-8-jdk-headless:amd64 (8u275-b01-0ubuntu1~18.04) ...\n",
            "Setting up openjdk-8-jre-headless:amd64 (8u275-b01-0ubuntu1~18.04) ...\n",
            "update-alternatives: using /usr/lib/jvm/java-8-openjdk-amd64/jre/bin/orbd to provide /usr/bin/orbd (orbd) in auto mode\n",
            "update-alternatives: using /usr/lib/jvm/java-8-openjdk-amd64/jre/bin/servertool to provide /usr/bin/servertool (servertool) in auto mode\n",
            "update-alternatives: using /usr/lib/jvm/java-8-openjdk-amd64/jre/bin/tnameserv to provide /usr/bin/tnameserv (tnameserv) in auto mode\n",
            "Setting up openjdk-8-jdk-headless:amd64 (8u275-b01-0ubuntu1~18.04) ...\n",
            "update-alternatives: using /usr/lib/jvm/java-8-openjdk-amd64/bin/idlj to provide /usr/bin/idlj (idlj) in auto mode\n",
            "update-alternatives: using /usr/lib/jvm/java-8-openjdk-amd64/bin/wsimport to provide /usr/bin/wsimport (wsimport) in auto mode\n",
            "update-alternatives: using /usr/lib/jvm/java-8-openjdk-amd64/bin/jsadebugd to provide /usr/bin/jsadebugd (jsadebugd) in auto mode\n",
            "update-alternatives: using /usr/lib/jvm/java-8-openjdk-amd64/bin/native2ascii to provide /usr/bin/native2ascii (native2ascii) in auto mode\n",
            "update-alternatives: using /usr/lib/jvm/java-8-openjdk-amd64/bin/javah to provide /usr/bin/javah (javah) in auto mode\n",
            "update-alternatives: using /usr/lib/jvm/java-8-openjdk-amd64/bin/clhsdb to provide /usr/bin/clhsdb (clhsdb) in auto mode\n",
            "update-alternatives: using /usr/lib/jvm/java-8-openjdk-amd64/bin/xjc to provide /usr/bin/xjc (xjc) in auto mode\n",
            "update-alternatives: using /usr/lib/jvm/java-8-openjdk-amd64/bin/hsdb to provide /usr/bin/hsdb (hsdb) in auto mode\n",
            "update-alternatives: using /usr/lib/jvm/java-8-openjdk-amd64/bin/schemagen to provide /usr/bin/schemagen (schemagen) in auto mode\n",
            "update-alternatives: using /usr/lib/jvm/java-8-openjdk-amd64/bin/extcheck to provide /usr/bin/extcheck (extcheck) in auto mode\n",
            "update-alternatives: using /usr/lib/jvm/java-8-openjdk-amd64/bin/jhat to provide /usr/bin/jhat (jhat) in auto mode\n",
            "update-alternatives: using /usr/lib/jvm/java-8-openjdk-amd64/bin/wsgen to provide /usr/bin/wsgen (wsgen) in auto mode\n"
          ],
          "name": "stdout"
        }
      ]
    },
    {
      "cell_type": "code",
      "metadata": {
        "id": "2ftW7yaGo9sJ"
      },
      "source": [
        "# Let's import the libraries we will need\n",
        "import pyspark\n",
        "from pyspark.sql import *\n",
        "from pyspark.sql import functions as f\n",
        "from pyspark.sql.types import *\n",
        "from pyspark import SparkContext, SparkConf\n",
        "\n",
        "from pyspark.sql.functions import explode, mean as _mean, col, isnan, when, trim\n",
        "from pyspark.sql import functions as f"
      ],
      "execution_count": 3,
      "outputs": []
    },
    {
      "cell_type": "code",
      "metadata": {
        "id": "kpUxSfjRDgF-"
      },
      "source": [
        "# Create the Spark session\n",
        "conf = SparkConf().set(\"spark.ui.port\", \"4050\")\n",
        "sc = pyspark.SparkContext(conf=conf)\n",
        "spark = SparkSession.builder.getOrCreate()"
      ],
      "execution_count": 4,
      "outputs": []
    },
    {
      "cell_type": "markdown",
      "metadata": {
        "id": "m2en_PI7rphC"
      },
      "source": [
        "# Exercise 1: Airbnb analysis (52.5 points)\n"
      ]
    },
    {
      "cell_type": "markdown",
      "metadata": {
        "id": "dPlNQTICo9sH"
      },
      "source": [
        "## Introduction\n",
        "\n",
        "<img src=\"https://www.esquireme.com/public/images/2019/11/03/airbnb-678x381.jpg\" alt=\"airbnb\" width=\"600\"/>\n",
        "\n",
        "[Airbnb](http://airbnb.com) is an online marketplace for arranging or offering lodgings. In this exercise you will use Spark to analyze data obtained from the Airbnb website. The purpose of the analysis is to extract information about trends and patterns from the data.\n",
        "\n",
        "The project has two parts.\n",
        "\n",
        "### Part 1: Loading, describing and preparing the data\n",
        "There's quite a lot of data. Make sure that you can load and correctly parse the data, and that you understand what the dataset contains. You should also prepare the data for the analysis in part two.\n",
        "\n",
        "### Par 2: Analysis\n",
        "In this part your goal is to learn about trends and usage patterns from the data. You should give solutions to the tasks defined in this notebook, and you should use Spark to do the data processing. You may use other libraries like for instance Pandas and matplotlib for visualisation.\n"
      ]
    },
    {
      "cell_type": "markdown",
      "metadata": {
        "id": "irkTU3UWo9sM"
      },
      "source": [
        "## Part 1: Loading, describing and preparing the data (2.5 pts)\n",
        "The data comes in two files. Start by downloading the files.\n",
        "\n",
        "- [Listings](https://files.dtu.dk/u/lT8jJJs_IyiHPyMs/listings.csv?l) (5 GB)\n",
        "- [Reviews](https://files.dtu.dk/u/yH8FBcZ_BQjafwUN/reviews.csv?l) (9.5 GB)"
      ]
    },
    {
      "cell_type": "markdown",
      "metadata": {
        "id": "mPtdLqvto9sN"
      },
      "source": [
        "### Load the data\n",
        "The data has multiline rows (rows that span multiple lines in the file). To correctly parse these you should use the `multiLine` option and set the `escape` character to be `\"`."
      ]
    },
    {
      "cell_type": "code",
      "metadata": {
        "colab": {
          "base_uri": "https://localhost:8080/"
        },
        "id": "ilTnx9lwaTaG",
        "outputId": "5a5b119b-89d0-4e67-ec63-52aa9220ce7f"
      },
      "source": [
        "from google.colab import drive\n",
        "drive.mount('/content/drive', force_remount=False)"
      ],
      "execution_count": 5,
      "outputs": [
        {
          "output_type": "stream",
          "text": [
            "Mounted at /content/drive\n"
          ],
          "name": "stdout"
        }
      ]
    },
    {
      "cell_type": "code",
      "metadata": {
        "id": "K5kDvbDoo9sN"
      },
      "source": [
        "path = '/content/drive/My Drive/'\n",
        "listings = (spark.read.option('multiLine', True)\n",
        "                      .option('escape', '\"')\n",
        "                      .option('inferSchema', True)\n",
        "                      .option('header', True)\n",
        "                      .csv(path+\"listings.csv\"))\n",
        "\n",
        "reviews = (spark.read.option('multiLine', True)\n",
        "                     .option('escape', '\"')\n",
        "                     .option('inferSchema', True)\n",
        "                     .option('header', True)\n",
        "                     .csv(path+\"reviews.csv\"))"
      ],
      "execution_count": 7,
      "outputs": []
    },
    {
      "cell_type": "code",
      "metadata": {
        "id": "nfu54kpzMAo2",
        "colab": {
          "base_uri": "https://localhost:8080/"
        },
        "outputId": "487b88bf-201a-4993-e484-81b227eea2f2"
      },
      "source": [
        "listings.cache()"
      ],
      "execution_count": 8,
      "outputs": [
        {
          "output_type": "execute_result",
          "data": {
            "text/plain": [
              "DataFrame[id: string, listing_url: string, scrape_id: string, last_scraped: string, name: string, summary: string, space: string, description: string, experiences_offered: string, neighborhood_overview: string, notes: string, transit: string, access: string, interaction: string, house_rules: string, thumbnail_url: string, medium_url: string, picture_url: string, xl_picture_url: string, host_id: string, host_url: string, host_name: string, host_since: string, host_location: string, host_about: string, host_response_time: string, host_response_rate: string, host_acceptance_rate: string, host_is_superhost: string, host_thumbnail_url: string, host_picture_url: string, host_neighbourhood: string, host_listings_count: string, host_total_listings_count: string, host_verifications: string, host_has_profile_pic: string, host_identity_verified: string, street: string, neighbourhood: string, neighbourhood_cleansed: string, neighbourhood_group_cleansed: string, city: string, state: string, zipcode: string, market: string, smart_location: string, country_code: string, country: string, latitude: string, longitude: string, is_location_exact: string, property_type: string, room_type: string, accommodates: string, bathrooms: string, bedrooms: string, beds: string, bed_type: string, amenities: string, square_feet: string, price: string, weekly_price: string, monthly_price: string, security_deposit: string, cleaning_fee: string, guests_included: string, extra_people: string, minimum_nights: string, maximum_nights: string, minimum_minimum_nights: string, maximum_minimum_nights: string, minimum_maximum_nights: string, maximum_maximum_nights: string, minimum_nights_avg_ntm: string, maximum_nights_avg_ntm: string, calendar_updated: string, has_availability: string, availability_30: string, availability_60: string, availability_90: string, availability_365: string, calendar_last_scraped: string, number_of_reviews: string, number_of_reviews_ltm: string, first_review: string, last_review: string, review_scores_rating: string, review_scores_accuracy: string, review_scores_cleanliness: string, review_scores_checkin: string, review_scores_communication: string, review_scores_location: string, review_scores_value: string, requires_license: string, license: string, jurisdiction_names: string, instant_bookable: string, is_business_travel_ready: string, cancellation_policy: string, require_guest_profile_picture: string, require_guest_phone_verification: string, calculated_host_listings_count: string, calculated_host_listings_count_entire_homes: string, calculated_host_listings_count_private_rooms: string, calculated_host_listings_count_shared_rooms: string, reviews_per_month: string]"
            ]
          },
          "metadata": {
            "tags": []
          },
          "execution_count": 8
        }
      ]
    },
    {
      "cell_type": "code",
      "metadata": {
        "id": "ZXgK2kutMLNB",
        "colab": {
          "base_uri": "https://localhost:8080/"
        },
        "outputId": "43afd0a6-f7b5-48ef-8ba7-4f75abc12118"
      },
      "source": [
        "reviews.cache()"
      ],
      "execution_count": 9,
      "outputs": [
        {
          "output_type": "execute_result",
          "data": {
            "text/plain": [
              "DataFrame[listing_id: string, id: string, date: string, reviewer_id: string, reviewer_name: string, comments: string]"
            ]
          },
          "metadata": {
            "tags": []
          },
          "execution_count": 9
        }
      ]
    },
    {
      "cell_type": "code",
      "metadata": {
        "id": "TClfh1vBJGWY",
        "colab": {
          "base_uri": "https://localhost:8080/"
        },
        "outputId": "a841d942-0d87-4495-aaee-9b5befe130f3"
      },
      "source": [
        "listings.show()\n",
        "reviews.show()"
      ],
      "execution_count": 10,
      "outputs": [
        {
          "output_type": "stream",
          "text": [
            "+------+--------------------+--------------+------------+--------------------+--------------------+--------------------+--------------------+-------------------+---------------------+--------------------+--------------------+--------------------+--------------------+--------------------+-------------+----------+--------------------+--------------+-------+--------------------+---------+----------+--------------------+--------------------+------------------+------------------+--------------------+-----------------+--------------------+--------------------+------------------+-------------------+-------------------------+--------------------+--------------------+----------------------+--------------------+-------------+----------------------+----------------------------+---------+----------------+-------+---------+-----------------+------------+-------+--------+---------+-----------------+-----------------+---------------+------------+---------+--------+----+--------+--------------------+-----------+---------+------------+-------------+----------------+------------+---------------+------------+--------------+--------------+----------------------+----------------------+----------------------+----------------------+----------------------+----------------------+----------------+----------------+---------------+---------------+---------------+----------------+---------------------+-----------------+---------------------+------------+-----------+--------------------+----------------------+-------------------------+---------------------+---------------------------+----------------------+-------------------+----------------+-------+------------------+----------------+------------------------+--------------------+-----------------------------+--------------------------------+------------------------------+-------------------------------------------+--------------------------------------------+-------------------------------------------+-----------------+\n",
            "|    id|         listing_url|     scrape_id|last_scraped|                name|             summary|               space|         description|experiences_offered|neighborhood_overview|               notes|             transit|              access|         interaction|         house_rules|thumbnail_url|medium_url|         picture_url|xl_picture_url|host_id|            host_url|host_name|host_since|       host_location|          host_about|host_response_time|host_response_rate|host_acceptance_rate|host_is_superhost|  host_thumbnail_url|    host_picture_url|host_neighbourhood|host_listings_count|host_total_listings_count|  host_verifications|host_has_profile_pic|host_identity_verified|              street|neighbourhood|neighbourhood_cleansed|neighbourhood_group_cleansed|     city|           state|zipcode|   market|   smart_location|country_code|country|latitude|longitude|is_location_exact|    property_type|      room_type|accommodates|bathrooms|bedrooms|beds|bed_type|           amenities|square_feet|    price|weekly_price|monthly_price|security_deposit|cleaning_fee|guests_included|extra_people|minimum_nights|maximum_nights|minimum_minimum_nights|maximum_minimum_nights|minimum_maximum_nights|maximum_maximum_nights|minimum_nights_avg_ntm|maximum_nights_avg_ntm|calendar_updated|has_availability|availability_30|availability_60|availability_90|availability_365|calendar_last_scraped|number_of_reviews|number_of_reviews_ltm|first_review|last_review|review_scores_rating|review_scores_accuracy|review_scores_cleanliness|review_scores_checkin|review_scores_communication|review_scores_location|review_scores_value|requires_license|license|jurisdiction_names|instant_bookable|is_business_travel_ready| cancellation_policy|require_guest_profile_picture|require_guest_phone_verification|calculated_host_listings_count|calculated_host_listings_count_entire_homes|calculated_host_listings_count_private_rooms|calculated_host_listings_count_shared_rooms|reviews_per_month|\n",
            "+------+--------------------+--------------+------------+--------------------+--------------------+--------------------+--------------------+-------------------+---------------------+--------------------+--------------------+--------------------+--------------------+--------------------+-------------+----------+--------------------+--------------+-------+--------------------+---------+----------+--------------------+--------------------+------------------+------------------+--------------------+-----------------+--------------------+--------------------+------------------+-------------------+-------------------------+--------------------+--------------------+----------------------+--------------------+-------------+----------------------+----------------------------+---------+----------------+-------+---------+-----------------+------------+-------+--------+---------+-----------------+-----------------+---------------+------------+---------+--------+----+--------+--------------------+-----------+---------+------------+-------------+----------------+------------+---------------+------------+--------------+--------------+----------------------+----------------------+----------------------+----------------------+----------------------+----------------------+----------------+----------------+---------------+---------------+---------------+----------------+---------------------+-----------------+---------------------+------------+-----------+--------------------+----------------------+-------------------------+---------------------+---------------------------+----------------------+-------------------+----------------+-------+------------------+----------------+------------------------+--------------------+-----------------------------+--------------------------------+------------------------------+-------------------------------------------+--------------------------------------------+-------------------------------------------+-----------------+\n",
            "|145320|https://www.airbn...|20190928160308|  2019-09-28|In the middle of ...|Mitt boende passa...|A cozy three room...|Mitt boende passa...|               none| The flat is in th...|                null|My flat is close ...|You can stay in e...|Just ask me every...|No smoking inside...|         null|      null|https://a0.muscac...|          null| 703851|https://www.airbn...|      Kim|2011-06-15|Stockholm, Stockh...|Hi, I'm Kim, a de...|               N/A|               N/A|                 N/A|                t|https://a0.muscac...|https://a0.muscac...|              null|                  1|                        1|['email', 'phone'...|                   t|                     t|Stockholm, Stockh...|    Södermalm|            Södermalms|                        null|Stockholm|  Stockholms län| 118 53|Stockholm|Stockholm, Sweden|          SE| Sweden|59.31364| 18.05256|                f|        Apartment|   Private room|           2|      1.0|       1|   2|Real Bed|{TV,\"Cable TV\",Wi...|       null|$1,272.00|        null|         null|            null|     $417.00|              2|       $0.00|             2|          1125|                     2|                     2|                  1125|                  1125|                   2.0|                1125.0|    3 months ago|               t|              0|              0|             26|              26|           2019-09-28|               72|                   27|  2017-05-30| 2019-06-25|                  97|                    10|                       10|                   10|                         10|                    10|                 10|               f|   null|              null|               t|                       f|strict_14_with_gr...|                            f|                               f|                             1|                                          0|                                           1|                                          0|             2.54|\n",
            "|155220|https://www.airbn...|20190928160308|  2019-09-28|Stockholm, new sp...|Convenient and sp...|ABOUT THE HOUSE: ...|ABOUT THE HOUSE: ...|               none| Close to nature a...|Bikes to borrow a...|Yes regular busse...|Everything in the...|I will make you f...|          No smoking|         null|      null|https://a0.muscac...|          null| 746396|https://www.airbn...|Madeleine|2011-06-26|Stockholm, Stockh...|I work with human...|within a few hours|               63%|                 N/A|                f|https://a0.muscac...|https://a0.muscac...|              null|                  2|                        2|['email', 'phone'...|                   t|                     f|Stockholm, Stockh...|    Skarpnäck|            Skarpnäcks|                        null|Stockholm|Stockholm County|   null|Stockholm|Stockholm, Sweden|          SE| Sweden|59.24667| 18.17799|                f|            House|Entire home/apt|           3|      1.0|       2|   3|Real Bed|{TV,\"Cable TV\",In...|          0|$1,203.00|   $4,000.00|   $15,000.00|       $3,000.00|   $1,000.00|              3|     $500.00|             3|           730|                     3|                     3|                   730|                   730|                   3.0|                 730.0|    8 months ago|               t|              0|              0|              0|               0|           2019-09-28|                0|                    0|        null|       null|                null|                  null|                     null|                 null|                       null|                  null|               null|               f|   null|              null|               f|                       f|            moderate|                            f|                               f|                             2|                                          2|                                           0|                                          0|             null|\n",
            "|155685|https://www.airbn...|20190928160308|  2019-09-28|Hornstull with wa...|This apartment is...|46 sqm apartment ...|This apartment is...|               none| There is a funky ...|                null|Very close to pub...|Everything in the...|I meet in most ar...|•  The person tha...|         null|      null|https://a0.muscac...|          null| 748592|https://www.airbn...|   Robert|2011-06-27|Stockholm, Stockh...|Robert work with ...|               N/A|               N/A|                 N/A|                f|https://a0.muscac...|https://a0.muscac...|              null|                  1|                        1|['email', 'phone'...|                   t|                     f|Stockholm, Stockh...|    Södermalm|            Södermalms|                        null|Stockholm|Stockholm County|  11739|Stockholm|Stockholm, Sweden|          SE| Sweden|59.31535| 18.03277|                t|        Apartment|Entire home/apt|           2|      1.0|       2|   2|Real Bed|{TV,Wifi,Kitchen,...|       null|$3,209.00|        null|   $17,111.00|            null|        null|              1|       $0.00|             4|           365|                     4|                     4|                   365|                   365|                   4.0|                 365.0|    4 months ago|               t|              0|              0|              0|               0|           2019-09-28|               22|                    0|  2011-08-23| 2015-12-01|                  94|                     9|                       10|                   10|                         10|                     9|                  9|               f|   null|              null|               f|                       f|            moderate|                            f|                               f|                             1|                                          1|                                           0|                                          0|             0.22|\n",
            "|164448|https://www.airbn...|20190928160308|  2019-09-28|Double room in ce...|I am renting out ...|ROOM: The room ha...|I am renting out ...|               none|                 null|                null|                null|                null|                null|All the other fac...|         null|      null|https://a0.muscac...|          null| 784312|https://www.airbn...|       Li|2011-07-06|Stockholm, Stockh...|I am a recently r...|    within an hour|              100%|                 N/A|                t|https://a0.muscac...|https://a0.muscac...|         Södermalm|                  2|                        2|['email', 'phone'...|                   t|                     t|Stockholm, Stockh...|    Södermalm|            Södermalms|                        null|Stockholm|Stockholm County|  11864|Stockholm|Stockholm, Sweden|          SE| Sweden|59.31268| 18.06258|                t|        Apartment|   Private room|           2|      1.0|       1|   2|Real Bed|{TV,Internet,Wifi...|       null|  $597.00|   $4,000.00|   $12,000.00|            null|        null|              1|       $0.00|             3|           300|                     3|                     3|                   300|                   300|                   3.0|                 300.0|     2 weeks ago|               t|             15|             37|             59|             140|           2019-09-28|              311|                   55|  2011-07-30| 2019-09-26|                  97|                    10|                       10|                   10|                         10|                    10|                 10|               f|   null|              null|               t|                       f|            flexible|                            t|                               t|                             2|                                          0|                                           2|                                          0|             3.13|\n",
            "|170651|https://www.airbn...|20190928160308|  2019-09-28|Petit Charm Rooft...|                null|Welcome to this b...|Welcome to this b...|               none|                 null|                null|                null|                null|                null|I like to have th...|         null|      null|https://a0.muscac...|          null| 814021|https://www.airbn...|    Marie|2011-07-13|Stockholm, Stockh...|Im a happy person...|within a few hours|              100%|                 N/A|                f|https://a0.muscac...|https://a0.muscac...|         Södermalm|                  1|                        1|['email', 'phone'...|                   t|                     f|Stockholm, Stockh...|    Södermalm|            Södermalms|                        null|Stockholm|Stockholm County|  11737|Stockholm|Stockholm, Sweden|          SE| Sweden|59.31568| 18.03138|                t|        Apartment|Entire home/apt|           4|      1.0|       1|   2|Real Bed|{Internet,Wifi,Ki...|       null|  $734.00|        null|   $18,181.00|       $2,139.00|     $321.00|              2|     $321.00|             3|            30|                     3|                     3|                    30|                    30|                   3.0|                  30.0|     6 weeks ago|               t|             13|             38|             58|             216|           2019-09-28|               33|                    7|  2011-08-14| 2019-09-01|                  93|                    10|                        9|                   10|                         10|                    10|                  9|               f|   null|              null|               f|                       f|strict_14_with_gr...|                            f|                               f|                             1|                                          1|                                           0|                                          0|             0.33|\n",
            "|206221|https://www.airbn...|20190928160308|  2019-09-28|Doubleroom at Söd...|                null|The region is sit...|The region is sit...|               none|                 null|                null|                null|                null|                null|                null|         null|      null|https://a0.muscac...|          null|1022374|https://www.airbn...|Elisabeth|2011-08-26|              Sweden|I'm a positive pe...|      within a day|               50%|                 N/A|                f|https://a0.muscac...|https://a0.muscac...|              null|                  1|                        1|['email', 'phone'...|                   t|                     f|Stockholm, Stockh...|    Södermalm|            Södermalms|                        null|Stockholm|Stockholm County|  11639|Stockholm|Stockholm, Sweden|          SE| Sweden|59.31226| 18.07942|                t|Bed and breakfast|    Shared room|           2|      1.0|       1|   2|Real Bed|{Wifi,Breakfast,E...|         96|  $665.00|        null|         null|            null|        null|              2|     $200.00|             3|            14|                     3|                     3|                    14|                    14|                   3.0|                  14.0|     2 weeks ago|               t|              2|             25|             55|             330|           2019-09-28|               78|                   12|  2011-11-30| 2019-08-13|                  98|                    10|                       10|                   10|                         10|                    10|                 10|               f|   null|              null|               f|                       f|            flexible|                            f|                               f|                             1|                                          0|                                           0|                                          1|             0.82|\n",
            "|220233|https://www.airbn...|20190928160308|  2019-09-28|Central apartment...|My apartment is l...|38 sqm apartment ...|My apartment is l...|               none| The apartment is ...|The apartment win...|Subway station (t...|As a guest you wi...|I'm happy to prov...|I trust my guests...|         null|      null|https://a0.muscac...|          null|1137208|https://www.airbn...|  Martina|2011-09-10|Stockholm, Stockh...|Want to enjoy the...|               N/A|               N/A|                 N/A|                f|https://a0.muscac...|https://a0.muscac...|          Norrmalm|                  1|                        1|['email', 'phone'...|                   t|                     f|Stockholm, Stockh...|     Norrmalm|             Norrmalms|                        null|Stockholm|  Stockholms län|  11320|Stockholm|Stockholm, Sweden|          SE| Sweden|59.33948| 18.03551|                t|        Apartment|Entire home/apt|           2|      1.0|       1|   2|Real Bed|{TV,Internet,Wifi...|       null|  $890.00|        null|   $10,500.00|            null|        null|              1|       $0.00|             3|           365|                     3|                     3|                   365|                   365|                   3.0|                 365.0|   33 months ago|               t|              0|              0|              0|               0|           2019-09-28|                0|                    0|        null|       null|                null|                  null|                     null|                 null|                       null|                  null|               null|               f|   null|              null|               f|                       f|            moderate|                            f|                               f|                             1|                                          1|                                           0|                                          0|             null|\n",
            "|220851|https://www.airbn...|20190928160308|  2019-09-28|One room in appar...|            Welcome!|Welcome! One big ...|Welcome! Welcome!...|               none| Many restaurangs ...|No smoking No par...|          3 min walk|   Kitchen,bathroom.|Sometimes i am at...|no smoking in the...|         null|      null|https://a0.muscac...|          null| 412283|https://www.airbn...|  Fredric|2011-02-27|Stockholm, Stockh...|I am into arts yo...|within a few hours|               83%|                 N/A|                f|https://a0.muscac...|https://a0.muscac...|       Kungsholmen|                  1|                        1|['email', 'phone'...|                   t|                     f|Stockholm, Stockh...|  Kungsholmen|          Kungsholmens|                        null|Stockholm|Stockholm County|  11341|Stockholm|Stockholm, Sweden|          SE| Sweden|59.33376| 18.03816|                t|        Apartment|   Private room|           1|      1.0|       1|   1|Real Bed|{Wifi,Kitchen,Ele...|       null|  $597.00|   $4,000.00|   $15,000.00|            null|     $300.00|              1|       $0.00|             3|            20|                     3|                     3|                    20|                    20|                   3.0|                  20.0|     6 weeks ago|               t|             19|             49|             79|             354|           2019-09-28|               45|                   10|  2011-09-29| 2019-08-23|                  93|                     9|                        9|                   10|                         10|                    10|                  9|               f|   null|              null|               f|                       f|            flexible|                            f|                               f|                             1|                                          0|                                           1|                                          0|             0.46|\n",
            "|242188|https://www.airbn...|20190928160308|  2019-09-28|Single room in ce...|I am renting out ...|ROOM:  The room h...|I am renting out ...|               none|                 null|                null|                null|                null|                null|A modern five bed...|         null|      null|https://a0.muscac...|          null| 784312|https://www.airbn...|       Li|2011-07-06|Stockholm, Stockh...|I am a recently r...|    within an hour|              100%|                 N/A|                t|https://a0.muscac...|https://a0.muscac...|         Södermalm|                  2|                        2|['email', 'phone'...|                   t|                     t|Stockholm, Stockh...|    Södermalm|            Södermalms|                        null|Stockholm|Stockholm County|  11864|Stockholm|Stockholm, Sweden|          SE| Sweden|59.31347| 18.06106|                t|        Apartment|   Private room|           1|      1.0|       1|   1|Real Bed|{TV,Internet,Wifi...|       null|  $558.00|   $3,000.00|    $8,500.00|            null|        null|              1|       $0.00|             2|           300|                     2|                     2|                   300|                   300|                   2.0|                 300.0|     3 weeks ago|               t|             13|             35|             54|             139|           2019-09-28|              296|                   51|  2012-02-13| 2019-09-26|                  97|                    10|                       10|                   10|                         10|                    10|                 10|               f|   null|              null|               t|                       f|            flexible|                            t|                               t|                             2|                                          0|                                           2|                                          0|             3.19|\n",
            "|259025|https://www.airbn...|20190928160308|  2019-09-28|sufficient large ...|                null|If I describe how...|If I describe how...|               none|                 null|Kista mall, Stock...|Rinkeby Metro Sta...|When you are four...|                null|Do not allow anim...|         null|      null|https://a0.muscac...|          null|1361093|https://www.airbn...|      Ali|2011-11-02|Stockholm, Stockh...|Come and enjoy St...|    within an hour|              100%|                 N/A|                f|https://a0.muscac...|https://a0.muscac...|              null|                  3|                        3|['email', 'phone'...|                   t|                     t|Stockholm, Stockh...|Rinkeby-Kista|        Rinkeby-Tensta|                        null|Stockholm|Stockholm County|  16371|Stockholm|Stockholm, Sweden|          SE| Sweden|59.38682| 17.92276|                t|        Townhouse|   Private room|           1|      1.0|       1|   1|Real Bed|{TV,\"Cable TV\",In...|          0|  $196.00|        null|    $8,657.00|            null|     $200.00|              1|     $100.00|            60|          1000|                    60|                    60|                  1000|                  1000|                  60.0|                1000.0|   10 months ago|               t|             30|             60|             90|             365|           2019-09-28|               60|                    0|  2011-11-23| 2015-11-08|                  89|                     9|                       10|                    9|                          9|                     7|                  9|               f|   null|              null|               f|                       f|strict_14_with_gr...|                            t|                               t|                             2|                                          0|                                           2|                                          0|             0.63|\n",
            "|259722|https://www.airbn...|20190928160308|  2019-09-28|Near shopping-IT ...|It's a nice and c...|It's a nice and c...|It's a nice and c...|               none|                 null|It's good if you ...|                null|You have your own...|I'm not at home s...|I want a copy of ...|         null|      null|https://a0.muscac...|          null|1261494|https://www.airbn...|  Marcelo|2011-10-07|Stockholm, Stockh...|Hi! \r\n",
            "I am an IT-...|within a few hours|              100%|                 N/A|                f|https://a0.muscac...|https://a0.muscac...|              null|                  1|                        1|['email', 'phone'...|                   t|                     t|Stockholm, Stockh...|Rinkeby-Kista|        Rinkeby-Tensta|                        null|Stockholm|Stockholm County|  16474|Stockholm|Stockholm, Sweden|          SE| Sweden|59.41003|  17.9366|                t|        Apartment|   Private room|           2|      1.0|       1|   2|Real Bed|{TV,\"Cable TV\",In...|        560|  $225.00|   $2,567.00|    $7,700.00|       $1,069.00|     $535.00|              1|     $267.00|            21|           365|                    21|                    21|                   365|                   365|                  21.0|                 365.0|    5 months ago|               t|              0|             17|             47|             322|           2019-09-28|               23|                    2|  2012-03-01| 2019-05-13|                  92|                     9|                       10|                    9|                          9|                     9|                  8|               f|   null|              null|               f|                       f|strict_14_with_gr...|                            f|                               f|                             1|                                          0|                                           1|                                          0|             0.25|\n",
            "|273906|https://www.airbn...|20190928160308|  2019-09-28|Penthouse in cent...|                null|This is a unique ...|This is a unique ...|               none|                 null|                null|                null|                null|                null|One of the main r...|         null|      null|https://a0.muscac...|          null|1432722|https://www.airbn...|  Rodrigo|2011-11-22|Stockholm, Stockh...|I am from Chile a...|    within an hour|              100%|                 N/A|                f|https://a0.muscac...|https://a0.muscac...|         Södermalm|                  2|                        2|['email', 'phone'...|                   t|                     f|Stockholm, Stockh...|    Skarpnäck|            Södermalms|                        null|Stockholm|Stockholm County|  12068|Stockholm|Stockholm, Sweden|          SE| Sweden|59.30414|  18.1068|                t|        Apartment|Entire home/apt|           4|      2.0|       3|   3|Real Bed|{TV,\"Cable TV\",In...|       1399|$1,957.00|  $12,719.00|   $48,918.00|           $0.00|   $1,223.00|              1|       $0.00|             6|            30|                     6|                     6|                    30|                    30|                   6.0|                  30.0|    5 months ago|               t|              0|              0|              0|             270|           2019-09-28|                8|                    0|  2012-07-19| 2018-07-07|                 100|                    10|                       10|                   10|                         10|                    10|                 10|               f|   null|              null|               t|                       f|strict_14_with_gr...|                            f|                               f|                             1|                                          1|                                           0|                                          0|             0.09|\n",
            "|274876|https://www.airbn...|20190928160308|  2019-09-28|Designer apartmen...|                null|Hej and welcome! ...|Hej and welcome! ...|               none| A quiet neighbour...|Check-in time is ...|Bus: Just outside...|                null|You can always re...|                null|         null|      null|https://a0.muscac...|          null|1437153|https://www.airbn...|     Emma|2011-11-23|Stockholm, Stockh...|Hi, this is my pl...|within a few hours|              100%|                 N/A|                t|https://a0.muscac...|https://a0.muscac...|              null|                  1|                        1|['email', 'phone'...|                   t|                     f|Stockholm, Stockh...|    Södermalm|            Södermalms|                        null|Stockholm|Stockholm County|  11628|Stockholm|Stockholm, Sweden|          SE| Sweden|59.31849| 18.09536|                t|        Apartment|Entire home/apt|           5|      1.0|       3|   5|Real Bed|{TV,\"Cable TV\",In...|       null|$3,150.00|        null|         null|       $4,278.00|   $1,069.00|              5|     $428.00|             4|           100|                     4|                     4|                   100|                   100|                   4.0|                 100.0|     6 weeks ago|               t|             27|             57|             87|             362|           2019-09-28|              113|                   23|  2012-04-29| 2019-09-22|                  99|                    10|                       10|                   10|                         10|                    10|                  9|               f|   null|              null|               f|                       f|            moderate|                            t|                               t|                             1|                                          1|                                           0|                                          0|             1.25|\n",
            "|278311|https://www.airbn...|20190928160308|  2019-09-28|Entire apt (some ...|When we will be a...|This awesome plac...|When we will be a...|               none| I love the lake, ...|                null|I love the public...|The entire apt, t...|I won't be around...|If you'd like to ...|         null|      null|https://a0.muscac...|          null|1452838|https://www.airbn...|   Linnéa|2011-11-29|Stockholm, Stockh...|Playful, fun-lovi...|within a few hours|              100%|                 N/A|                f|https://a0.muscac...|https://a0.muscac...|            Farsta|                  1|                        1|['email', 'phone'...|                   t|                     f|Farsta, Stockholm...|       Farsta|                Farsta|                        null|   Farsta|  Stockholms län|  12331|Stockholm|   Farsta, Sweden|          SE| Sweden|59.24534| 18.08729|                t|        Apartment|Entire home/apt|           6|      1.0|       1|   3|Real Bed|{Internet,Wifi,Ki...|        936|  $411.00|   $3,300.00|   $12,900.00|       $1,000.00|     $200.00|              1|     $250.00|             1|            30|                     1|                     1|                    30|                    30|                   1.0|                  30.0|     4 weeks ago|               t|             13|             43|             73|             348|           2019-09-28|               52|                    4|  2011-12-16| 2019-09-06|                  92|                     9|                        9|                   10|                         10|                     9|                  9|               f|   null|              null|               f|                       f|            moderate|                            f|                               f|                             1|                                          1|                                           0|                                          0|             0.55|\n",
            "|283446|https://www.airbn...|20190928160308|  2019-09-28|Comfort Stay @ Ki...|Independent priva...|Independent priva...|Independent priva...|               none| Our apartment is ...|Metro is availabl...|Our apartment is ...|hi-speed internet...|we ask few questi...|•VEGETARIAN FOOD ...|         null|      null|https://a0.muscac...|          null|1476562|https://www.airbn...| Vidhatri|2011-12-06|Stockholm, Stockh...|Hi..I am Vidhatri...|               N/A|               N/A|                 N/A|                f|https://a0.muscac...|https://a0.muscac...|     Rinkeby-Kista|                  1|                        1|['email', 'phone'...|                   t|                     t|Stockholm, Stockh...|Rinkeby-Kista|        Rinkeby-Tensta|                        null|Stockholm|Stockholm County|  16472|Stockholm|Stockholm, Sweden|          SE| Sweden|59.41533| 17.91465|                t|        Apartment|   Private room|           2|      1.0|       1|   2|Real Bed|{TV,\"Cable TV\",In...|        958|  $294.00|   $3,023.00|    $9,850.00|            null|        null|              1|     $175.00|             2|          1125|                     2|                     2|                  1125|                  1125|                   2.0|                1125.0|    4 months ago|               t|              0|              0|              6|               6|           2019-09-28|              104|                    1|  2012-07-03| 2018-10-28|                  97|                    10|                       10|                   10|                         10|                     9|                 10|               f|   null|              null|               t|                       f|            moderate|                            f|                               f|                             1|                                          0|                                           1|                                          0|             1.18|\n",
            "|299154|https://www.airbn...|20190928160308|  2019-09-28|Cosy apartment ce...|Very centrally lo...|An small apartmen...|Very centrally lo...|               none| Södermalm, often ...|Keys Leave the ke...|The subway is jus...|Hole apartment wi...|I interact with g...|Keys Leave the ke...|         null|      null|https://a0.muscac...|          null|1541953|https://www.airbn...|   Daniel|2011-12-28|Stockholm, Stockh...|Nice and friendly...|    within an hour|              100%|                 N/A|                f|https://a0.muscac...|https://a0.muscac...|         Södermalm|                  1|                        1|['email', 'phone'...|                   t|                     t|Stockholm, Stockh...|    Södermalm|            Södermalms|                        null|Stockholm|Stockholm County|  11846|Stockholm|Stockholm, Sweden|          SE| Sweden|59.31767| 18.07137|                t|        Apartment|Entire home/apt|           4|      1.0|       1|   2|Real Bed|{TV,\"Cable TV\",In...|        312|$1,106.00|        null|         null|       $1,500.00|       $0.00|              2|     $135.00|             2|            60|                     1|                     3|                    60|                    60|                   2.0|                  60.0|      a week ago|               t|              5|             26|             43|             232|           2019-09-28|              480|                   63|  2013-06-16| 2019-09-27|                  92|                    10|                        9|                   10|                         10|                    10|                  9|               f|   null|              null|               t|                       f|strict_14_with_gr...|                            f|                               t|                             1|                                          1|                                           0|                                          0|             6.27|\n",
            "|301680|https://www.airbn...|20190928160308|  2019-09-28|one cosy double r...|there are several...|Your room is cosy...|there are several...|               none| Beautiful surroun...|There is recyklin...|Just around the c...|A modern kitchen ...|If you enjoy fitn...|I expect that whe...|         null|      null|https://a0.muscac...|          null|1554143|https://www.airbn...|   Anitta|2012-01-01|Stockholm, Stockh...|I am a teacher an...|    within an hour|               83%|                 N/A|                f|https://a0.muscac...|https://a0.muscac...|              null|                  2|                        2|['email', 'phone'...|                   t|                     f|Långbro, Stockhol...|       Älvsjö|                Älvsjö|                        null|  Långbro|Stockholm County|  12533|Stockholm|  Långbro, Sweden|          SE| Sweden|59.27778| 17.99226|                t|Bed and breakfast|   Private room|           2|      1.0|       1|   1|Real Bed|{TV,Internet,Wifi...|       null|  $753.00|   $2,500.00|    $9,000.00|            null|      $80.00|              1|     $200.00|             1|          1125|                     1|                     1|                  1125|                  1125|                   1.0|                1125.0|    2 months ago|               t|             30|             60|             90|             365|           2019-09-28|               34|                    0|  2012-07-09| 2018-07-16|                  92|                     9|                       10|                    9|                          9|                     9|                  9|               f|   null|              null|               f|                       f|            flexible|                            f|                               f|                             2|                                          1|                                           1|                                          0|             0.39|\n",
            "|302496|https://www.airbn...|20190928160308|  2019-09-28|Spacious, bright,...|This unique apart...|The apartment is ...|This unique apart...|               none| The neighborhood ...|                null|Busstation with t...|You will have acc...|Ii you have probl...|No smoking. No pe...|         null|      null|https://a0.muscac...|          null|1557657|https://www.airbn...|     Seta|2012-01-02|Stockholm, Stockh...|I am described as...|      within a day|              100%|                 N/A|                t|https://a0.muscac...|https://a0.muscac...|          Norrmalm|                  2|                        2|['email', 'phone'...|                   t|                     t|Norrmalm, Stockho...|     Norrmalm|             Norrmalms|                        null| Norrmalm|Stockholm County|  11351|Stockholm| Norrmalm, Sweden|          SE| Sweden|59.34518| 18.06044|                t|        Apartment|Entire home/apt|           6|      1.5|       3|   6|Real Bed|{TV,Internet,Wifi...|       null|$2,798.00|        null|   $56,000.00|           $0.00|   $1,000.00|              4|     $500.00|             5|            60|                     5|                     5|                    60|                    60|                   5.0|                  60.0|     5 weeks ago|               t|              1|              2|              5|             267|           2019-09-28|               65|                   18|  2012-06-18| 2019-09-18|                  99|                    10|                       10|                   10|                         10|                    10|                 10|               f|   null|              null|               f|                       f|            moderate|                            f|                               f|                             1|                                          1|                                           0|                                          0|             0.73|\n",
            "|313195|https://www.airbn...|20190928160308|  2019-09-28|Design, style & v...|Just some minutes...|This perfectly co...|Just some minutes...|               none| Very near is all ...|                null|7 min walk to the...|Rent it up to 3 p...|                null|We love to welcom...|         null|      null|https://a0.muscac...|          null| 956221|https://www.airbn...|    David|2011-08-11|Stockholm, Stockh...|I'm an architect ...|               N/A|               N/A|                 N/A|                f|https://a0.muscac...|https://a0.muscac...|              null|                  2|                        2|['email', 'phone'...|                   t|                     t|Stockholm, Stockh...|     Norrmalm|             Norrmalms|                        null|Stockholm|Stockholm County|  11347|Stockholm|Stockholm, Sweden|          SE| Sweden|59.34763| 18.05015|                t|        Apartment|Entire home/apt|           3|      1.0|       1|   1|Real Bed|{Internet,Wifi,Ki...|          0|  $900.00|        null|         null|       $1,069.00|     $321.00|              2|     $203.00|             3|            30|                     3|                     3|                    30|                    30|                   3.0|                  30.0|   10 months ago|               t|              0|              0|              0|              46|           2019-09-28|               45|                    0|  2012-08-03| 2017-08-13|                  96|                    10|                        9|                   10|                          9|                     9|                  9|               f|   null|              null|               f|                       f|            moderate|                            f|                               f|                             1|                                          1|                                           0|                                          0|             0.52|\n",
            "|313763|https://www.airbn...|20190928160308|  2019-09-28|Excellent locatio...|Trendy Vasastan i...|Just by the Odenp...|Trendy Vasastan i...|               none| Vasastan (Vasasta...|    No kids allowed.|Walking distance ...|Smoking only allo...|                null|No loud music or ...|         null|      null|https://a0.muscac...|          null|1533849|https://www.airbn...|Martin P.|2011-12-25|Sarasota, Florida...|I host mostly so ...|    within an hour|              100%|                 N/A|                f|https://a0.muscac...|https://a0.muscac...|          Norrmalm|                  4|                        4|['email', 'phone'...|                   t|                     t|Stockholm, Stockh...|     Norrmalm|             Norrmalms|                        null|Stockholm|  Stockholms län| 113 28|Stockholm|Stockholm, Sweden|          SE| Sweden|59.34398| 18.04959|                f|             Loft|   Private room|           1|      1.0|       1|   1|Real Bed|{TV,\"Cable TV\",In...|       null|  $646.00|     $840.00|    $2,780.00|         $900.00|     $290.00|              2|       $0.00|             2|            45|                     2|                     2|                    45|                    45|                   2.0|                  45.0|      a week ago|               t|              4|              4|              4|               4|           2019-09-28|               50|                    6|  2012-06-04| 2019-09-03|                  98|                    10|                       10|                   10|                         10|                    10|                  9|               f|   null|              null|               f|                       f|strict_14_with_gr...|                            t|                               f|                             1|                                          0|                                           1|                                          0|             0.56|\n",
            "+------+--------------------+--------------+------------+--------------------+--------------------+--------------------+--------------------+-------------------+---------------------+--------------------+--------------------+--------------------+--------------------+--------------------+-------------+----------+--------------------+--------------+-------+--------------------+---------+----------+--------------------+--------------------+------------------+------------------+--------------------+-----------------+--------------------+--------------------+------------------+-------------------+-------------------------+--------------------+--------------------+----------------------+--------------------+-------------+----------------------+----------------------------+---------+----------------+-------+---------+-----------------+------------+-------+--------+---------+-----------------+-----------------+---------------+------------+---------+--------+----+--------+--------------------+-----------+---------+------------+-------------+----------------+------------+---------------+------------+--------------+--------------+----------------------+----------------------+----------------------+----------------------+----------------------+----------------------+----------------+----------------+---------------+---------------+---------------+----------------+---------------------+-----------------+---------------------+------------+-----------+--------------------+----------------------+-------------------------+---------------------+---------------------------+----------------------+-------------------+----------------+-------+------------------+----------------+------------------------+--------------------+-----------------------------+--------------------------------+------------------------------+-------------------------------------------+--------------------------------------------+-------------------------------------------+-----------------+\n",
            "only showing top 20 rows\n",
            "\n",
            "+----------+---------+----------+-----------+-------------+--------------------+\n",
            "|listing_id|       id|      date|reviewer_id|reviewer_name|            comments|\n",
            "+----------+---------+----------+-----------+-------------+--------------------+\n",
            "|    145320|156423122|2017-05-30|  123386382|        Erwin|Prima plek om Sto...|\n",
            "|    145320|170211906|2017-07-15|  123091743|         Anne|Cosy and clean fl...|\n",
            "|    145320|172169175|2017-07-20|      78004|     Patricia|The host canceled...|\n",
            "|    145320|176647581|2017-07-31|  103178743|    Charlotte|Kim's place was o...|\n",
            "|    145320|185676021|2017-08-22|    4023961|    Alexander|great spacious ap...|\n",
            "|    145320|189668224|2017-09-02|  142869362|        Heiko|Kim is a very fri...|\n",
            "|    145320|191894030|2017-09-09|   25194419|        Jason|The apartment is ...|\n",
            "|    145320|193316070|2017-09-13|   52056015|        David|Nicely appointed,...|\n",
            "|    145320|196760607|2017-09-24|    3980456|        Janne|It was a pleasure...|\n",
            "|    145320|201885633|2017-10-09|   72139946|     Florence|Kim's place is si...|\n",
            "|    145320|203410181|2017-10-15|   23002655|      Charlie|We absolutely lov...|\n",
            "|    145320|210619953|2017-11-10|    3451329|      Natalia|Amazing place to ...|\n",
            "|    145320|211523951|2017-11-13|  105945750|       Ainhoa|Very pleasant sta...|\n",
            "|    145320|212932349|2017-11-19|     203826|           Fe|We had a wonderfu...|\n",
            "|    145320|214018139|2017-11-24|   70756436|       Marcel|Great location! C...|\n",
            "|    145320|216533345|2017-12-04|   10655526|      Shannon|Lovely flat in a ...|\n",
            "|    145320|219021131|2017-12-16|   29246547|          Dan|Kim’s flat is in ...|\n",
            "|    145320|231273225|2018-01-31|  160717975|          Sam|I would definitel...|\n",
            "|    145320|233159940|2018-02-08|   33212603|       Katina|Kim's place is pe...|\n",
            "|    145320|234271335|2018-02-12|  160422715|      Kensuke|The flat is so co...|\n",
            "+----------+---------+----------+-----------+-------------+--------------------+\n",
            "only showing top 20 rows\n",
            "\n"
          ],
          "name": "stdout"
        }
      ]
    },
    {
      "cell_type": "markdown",
      "metadata": {
        "id": "HV89khYqo9sQ"
      },
      "source": [
        "### Describe the data\n",
        "List the features (schema) and sizes of the datasets."
      ]
    },
    {
      "cell_type": "code",
      "metadata": {
        "id": "Bp1qkXQTo9sR",
        "colab": {
          "base_uri": "https://localhost:8080/"
        },
        "outputId": "08ba4ec8-aa9c-4091-ef47-925060608180"
      },
      "source": [
        "print(\"Reviews schema: \", reviews.printSchema())\n",
        "print(\"Listings schema: \", listings.printSchema())\n",
        "\n",
        "print(\"Review count: \", reviews.count())\n",
        "print(\"Listings count: \", listings.count())"
      ],
      "execution_count": 11,
      "outputs": [
        {
          "output_type": "stream",
          "text": [
            "root\n",
            " |-- listing_id: string (nullable = true)\n",
            " |-- id: string (nullable = true)\n",
            " |-- date: string (nullable = true)\n",
            " |-- reviewer_id: string (nullable = true)\n",
            " |-- reviewer_name: string (nullable = true)\n",
            " |-- comments: string (nullable = true)\n",
            "\n",
            "Reviews schema:  None\n",
            "root\n",
            " |-- id: string (nullable = true)\n",
            " |-- listing_url: string (nullable = true)\n",
            " |-- scrape_id: string (nullable = true)\n",
            " |-- last_scraped: string (nullable = true)\n",
            " |-- name: string (nullable = true)\n",
            " |-- summary: string (nullable = true)\n",
            " |-- space: string (nullable = true)\n",
            " |-- description: string (nullable = true)\n",
            " |-- experiences_offered: string (nullable = true)\n",
            " |-- neighborhood_overview: string (nullable = true)\n",
            " |-- notes: string (nullable = true)\n",
            " |-- transit: string (nullable = true)\n",
            " |-- access: string (nullable = true)\n",
            " |-- interaction: string (nullable = true)\n",
            " |-- house_rules: string (nullable = true)\n",
            " |-- thumbnail_url: string (nullable = true)\n",
            " |-- medium_url: string (nullable = true)\n",
            " |-- picture_url: string (nullable = true)\n",
            " |-- xl_picture_url: string (nullable = true)\n",
            " |-- host_id: string (nullable = true)\n",
            " |-- host_url: string (nullable = true)\n",
            " |-- host_name: string (nullable = true)\n",
            " |-- host_since: string (nullable = true)\n",
            " |-- host_location: string (nullable = true)\n",
            " |-- host_about: string (nullable = true)\n",
            " |-- host_response_time: string (nullable = true)\n",
            " |-- host_response_rate: string (nullable = true)\n",
            " |-- host_acceptance_rate: string (nullable = true)\n",
            " |-- host_is_superhost: string (nullable = true)\n",
            " |-- host_thumbnail_url: string (nullable = true)\n",
            " |-- host_picture_url: string (nullable = true)\n",
            " |-- host_neighbourhood: string (nullable = true)\n",
            " |-- host_listings_count: string (nullable = true)\n",
            " |-- host_total_listings_count: string (nullable = true)\n",
            " |-- host_verifications: string (nullable = true)\n",
            " |-- host_has_profile_pic: string (nullable = true)\n",
            " |-- host_identity_verified: string (nullable = true)\n",
            " |-- street: string (nullable = true)\n",
            " |-- neighbourhood: string (nullable = true)\n",
            " |-- neighbourhood_cleansed: string (nullable = true)\n",
            " |-- neighbourhood_group_cleansed: string (nullable = true)\n",
            " |-- city: string (nullable = true)\n",
            " |-- state: string (nullable = true)\n",
            " |-- zipcode: string (nullable = true)\n",
            " |-- market: string (nullable = true)\n",
            " |-- smart_location: string (nullable = true)\n",
            " |-- country_code: string (nullable = true)\n",
            " |-- country: string (nullable = true)\n",
            " |-- latitude: string (nullable = true)\n",
            " |-- longitude: string (nullable = true)\n",
            " |-- is_location_exact: string (nullable = true)\n",
            " |-- property_type: string (nullable = true)\n",
            " |-- room_type: string (nullable = true)\n",
            " |-- accommodates: string (nullable = true)\n",
            " |-- bathrooms: string (nullable = true)\n",
            " |-- bedrooms: string (nullable = true)\n",
            " |-- beds: string (nullable = true)\n",
            " |-- bed_type: string (nullable = true)\n",
            " |-- amenities: string (nullable = true)\n",
            " |-- square_feet: string (nullable = true)\n",
            " |-- price: string (nullable = true)\n",
            " |-- weekly_price: string (nullable = true)\n",
            " |-- monthly_price: string (nullable = true)\n",
            " |-- security_deposit: string (nullable = true)\n",
            " |-- cleaning_fee: string (nullable = true)\n",
            " |-- guests_included: string (nullable = true)\n",
            " |-- extra_people: string (nullable = true)\n",
            " |-- minimum_nights: string (nullable = true)\n",
            " |-- maximum_nights: string (nullable = true)\n",
            " |-- minimum_minimum_nights: string (nullable = true)\n",
            " |-- maximum_minimum_nights: string (nullable = true)\n",
            " |-- minimum_maximum_nights: string (nullable = true)\n",
            " |-- maximum_maximum_nights: string (nullable = true)\n",
            " |-- minimum_nights_avg_ntm: string (nullable = true)\n",
            " |-- maximum_nights_avg_ntm: string (nullable = true)\n",
            " |-- calendar_updated: string (nullable = true)\n",
            " |-- has_availability: string (nullable = true)\n",
            " |-- availability_30: string (nullable = true)\n",
            " |-- availability_60: string (nullable = true)\n",
            " |-- availability_90: string (nullable = true)\n",
            " |-- availability_365: string (nullable = true)\n",
            " |-- calendar_last_scraped: string (nullable = true)\n",
            " |-- number_of_reviews: string (nullable = true)\n",
            " |-- number_of_reviews_ltm: string (nullable = true)\n",
            " |-- first_review: string (nullable = true)\n",
            " |-- last_review: string (nullable = true)\n",
            " |-- review_scores_rating: string (nullable = true)\n",
            " |-- review_scores_accuracy: string (nullable = true)\n",
            " |-- review_scores_cleanliness: string (nullable = true)\n",
            " |-- review_scores_checkin: string (nullable = true)\n",
            " |-- review_scores_communication: string (nullable = true)\n",
            " |-- review_scores_location: string (nullable = true)\n",
            " |-- review_scores_value: string (nullable = true)\n",
            " |-- requires_license: string (nullable = true)\n",
            " |-- license: string (nullable = true)\n",
            " |-- jurisdiction_names: string (nullable = true)\n",
            " |-- instant_bookable: string (nullable = true)\n",
            " |-- is_business_travel_ready: string (nullable = true)\n",
            " |-- cancellation_policy: string (nullable = true)\n",
            " |-- require_guest_profile_picture: string (nullable = true)\n",
            " |-- require_guest_phone_verification: string (nullable = true)\n",
            " |-- calculated_host_listings_count: string (nullable = true)\n",
            " |-- calculated_host_listings_count_entire_homes: string (nullable = true)\n",
            " |-- calculated_host_listings_count_private_rooms: string (nullable = true)\n",
            " |-- calculated_host_listings_count_shared_rooms: string (nullable = true)\n",
            " |-- reviews_per_month: string (nullable = true)\n",
            "\n",
            "Listings schema:  None\n",
            "Review count:  32297300\n",
            "Listings count:  1330479\n"
          ],
          "name": "stdout"
        }
      ]
    },
    {
      "cell_type": "markdown",
      "metadata": {
        "id": "JHJAEVBio9sT"
      },
      "source": [
        "### Prepare the data for analysis\n",
        "You should prepare two dataframes to be used in the analysis part of the project. You should not be concerned with cleaning the data. There's a lot of it, so it will be sufficient to drop rows that have bad values. You may want to go back and refine this step at a later point when doing the analysis.\n"
      ]
    },
    {
      "cell_type": "code",
      "metadata": {
        "id": "wwoG67yPb-Fq"
      },
      "source": [
        "# We choose to interpret \"bad values\" as \"N/A\", \"None\", empty, \"Null\"\n",
        "# First we select the columns we want to keep working with.\n",
        "\n",
        "listcol = listings.select('id','neighbourhood','city','price','weekly_price','monthly_price','property_type','review_scores_rating','number_of_reviews','number_of_reviews_ltm','reviews_per_month','first_review','last_review')"
      ],
      "execution_count": 12,
      "outputs": []
    },
    {
      "cell_type": "code",
      "metadata": {
        "id": "zIyGgzmDo9sU"
      },
      "source": [
        "# Removes rows containing nulls, none, NaN and empty values.\n",
        "filter_list = listcol.dropna()\n",
        "filter_reviews = reviews.dropna()"
      ],
      "execution_count": 13,
      "outputs": []
    },
    {
      "cell_type": "markdown",
      "metadata": {
        "id": "dgLkljMQo9sW"
      },
      "source": [
        "## Part 2: Analysing the data (50 pts)\n",
        "Use Spark and your favorite tool for data visualization to solve the following tasks. Imagine that you are talking to your colleagues or your new boss. Think about how you present the data. Include headers, legends and well-written descriptions for graphs/charts. Think of the solutions you provide as an \"executive summary\" of your findings. You should put an effort in presentation and writing, not just coding."
      ]
    },
    {
      "cell_type": "markdown",
      "metadata": {
        "id": "Tll0H4rzKm6x"
      },
      "source": [
        "\n",
        "### 2.1: The basics (10 pts)\n",
        "Compute and visualise a dataframe with the number of listings and neighbourhoods per city."
      ]
    },
    {
      "cell_type": "code",
      "metadata": {
        "id": "0tfdYTm8o9sX",
        "colab": {
          "base_uri": "https://localhost:8080/"
        },
        "outputId": "da006725-a09c-4839-9244-fe6ba2e0ce59"
      },
      "source": [
        "# Counts all unique cities, for each unique city count how many listings there are through unique ID's, and then count how many unique neighbourhoods are in a city.\n",
        "table_df1 = filter_list.groupBy('city').agg(f.count('id').alias('listings per city'),f.approxCountDistinct('neighbourhood').alias('neighbourhoods per city')).orderBy(f.desc('listings per city'))\n",
        "table_df1.show()"
      ],
      "execution_count": 15,
      "outputs": [
        {
          "output_type": "stream",
          "text": [
            "+--------------+-----------------+-----------------------+\n",
            "|          city|listings per city|neighbourhoods per city|\n",
            "+--------------+-----------------+-----------------------+\n",
            "|         Paris|             4946|                     64|\n",
            "|        London|             3271|                    135|\n",
            "|   Los Angeles|             2112|                     78|\n",
            "|  Buenos Aires|             2054|                     32|\n",
            "|        Berlin|             1765|                     68|\n",
            "|      Brooklyn|             1639|                     36|\n",
            "|      New York|             1354|                     45|\n",
            "|        Madrid|             1348|                     65|\n",
            "|       Toronto|             1341|                    113|\n",
            "|          Rome|             1335|                     43|\n",
            "|        Milano|             1335|                     22|\n",
            "|          Roma|             1330|                     39|\n",
            "|     Amsterdam|             1102|                     43|\n",
            "|Rio de Janeiro|             1036|                     41|\n",
            "|     Barcelona|              875|                     56|\n",
            "|      Montréal|              837|                     36|\n",
            "| San Francisco|              734|                     50|\n",
            "|      Florence|              728|                     14|\n",
            "|         Milan|              725|                     20|\n",
            "|       Seattle|              705|                     71|\n",
            "+--------------+-----------------+-----------------------+\n",
            "only showing top 20 rows\n",
            "\n"
          ],
          "name": "stdout"
        }
      ]
    },
    {
      "cell_type": "markdown",
      "metadata": {
        "id": "Dmjzrz28o9sa"
      },
      "source": [
        "Based on the table above, you should choose a city that you want to continue your analysis for. The city should have mulitple neighbourhoods with listings in them.\n",
        "\n",
        "Compute and visualize the number of listings of different property types per neighbourhood in your city."
      ]
    },
    {
      "cell_type": "markdown",
      "metadata": {
        "id": "wqwbQKVOSefP"
      },
      "source": [
        "**We choose the city Madrid.**"
      ]
    },
    {
      "cell_type": "code",
      "metadata": {
        "colab": {
          "base_uri": "https://localhost:8080/"
        },
        "id": "V5WHf_k4mFgq",
        "outputId": "2d39a6d1-c20f-46f6-b4a6-c574d5b1741d"
      },
      "source": [
        "# We choose the city Madrid\n",
        "madrid = filter_list.filter(f.col('city') == 'Madrid')\n",
        "# We cache Madrid for faster loading\n",
        "madrid.cache()\n",
        "\n",
        "table_df2 = madrid.groupBy('neighbourhood', 'property_type').agg(f.count('id').alias('No_listings')).orderBy('neighbourhood','No_listings')\n",
        "table_df2.show()"
      ],
      "execution_count": 289,
      "outputs": [
        {
          "output_type": "stream",
          "text": [
            "+-------------+------------------+-----------+\n",
            "|neighbourhood|     property_type|No_listings|\n",
            "+-------------+------------------+-----------+\n",
            "|      Acacias|         Apartment|          7|\n",
            "|      Adelfas|              Loft|          1|\n",
            "|      Adelfas|         Apartment|          1|\n",
            "|      Almagro|         Apartment|          3|\n",
            "|     Almenara|         Apartment|          4|\n",
            "|       Aluche|Serviced apartment|          1|\n",
            "|       Aluche| Bed and breakfast|          1|\n",
            "|       Aluche|             House|          2|\n",
            "|       Aluche|         Apartment|         37|\n",
            "|     Arapiles|         Apartment|          7|\n",
            "|   Arganzuela|             House|          2|\n",
            "|   Arganzuela| Bed and breakfast|          3|\n",
            "|   Arganzuela|         Apartment|         38|\n",
            "|    Argüelles|             House|          1|\n",
            "|    Argüelles|         Apartment|          6|\n",
            "|       Atocha|         Apartment|          1|\n",
            "|      Barajas|         Apartment|          7|\n",
            "|Bellas Vistas|              Loft|          1|\n",
            "|Bellas Vistas|         Apartment|          2|\n",
            "|   Berruguete|             House|          1|\n",
            "+-------------+------------------+-----------+\n",
            "only showing top 20 rows\n",
            "\n"
          ],
          "name": "stdout"
        }
      ]
    },
    {
      "cell_type": "markdown",
      "metadata": {
        "id": "ZDItrynto9sd"
      },
      "source": [
        "### 2.2. Prices (10 pts)\n",
        "Compute the minimum, maximum and average listing price in your city."
      ]
    },
    {
      "cell_type": "code",
      "metadata": {
        "id": "YsI9CPtF_0NS",
        "colab": {
          "base_uri": "https://localhost:8080/"
        },
        "outputId": "81ae0eeb-e236-47d2-9ecb-73946e3ea43d"
      },
      "source": [
        "from pyspark.sql.functions import udf\n",
        "\n",
        "charReplace = udf(lambda x: x.replace('$',''))\n",
        "# Remove the dollar sign from the price\n",
        "dollar = madrid.withColumn('price',charReplace('price'))\n",
        "\n",
        "from pyspark.sql.types import DoubleType\n",
        "# typecast the whole column from str to double\n",
        "double = dollar.withColumn(\"price\", dollar[\"price\"].cast(DoubleType()))\n",
        "\n",
        "# Compute average, max and min\n",
        "double.select(f.avg('price'), f.max('price'), f.min('price')).show()"
      ],
      "execution_count": 17,
      "outputs": [
        {
          "output_type": "stream",
          "text": [
            "+-----------------+----------+----------+\n",
            "|       avg(price)|max(price)|min(price)|\n",
            "+-----------------+----------+----------+\n",
            "|67.14847809948033|     500.0|      12.0|\n",
            "+-----------------+----------+----------+\n",
            "\n"
          ],
          "name": "stdout"
        }
      ]
    },
    {
      "cell_type": "markdown",
      "metadata": {
        "id": "fGnx3na2o9sg"
      },
      "source": [
        "Compute and visualise the distribution of listing prices in your city. Write a paragraph describing your findings."
      ]
    },
    {
      "cell_type": "code",
      "metadata": {
        "id": "Lxnbn6mJo9sg",
        "colab": {
          "base_uri": "https://localhost:8080/",
          "height": 704
        },
        "outputId": "b0658837-9fdb-4ab7-f9b7-3f6c18c9cfda"
      },
      "source": [
        "# We count the number of times every distinct price shows up and save it as a pandas dataframe\n",
        "plotdata = double.groupBy(\"price\").agg(f.count(\"id\")).orderBy(\"price\").toPandas()\n",
        "# Make a barchart, where the x-axis is the distinct prices and y-axis is the number of times they show up\n",
        "plotdata.plot.bar(\"price\",\"count(id)\")\n",
        "plotdata"
      ],
      "execution_count": 18,
      "outputs": [
        {
          "output_type": "execute_result",
          "data": {
            "text/html": [
              "<div>\n",
              "<style scoped>\n",
              "    .dataframe tbody tr th:only-of-type {\n",
              "        vertical-align: middle;\n",
              "    }\n",
              "\n",
              "    .dataframe tbody tr th {\n",
              "        vertical-align: top;\n",
              "    }\n",
              "\n",
              "    .dataframe thead th {\n",
              "        text-align: right;\n",
              "    }\n",
              "</style>\n",
              "<table border=\"1\" class=\"dataframe\">\n",
              "  <thead>\n",
              "    <tr style=\"text-align: right;\">\n",
              "      <th></th>\n",
              "      <th>price</th>\n",
              "      <th>count(id)</th>\n",
              "    </tr>\n",
              "  </thead>\n",
              "  <tbody>\n",
              "    <tr>\n",
              "      <th>0</th>\n",
              "      <td>NaN</td>\n",
              "      <td>1</td>\n",
              "    </tr>\n",
              "    <tr>\n",
              "      <th>1</th>\n",
              "      <td>12.0</td>\n",
              "      <td>3</td>\n",
              "    </tr>\n",
              "    <tr>\n",
              "      <th>2</th>\n",
              "      <td>13.0</td>\n",
              "      <td>3</td>\n",
              "    </tr>\n",
              "    <tr>\n",
              "      <th>3</th>\n",
              "      <td>14.0</td>\n",
              "      <td>3</td>\n",
              "    </tr>\n",
              "    <tr>\n",
              "      <th>4</th>\n",
              "      <td>15.0</td>\n",
              "      <td>4</td>\n",
              "    </tr>\n",
              "    <tr>\n",
              "      <th>...</th>\n",
              "      <td>...</td>\n",
              "      <td>...</td>\n",
              "    </tr>\n",
              "    <tr>\n",
              "      <th>140</th>\n",
              "      <td>315.0</td>\n",
              "      <td>1</td>\n",
              "    </tr>\n",
              "    <tr>\n",
              "      <th>141</th>\n",
              "      <td>350.0</td>\n",
              "      <td>1</td>\n",
              "    </tr>\n",
              "    <tr>\n",
              "      <th>142</th>\n",
              "      <td>400.0</td>\n",
              "      <td>2</td>\n",
              "    </tr>\n",
              "    <tr>\n",
              "      <th>143</th>\n",
              "      <td>480.0</td>\n",
              "      <td>1</td>\n",
              "    </tr>\n",
              "    <tr>\n",
              "      <th>144</th>\n",
              "      <td>500.0</td>\n",
              "      <td>1</td>\n",
              "    </tr>\n",
              "  </tbody>\n",
              "</table>\n",
              "<p>145 rows × 2 columns</p>\n",
              "</div>"
            ],
            "text/plain": [
              "     price  count(id)\n",
              "0      NaN          1\n",
              "1     12.0          3\n",
              "2     13.0          3\n",
              "3     14.0          3\n",
              "4     15.0          4\n",
              "..     ...        ...\n",
              "140  315.0          1\n",
              "141  350.0          1\n",
              "142  400.0          2\n",
              "143  480.0          1\n",
              "144  500.0          1\n",
              "\n",
              "[145 rows x 2 columns]"
            ]
          },
          "metadata": {
            "tags": []
          },
          "execution_count": 18
        },
        {
          "output_type": "display_data",
          "data": {
            "image/png": "[encoded data removed]",
            "text/plain": [
              "<Figure size 432x288 with 1 Axes>"
            ]
          },
          "metadata": {
            "tags": [],
            "needs_background": "light"
          }
        }
      ]
    },
    {
      "cell_type": "markdown",
      "metadata": {
        "id": "m4iiquLJG8Ko"
      },
      "source": [
        "### Text for part 2.2\n",
        "Looking at the barplot above we can see that it looks like it would follow a gaussian distribution if the data was grouped (we couldn't manage to do this in time). In this case it would look to be right-skewed. It makes sense that it would follow a gaussian distribution because the AirBnb's are competing with each other for customers, so they will naturally find some sort of competitive value for pricing."
      ]
    },
    {
      "cell_type": "markdown",
      "metadata": {
        "id": "prCAgb0ko9sj"
      },
      "source": [
        "The value of a listing is its rating divided by its price. Compute and show a dataframe with the 3 highest valued listings in each neighbourhood."
      ]
    },
    {
      "cell_type": "code",
      "metadata": {
        "colab": {
          "base_uri": "https://localhost:8080/"
        },
        "id": "gUcsfNHEnHtz",
        "outputId": "5edfb174-e00d-4f91-b8ad-fb74a19405e3"
      },
      "source": [
        "# Typecast the rating column to double as well.\n",
        "double = double.withColumn(\"review_scores_rating\", double[\"review_scores_rating\"].cast(DoubleType()))\n",
        "# Calculate the values of every listing\n",
        "val = double.review_scores_rating/double.price\n",
        "# Add a column with the values of every listing\n",
        "double = double.withColumn(\"listing_value\", val)\n",
        "\n",
        "# Compute and show the 3 highest valued listings in each neighbourhood\n",
        "from pyspark.sql.window import Window\n",
        "window = Window.partitionBy(double['neighbourhood']).orderBy(f.desc(\"listing_value\"))\n",
        "highlistvals = double.select('*', f.rank().over(window).alias('rank')).filter(f.col('rank') <= 3)\n",
        "highlistvals.select(\"neighbourhood\",\"listing_value\",\"rank\").orderBy('neighbourhood').show(63*3)"
      ],
      "execution_count": 291,
      "outputs": [
        {
          "output_type": "stream",
          "text": [
            "+-------------------+------------------+----+\n",
            "|      neighbourhood|     listing_value|rank|\n",
            "+-------------------+------------------+----+\n",
            "|            Acacias|3.2962962962962963|   1|\n",
            "|            Acacias| 3.033333333333333|   2|\n",
            "|            Acacias| 2.742857142857143|   3|\n",
            "|            Adelfas|1.6129032258064515|   1|\n",
            "|            Adelfas|1.2753623188405796|   2|\n",
            "|            Almagro|2.1818181818181817|   1|\n",
            "|            Almagro|1.0526315789473684|   2|\n",
            "|            Almagro|0.9789473684210527|   3|\n",
            "|           Almenara| 2.606060606060606|   1|\n",
            "|           Almenara| 2.515151515151515|   2|\n",
            "|           Almenara|1.8846153846153846|   3|\n",
            "|             Aluche| 6.066666666666666|   1|\n",
            "|             Aluche| 5.647058823529412|   2|\n",
            "|             Aluche| 5.533333333333333|   3|\n",
            "|           Arapiles|               2.5|   2|\n",
            "|           Arapiles|              3.88|   1|\n",
            "|           Arapiles|               2.0|   3|\n",
            "|         Arganzuela| 7.538461538461538|   1|\n",
            "|         Arganzuela|5.2631578947368425|   2|\n",
            "|         Arganzuela|5.2631578947368425|   2|\n",
            "|          Argüelles| 2.742857142857143|   1|\n",
            "|          Argüelles|1.6166666666666667|   3|\n",
            "|          Argüelles|              1.76|   2|\n",
            "|             Atocha|               1.8|   1|\n",
            "|            Barajas| 5.052631578947368|   1|\n",
            "|            Barajas|3.3448275862068964|   2|\n",
            "|            Barajas|3.1666666666666665|   3|\n",
            "|      Bellas Vistas|               3.4|   1|\n",
            "|      Bellas Vistas|1.7083333333333333|   2|\n",
            "|      Bellas Vistas|               1.0|   3|\n",
            "|         Berruguete| 5.555555555555555|   1|\n",
            "|         Berruguete|3.0357142857142856|   2|\n",
            "|        Carabanchel|               7.5|   1|\n",
            "|        Carabanchel| 7.153846153846154|   2|\n",
            "|        Carabanchel| 6.785714285714286|   3|\n",
            "|         Castellana|            1.1875|   2|\n",
            "|         Castellana|1.5789473684210527|   1|\n",
            "|         Castellana|               0.9|   3|\n",
            "|           Castilla| 1.690909090909091|   1|\n",
            "|           Castilla|1.3333333333333333|   2|\n",
            "|           Castilla|1.2714285714285714|   3|\n",
            "|        Castillejos|1.4915254237288136|   3|\n",
            "|        Castillejos| 2.857142857142857|   1|\n",
            "|        Castillejos|               2.4|   2|\n",
            "|             Centro| 5.733333333333333|   1|\n",
            "|             Centro|               5.0|   2|\n",
            "|             Centro|               4.9|   3|\n",
            "|          Chamartín| 4.130434782608695|   1|\n",
            "|          Chamartín| 4.083333333333333|   2|\n",
            "|          Chamartín|              3.75|   3|\n",
            "|           Chamberí| 5.222222222222222|   1|\n",
            "|           Chamberí| 4.130434782608695|   2|\n",
            "|           Chamberí|               4.0|   3|\n",
            "|           Chamberí|               4.0|   3|\n",
            "|           Chamberí|               4.0|   3|\n",
            "|      Ciudad Lineal|              4.95|   2|\n",
            "|      Ciudad Lineal|5.2631578947368425|   1|\n",
            "|      Ciudad Lineal| 4.761904761904762|   3|\n",
            "|             Cortes|              3.24|   1|\n",
            "|             Cortes|2.4210526315789473|   2|\n",
            "|             Cortes|2.3947368421052633|   3|\n",
            "|     Cuatro Caminos|2.5641025641025643|   1|\n",
            "|           Delicias| 4.130434782608695|   2|\n",
            "|           Delicias| 4.833333333333333|   1|\n",
            "|           Delicias|              3.76|   3|\n",
            "|     El Tréntaiseis|              0.92|   1|\n",
            "|            El Viso|            1.1875|   1|\n",
            "|        Embajadores|               4.5|   1|\n",
            "|        Embajadores|               4.3|   2|\n",
            "|        Embajadores|              3.76|   3|\n",
            "|           Estrella|3.5833333333333335|   1|\n",
            "|Fuencarral-el Pardo| 5.388888888888889|   2|\n",
            "|Fuencarral-el Pardo|               5.5|   1|\n",
            "|Fuencarral-el Pardo|               2.0|   3|\n",
            "|   Fuente del Berro|3.1333333333333333|   1|\n",
            "|   Fuente del Berro|2.5945945945945947|   2|\n",
            "|   Fuente del Berro|               1.5|   3|\n",
            "|         Gaztambide|4.2272727272727275|   1|\n",
            "|         Gaztambide|3.3333333333333335|   2|\n",
            "|         Gaztambide|              3.32|   3|\n",
            "|               Goya| 5.882352941176471|   1|\n",
            "|               Goya|2.6315789473684212|   2|\n",
            "|               Goya| 2.380952380952381|   3|\n",
            "|         Guindalera| 4.578947368421052|   1|\n",
            "|         Guindalera| 4.526315789473684|   2|\n",
            "|         Guindalera| 3.769230769230769|   3|\n",
            "|     Hispanoamérica|               4.0|   1|\n",
            "|          Hortaleza|               5.0|   1|\n",
            "|          Hortaleza| 4.260869565217392|   2|\n",
            "|          Hortaleza|3.3333333333333335|   3|\n",
            "|              Ibiza| 2.857142857142857|   1|\n",
            "|              Ibiza|               2.3|   2|\n",
            "|              Ibiza|1.0212765957446808|   3|\n",
            "|           Imperial|               5.0|   1|\n",
            "|           Imperial|2.5641025641025643|   2|\n",
            "|           Imperial|1.3166666666666667|   3|\n",
            "|          Jerónimos| 2.088888888888889|   1|\n",
            "|          Jerónimos|1.2777777777777777|   3|\n",
            "|          Jerónimos|1.8444444444444446|   2|\n",
            "|           Justicia|3.5384615384615383|   1|\n",
            "|           Justicia| 3.392857142857143|   2|\n",
            "|           Justicia| 2.966666666666667|   3|\n",
            "|         La Chopera|              0.96|   1|\n",
            "|          La Latina|3.3333333333333335|   1|\n",
            "|          La Latina|3.1333333333333333|   2|\n",
            "|          La Latina| 2.735294117647059|   3|\n",
            "|            Legazpi|2.7142857142857144|   1|\n",
            "|              Lista|3.3793103448275863|   2|\n",
            "|              Lista| 4.611111111111111|   1|\n",
            "|              Lista| 3.066666666666667|   3|\n",
            "|           Malasaña|3.1333333333333333|   2|\n",
            "|           Malasaña|3.3333333333333335|   1|\n",
            "|           Malasaña| 3.066666666666667|   3|\n",
            "|            Moncloa| 4.166666666666667|   2|\n",
            "|            Moncloa| 4.318181818181818|   1|\n",
            "|            Moncloa| 4.090909090909091|   3|\n",
            "|          Moratalaz| 5.222222222222222|   1|\n",
            "|          Moratalaz| 4.444444444444445|   2|\n",
            "|          Moratalaz| 4.409090909090909|   3|\n",
            "|           Pacifico| 4.526315789473684|   1|\n",
            "|           Pacifico|              1.28|   3|\n",
            "|           Pacifico|               2.5|   2|\n",
            "|            Palacio|              3.88|   1|\n",
            "|            Palacio|2.3714285714285714|   3|\n",
            "|            Palacio|3.1333333333333333|   2|\n",
            "|    Palos do Moguer|2.0217391304347827|   3|\n",
            "|    Palos do Moguer|              3.84|   1|\n",
            "|    Palos do Moguer|               3.2|   2|\n",
            "|        Prosperidad| 3.103448275862069|   1|\n",
            "| Puente de Vallecas|               4.9|   2|\n",
            "| Puente de Vallecas| 4.285714285714286|   3|\n",
            "| Puente de Vallecas| 5.705882352941177|   1|\n",
            "|          Recoletos|3.1666666666666665|   2|\n",
            "|          Recoletos|3.5925925925925926|   1|\n",
            "|          Recoletos| 2.727272727272727|   3|\n",
            "|             Retiro|3.3333333333333335|   1|\n",
            "|             Retiro| 3.103448275862069|   2|\n",
            "|             Retiro| 3.033333333333333|   3|\n",
            "|         Rios Rosas| 4.166666666666667|   1|\n",
            "|         Rios Rosas|1.5076923076923077|   3|\n",
            "|         Rios Rosas| 4.090909090909091|   2|\n",
            "|          Salamanca| 7.461538461538462|   1|\n",
            "|          Salamanca| 4.473684210526316|   3|\n",
            "|          Salamanca| 4.473684210526316|   3|\n",
            "|          Salamanca| 5.647058823529412|   2|\n",
            "|           San Blas| 8.333333333333334|   1|\n",
            "|           San Blas|              3.92|   2|\n",
            "|           San Blas|              3.88|   3|\n",
            "|                Sol|           2.71875|   1|\n",
            "|                Sol|2.5757575757575757|   2|\n",
            "|                Sol|               2.3|   3|\n",
            "|             Tetuán| 5.222222222222222|   2|\n",
            "|             Tetuán|              3.96|   3|\n",
            "|             Tetuán|              6.25|   1|\n",
            "|          Trafalgar| 3.033333333333333|   1|\n",
            "|          Trafalgar| 1.263157894736842|   2|\n",
            "|          Trafalgar|1.1294117647058823|   3|\n",
            "|              Usera| 5.352941176470588|   3|\n",
            "|              Usera| 5.555555555555555|   2|\n",
            "|              Usera| 6.714285714285714|   1|\n",
            "|      Valdeacederas|             2.425|   1|\n",
            "|          Vicálvaro|1.3714285714285714|   2|\n",
            "|          Vicálvaro|1.8076923076923077|   1|\n",
            "|  Villa de Vallecas|2.3255813953488373|   2|\n",
            "|  Villa de Vallecas|2.1555555555555554|   3|\n",
            "|  Villa de Vallecas|              7.75|   1|\n",
            "|         Villaverde| 4.714285714285714|   1|\n",
            "|         Villaverde|               3.8|   2|\n",
            "|         Villaverde| 1.434782608695652|   3|\n",
            "+-------------------+------------------+----+\n",
            "\n"
          ],
          "name": "stdout"
        }
      ]
    },
    {
      "cell_type": "markdown",
      "metadata": {
        "id": "JVwa--Bto9sm"
      },
      "source": [
        "### 2.3. Trends (10 pts)\n",
        "Now we want to analyze the \"popularity\" of your city. The data does not contain the number of bookings per listing, but we have a large number of reviews, and we will assume that this is a good indicator of activity on listings."
      ]
    },
    {
      "cell_type": "markdown",
      "metadata": {
        "id": "Tb3TTbgGo9sm"
      },
      "source": [
        "Compute and visualize the popularity (i.e., number of reviews) of your city over time. Can you identify any trends? Write a paragraph describing your findings."
      ]
    },
    {
      "cell_type": "code",
      "metadata": {
        "id": "LigYImQGo9sn",
        "colab": {
          "base_uri": "https://localhost:8080/"
        },
        "outputId": "3d71f1a3-6bbe-467a-aa85-a675d3eb01f3"
      },
      "source": [
        "# We first rename the 'id' column in both the reviews and madrid dataframe\n",
        "# to be 'id_r' and 'id_l' respectively, to avoid confusion in columns of the joined matrix\n",
        "reviews = reviews.withColumnRenamed(\"id\",\"id_r\")\n",
        "madrid = madrid.withColumnRenamed(\"id\",\"id_l\")\n",
        "\n",
        "# We join the review and madrid dataframe for every row where the madrid id_l and\n",
        "# review listing_id is the same\n",
        "madrid_joined = madrid.join(reviews, madrid.id_l == reviews.listing_id, 'leftouter')\n",
        "# We cache for speed\n",
        "madrid_joined.cache()\n",
        "# we count the number of rows in the joined dataframe for overview\n",
        "madrid_joined.count()"
      ],
      "execution_count": 20,
      "outputs": [
        {
          "output_type": "execute_result",
          "data": {
            "text/plain": [
              "119342"
            ]
          },
          "metadata": {
            "tags": []
          },
          "execution_count": 20
        }
      ]
    },
    {
      "cell_type": "code",
      "metadata": {
        "id": "oG0gVvx2syTe",
        "colab": {
          "base_uri": "https://localhost:8080/"
        },
        "outputId": "2a64acd0-5932-4e8c-a79c-466b3b9dcb5a"
      },
      "source": [
        "# We show and compare the number of reviews in the madrid dataframe with the number of\n",
        "# reviews in the joined dataframe. We see that the number of reviews is the same, we are happy :)\n",
        "madrid.groupBy(\"neighbourhood\").agg(f.sum(\"number_of_reviews\")).orderBy(\"neighbourhood\").show()\n",
        "madrid_joined.groupBy(\"neighbourhood\").agg(f.count(\"number_of_reviews\")).orderBy(\"neighbourhood\").show()"
      ],
      "execution_count": 21,
      "outputs": [
        {
          "output_type": "stream",
          "text": [
            "+-------------+----------------------+\n",
            "|neighbourhood|sum(number_of_reviews)|\n",
            "+-------------+----------------------+\n",
            "|      Acacias|                 895.0|\n",
            "|      Adelfas|                  22.0|\n",
            "|      Almagro|                  38.0|\n",
            "|     Almenara|                 157.0|\n",
            "|       Aluche|                2514.0|\n",
            "|     Arapiles|                 232.0|\n",
            "|   Arganzuela|                3070.0|\n",
            "|    Argüelles|                 390.0|\n",
            "|       Atocha|                  44.0|\n",
            "|      Barajas|                 574.0|\n",
            "|Bellas Vistas|                 242.0|\n",
            "|   Berruguete|                  34.0|\n",
            "|  Carabanchel|                2349.0|\n",
            "|   Castellana|                 136.0|\n",
            "|     Castilla|                 107.0|\n",
            "|  Castillejos|                 171.0|\n",
            "|       Centro|               50104.0|\n",
            "|    Chamartín|                1520.0|\n",
            "|     Chamberí|                2117.0|\n",
            "|Ciudad Lineal|                1687.0|\n",
            "+-------------+----------------------+\n",
            "only showing top 20 rows\n",
            "\n",
            "+-------------+------------------------+\n",
            "|neighbourhood|count(number_of_reviews)|\n",
            "+-------------+------------------------+\n",
            "|      Acacias|                     895|\n",
            "|      Adelfas|                      22|\n",
            "|      Almagro|                      38|\n",
            "|     Almenara|                     157|\n",
            "|       Aluche|                    2514|\n",
            "|     Arapiles|                     232|\n",
            "|   Arganzuela|                    3070|\n",
            "|    Argüelles|                     390|\n",
            "|       Atocha|                      44|\n",
            "|      Barajas|                     574|\n",
            "|Bellas Vistas|                     242|\n",
            "|   Berruguete|                      34|\n",
            "|  Carabanchel|                    2349|\n",
            "|   Castellana|                     136|\n",
            "|     Castilla|                     107|\n",
            "|  Castillejos|                     171|\n",
            "|       Centro|                   50104|\n",
            "|    Chamartín|                    1520|\n",
            "|     Chamberí|                    2117|\n",
            "|Ciudad Lineal|                    1687|\n",
            "+-------------+------------------------+\n",
            "only showing top 20 rows\n",
            "\n"
          ],
          "name": "stdout"
        }
      ]
    },
    {
      "cell_type": "code",
      "metadata": {
        "id": "J_FOy7LUx3rp",
        "colab": {
          "base_uri": "https://localhost:8080/",
          "height": 514
        },
        "outputId": "1541a5c9-f121-4254-8f63-3390e247d5c9"
      },
      "source": [
        "from pyspark.sql.types import TimestampType\n",
        "# Change the date column to Timestamp Type\n",
        "madrid_joined = madrid_joined.withColumn('date', madrid_joined['date'].cast(TimestampType()))\n",
        "# Group by date and count the number of reviews, saving it to a pandas DF.\n",
        "reviews_and_date = madrid_joined.groupBy('date').agg(f.count('number_of_reviews')).orderBy('date').toPandas()\n",
        "# Use resample to change the scale to months or years ('M' or 'Y')\n",
        "reviews_and_date_scaled_m = reviews_and_date.resample('M', on = 'date').sum()\n",
        "reviews_and_date_scaled_y = reviews_and_date.resample('Y', on = 'date').sum()\n",
        "# Plot the result\n",
        "reviews_and_date_scaled_y.plot(y='count(number_of_reviews)', use_index=True, figsize=(12,8))"
      ],
      "execution_count": 22,
      "outputs": [
        {
          "output_type": "execute_result",
          "data": {
            "text/plain": [
              "<matplotlib.axes._subplots.AxesSubplot at 0x7f36600ae3c8>"
            ]
          },
          "metadata": {
            "tags": []
          },
          "execution_count": 22
        },
        {
          "output_type": "display_data",
          "data": {
            "image/png": "[encoded data removed]",
            "text/plain": [
              "<Figure size 864x576 with 1 Axes>"
            ]
          },
          "metadata": {
            "tags": [],
            "needs_background": "light"
          }
        }
      ]
    },
    {
      "cell_type": "markdown",
      "metadata": {
        "id": "Jo2b-HLusYuu"
      },
      "source": [
        "### Text for part 2.3 (#1)\n",
        "We see that from 2010 to 2017 the popularity of our city is rising, following an exponential rate of increase up until 2015. Hereafter the increase in popularity slows down until the popularity eventually starts falling in the beginning of 2017. This means there was a peak in popularity in 2017. Whether it is local of global, we do not know."
      ]
    },
    {
      "cell_type": "markdown",
      "metadata": {
        "id": "Mtc9gGhno9sp"
      },
      "source": [
        "Compute and visualize the popularity of neighbourhoods over time. If there are many neighbourhoods in your city, you should select a few interesting ones for comparison. Can you identify any trends or differences? Summarise your findings."
      ]
    },
    {
      "cell_type": "code",
      "metadata": {
        "id": "DRlIGWLxo9sp",
        "colab": {
          "base_uri": "https://localhost:8080/"
        },
        "outputId": "29238453-35af-4cc1-ad3f-07a0bb6f39ca"
      },
      "source": [
        "# We'll choose the 5 most common neighbourhoods in our city:\n",
        "madrid_joined.groupBy('neighbourhood').agg(f.count('city')\n",
        ".alias('no_of_listings')).orderBy(f.desc('no_of_listings')).show(5)"
      ],
      "execution_count": 23,
      "outputs": [
        {
          "output_type": "stream",
          "text": [
            "+-------------+--------------+\n",
            "|neighbourhood|no_of_listings|\n",
            "+-------------+--------------+\n",
            "|       Centro|         50104|\n",
            "|  Embajadores|         10347|\n",
            "|          Sol|          7064|\n",
            "|     Justicia|          4596|\n",
            "|     Malasaña|          4000|\n",
            "+-------------+--------------+\n",
            "only showing top 5 rows\n",
            "\n"
          ],
          "name": "stdout"
        }
      ]
    },
    {
      "cell_type": "code",
      "metadata": {
        "id": "KwvbJ8XSyc4U"
      },
      "source": [
        "# Write and resample a pandas vector for each of the 5 most common neighbourhoods\n",
        "# 1\n",
        "centro = (madrid_joined.filter(f.col('neighbourhood') == 'Centro')\n",
        ".groupBy('date')\n",
        ".agg(f.count('number_of_reviews').alias('centro'))\n",
        ".orderBy('date')\n",
        ".toPandas())\n",
        "centro_s = centro.resample('M', on = 'date').sum()\n",
        "# 2\n",
        "embajadores = (madrid_joined.filter(f.col('neighbourhood') == 'Embajadores')\n",
        ".groupBy('date')\n",
        ".agg(f.count('number_of_reviews').alias('embajadores'))\n",
        ".orderBy('date')\n",
        ".toPandas())\n",
        "embajadores_s = embajadores.resample('M', on = 'date').sum()\n",
        "# 3\n",
        "sol = (madrid_joined.filter(f.col('neighbourhood') == 'Sol')\n",
        ".groupBy('date')\n",
        ".agg(f.count('number_of_reviews').alias('sol'))\n",
        ".orderBy('date')\n",
        ".toPandas())\n",
        "sol_s = sol.resample('M', on = 'date').sum()\n",
        "# 4\n",
        "justicia = (madrid_joined.filter(f.col('neighbourhood') == 'Justicia')\n",
        ".groupBy('date')\n",
        ".agg(f.count('number_of_reviews').alias('justicia'))\n",
        ".orderBy('date')\n",
        ".toPandas())\n",
        "justicia_s = justicia.resample('M', on = 'date').sum()\n",
        "# 5\n",
        "malasa = (madrid_joined.filter(f.col('neighbourhood') == 'Malasaña')\n",
        ".groupBy('date')\n",
        ".agg(f.count('number_of_reviews').alias('malasaña'))\n",
        ".orderBy('date')\n",
        ".toPandas())\n",
        "malasa_s = malasa.resample('M', on = 'date').sum()"
      ],
      "execution_count": 24,
      "outputs": []
    },
    {
      "cell_type": "code",
      "metadata": {
        "id": "-fRKsgCnyi65"
      },
      "source": [
        "# Merge everything into a DataFrame\n",
        "mg1 = pd.merge(centro_s, embajadores_s, right_index = True, left_index = True)\n",
        "mg2 = pd.merge(mg1, sol_s, right_index = True, left_index = True)\n",
        "mg3 = pd.merge(mg2, justicia_s, right_index = True, left_index = True)\n",
        "hoods = pd.merge(mg3, malasa_s, right_index = True, left_index = True)"
      ],
      "execution_count": 25,
      "outputs": []
    },
    {
      "cell_type": "code",
      "metadata": {
        "id": "76fJl9CRypfg",
        "colab": {
          "base_uri": "https://localhost:8080/",
          "height": 514
        },
        "outputId": "c0533daa-5236-4c5b-f4cd-f8e85954463f"
      },
      "source": [
        "# Make the plot\n",
        "hoods.plot(use_index=True, figsize=(12,8))"
      ],
      "execution_count": 26,
      "outputs": [
        {
          "output_type": "execute_result",
          "data": {
            "text/plain": [
              "<matplotlib.axes._subplots.AxesSubplot at 0x7f366000a3c8>"
            ]
          },
          "metadata": {
            "tags": []
          },
          "execution_count": 26
        },
        {
          "output_type": "display_data",
          "data": {
            "image/png": "[encoded data removed]",
            "text/plain": [
              "<Figure size 864x576 with 1 Axes>"
            ]
          },
          "metadata": {
            "tags": [],
            "needs_background": "light"
          }
        }
      ]
    },
    {
      "cell_type": "markdown",
      "metadata": {
        "id": "TJQ-IRhWyKGJ"
      },
      "source": [
        "### Text for part 2.3 (#2)\n",
        "Here we can see that the seasonal behaviour in each neighbourhood is similar. The popularity goes up in each at the same time, i.e. the peaks and valleys happen at similar times. Only in the most popular neighbourhood, Centro, does it follow a similar  exponential behaviour to the previous plot of the entire city's popularity over time. the 4 other most popular neighbourhoods have a much flatter curve. This makes sense, as there is generally a lot more AirBnb listings in city centers than in other areas."
      ]
    },
    {
      "cell_type": "markdown",
      "metadata": {
        "id": "o5Pe43WLo9ss"
      },
      "source": [
        "Compute and visualize the popularity of your city by season. For example, visualize the popularity of your city per month. Are there seasonal trends? Describe your findings in words."
      ]
    },
    {
      "cell_type": "code",
      "metadata": {
        "id": "wR-flmvao9ss",
        "colab": {
          "base_uri": "https://localhost:8080/",
          "height": 490
        },
        "outputId": "fb00fb76-9041-4233-99ad-6e2e3dbf7e6a"
      },
      "source": [
        "# Select a start and finish date to slice the data frame\n",
        "start = '2015-12-31'\n",
        "finish = '2018-12-31'\n",
        "start_t = pd.Timestamp(start)\n",
        "finish_t = pd.Timestamp(finish)\n",
        "r_d2 = reviews_and_date[reviews_and_date['date'] > start]\n",
        "r_d2 = r_d2[r_d2['date'] < finish]\n",
        "\n",
        "# Resample on Months ('MS' rounds on Month Start, M on Month Finish)\n",
        "r_d2_m = r_d2.resample('SM', on = 'date').sum()\n",
        "\n",
        "# Plot the thing\n",
        "r_d2_m.plot(y='count(number_of_reviews)', use_index=True, figsize=(12,8))"
      ],
      "execution_count": 27,
      "outputs": [
        {
          "output_type": "execute_result",
          "data": {
            "text/plain": [
              "<matplotlib.axes._subplots.AxesSubplot at 0x7f366055b358>"
            ]
          },
          "metadata": {
            "tags": []
          },
          "execution_count": 27
        },
        {
          "output_type": "display_data",
          "data": {
            "image/png": "[encoded data removed]",
            "text/plain": [
              "<Figure size 864x576 with 1 Axes>"
            ]
          },
          "metadata": {
            "tags": [],
            "needs_background": "light"
          }
        }
      ]
    },
    {
      "cell_type": "markdown",
      "metadata": {
        "id": "diLbXaAPz_oD"
      },
      "source": [
        "### Text for part 2.3 (#3)\n",
        "Here we see that our city has seasonal trends. Every year around May-June and October, there is a sharp spike in popularity in our city, followed by a sharp drop less than a month later. This makes sense if we compare to vacation times in Denmark for students, as we get summer vacation in early june and have a winter break in october. We assume that other countries follow a similar pattern, resulting in the above seasonal trends plot."
      ]
    },
    {
      "cell_type": "markdown",
      "metadata": {
        "id": "9bmR04EUo9sv"
      },
      "source": [
        "### 2.4. Reviews (20 pts)\n",
        "In this part you should determine which words used in reviews are the most positive. More specifically, you should assign a \"positivity score\" to each word seen in reviews and list the words with the highest score. \n",
        "\n",
        "The individual reviews do not have a rating of the listing, so we will assume that each review gave the average rating to the listing, i.e., the one on the listing.\n",
        "\n",
        "It is up to you to decide what the score should be. For example, it could be a function of the rating on the listing on which it occurs, the number of reviews it occurs in, and the number of unique listings for which it was used. \n",
        "\n",
        "Your positivity scores should be sensible. Words such as \"clean\", \"comfortable\", \"superhost\", etc., should get high scores, while words such as \"unpleasant\", \"dirty\", \"scam\" should get low scores.\n",
        "\n",
        "Depending on your choice of scoring function, you may also want to do some filtering of words. For example, remove words that only occur in a few reviews. \n",
        "\n",
        "You have to: \n",
        "\n",
        "* Define your scoring function, mathematically and in code, and describe it in words.\n",
        "* Compute scores for all words.\n",
        "* List the 10 words with highest and lowest score."
      ]
    },
    {
      "cell_type": "markdown",
      "metadata": {
        "id": "36SbI39oHsa8"
      },
      "source": [
        "### Calculation of scoring function\n",
        "For our calculation of scoring function, we first define the following variables:\n",
        "\\begin{align*}\n",
        "  r_l &:\\text{ Rating of listing }l\n",
        "  \\\\\n",
        "  p_l &:\\text{ Price of listing }l\n",
        "  \\\\\n",
        "  n_l &:\\text{ Number of reviews in listing }l\n",
        "  \\\\\n",
        "  L &:\\text{ Total number of listings}\n",
        "  \\\\\n",
        "  K_w &:\\text{ Total number of times word $w$ shows up}\n",
        "  \\\\\n",
        "  \\tau &: \\text{ Threshold value for good and bad reviews}\n",
        "  \\\\\n",
        "  \\mu &:\\text{ The average number of reviews per listing, calculated as } \\mu = \\frac{\\sum_{l=1}^L n_l}{L}\n",
        "  \\\\\n",
        "  v_{lw} &:\\text{ The value of word $w$ in listing $l$, calculated as } v_{lw} = \\frac{r_l-\\tau}{p_l^{\\text{sign}(r_l-\\tau)}}\\left(1+0.3\\cdot\\frac{n_l}{\\mu}\\right)\n",
        "\\end{align*}\n",
        "$\\tau$ is to be interpreted as a threshold value between what we consider to be \"positive\" and \"negative\" ratings of a listing. If a rating is above the threshold, it is considered good, if it is below, it is considered bad. If it is equal to the threshold, it is neutral. $v_{lw}$ is chosen in such a way that it gives the best results we could achieve. Now we can calculate the positivity score for word $w$ as the following:\n",
        "$$pos\\_score_w = \\sum_{l=1}^{K_w} v_{lw}$$\n",
        "This is the sum of all the values where word $w$ in listing $l$ shows up."
      ]
    },
    {
      "cell_type": "code",
      "metadata": {
        "colab": {
          "base_uri": "https://localhost:8080/"
        },
        "id": "BrOevt0is0ek",
        "outputId": "c9bab3a7-5817-49fb-c891-c56ebf392073"
      },
      "source": [
        "# Define the listings and reviews dataframes as dfl_f and dfr_f, where dropna has been used\n",
        "dfl_f = filter_list\n",
        "dfr_f = filter_reviews\n",
        "# Rename the id column so we don't get both id columns after joining\n",
        "dfl_f = dfl_f.withColumnRenamed('id', 'id_listings')\n",
        "\n",
        "# Select columns relevant for our calculation\n",
        "dfl_f = dfl_f.select('id_listings', 'city','price', 'review_scores_rating', 'number_of_reviews')\n",
        "dfr_f = dfr_f.select('listing_id', 'comments')\n",
        "\n",
        "# Perform the join and cache the resulting DataFrame\n",
        "rev_joined = dfl_f.join(dfr_f, dfl_f.id_listings == dfr_f.listing_id, 'leftouter')\n",
        "rev_joined.cache()\n",
        "rev_joined.show()\n"
      ],
      "execution_count": 207,
      "outputs": [
        {
          "output_type": "stream",
          "text": [
            "+-----------+---------+------+--------------------+-----------------+----------+--------------------+\n",
            "|id_listings|     city| price|review_scores_rating|number_of_reviews|listing_id|            comments|\n",
            "+-----------+---------+------+--------------------+-----------------+----------+--------------------+\n",
            "|   10023519|Singapore|$22.00|                  84|               26|  10023519|I really enjoyed ...|\n",
            "|   10023519|Singapore|$22.00|                  84|               26|  10023519|Hosts really kind...|\n",
            "|   10023519|Singapore|$22.00|                  84|               26|  10023519|I am staying at B...|\n",
            "|   10023519|Singapore|$22.00|                  84|               26|  10023519|I arrived in the ...|\n",
            "|   10023519|Singapore|$22.00|                  84|               26|  10023519|Warmth welcome an...|\n",
            "|   10023519|Singapore|$22.00|                  84|               26|  10023519|          安靜而舒適|\n",
            "|   10023519|Singapore|$22.00|                  84|               26|  10023519|It was comfortabl...|\n",
            "|   10023519|Singapore|$22.00|                  84|               26|  10023519|The host was nice...|\n",
            "|   10023519|Singapore|$22.00|                  84|               26|  10023519|Host was very acc...|\n",
            "|   10023519|Singapore|$22.00|                  84|               26|  10023519|Had a good stay a...|\n",
            "|   10023519|Singapore|$22.00|                  84|               26|  10023519|Everything is goo...|\n",
            "|   10023519|Singapore|$22.00|                  84|               26|  10023519|Clean, cozy, very...|\n",
            "|   10023519|Singapore|$22.00|                  84|               26|  10023519|    Good experience.|\n",
            "|   10023519|Singapore|$22.00|                  84|               26|  10023519|Great place to st...|\n",
            "|   10023519|Singapore|$22.00|                  84|               26|  10023519| \n",
            "My experience a...|\n",
            "|   10023519|Singapore|$22.00|                  84|               26|  10023519|Great Hostel! Hig...|\n",
            "|   10023519|Singapore|$22.00|                  84|               26|  10023519|The location is v...|\n",
            "|   10023519|Singapore|$22.00|                  84|               26|  10023519|So far is good. \n",
            "...|\n",
            "|   10023519|Singapore|$22.00|                  84|               26|  10023519|I loved. It has a...|\n",
            "|   10023519|Singapore|$22.00|                  84|               26|  10023519|It was for my dad...|\n",
            "+-----------+---------+------+--------------------+-----------------+----------+--------------------+\n",
            "only showing top 20 rows\n",
            "\n"
          ],
          "name": "stdout"
        }
      ]
    },
    {
      "cell_type": "code",
      "metadata": {
        "colab": {
          "base_uri": "https://localhost:8080/"
        },
        "id": "2MPykG8WxrZe",
        "outputId": "3f03e534-fb18-41c7-8021-dba84e1afec0"
      },
      "source": [
        "import pyspark.sql.functions as f\n",
        "# Removes punctuation from the comments\n",
        "rev_joined = rev_joined.withColumn('comments',f.regexp_replace(f.col('comments'),r'[,\\.?!-\\(\\)]',''))\n",
        "rev_joined.show()"
      ],
      "execution_count": 209,
      "outputs": [
        {
          "output_type": "stream",
          "text": [
            "+-----------+---------+------+--------------------+-----------------+----------+--------------------+\n",
            "|id_listings|     city| price|review_scores_rating|number_of_reviews|listing_id|            comments|\n",
            "+-----------+---------+------+--------------------+-----------------+----------+--------------------+\n",
            "|   10023519|Singapore|$22.00|                  84|               26|  10023519|I really enjoyed ...|\n",
            "|   10023519|Singapore|$22.00|                  84|               26|  10023519|Hosts really kind...|\n",
            "|   10023519|Singapore|$22.00|                  84|               26|  10023519|I am staying at B...|\n",
            "|   10023519|Singapore|$22.00|                  84|               26|  10023519|I arrived in the ...|\n",
            "|   10023519|Singapore|$22.00|                  84|               26|  10023519|Warmth welcome an...|\n",
            "|   10023519|Singapore|$22.00|                  84|               26|  10023519|          安靜而舒適|\n",
            "|   10023519|Singapore|$22.00|                  84|               26|  10023519|It was comfortabl...|\n",
            "|   10023519|Singapore|$22.00|                  84|               26|  10023519|The host was nice...|\n",
            "|   10023519|Singapore|$22.00|                  84|               26|  10023519|Host was very acc...|\n",
            "|   10023519|Singapore|$22.00|                  84|               26|  10023519|Had a good stay a...|\n",
            "|   10023519|Singapore|$22.00|                  84|               26|  10023519|Everything is goo...|\n",
            "|   10023519|Singapore|$22.00|                  84|               26|  10023519|Clean cozy very f...|\n",
            "|   10023519|Singapore|$22.00|                  84|               26|  10023519|     Good experience|\n",
            "|   10023519|Singapore|$22.00|                  84|               26|  10023519|Great place to st...|\n",
            "|   10023519|Singapore|$22.00|                  84|               26|  10023519| \n",
            "My experience a...|\n",
            "|   10023519|Singapore|$22.00|                  84|               26|  10023519|Great Hostel High...|\n",
            "|   10023519|Singapore|$22.00|                  84|               26|  10023519|The location is v...|\n",
            "|   10023519|Singapore|$22.00|                  84|               26|  10023519|So far is good \n",
            "G...|\n",
            "|   10023519|Singapore|$22.00|                  84|               26|  10023519|I loved It has a ...|\n",
            "|   10023519|Singapore|$22.00|                  84|               26|  10023519|It was for my dad...|\n",
            "+-----------+---------+------+--------------------+-----------------+----------+--------------------+\n",
            "only showing top 20 rows\n",
            "\n"
          ],
          "name": "stdout"
        }
      ]
    },
    {
      "cell_type": "code",
      "metadata": {
        "id": "u21KeW7DtH_l"
      },
      "source": [
        "from pyspark.ml.feature import Tokenizer, StopWordsRemover\n",
        "\n",
        "# We separate into individual words using tokenizer\n",
        "tokenizer = Tokenizer(inputCol='comments', outputCol ='tokens')\n",
        "rev_tokens = tokenizer.transform(rev_joined)\n",
        "\n",
        "# nltk.download()\n",
        "import nltk\n",
        "\n",
        "from nltk.corpus import stopwords \n",
        "\n",
        "# We used NLTK to get a list of stopwords in different languages.\n",
        "# We then remove every stopword in english, spanish, italian, french and german.\n",
        "# We also remove some popular city names.\n",
        "\n",
        "stop_words_eng = stopwords.words('english')\n",
        "stop_words_esp = stopwords.words('spanish')\n",
        "stop_words_ita = stopwords.words('italian')\n",
        "stop_words_fr = stopwords.words('french')\n",
        "stop_words_ger = stopwords.words('german')\n",
        "cities = ['lisbon','portland','athens','edinburgh','vienna','seattle','amsterdam']\n",
        "stop_words = stop_words_eng + stop_words_esp + stop_words_ita + stop_words_fr + stop_words_ger + cities\n",
        "\n",
        "remover = StopWordsRemover(stopWords = stop_words)\n",
        "remover.setInputCol(\"tokens\")\n",
        "remover.setOutputCol(\"tokens_f\")\n",
        "rev_f = remover.transform(rev_tokens)"
      ],
      "execution_count": 266,
      "outputs": []
    },
    {
      "cell_type": "code",
      "metadata": {
        "colab": {
          "base_uri": "https://localhost:8080/"
        },
        "id": "VgpQBDzqtMp1",
        "outputId": "7b71df25-1818-4330-9343-ae45ae5da99a"
      },
      "source": [
        "# We compute the average number of reviews per listing. This is used in our scoring function\n",
        "rev_f.select(f.avg(rev_f.number_of_reviews)).show()\n",
        "mu_reviews = 175.7418711629521"
      ],
      "execution_count": 193,
      "outputs": [
        {
          "output_type": "stream",
          "text": [
            "+----------------------+\n",
            "|avg(number_of_reviews)|\n",
            "+----------------------+\n",
            "|     175.7418711629521|\n",
            "+----------------------+\n",
            "\n"
          ],
          "name": "stdout"
        }
      ]
    },
    {
      "cell_type": "code",
      "metadata": {
        "id": "-4klvur20n9D"
      },
      "source": [
        "# First we remove the dollar sign from the price column\n",
        "rev_f1 = rev_f.withColumn('price',f.regexp_replace(f.col('price'),r'\\$',''))\n",
        "# Next we cast the price column values to floats\n",
        "rev_f1 = rev_f1.withColumn('price', rev_f1['price'].cast(FloatType()))\n",
        "# We filter out null values from the price column\n",
        "rev_f1 = rev_f1.filter(rev_f1.price.isNotNull())\n",
        "# We filter out null values from the review_scores_rating column\n",
        "rev_f1 = rev_f1.filter(rev_f1.review_scores_rating.isNotNull())\n",
        "# We filter out null values from the number_of_reviews column\n",
        "rev_f1 = rev_f1.filter(rev_f1.number_of_reviews.isNotNull())"
      ],
      "execution_count": 286,
      "outputs": []
    },
    {
      "cell_type": "code",
      "metadata": {
        "colab": {
          "base_uri": "https://localhost:8080/"
        },
        "id": "ean2h9KztXky",
        "outputId": "31157571-4d4b-4439-e5d6-b6efe711ade0"
      },
      "source": [
        "from pyspark.sql.types import IntegerType\n",
        "\n",
        "# We calculate the value v_{lw} for each word in each listing, given our choice of parameters\n",
        "tau = 70\n",
        "rev_f1 = rev_f1.withColumn('signpg',f.col('review_scores_rating')>tau)\n",
        "rev_f1 = rev_f1.withColumn('signpl',f.col('review_scores_rating')<tau)\n",
        "rev_f1 = rev_f1.withColumn('signpg', rev_f1['signpg'].cast(IntegerType()))\n",
        "rev_f1 = rev_f1.withColumn('signpl', rev_f1['signpl'].cast(IntegerType()))\n",
        "rev_f2 = rev_f1.withColumn('token_values', (f.col('review_scores_rating')-tau)/(f.col('price')**(f.col('signpg')-f.col('signpl')))*(1+0.3*f.col('number_of_reviews')/mu_reviews))\n",
        "# We show the values. We have to take the average to show the value for each listing\n",
        "rev_f2.groupBy('id_listings').agg(f.avg('token_values')).show()"
      ],
      "execution_count": 283,
      "outputs": [
        {
          "output_type": "stream",
          "text": [
            "+-----------+--------------------+\n",
            "|id_listings|   avg(token_values)|\n",
            "+-----------+--------------------+\n",
            "|   10023519|   0.664607539372009|\n",
            "|   10068318|  0.2229809107035216|\n",
            "|    1014157| 0.23738591091086697|\n",
            "|   10281765| 0.07240765864515207|\n",
            "|   10414692|   1.048876655231203|\n",
            "|   10511181|  0.4342487612745036|\n",
            "|   10611732| -1502.5605736243854|\n",
            "|    1068023|  0.9774845298067761|\n",
            "|    1073546|0.051901919641602255|\n",
            "|    1083031|  0.2554118791382208|\n",
            "|   10933211|  0.5154467421788568|\n",
            "|   11098248|  0.1589577911982989|\n",
            "|    1119311| 0.37299613533966186|\n",
            "|    1161417|  0.3731595434314985|\n",
            "|   11716539|   0.520977210229873|\n",
            "|    1175357|  0.3445539810643074|\n",
            "|    1210795|  0.3302330931042605|\n",
            "|   12337420|  1.4149688054335556|\n",
            "|    1279805| 0.25457373081890233|\n",
            "|   13430091| 0.20341409816584727|\n",
            "+-----------+--------------------+\n",
            "only showing top 20 rows\n",
            "\n"
          ],
          "name": "stdout"
        }
      ]
    },
    {
      "cell_type": "code",
      "metadata": {
        "id": "VuUjtciW2j5Y"
      },
      "source": [
        "# We explode the tokens_f column getting a new row for each word\n",
        "rev_f3 = rev_f2.withColumn('words',f.explode('tokens_f'))\n",
        "# We filter out spaces that have been read as tokens\n",
        "rev_f3 = rev_f3.filter(~(f.col('words') == ''))\n",
        "\n",
        "# We calculate the positivity score of all words, based on our formula\n",
        "rev_f4 = rev_f3.groupBy('words').agg(f.sum('token_values').alias('positivity score'))"
      ],
      "execution_count": 284,
      "outputs": []
    },
    {
      "cell_type": "code",
      "metadata": {
        "colab": {
          "base_uri": "https://localhost:8080/"
        },
        "id": "T4K4BpPDZsWx",
        "outputId": "83af8623-1f81-40c3-ca7a-654d37a04ff6"
      },
      "source": [
        "# We show the top 10 \"most positive\" words and the top 10 \"most negative\" words\n",
        "rev_f4.orderBy(f.desc('positivity score')).show(10)\n",
        "rev_f4.orderBy(f.asc('positivity score')).show(10)"
      ],
      "execution_count": 285,
      "outputs": [
        {
          "output_type": "stream",
          "text": [
            "+-----------+------------------+\n",
            "|      words|  positivity score|\n",
            "+-----------+------------------+\n",
            "|      great| 363679.1841307215|\n",
            "|    perfect| 161581.6596939511|\n",
            "|comfortable|135988.84163093654|\n",
            "| everything|130152.09502793687|\n",
            "|  recommend|122347.23888012991|\n",
            "|       easy|109303.21609577164|\n",
            "|  wonderful|105341.53441195177|\n",
            "|     highly| 92177.47512179878|\n",
            "|     lovely| 84836.30213804678|\n",
            "| definitely| 81766.94621577195|\n",
            "+-----------+------------------+\n",
            "only showing top 10 rows\n",
            "\n",
            "+-----------+-------------------+\n",
            "|      words|   positivity score|\n",
            "+-----------+-------------------+\n",
            "|     airbnb|-472214.00720175786|\n",
            "|       host| -430754.8371579672|\n",
            "|    arrival|-394111.18128854537|\n",
            "|  apartment|-374799.64265452465|\n",
            "|   canceled| -360893.4101820328|\n",
            "|reservation|  -360257.088791153|\n",
            "|  automated| -352911.7407889222|\n",
            "|    posting|-352546.62742075615|\n",
            "|       days| -323447.6964188666|\n",
            "|       agua|-322557.72586502857|\n",
            "+-----------+-------------------+\n",
            "only showing top 10 rows\n",
            "\n"
          ],
          "name": "stdout"
        }
      ]
    },
    {
      "cell_type": "markdown",
      "metadata": {
        "id": "4GVQlU4qd7w6"
      },
      "source": [
        "### Explanation of the words found\n",
        "We can see that with our choice of function and parameters, in the top 10 most positive scores, we are getting words that make a lot of sense. Generally all the words are very positive. For example, we are getting words like \"wonderful\", \"perfect\" and \"lovely\" in the top 10. This is very good :)\n",
        "\n",
        "On the other hand, in the bottom 10, we are getting words that either are negative, or could be negative. For example, we get \"cancelled\", which is obviously negative. We also get \"reservation\", which could be used negatively, e.g. with \"cancelled\". This has to do with our function choice, as we take into account the number of times a word shows up, alongside the fact that we are taking the sum of the values, and not the average. This gave us the best results we could achieve, but it is possible there was a better way. Another point is that we found the average rating to be ~$\\frac{94}{100}$, which is quite high. This could mean that there are many more positive words than negative words generally speaking, which effects our output, again due to our choice of function.\n",
        "\n",
        "All in all we are satisfied with these results.\n"
      ]
    },
    {
      "cell_type": "markdown",
      "metadata": {
        "id": "fcvYlp_GLr4N"
      },
      "source": [
        "# Exercise 2: sales & profit analysis (52.5 points)\n"
      ]
    },
    {
      "cell_type": "markdown",
      "metadata": {
        "id": "tq-TDuNeL5dA"
      },
      "source": [
        "## Introduction"
      ]
    },
    {
      "cell_type": "markdown",
      "metadata": {
        "id": "wwLFS0wQ2C4b"
      },
      "source": [
        "\n",
        "<img src=\"https://www.lifeandstylemag.com/wp-content/uploads/2018/01/kevin-malone-the-office.jpg?resize=630%2C354\" alt=\"kevin\" width=\"600\"/> \n",
        "\n",
        "*Kevin from accounting*\n",
        "\n",
        "\n",
        "\n",
        "Your team has been hired by the company X as data scientists. X makes gadgets for a wide range of industrial and commercial clients.\n",
        "\n",
        "As in-house data scientists, your teams first task, as per request from your new boss, is to optimize business operations. You have decided that a good first step would be to analyze the company's historical sales data to gain a better understanding of where profit is coming from. It may also reveal some low hanging fruit in terms of business opportunities.\n",
        "\n",
        "To get started, you have called the IT department to get access to the customer and sales transactions database. To your horror you've been told that such a database doesn't exist, and the only record of sales transactions is kept by Kevin from accounting in an Excel spreadsheet. So you've emailed Kevin asking for a CSV dump of the spreadsheet...\n",
        "\n",
        "In this project you need to clean the data you got from Kevin, enrich it with further data, prepare a database for the data, and do some data analysis. The project is comprised of five parts. They are intended to be solved in the order they appear, but it is highly recommended that you read through all of them and devise an overall strategy before you start implementing anything.\n"
      ]
    },
    {
      "cell_type": "markdown",
      "metadata": {
        "id": "gca5E_B22C4c"
      },
      "source": [
        "## Part 1: Cleaning the data (10 pts)\n",
        "Kevin has emailed you the following link to the CSV dump you requested.\n",
        "\n",
        "- [transactions.csv](http://courses.compute.dtu.dk/02807/2020/projects/project2/transactions.csv)\n",
        "\n",
        "It seems as though he has been a bit sloppy when keeping the records. \n",
        "\n",
        "In this part you should:\n",
        "1. Explain what the data is about\n",
        "2. Inspect and clean it to prepare it for analysis. Describe the problems you found in the data, and how you addressed them."
      ]
    },
    {
      "cell_type": "code",
      "metadata": {
        "id": "rRZJsbiJNx7Q"
      },
      "source": [
        "transactions = (spark.read.option('multiLine', True)\n",
        "                      .option('inferSchema', True)\n",
        "                      .option('header', True)\n",
        "                      .csv(\"/content/transactions.csv\"))"
      ],
      "execution_count": 86,
      "outputs": []
    },
    {
      "cell_type": "markdown",
      "metadata": {
        "id": "souVbeX2RT5A"
      },
      "source": [
        "###Text for part 1\n",
        "\n",
        "1. The data is about selling parts to different companies in different countries and cities around the world. It is noted which part is being sold (by its part ID), as well as the exact city and country, the price paid and time/date of the purchase.\n",
        "\n",
        "2. First we drop all nulls etc.\n",
        "Some of the prices are negative. We choose to remove rows with a negative value. Some of the prices are given with no currency, these are also removed. Since prices are given in 4 different currencies, we create a new column with the price converted to EUR. Besides this, there are several instances of misspellings in the company names. For example, there is an entry for \"Tyskland\" instead of \"Germany\", and some values in the price column that are weird. Some of the dates are also not in the right format, since we don't know whether the dates are the 4th of October or 10th of April. We delete these rows. There are other small problems here and there. Each action is commented in the big cleaning block further down."
      ]
    },
    {
      "cell_type": "code",
      "metadata": {
        "id": "Ap55-jiBbv0N"
      },
      "source": [
        "# First we drop all null values.\n",
        "transactions = transactions.dropna()"
      ],
      "execution_count": 87,
      "outputs": []
    },
    {
      "cell_type": "code",
      "metadata": {
        "id": "K_RnI3eovtoT"
      },
      "source": [
        "# Here we drop all rows with a dash. Some of them are \"empty\" rows containing only a dash, some are negative prices.\n",
        "transactions1 = transactions.filter(~(transactions.price.contains(\"-\")))\n",
        "# Some rows contain only the str \"void\", without it actually being a void value, so we drop these as well.\n",
        "transactions1 = transactions1.filter(~(transactions1.price.contains(\"void\")))\n",
        "# And finally some contain the str \"na\", again without actually being a na value.\n",
        "transactions1 = transactions1.filter(~(transactions1.price.contains(\"na\")))"
      ],
      "execution_count": 89,
      "outputs": []
    },
    {
      "cell_type": "code",
      "metadata": {
        "id": "VSBs-iHunkoN"
      },
      "source": [
        "# We create our own function to fill up a column with the original currency.\n",
        "def currcheck(x):\n",
        "  cur = ''\n",
        "  if '$' in x:\n",
        "    cur = 'USD'\n",
        "  if '£' in x:\n",
        "    cur = 'GBP'\n",
        "  if '€' in x:\n",
        "    cur = 'EUR'\n",
        "  if '¥' in x:\n",
        "    cur = 'JPY'\n",
        "  return cur\n",
        "\n",
        "cc = f.udf(currcheck)\n",
        "dirtytrans = transactions1.withColumn('currency', cc('price'))"
      ],
      "execution_count": 91,
      "outputs": []
    },
    {
      "cell_type": "code",
      "metadata": {
        "colab": {
          "base_uri": "https://localhost:8080/"
        },
        "id": "zaeQ1YiADUIO",
        "outputId": "558186af-5e36-49b5-be5c-d8f32a65f214"
      },
      "source": [
        "# These 3 entries are floats from the very start. We will remove them in the\n",
        "# next code block as part of cleaning\n",
        "dirtytrans.filter(dirtytrans.currency == \"\").show()"
      ],
      "execution_count": 92,
      "outputs": [
        {
          "output_type": "stream",
          "text": [
            "+----------+---------+-------+----------+-------+-------------------+--------+\n",
            "|      part|  company|country|      city|  price|               date|currency|\n",
            "+----------+---------+-------+----------+-------+-------------------+--------+\n",
            "|61398-0828|    Voomm| France|     Paris|  465.6|2016-04-15 06:51:38|        |\n",
            "|36987-1697|Flipstorm| Greece|    Athens|1266.68|2016-04-15 08:27:18|        |\n",
            "| 0603-6134| Buzzbean|Germany|Düsseldorf|  829.3|2016-04-21 02:54:36|        |\n",
            "+----------+---------+-------+----------+-------+-------------------+--------+\n",
            "\n"
          ],
          "name": "stdout"
        }
      ]
    },
    {
      "cell_type": "code",
      "metadata": {
        "id": "-tRTMP5sSi-C"
      },
      "source": [
        "from pyspark.sql.functions import udf\n",
        "# We remove the characters from the price column\n",
        "dollarReplace = udf(lambda x: x.replace('$',''))\n",
        "euroReplace = udf(lambda x: x.replace('€',''))\n",
        "gbpReplace = udf(lambda x: x.replace('£',''))\n",
        "yenReplace = udf(lambda x: x.replace('¥',''))\n",
        "\n",
        "\n",
        "cleantrans = dirtytrans.withColumn('price',dollarReplace('price'))\n",
        "cleantrans = cleantrans.withColumn('price',euroReplace('price'))\n",
        "cleantrans = cleantrans.withColumn('price',gbpReplace('price'))\n",
        "cleantrans = cleantrans.withColumn('price',yenReplace('price'))\n",
        "\n",
        "# We convert the whole column to type Double\n",
        "doubletrans = cleantrans.withColumn(\"price\", cleantrans[\"price\"].cast(DoubleType()))"
      ],
      "execution_count": 93,
      "outputs": []
    },
    {
      "cell_type": "code",
      "metadata": {
        "id": "88U1nlxix7yv"
      },
      "source": [
        "# We double-checked if the aforementioned values were unique, and since they are, we can just remove them explicitly.\n",
        "doubletrans = doubletrans.filter(~(doubletrans.price == 465.6)).filter(~(doubletrans.price == 1266.68)).filter(~(doubletrans.price == 829.3))\n",
        "# There are 3 companies, a, aa and -, we remove entries with these\n",
        "doubletrans = doubletrans.filter(~(doubletrans.company == \" a\"))\n",
        "doubletrans = doubletrans.filter(~(doubletrans.company == \"aa\"))\n",
        "doubletrans = doubletrans.filter(~(doubletrans.company == \" -\"))\n",
        "# There are 4 companies that are misspelled (Laj0 and Lajo, Zooxo. and Zooxo, Ntagz and Ntags, Thoughtmixz and Thoughtmix)\n",
        "lajReplace = udf(lambda x: x.replace('Laj0','Lajo'))\n",
        "doubletrans = doubletrans.withColumn('company',lajReplace('company'))\n",
        "zooxReplace = udf(lambda x: x.replace('Zooxo.','Zooxo'))\n",
        "doubletrans = doubletrans.withColumn('company',zooxReplace('company'))\n",
        "ntagReplace = udf(lambda x: x.replace('Ntagz','Ntags'))\n",
        "doubletrans = doubletrans.withColumn('company',ntagReplace('company'))\n",
        "thoughtReplace = udf(lambda x: x.replace('Thoughtmixz','Thoughtmix'))\n",
        "doubletrans = doubletrans.withColumn('company',thoughtReplace('company'))\n",
        "# There is an entry for the country Tyskland, we convert this to Germany\n",
        "DeReplace = udf(lambda x: x.replace('Tyskland','Germany'))\n",
        "doubletrans = doubletrans.withColumn('country',DeReplace('country'))\n",
        "\n",
        "# A few entries of Portugal has no l at the end.\n",
        "PtReplace = udf(lambda x: x.replace('Portugal','Portuga'))\n",
        "doubletrans = doubletrans.withColumn('country',PtReplace('country'))\n",
        "PtReplace2 = udf(lambda x: x.replace('Portuga','Portugal'))\n",
        "doubletrans = doubletrans.withColumn('country',PtReplace2('country'))\n",
        "# There is a single entry of US instead of United States\n",
        "USReplace = udf(lambda x: x.replace('US','United States'))\n",
        "doubletrans = doubletrans.withColumn('country',USReplace('country'))\n",
        "# Remove the data with wrong date format\n",
        "doubletrans = doubletrans.filter(~(doubletrans.date == \"10/04/2017\"))\n",
        "# We also remove the space in \"Amadora\", such that the columns do not skew.\n",
        "amaReplace = udf(lambda x: x.replace('Amadora\t','Amadora'))\n",
        "doubletrans = doubletrans.withColumn('city',amaReplace('city'))\n",
        "# There are just a few entries in 2019. We remove these as the data should end by the end of 2018.\n",
        "doubletrans = doubletrans.filter(~(doubletrans.date.contains('2019')))"
      ],
      "execution_count": 94,
      "outputs": []
    },
    {
      "cell_type": "code",
      "metadata": {
        "id": "pg4jrRJs8tPp",
        "colab": {
          "base_uri": "https://localhost:8080/"
        },
        "outputId": "5629e5ed-cf86-4585-ec6c-c184ade1fd05"
      },
      "source": [
        "!pip install currencyconverter"
      ],
      "execution_count": 95,
      "outputs": [
        {
          "output_type": "stream",
          "text": [
            "Collecting currencyconverter\n",
            "\u001b[?25l  Downloading https://files.pythonhosted.org/packages/f2/ec/b958817bba9a01bc3f286ffdf1501b3b98a44a11d368fa1e93eadbb87f20/CurrencyConverter-0.14.4.tar.gz (512kB)\n",
            "\r\u001b[K     |▋                               | 10kB 14.6MB/s eta 0:00:01\r\u001b[K     |█▎                              | 20kB 20.3MB/s eta 0:00:01\r\u001b[K     |██                              | 30kB 21.4MB/s eta 0:00:01\r\u001b[K     |██▋                             | 40kB 12.5MB/s eta 0:00:01\r\u001b[K     |███▏                            | 51kB 7.8MB/s eta 0:00:01\r\u001b[K     |███▉                            | 61kB 7.2MB/s eta 0:00:01\r\u001b[K     |████▌                           | 71kB 7.4MB/s eta 0:00:01\r\u001b[K     |█████▏                          | 81kB 8.2MB/s eta 0:00:01\r\u001b[K     |█████▊                          | 92kB 7.7MB/s eta 0:00:01\r\u001b[K     |██████▍                         | 102kB 7.9MB/s eta 0:00:01\r\u001b[K     |███████                         | 112kB 7.9MB/s eta 0:00:01\r\u001b[K     |███████▊                        | 122kB 7.9MB/s eta 0:00:01\r\u001b[K     |████████▎                       | 133kB 7.9MB/s eta 0:00:01\r\u001b[K     |█████████                       | 143kB 7.9MB/s eta 0:00:01\r\u001b[K     |█████████▋                      | 153kB 7.9MB/s eta 0:00:01\r\u001b[K     |██████████▎                     | 163kB 7.9MB/s eta 0:00:01\r\u001b[K     |██████████▉                     | 174kB 7.9MB/s eta 0:00:01\r\u001b[K     |███████████▌                    | 184kB 7.9MB/s eta 0:00:01\r\u001b[K     |████████████▏                   | 194kB 7.9MB/s eta 0:00:01\r\u001b[K     |████████████▉                   | 204kB 7.9MB/s eta 0:00:01\r\u001b[K     |█████████████▍                  | 215kB 7.9MB/s eta 0:00:01\r\u001b[K     |██████████████                  | 225kB 7.9MB/s eta 0:00:01\r\u001b[K     |██████████████▊                 | 235kB 7.9MB/s eta 0:00:01\r\u001b[K     |███████████████▍                | 245kB 7.9MB/s eta 0:00:01\r\u001b[K     |████████████████                | 256kB 7.9MB/s eta 0:00:01\r\u001b[K     |████████████████▋               | 266kB 7.9MB/s eta 0:00:01\r\u001b[K     |█████████████████▎              | 276kB 7.9MB/s eta 0:00:01\r\u001b[K     |██████████████████              | 286kB 7.9MB/s eta 0:00:01\r\u001b[K     |██████████████████▌             | 296kB 7.9MB/s eta 0:00:01\r\u001b[K     |███████████████████▏            | 307kB 7.9MB/s eta 0:00:01\r\u001b[K     |███████████████████▉            | 317kB 7.9MB/s eta 0:00:01\r\u001b[K     |████████████████████▌           | 327kB 7.9MB/s eta 0:00:01\r\u001b[K     |█████████████████████           | 337kB 7.9MB/s eta 0:00:01\r\u001b[K     |█████████████████████▊          | 348kB 7.9MB/s eta 0:00:01\r\u001b[K     |██████████████████████▍         | 358kB 7.9MB/s eta 0:00:01\r\u001b[K     |███████████████████████         | 368kB 7.9MB/s eta 0:00:01\r\u001b[K     |███████████████████████▋        | 378kB 7.9MB/s eta 0:00:01\r\u001b[K     |████████████████████████▎       | 389kB 7.9MB/s eta 0:00:01\r\u001b[K     |█████████████████████████       | 399kB 7.9MB/s eta 0:00:01\r\u001b[K     |█████████████████████████▋      | 409kB 7.9MB/s eta 0:00:01\r\u001b[K     |██████████████████████████▏     | 419kB 7.9MB/s eta 0:00:01\r\u001b[K     |██████████████████████████▉     | 430kB 7.9MB/s eta 0:00:01\r\u001b[K     |███████████████████████████▌    | 440kB 7.9MB/s eta 0:00:01\r\u001b[K     |████████████████████████████▏   | 450kB 7.9MB/s eta 0:00:01\r\u001b[K     |████████████████████████████▊   | 460kB 7.9MB/s eta 0:00:01\r\u001b[K     |█████████████████████████████▍  | 471kB 7.9MB/s eta 0:00:01\r\u001b[K     |██████████████████████████████  | 481kB 7.9MB/s eta 0:00:01\r\u001b[K     |██████████████████████████████▊ | 491kB 7.9MB/s eta 0:00:01\r\u001b[K     |███████████████████████████████▎| 501kB 7.9MB/s eta 0:00:01\r\u001b[K     |████████████████████████████████| 512kB 7.9MB/s eta 0:00:01\r\u001b[K     |████████████████████████████████| 522kB 7.9MB/s \n",
            "\u001b[?25hBuilding wheels for collected packages: currencyconverter\n",
            "  Building wheel for currencyconverter (setup.py) ... \u001b[?25l\u001b[?25hdone\n",
            "  Created wheel for currencyconverter: filename=CurrencyConverter-0.14.4-cp36-none-any.whl size=514210 sha256=3326a5c705cce5b30891833ac29eb73b6e45eff6c6585f4dbdabdcc8233976c0\n",
            "  Stored in directory: /root/.cache/pip/wheels/49/d3/77/bf96356a8f75ce70320a6bcb5c751ac65210c1c1647393ebcd\n",
            "Successfully built currencyconverter\n",
            "Installing collected packages: currencyconverter\n",
            "Successfully installed currencyconverter-0.14.4\n"
          ],
          "name": "stdout"
        }
      ]
    },
    {
      "cell_type": "code",
      "metadata": {
        "id": "F9B-KLWpSIfw"
      },
      "source": [
        "# We use the currency converter function to convert from the currency in our column \"currency\"\n",
        "# to EUR.\n",
        "from currency_converter import CurrencyConverter\n",
        "c = CurrencyConverter()\n",
        "convert_curr = f.udf(lambda x,y : c.convert(x, y, 'EUR'), FloatType())\n",
        "convert_df = doubletrans.withColumn('price_in_EUR', convert_curr('price', 'currency'))"
      ],
      "execution_count": 96,
      "outputs": []
    },
    {
      "cell_type": "code",
      "metadata": {
        "colab": {
          "base_uri": "https://localhost:8080/"
        },
        "id": "rNNtAKjD2zR9",
        "outputId": "ce7fb9f5-87e6-441f-9f80-bbec0d2e2348"
      },
      "source": [
        "convert_df.show()"
      ],
      "execution_count": 97,
      "outputs": [
        {
          "output_type": "stream",
          "text": [
            "+----------+-------------+--------------+------------+-------+-------------------+--------+------------+\n",
            "|      part|      company|       country|        city|  price|               date|currency|price_in_EUR|\n",
            "+----------+-------------+--------------+------------+-------+-------------------+--------+------------+\n",
            "|54868-5165|Chatterbridge|         Spain|   Barcelona| 784.79|2016-01-02 00:01:05|     EUR|      784.79|\n",
            "|60505-2867|         Lajo|        Greece|Thessaloniki| 187.99|2016-01-02 00:05:26|     EUR|      187.99|\n",
            "| 24385-268|    Flipstorm|        Greece|      Athens| 221.73|2016-01-02 00:18:30|     EUR|      221.73|\n",
            "| 76117-001|  Twitterbeat|        France|      Annecy|1075.82|2016-01-02 02:32:30|     EUR|     1075.82|\n",
            "|44946-1046|Chatterbridge|         Spain|   Barcelona| 412.55|2016-01-02 04:51:55|     EUR|      412.55|\n",
            "| 16729-167|Chatterbridge|         Spain|   Barcelona| 359.52|2016-01-02 07:20:59|     EUR|      359.52|\n",
            "| 52125-444|        Voomm|        France|       Paris| 266.62|2016-01-02 07:40:37|     EUR|      266.62|\n",
            "| 43419-018|     Buzzbean|       Germany|  Düsseldorf| 103.45|2016-01-02 08:57:57|     EUR|      103.45|\n",
            "| 54092-515|        Zooxo|United Kingdom|      London| 704.94|2016-01-02 09:09:01|     GBP|   782.80566|\n",
            "|24286-1562|         Lajo|        Greece|Thessaloniki| 317.65|2016-01-02 11:01:32|     EUR|      317.65|\n",
            "| 49035-530|    Flipstorm|        Greece|      Athens| 841.97|2016-01-02 12:51:30|     EUR|      841.97|\n",
            "|36987-1697|  Brainsphere|      Portugal|       Braga| 830.75|2016-01-02 13:16:45|     EUR|      830.75|\n",
            "|44946-1046|    Flipstorm|        France|    Nanterre|  406.4|2016-01-02 16:34:14|     EUR|       406.4|\n",
            "| 51346-145|    Flipstorm|        Greece|      Athens| 978.51|2016-01-02 17:45:54|     EUR|      978.51|\n",
            "| 51138-049|    Flipstorm|        France|    Nanterre| 504.69|2016-01-02 17:46:50|     EUR|      504.69|\n",
            "| 0268-6107|   Thoughtmix|      Portugal|     Amadora| 477.71|2016-01-02 18:52:45|     EUR|      477.71|\n",
            "| 51523-002|    Flipstorm|        Greece|      Athens|1041.56|2016-01-02 20:28:56|     EUR|     1041.56|\n",
            "|62670-4404|      Wordify| United States|    New York| 444.15|2016-01-02 21:10:19|     USD|    381.1792|\n",
            "|49288-0285|  Brainsphere|      Portugal|       Braga| 598.52|2016-01-02 22:18:14|     EUR|      598.52|\n",
            "| 68233-011|Chatterbridge|         Spain|   Barcelona| 304.59|2016-01-03 00:19:44|     EUR|      304.59|\n",
            "+----------+-------------+--------------+------------+-------+-------------------+--------+------------+\n",
            "only showing top 20 rows\n",
            "\n"
          ],
          "name": "stdout"
        }
      ]
    },
    {
      "cell_type": "markdown",
      "metadata": {
        "id": "A1V3Yy5C2C5h"
      },
      "source": [
        "## Part 2: Analyzing the data (32.5 pts)\n",
        "You are now ready to analyze the data. Your goal is to gain some actionable business insights to present to your boss. \n",
        "\n",
        "In this part, you should ask some questions and try to answer them based on the data. You should write SQL queries to retrieve the data for at least 3 out of the 6 parts below (2.1,..., 2.6). The remaining ones must be done with Spark functions). \n",
        "\n",
        "As you start to look into the questions, you'll realise that you need to enrich your data. For example: transaction prices are recorded in the local currency of the client (EUR, GBP, USD or JPY). You will need to convert these prices from local currency into a common currency such as EUR, for comparability. Describe the enrichments, as you perform them.\n",
        "\n",
        "Remember, you are taking this to your new boss, so think about how you present the data. Include headers, legends and well-written descriptions for graphs/charts. Think of the solutions you provide as an \"executive summary\" of your findings. You should put an effort in presentation and writing, not just coding.\n",
        "\n",
        "\n"
      ]
    },
    {
      "cell_type": "markdown",
      "metadata": {
        "id": "yQqaImmrN9YE"
      },
      "source": [
        "### Who are the most profitable clients? (20 pts)\n",
        "\n",
        "Knowing which clients that generate the most revenue for the company will assist your boss in distributing customer service ressources. Answer the following questions and provide appropriate visualisations for each of them. As mentioned before, include headers, legends and well-written descriptions for graphs/charts.\n"
      ]
    },
    {
      "cell_type": "markdown",
      "metadata": {
        "id": "8iEk4GDMOEXY"
      },
      "source": [
        "#### 2.1. How much revenue has each customer generated? (2.5 pts)\n",
        "\n",
        "Compute and plot how much revenue each customer has generated over the three-year period. Write a paragraph describing the findings.\n"
      ]
    },
    {
      "cell_type": "code",
      "metadata": {
        "id": "XFvWjRCcMel4"
      },
      "source": [
        "# Creates a temp for the convert_df so it can be manipulated with SQL.\n",
        "convert_df.createOrReplaceTempView(\"convert_df\")"
      ],
      "execution_count": 98,
      "outputs": []
    },
    {
      "cell_type": "code",
      "metadata": {
        "colab": {
          "base_uri": "https://localhost:8080/"
        },
        "id": "kLOqZjofPC7E",
        "outputId": "410243d6-5bc9-4fcc-906d-006c0359a4c0"
      },
      "source": [
        "# Calculate and show the total revenue of each customer over the three year period\n",
        "q = \"\"\" \n",
        "  SELECT\n",
        "    company, \n",
        "    SUM(price_in_EUR)\n",
        "  FROM\n",
        "    convert_df\n",
        "  GROUP BY company\n",
        "  ORDER BY SUM(price_in_EUR) DESC\n",
        "    \"\"\"\n",
        "sumdf = spark.sql(q)\n",
        "sumdf.show(28)"
      ],
      "execution_count": 99,
      "outputs": [
        {
          "output_type": "stream",
          "text": [
            "+-------------+------------------+\n",
            "|      company| sum(price_in_EUR)|\n",
            "+-------------+------------------+\n",
            "|   Thoughtmix|1457652.4995718002|\n",
            "|  Twitterbeat|1179072.0197560787|\n",
            "|        Zooxo| 860209.0433979034|\n",
            "|Chatterbridge| 824121.1000556946|\n",
            "|  Shufflebeat| 820325.8297595978|\n",
            "|        Ntags|  753964.920042038|\n",
            "|     Buzzbean|  643675.999961853|\n",
            "|  Brainsphere| 642382.5500907898|\n",
            "|    Flipstorm| 588605.7500295639|\n",
            "|      Wordify| 459257.4837958813|\n",
            "|        Yozio|328117.13064575195|\n",
            "|       Roodel| 324340.3189357519|\n",
            "|       Eimbee|   268989.86926651|\n",
            "|      Zoonder|221266.05751037598|\n",
            "|      Teklist|218914.46007537842|\n",
            "|      Gabcube|185343.24038124084|\n",
            "|        Voomm| 124198.3501739502|\n",
            "|       Avaveo| 111516.7198600769|\n",
            "|         Lajo|108978.96976852417|\n",
            "|      Rhycero| 97535.63027572632|\n",
            "|     Riffpath|  78051.1502494812|\n",
            "|    Realpoint| 77804.23014068604|\n",
            "|     Kanoodle| 64462.33200073242|\n",
            "|    Bubblemix|23641.582931518555|\n",
            "|      Innojam| 22824.55020904541|\n",
            "|        Gevee| 22154.62001800537|\n",
            "|      Gabtune| 15771.61003112793|\n",
            "|      Tagtune|6167.9500732421875|\n",
            "+-------------+------------------+\n",
            "\n"
          ],
          "name": "stdout"
        }
      ]
    },
    {
      "cell_type": "code",
      "metadata": {
        "id": "3hUnJrKvMpK7",
        "colab": {
          "base_uri": "https://localhost:8080/",
          "height": 542
        },
        "outputId": "722db063-3459-4d43-a382-6133a37bd5b7"
      },
      "source": [
        "import matplotlib.pyplot as plt\n",
        "import seaborn as sns\n",
        "sns.set()\n",
        "import numpy as np\n",
        "import plotly.express as px\n",
        "import plotly.graph_objects as go\n",
        "\n",
        "# plot the results\n",
        "pandasdf = sumdf.toPandas()\n",
        "companyCol = pandasdf['company'].tolist()\n",
        "sumCol = pandasdf['sum(price_in_EUR)'].tolist()\n",
        "\n",
        "fig = go.Figure()\n",
        "\n",
        "fig.add_trace(\n",
        "      go.Bar(x=companyCol,\n",
        "                   y=sumCol)                   \n",
        "      )\n",
        "\n",
        "fig.show()"
      ],
      "execution_count": 100,
      "outputs": [
        {
          "output_type": "display_data",
          "data": {
            "text/html": [
              "<html>\n",
              "<head><meta charset=\"utf-8\" /></head>\n",
              "<body>\n",
              "    <div>\n",
              "            <script src=\"https://cdnjs.cloudflare.com/ajax/libs/mathjax/2.7.5/MathJax.js?config=TeX-AMS-MML_SVG\"></script><script type=\"text/javascript\">if (window.MathJax) {MathJax.Hub.Config({SVG: {font: \"STIX-Web\"}});}</script>\n",
              "                <script type=\"text/javascript\">window.PlotlyConfig = {MathJaxConfig: 'local'};</script>\n",
              "        <script src=\"https://cdn.plot.ly/plotly-latest.min.js\"></script>    \n",
              "            <div id=\"a9c1710c-76f4-4317-8757-ce85f8f8d25b\" class=\"plotly-graph-div\" style=\"height:525px; width:100%;\"></div>\n",
              "            <script type=\"text/javascript\">\n",
              "                \n",
              "                    window.PLOTLYENV=window.PLOTLYENV || {};\n",
              "                    \n",
              "                if (document.getElementById(\"a9c1710c-76f4-4317-8757-ce85f8f8d25b\")) {\n",
              "                    Plotly.newPlot(\n",
              "                        'a9c1710c-76f4-4317-8757-ce85f8f8d25b',\n",
              "                        [{\"type\": \"bar\", \"x\": [\"Thoughtmix\", \"Twitterbeat\", \"Zooxo\", \"Chatterbridge\", \"Shufflebeat\", \"Ntags\", \"Buzzbean\", \"Brainsphere\", \"Flipstorm\", \"Wordify\", \"Yozio\", \"Roodel\", \"Eimbee\", \"Zoonder\", \"Teklist\", \"Gabcube\", \"Voomm\", \"Avaveo\", \"Lajo\", \"Rhycero\", \"Riffpath\", \"Realpoint\", \"Kanoodle\", \"Bubblemix\", \"Innojam\", \"Gevee\", \"Gabtune\", \"Tagtune\"], \"y\": [1457652.4995718002, 1179072.0197560787, 860209.0433979034, 824121.1000556946, 820325.8297595978, 753964.920042038, 643675.999961853, 642382.5500907898, 588605.7500295639, 459257.4837958813, 328117.13064575195, 324340.3189357519, 268989.86926651, 221266.05751037598, 218914.46007537842, 185343.24038124084, 124198.3501739502, 111516.7198600769, 108978.96976852417, 97535.63027572632, 78051.1502494812, 77804.23014068604, 64462.33200073242, 23641.582931518555, 22824.55020904541, 22154.62001800537, 15771.61003112793, 6167.9500732421875]}],\n",
              "                        {\"template\": {\"data\": {\"bar\": [{\"error_x\": {\"color\": \"#2a3f5f\"}, \"error_y\": {\"color\": \"#2a3f5f\"}, \"marker\": {\"line\": {\"color\": \"#E5ECF6\", \"width\": 0.5}}, \"type\": \"bar\"}], \"barpolar\": [{\"marker\": {\"line\": {\"color\": \"#E5ECF6\", \"width\": 0.5}}, \"type\": \"barpolar\"}], \"carpet\": [{\"aaxis\": {\"endlinecolor\": \"#2a3f5f\", \"gridcolor\": \"white\", \"linecolor\": \"white\", \"minorgridcolor\": \"white\", \"startlinecolor\": \"#2a3f5f\"}, \"baxis\": {\"endlinecolor\": \"#2a3f5f\", \"gridcolor\": \"white\", \"linecolor\": \"white\", \"minorgridcolor\": \"white\", \"startlinecolor\": \"#2a3f5f\"}, \"type\": \"carpet\"}], \"choropleth\": [{\"colorbar\": {\"outlinewidth\": 0, \"ticks\": \"\"}, \"type\": \"choropleth\"}], \"contour\": [{\"colorbar\": {\"outlinewidth\": 0, \"ticks\": \"\"}, \"colorscale\": [[0.0, \"#0d0887\"], [0.1111111111111111, \"#46039f\"], [0.2222222222222222, \"#7201a8\"], [0.3333333333333333, \"#9c179e\"], [0.4444444444444444, \"#bd3786\"], [0.5555555555555556, \"#d8576b\"], [0.6666666666666666, \"#ed7953\"], [0.7777777777777778, \"#fb9f3a\"], [0.8888888888888888, \"#fdca26\"], [1.0, \"#f0f921\"]], \"type\": \"contour\"}], \"contourcarpet\": [{\"colorbar\": {\"outlinewidth\": 0, \"ticks\": \"\"}, \"type\": \"contourcarpet\"}], \"heatmap\": [{\"colorbar\": {\"outlinewidth\": 0, \"ticks\": \"\"}, \"colorscale\": [[0.0, \"#0d0887\"], [0.1111111111111111, \"#46039f\"], [0.2222222222222222, \"#7201a8\"], [0.3333333333333333, \"#9c179e\"], [0.4444444444444444, \"#bd3786\"], [0.5555555555555556, \"#d8576b\"], [0.6666666666666666, \"#ed7953\"], [0.7777777777777778, \"#fb9f3a\"], [0.8888888888888888, \"#fdca26\"], [1.0, \"#f0f921\"]], \"type\": \"heatmap\"}], \"heatmapgl\": [{\"colorbar\": {\"outlinewidth\": 0, \"ticks\": \"\"}, \"colorscale\": [[0.0, \"#0d0887\"], [0.1111111111111111, \"#46039f\"], [0.2222222222222222, \"#7201a8\"], [0.3333333333333333, \"#9c179e\"], [0.4444444444444444, \"#bd3786\"], [0.5555555555555556, \"#d8576b\"], [0.6666666666666666, \"#ed7953\"], [0.7777777777777778, \"#fb9f3a\"], [0.8888888888888888, \"#fdca26\"], [1.0, \"#f0f921\"]], \"type\": \"heatmapgl\"}], \"histogram\": [{\"marker\": {\"colorbar\": {\"outlinewidth\": 0, \"ticks\": \"\"}}, \"type\": \"histogram\"}], \"histogram2d\": [{\"colorbar\": {\"outlinewidth\": 0, \"ticks\": \"\"}, \"colorscale\": [[0.0, \"#0d0887\"], [0.1111111111111111, \"#46039f\"], [0.2222222222222222, \"#7201a8\"], [0.3333333333333333, \"#9c179e\"], [0.4444444444444444, \"#bd3786\"], [0.5555555555555556, \"#d8576b\"], [0.6666666666666666, \"#ed7953\"], [0.7777777777777778, \"#fb9f3a\"], [0.8888888888888888, \"#fdca26\"], [1.0, \"#f0f921\"]], \"type\": \"histogram2d\"}], \"histogram2dcontour\": [{\"colorbar\": {\"outlinewidth\": 0, \"ticks\": \"\"}, \"colorscale\": [[0.0, \"#0d0887\"], [0.1111111111111111, \"#46039f\"], [0.2222222222222222, \"#7201a8\"], [0.3333333333333333, \"#9c179e\"], [0.4444444444444444, \"#bd3786\"], [0.5555555555555556, \"#d8576b\"], [0.6666666666666666, \"#ed7953\"], [0.7777777777777778, \"#fb9f3a\"], [0.8888888888888888, \"#fdca26\"], [1.0, \"#f0f921\"]], \"type\": \"histogram2dcontour\"}], \"mesh3d\": [{\"colorbar\": {\"outlinewidth\": 0, \"ticks\": \"\"}, \"type\": \"mesh3d\"}], \"parcoords\": [{\"line\": {\"colorbar\": {\"outlinewidth\": 0, \"ticks\": \"\"}}, \"type\": \"parcoords\"}], \"pie\": [{\"automargin\": true, \"type\": \"pie\"}], \"scatter\": [{\"marker\": {\"colorbar\": {\"outlinewidth\": 0, \"ticks\": \"\"}}, \"type\": \"scatter\"}], \"scatter3d\": [{\"line\": {\"colorbar\": {\"outlinewidth\": 0, \"ticks\": \"\"}}, \"marker\": {\"colorbar\": {\"outlinewidth\": 0, \"ticks\": \"\"}}, \"type\": \"scatter3d\"}], \"scattercarpet\": [{\"marker\": {\"colorbar\": {\"outlinewidth\": 0, \"ticks\": \"\"}}, \"type\": \"scattercarpet\"}], \"scattergeo\": [{\"marker\": {\"colorbar\": {\"outlinewidth\": 0, \"ticks\": \"\"}}, \"type\": \"scattergeo\"}], \"scattergl\": [{\"marker\": {\"colorbar\": {\"outlinewidth\": 0, \"ticks\": \"\"}}, \"type\": \"scattergl\"}], \"scattermapbox\": [{\"marker\": {\"colorbar\": {\"outlinewidth\": 0, \"ticks\": \"\"}}, \"type\": \"scattermapbox\"}], \"scatterpolar\": [{\"marker\": {\"colorbar\": {\"outlinewidth\": 0, \"ticks\": \"\"}}, \"type\": \"scatterpolar\"}], \"scatterpolargl\": [{\"marker\": {\"colorbar\": {\"outlinewidth\": 0, \"ticks\": \"\"}}, \"type\": \"scatterpolargl\"}], \"scatterternary\": [{\"marker\": {\"colorbar\": {\"outlinewidth\": 0, \"ticks\": \"\"}}, \"type\": \"scatterternary\"}], \"surface\": [{\"colorbar\": {\"outlinewidth\": 0, \"ticks\": \"\"}, \"colorscale\": [[0.0, \"#0d0887\"], [0.1111111111111111, \"#46039f\"], [0.2222222222222222, \"#7201a8\"], [0.3333333333333333, \"#9c179e\"], [0.4444444444444444, \"#bd3786\"], [0.5555555555555556, \"#d8576b\"], [0.6666666666666666, \"#ed7953\"], [0.7777777777777778, \"#fb9f3a\"], [0.8888888888888888, \"#fdca26\"], [1.0, \"#f0f921\"]], \"type\": \"surface\"}], \"table\": [{\"cells\": {\"fill\": {\"color\": \"#EBF0F8\"}, \"line\": {\"color\": \"white\"}}, \"header\": {\"fill\": {\"color\": \"#C8D4E3\"}, \"line\": {\"color\": \"white\"}}, \"type\": \"table\"}]}, \"layout\": {\"annotationdefaults\": {\"arrowcolor\": \"#2a3f5f\", \"arrowhead\": 0, \"arrowwidth\": 1}, \"coloraxis\": {\"colorbar\": {\"outlinewidth\": 0, \"ticks\": \"\"}}, \"colorscale\": {\"diverging\": [[0, \"#8e0152\"], [0.1, \"#c51b7d\"], [0.2, \"#de77ae\"], [0.3, \"#f1b6da\"], [0.4, \"#fde0ef\"], [0.5, \"#f7f7f7\"], [0.6, \"#e6f5d0\"], [0.7, \"#b8e186\"], [0.8, \"#7fbc41\"], [0.9, \"#4d9221\"], [1, \"#276419\"]], \"sequential\": [[0.0, \"#0d0887\"], [0.1111111111111111, \"#46039f\"], [0.2222222222222222, \"#7201a8\"], [0.3333333333333333, \"#9c179e\"], [0.4444444444444444, \"#bd3786\"], [0.5555555555555556, \"#d8576b\"], [0.6666666666666666, \"#ed7953\"], [0.7777777777777778, \"#fb9f3a\"], [0.8888888888888888, \"#fdca26\"], [1.0, \"#f0f921\"]], \"sequentialminus\": [[0.0, \"#0d0887\"], [0.1111111111111111, \"#46039f\"], [0.2222222222222222, \"#7201a8\"], [0.3333333333333333, \"#9c179e\"], [0.4444444444444444, \"#bd3786\"], [0.5555555555555556, \"#d8576b\"], [0.6666666666666666, \"#ed7953\"], [0.7777777777777778, \"#fb9f3a\"], [0.8888888888888888, \"#fdca26\"], [1.0, \"#f0f921\"]]}, \"colorway\": [\"#636efa\", \"#EF553B\", \"#00cc96\", \"#ab63fa\", \"#FFA15A\", \"#19d3f3\", \"#FF6692\", \"#B6E880\", \"#FF97FF\", \"#FECB52\"], \"font\": {\"color\": \"#2a3f5f\"}, \"geo\": {\"bgcolor\": \"white\", \"lakecolor\": \"white\", \"landcolor\": \"#E5ECF6\", \"showlakes\": true, \"showland\": true, \"subunitcolor\": \"white\"}, \"hoverlabel\": {\"align\": \"left\"}, \"hovermode\": \"closest\", \"mapbox\": {\"style\": \"light\"}, \"paper_bgcolor\": \"white\", \"plot_bgcolor\": \"#E5ECF6\", \"polar\": {\"angularaxis\": {\"gridcolor\": \"white\", \"linecolor\": \"white\", \"ticks\": \"\"}, \"bgcolor\": \"#E5ECF6\", \"radialaxis\": {\"gridcolor\": \"white\", \"linecolor\": \"white\", \"ticks\": \"\"}}, \"scene\": {\"xaxis\": {\"backgroundcolor\": \"#E5ECF6\", \"gridcolor\": \"white\", \"gridwidth\": 2, \"linecolor\": \"white\", \"showbackground\": true, \"ticks\": \"\", \"zerolinecolor\": \"white\"}, \"yaxis\": {\"backgroundcolor\": \"#E5ECF6\", \"gridcolor\": \"white\", \"gridwidth\": 2, \"linecolor\": \"white\", \"showbackground\": true, \"ticks\": \"\", \"zerolinecolor\": \"white\"}, \"zaxis\": {\"backgroundcolor\": \"#E5ECF6\", \"gridcolor\": \"white\", \"gridwidth\": 2, \"linecolor\": \"white\", \"showbackground\": true, \"ticks\": \"\", \"zerolinecolor\": \"white\"}}, \"shapedefaults\": {\"line\": {\"color\": \"#2a3f5f\"}}, \"ternary\": {\"aaxis\": {\"gridcolor\": \"white\", \"linecolor\": \"white\", \"ticks\": \"\"}, \"baxis\": {\"gridcolor\": \"white\", \"linecolor\": \"white\", \"ticks\": \"\"}, \"bgcolor\": \"#E5ECF6\", \"caxis\": {\"gridcolor\": \"white\", \"linecolor\": \"white\", \"ticks\": \"\"}}, \"title\": {\"x\": 0.05}, \"xaxis\": {\"automargin\": true, \"gridcolor\": \"white\", \"linecolor\": \"white\", \"ticks\": \"\", \"title\": {\"standoff\": 15}, \"zerolinecolor\": \"white\", \"zerolinewidth\": 2}, \"yaxis\": {\"automargin\": true, \"gridcolor\": \"white\", \"linecolor\": \"white\", \"ticks\": \"\", \"title\": {\"standoff\": 15}, \"zerolinecolor\": \"white\", \"zerolinewidth\": 2}}}},\n",
              "                        {\"responsive\": true}\n",
              "                    ).then(function(){\n",
              "                            \n",
              "var gd = document.getElementById('a9c1710c-76f4-4317-8757-ce85f8f8d25b');\n",
              "var x = new MutationObserver(function (mutations, observer) {{\n",
              "        var display = window.getComputedStyle(gd).display;\n",
              "        if (!display || display === 'none') {{\n",
              "            console.log([gd, 'removed!']);\n",
              "            Plotly.purge(gd);\n",
              "            observer.disconnect();\n",
              "        }}\n",
              "}});\n",
              "\n",
              "// Listen for the removal of the full notebook cells\n",
              "var notebookContainer = gd.closest('#notebook-container');\n",
              "if (notebookContainer) {{\n",
              "    x.observe(notebookContainer, {childList: true});\n",
              "}}\n",
              "\n",
              "// Listen for the clearing of the current output cell\n",
              "var outputEl = gd.closest('.output');\n",
              "if (outputEl) {{\n",
              "    x.observe(outputEl, {childList: true});\n",
              "}}\n",
              "\n",
              "                        })\n",
              "                };\n",
              "                \n",
              "            </script>\n",
              "        </div>\n",
              "</body>\n",
              "</html>"
            ]
          },
          "metadata": {
            "tags": []
          }
        }
      ]
    },
    {
      "cell_type": "markdown",
      "metadata": {
        "id": "P3Ni4dPKPI3Q"
      },
      "source": [
        "###Text for  part 2.1\n",
        "Here we can clearly see that Thoughtmix is the customer that generates the most profit for the company. The revenue generated per customer falls rapidly already by the 3rd-most profitable company, Zooxo, which generates 0.6 mil less than Thoughtmix. This shows that there are only a few \"high value\" customers, and a lot of low level customers, when it comes to importance for the company."
      ]
    },
    {
      "cell_type": "markdown",
      "metadata": {
        "id": "jB49LPZzOfj3"
      },
      "source": [
        "\n",
        "#### 2.2. What are the top 5 most revenue-generating customers? (7.5 pts)\n",
        "\n",
        "Identify your best 5 customers. \n"
      ]
    },
    {
      "cell_type": "code",
      "metadata": {
        "colab": {
          "base_uri": "https://localhost:8080/"
        },
        "id": "gT0OcuVRPCag",
        "outputId": "10c42915-e11b-4907-c606-e1a22fa6be38"
      },
      "source": [
        "# Compute and show the top 5 most revenue generating customers\n",
        "q1 = \"\"\" \n",
        "  SELECT\n",
        "    company, \n",
        "    SUM(price_in_EUR)\n",
        "  FROM\n",
        "    convert_df\n",
        "  GROUP BY company\n",
        "  ORDER BY SUM(price_in_EUR) DESC\n",
        "  LIMIT 5\n",
        "    \"\"\"\n",
        "spark.sql(q1).show()"
      ],
      "execution_count": 101,
      "outputs": [
        {
          "output_type": "stream",
          "text": [
            "+-------------+------------------+\n",
            "|      company| sum(price_in_EUR)|\n",
            "+-------------+------------------+\n",
            "|   Thoughtmix|1457652.4995718002|\n",
            "|  Twitterbeat|1179072.0197560787|\n",
            "|        Zooxo| 860209.0433979034|\n",
            "|Chatterbridge| 824121.1000556946|\n",
            "|  Shufflebeat| 820325.8297595978|\n",
            "+-------------+------------------+\n",
            "\n"
          ],
          "name": "stdout"
        }
      ]
    },
    {
      "cell_type": "markdown",
      "metadata": {
        "id": "IOwy0gfWPSKJ"
      },
      "source": [
        "Are the most revenue-generating customers making particularly large purchase orders? \n",
        "\n",
        "Compute the answer, plot appropriately, and write a paragraph describing the findings."
      ]
    },
    {
      "cell_type": "code",
      "metadata": {
        "colab": {
          "base_uri": "https://localhost:8080/"
        },
        "id": "6XmIK4asPRsA",
        "outputId": "9b76cc06-a814-4e21-df4f-480f9967ed2f"
      },
      "source": [
        "# Compute the average purchase price per order for each customer\n",
        "q2 = \"\"\" \n",
        "  SELECT\n",
        "    company, \n",
        "    AVG(price_in_EUR)\n",
        "  FROM\n",
        "    convert_df\n",
        "  GROUP BY company\n",
        "  ORDER BY SUM(price_in_EUR) DESC\n",
        "  LIMIT 30\n",
        "    \"\"\"\n",
        "avg_df = spark.sql(q2)\n",
        "avg_df.show(30)"
      ],
      "execution_count": 104,
      "outputs": [
        {
          "output_type": "stream",
          "text": [
            "+-------------+-----------------+\n",
            "|      company|avg(price_in_EUR)|\n",
            "+-------------+-----------------+\n",
            "|   Thoughtmix|583.7615136450942|\n",
            "|  Twitterbeat|581.3964594457982|\n",
            "|        Zooxo|571.9475022592443|\n",
            "|Chatterbridge|581.5956951698621|\n",
            "|  Shufflebeat|596.6006034615257|\n",
            "|        Ntags|559.3211573012151|\n",
            "|     Buzzbean|575.2243073832467|\n",
            "|  Brainsphere|578.7230180998106|\n",
            "|    Flipstorm|567.6043876852111|\n",
            "|      Wordify|539.6680185615526|\n",
            "|        Yozio|563.7751385665841|\n",
            "|       Roodel|588.6394173062648|\n",
            "|       Eimbee|597.7552650366889|\n",
            "|      Zoonder|560.1672342034835|\n",
            "|      Teklist|565.6704394712621|\n",
            "|      Gabcube|575.6001254075802|\n",
            "|        Voomm|567.1157542189507|\n",
            "|       Avaveo|616.1144743650658|\n",
            "|         Lajo|542.1839291966377|\n",
            "|      Rhycero|551.0487586199228|\n",
            "|     Riffpath|600.3934634575477|\n",
            "|    Realpoint|544.0855254593429|\n",
            "|     Kanoodle|586.0212000066584|\n",
            "|    Bubblemix|525.3685095893012|\n",
            "|      Innojam|570.6137552261353|\n",
            "|        Gevee| 632.989143371582|\n",
            "|      Gabtune|657.1504179636637|\n",
            "|      Tagtune| 560.722733931108|\n",
            "+-------------+-----------------+\n",
            "\n"
          ],
          "name": "stdout"
        }
      ]
    },
    {
      "cell_type": "code",
      "metadata": {
        "id": "67cAtH6n9Qdf",
        "colab": {
          "base_uri": "https://localhost:8080/",
          "height": 542
        },
        "outputId": "5461faeb-81bb-4361-9dc6-2a44b1dd41c2"
      },
      "source": [
        "# Plot the average purchase price per order for each company\n",
        "pandasdf = avg_df.toPandas()\n",
        "companyCol = pandasdf['company'].tolist()\n",
        "avgCol = pandasdf['avg(price_in_EUR)'].tolist()\n",
        "\n",
        "fig = go.Figure()\n",
        "\n",
        "fig.add_trace(\n",
        "      go.Bar(x=companyCol,\n",
        "             y=avgCol)                   \n",
        "      )\n",
        "\n",
        "fig.show()"
      ],
      "execution_count": 105,
      "outputs": [
        {
          "output_type": "display_data",
          "data": {
            "text/html": [
              "<html>\n",
              "<head><meta charset=\"utf-8\" /></head>\n",
              "<body>\n",
              "    <div>\n",
              "            <script src=\"https://cdnjs.cloudflare.com/ajax/libs/mathjax/2.7.5/MathJax.js?config=TeX-AMS-MML_SVG\"></script><script type=\"text/javascript\">if (window.MathJax) {MathJax.Hub.Config({SVG: {font: \"STIX-Web\"}});}</script>\n",
              "                <script type=\"text/javascript\">window.PlotlyConfig = {MathJaxConfig: 'local'};</script>\n",
              "        <script src=\"https://cdn.plot.ly/plotly-latest.min.js\"></script>    \n",
              "            <div id=\"173b8793-d467-42c0-8f63-318c34534ed2\" class=\"plotly-graph-div\" style=\"height:525px; width:100%;\"></div>\n",
              "            <script type=\"text/javascript\">\n",
              "                \n",
              "                    window.PLOTLYENV=window.PLOTLYENV || {};\n",
              "                    \n",
              "                if (document.getElementById(\"173b8793-d467-42c0-8f63-318c34534ed2\")) {\n",
              "                    Plotly.newPlot(\n",
              "                        '173b8793-d467-42c0-8f63-318c34534ed2',\n",
              "                        [{\"type\": \"bar\", \"x\": [\"Thoughtmix\", \"Twitterbeat\", \"Zooxo\", \"Chatterbridge\", \"Shufflebeat\", \"Ntags\", \"Buzzbean\", \"Brainsphere\", \"Flipstorm\", \"Wordify\", \"Yozio\", \"Roodel\", \"Eimbee\", \"Zoonder\", \"Teklist\", \"Gabcube\", \"Voomm\", \"Avaveo\", \"Lajo\", \"Rhycero\", \"Riffpath\", \"Realpoint\", \"Kanoodle\", \"Bubblemix\", \"Innojam\", \"Gevee\", \"Gabtune\", \"Tagtune\"], \"y\": [583.7615136450942, 581.3964594457982, 571.9475022592443, 581.5956951698621, 596.6006034615257, 559.3211573012151, 575.2243073832467, 578.7230180998106, 567.6043876852111, 539.6680185615526, 563.7751385665841, 588.6394173062648, 597.7552650366889, 560.1672342034835, 565.6704394712621, 575.6001254075802, 567.1157542189507, 616.1144743650658, 542.1839291966377, 551.0487586199228, 600.3934634575477, 544.0855254593429, 586.0212000066584, 525.3685095893012, 570.6137552261353, 632.989143371582, 657.1504179636637, 560.722733931108]}],\n",
              "                        {\"template\": {\"data\": {\"bar\": [{\"error_x\": {\"color\": \"#2a3f5f\"}, \"error_y\": {\"color\": \"#2a3f5f\"}, \"marker\": {\"line\": {\"color\": \"#E5ECF6\", \"width\": 0.5}}, \"type\": \"bar\"}], \"barpolar\": [{\"marker\": {\"line\": {\"color\": \"#E5ECF6\", \"width\": 0.5}}, \"type\": \"barpolar\"}], \"carpet\": [{\"aaxis\": {\"endlinecolor\": \"#2a3f5f\", \"gridcolor\": \"white\", \"linecolor\": \"white\", \"minorgridcolor\": \"white\", \"startlinecolor\": \"#2a3f5f\"}, \"baxis\": {\"endlinecolor\": \"#2a3f5f\", \"gridcolor\": \"white\", \"linecolor\": \"white\", \"minorgridcolor\": \"white\", \"startlinecolor\": \"#2a3f5f\"}, \"type\": \"carpet\"}], \"choropleth\": [{\"colorbar\": {\"outlinewidth\": 0, \"ticks\": \"\"}, \"type\": \"choropleth\"}], \"contour\": [{\"colorbar\": {\"outlinewidth\": 0, \"ticks\": \"\"}, \"colorscale\": [[0.0, \"#0d0887\"], [0.1111111111111111, \"#46039f\"], [0.2222222222222222, \"#7201a8\"], [0.3333333333333333, \"#9c179e\"], [0.4444444444444444, \"#bd3786\"], [0.5555555555555556, \"#d8576b\"], [0.6666666666666666, \"#ed7953\"], [0.7777777777777778, \"#fb9f3a\"], [0.8888888888888888, \"#fdca26\"], [1.0, \"#f0f921\"]], \"type\": \"contour\"}], \"contourcarpet\": [{\"colorbar\": {\"outlinewidth\": 0, \"ticks\": \"\"}, \"type\": \"contourcarpet\"}], \"heatmap\": [{\"colorbar\": {\"outlinewidth\": 0, \"ticks\": \"\"}, \"colorscale\": [[0.0, \"#0d0887\"], [0.1111111111111111, \"#46039f\"], [0.2222222222222222, \"#7201a8\"], [0.3333333333333333, \"#9c179e\"], [0.4444444444444444, \"#bd3786\"], [0.5555555555555556, \"#d8576b\"], [0.6666666666666666, \"#ed7953\"], [0.7777777777777778, \"#fb9f3a\"], [0.8888888888888888, \"#fdca26\"], [1.0, \"#f0f921\"]], \"type\": \"heatmap\"}], \"heatmapgl\": [{\"colorbar\": {\"outlinewidth\": 0, \"ticks\": \"\"}, \"colorscale\": [[0.0, \"#0d0887\"], [0.1111111111111111, \"#46039f\"], [0.2222222222222222, \"#7201a8\"], [0.3333333333333333, \"#9c179e\"], [0.4444444444444444, \"#bd3786\"], [0.5555555555555556, \"#d8576b\"], [0.6666666666666666, \"#ed7953\"], [0.7777777777777778, \"#fb9f3a\"], [0.8888888888888888, \"#fdca26\"], [1.0, \"#f0f921\"]], \"type\": \"heatmapgl\"}], \"histogram\": [{\"marker\": {\"colorbar\": {\"outlinewidth\": 0, \"ticks\": \"\"}}, \"type\": \"histogram\"}], \"histogram2d\": [{\"colorbar\": {\"outlinewidth\": 0, \"ticks\": \"\"}, \"colorscale\": [[0.0, \"#0d0887\"], [0.1111111111111111, \"#46039f\"], [0.2222222222222222, \"#7201a8\"], [0.3333333333333333, \"#9c179e\"], [0.4444444444444444, \"#bd3786\"], [0.5555555555555556, \"#d8576b\"], [0.6666666666666666, \"#ed7953\"], [0.7777777777777778, \"#fb9f3a\"], [0.8888888888888888, \"#fdca26\"], [1.0, \"#f0f921\"]], \"type\": \"histogram2d\"}], \"histogram2dcontour\": [{\"colorbar\": {\"outlinewidth\": 0, \"ticks\": \"\"}, \"colorscale\": [[0.0, \"#0d0887\"], [0.1111111111111111, \"#46039f\"], [0.2222222222222222, \"#7201a8\"], [0.3333333333333333, \"#9c179e\"], [0.4444444444444444, \"#bd3786\"], [0.5555555555555556, \"#d8576b\"], [0.6666666666666666, \"#ed7953\"], [0.7777777777777778, \"#fb9f3a\"], [0.8888888888888888, \"#fdca26\"], [1.0, \"#f0f921\"]], \"type\": \"histogram2dcontour\"}], \"mesh3d\": [{\"colorbar\": {\"outlinewidth\": 0, \"ticks\": \"\"}, \"type\": \"mesh3d\"}], \"parcoords\": [{\"line\": {\"colorbar\": {\"outlinewidth\": 0, \"ticks\": \"\"}}, \"type\": \"parcoords\"}], \"pie\": [{\"automargin\": true, \"type\": \"pie\"}], \"scatter\": [{\"marker\": {\"colorbar\": {\"outlinewidth\": 0, \"ticks\": \"\"}}, \"type\": \"scatter\"}], \"scatter3d\": [{\"line\": {\"colorbar\": {\"outlinewidth\": 0, \"ticks\": \"\"}}, \"marker\": {\"colorbar\": {\"outlinewidth\": 0, \"ticks\": \"\"}}, \"type\": \"scatter3d\"}], \"scattercarpet\": [{\"marker\": {\"colorbar\": {\"outlinewidth\": 0, \"ticks\": \"\"}}, \"type\": \"scattercarpet\"}], \"scattergeo\": [{\"marker\": {\"colorbar\": {\"outlinewidth\": 0, \"ticks\": \"\"}}, \"type\": \"scattergeo\"}], \"scattergl\": [{\"marker\": {\"colorbar\": {\"outlinewidth\": 0, \"ticks\": \"\"}}, \"type\": \"scattergl\"}], \"scattermapbox\": [{\"marker\": {\"colorbar\": {\"outlinewidth\": 0, \"ticks\": \"\"}}, \"type\": \"scattermapbox\"}], \"scatterpolar\": [{\"marker\": {\"colorbar\": {\"outlinewidth\": 0, \"ticks\": \"\"}}, \"type\": \"scatterpolar\"}], \"scatterpolargl\": [{\"marker\": {\"colorbar\": {\"outlinewidth\": 0, \"ticks\": \"\"}}, \"type\": \"scatterpolargl\"}], \"scatterternary\": [{\"marker\": {\"colorbar\": {\"outlinewidth\": 0, \"ticks\": \"\"}}, \"type\": \"scatterternary\"}], \"surface\": [{\"colorbar\": {\"outlinewidth\": 0, \"ticks\": \"\"}, \"colorscale\": [[0.0, \"#0d0887\"], [0.1111111111111111, \"#46039f\"], [0.2222222222222222, \"#7201a8\"], [0.3333333333333333, \"#9c179e\"], [0.4444444444444444, \"#bd3786\"], [0.5555555555555556, \"#d8576b\"], [0.6666666666666666, \"#ed7953\"], [0.7777777777777778, \"#fb9f3a\"], [0.8888888888888888, \"#fdca26\"], [1.0, \"#f0f921\"]], \"type\": \"surface\"}], \"table\": [{\"cells\": {\"fill\": {\"color\": \"#EBF0F8\"}, \"line\": {\"color\": \"white\"}}, \"header\": {\"fill\": {\"color\": \"#C8D4E3\"}, \"line\": {\"color\": \"white\"}}, \"type\": \"table\"}]}, \"layout\": {\"annotationdefaults\": {\"arrowcolor\": \"#2a3f5f\", \"arrowhead\": 0, \"arrowwidth\": 1}, \"coloraxis\": {\"colorbar\": {\"outlinewidth\": 0, \"ticks\": \"\"}}, \"colorscale\": {\"diverging\": [[0, \"#8e0152\"], [0.1, \"#c51b7d\"], [0.2, \"#de77ae\"], [0.3, \"#f1b6da\"], [0.4, \"#fde0ef\"], [0.5, \"#f7f7f7\"], [0.6, \"#e6f5d0\"], [0.7, \"#b8e186\"], [0.8, \"#7fbc41\"], [0.9, \"#4d9221\"], [1, \"#276419\"]], \"sequential\": [[0.0, \"#0d0887\"], [0.1111111111111111, \"#46039f\"], [0.2222222222222222, \"#7201a8\"], [0.3333333333333333, \"#9c179e\"], [0.4444444444444444, \"#bd3786\"], [0.5555555555555556, \"#d8576b\"], [0.6666666666666666, \"#ed7953\"], [0.7777777777777778, \"#fb9f3a\"], [0.8888888888888888, \"#fdca26\"], [1.0, \"#f0f921\"]], \"sequentialminus\": [[0.0, \"#0d0887\"], [0.1111111111111111, \"#46039f\"], [0.2222222222222222, \"#7201a8\"], [0.3333333333333333, \"#9c179e\"], [0.4444444444444444, \"#bd3786\"], [0.5555555555555556, \"#d8576b\"], [0.6666666666666666, \"#ed7953\"], [0.7777777777777778, \"#fb9f3a\"], [0.8888888888888888, \"#fdca26\"], [1.0, \"#f0f921\"]]}, \"colorway\": [\"#636efa\", \"#EF553B\", \"#00cc96\", \"#ab63fa\", \"#FFA15A\", \"#19d3f3\", \"#FF6692\", \"#B6E880\", \"#FF97FF\", \"#FECB52\"], \"font\": {\"color\": \"#2a3f5f\"}, \"geo\": {\"bgcolor\": \"white\", \"lakecolor\": \"white\", \"landcolor\": \"#E5ECF6\", \"showlakes\": true, \"showland\": true, \"subunitcolor\": \"white\"}, \"hoverlabel\": {\"align\": \"left\"}, \"hovermode\": \"closest\", \"mapbox\": {\"style\": \"light\"}, \"paper_bgcolor\": \"white\", \"plot_bgcolor\": \"#E5ECF6\", \"polar\": {\"angularaxis\": {\"gridcolor\": \"white\", \"linecolor\": \"white\", \"ticks\": \"\"}, \"bgcolor\": \"#E5ECF6\", \"radialaxis\": {\"gridcolor\": \"white\", \"linecolor\": \"white\", \"ticks\": \"\"}}, \"scene\": {\"xaxis\": {\"backgroundcolor\": \"#E5ECF6\", \"gridcolor\": \"white\", \"gridwidth\": 2, \"linecolor\": \"white\", \"showbackground\": true, \"ticks\": \"\", \"zerolinecolor\": \"white\"}, \"yaxis\": {\"backgroundcolor\": \"#E5ECF6\", \"gridcolor\": \"white\", \"gridwidth\": 2, \"linecolor\": \"white\", \"showbackground\": true, \"ticks\": \"\", \"zerolinecolor\": \"white\"}, \"zaxis\": {\"backgroundcolor\": \"#E5ECF6\", \"gridcolor\": \"white\", \"gridwidth\": 2, \"linecolor\": \"white\", \"showbackground\": true, \"ticks\": \"\", \"zerolinecolor\": \"white\"}}, \"shapedefaults\": {\"line\": {\"color\": \"#2a3f5f\"}}, \"ternary\": {\"aaxis\": {\"gridcolor\": \"white\", \"linecolor\": \"white\", \"ticks\": \"\"}, \"baxis\": {\"gridcolor\": \"white\", \"linecolor\": \"white\", \"ticks\": \"\"}, \"bgcolor\": \"#E5ECF6\", \"caxis\": {\"gridcolor\": \"white\", \"linecolor\": \"white\", \"ticks\": \"\"}}, \"title\": {\"x\": 0.05}, \"xaxis\": {\"automargin\": true, \"gridcolor\": \"white\", \"linecolor\": \"white\", \"ticks\": \"\", \"title\": {\"standoff\": 15}, \"zerolinecolor\": \"white\", \"zerolinewidth\": 2}, \"yaxis\": {\"automargin\": true, \"gridcolor\": \"white\", \"linecolor\": \"white\", \"ticks\": \"\", \"title\": {\"standoff\": 15}, \"zerolinecolor\": \"white\", \"zerolinewidth\": 2}}}},\n",
              "                        {\"responsive\": true}\n",
              "                    ).then(function(){\n",
              "                            \n",
              "var gd = document.getElementById('173b8793-d467-42c0-8f63-318c34534ed2');\n",
              "var x = new MutationObserver(function (mutations, observer) {{\n",
              "        var display = window.getComputedStyle(gd).display;\n",
              "        if (!display || display === 'none') {{\n",
              "            console.log([gd, 'removed!']);\n",
              "            Plotly.purge(gd);\n",
              "            observer.disconnect();\n",
              "        }}\n",
              "}});\n",
              "\n",
              "// Listen for the removal of the full notebook cells\n",
              "var notebookContainer = gd.closest('#notebook-container');\n",
              "if (notebookContainer) {{\n",
              "    x.observe(notebookContainer, {childList: true});\n",
              "}}\n",
              "\n",
              "// Listen for the clearing of the current output cell\n",
              "var outputEl = gd.closest('.output');\n",
              "if (outputEl) {{\n",
              "    x.observe(outputEl, {childList: true});\n",
              "}}\n",
              "\n",
              "                        })\n",
              "                };\n",
              "                \n",
              "            </script>\n",
              "        </div>\n",
              "</body>\n",
              "</html>"
            ]
          },
          "metadata": {
            "tags": []
          }
        }
      ]
    },
    {
      "cell_type": "markdown",
      "metadata": {
        "id": "dAYmKsFAlxPm"
      },
      "source": [
        "### Text for part 2.2 (#1)\n",
        "The bars are ordered in the order of the company with the largest profit generated first (Thoughtmix). We can see that all companies have close to the same average order price. So, the top 5 revenue-generating companies aren't making particularly large orders. The range of avg. order price for all companies is ~[500,700] EUR. The overall avg order price is ~575 EUR. So Thoughtmix is only slightly above the average order price."
      ]
    },
    {
      "cell_type": "markdown",
      "metadata": {
        "id": "j8W-C0xMPT3s"
      },
      "source": [
        "Are they making a lot of purchases? \n",
        "\n",
        "Compute the answer, plot appropriately, and write a paragraph describing the findings.\n"
      ]
    },
    {
      "cell_type": "code",
      "metadata": {
        "colab": {
          "base_uri": "https://localhost:8080/"
        },
        "id": "LaOsz-LqPWzF",
        "outputId": "41ea4793-896d-4d51-e721-8477dd7af202"
      },
      "source": [
        "# Count the total number of purchases for each customer\n",
        "q3 = \"\"\" \n",
        "  SELECT\n",
        "    company, \n",
        "    COUNT(price_in_EUR)\n",
        "  FROM\n",
        "    convert_df\n",
        "  GROUP BY company\n",
        "  ORDER BY SUM(price_in_EUR) DESC\n",
        "    \"\"\"\n",
        "countdf = spark.sql(q3)\n",
        "countdf.show()"
      ],
      "execution_count": 106,
      "outputs": [
        {
          "output_type": "stream",
          "text": [
            "+-------------+-------------------+\n",
            "|      company|count(price_in_EUR)|\n",
            "+-------------+-------------------+\n",
            "|   Thoughtmix|               2497|\n",
            "|  Twitterbeat|               2028|\n",
            "|        Zooxo|               1504|\n",
            "|Chatterbridge|               1417|\n",
            "|  Shufflebeat|               1375|\n",
            "|        Ntags|               1348|\n",
            "|     Buzzbean|               1119|\n",
            "|  Brainsphere|               1110|\n",
            "|    Flipstorm|               1037|\n",
            "|      Wordify|                851|\n",
            "|        Yozio|                582|\n",
            "|       Roodel|                551|\n",
            "|       Eimbee|                450|\n",
            "|      Zoonder|                395|\n",
            "|      Teklist|                387|\n",
            "|      Gabcube|                322|\n",
            "|        Voomm|                219|\n",
            "|       Avaveo|                181|\n",
            "|         Lajo|                201|\n",
            "|      Rhycero|                177|\n",
            "+-------------+-------------------+\n",
            "only showing top 20 rows\n",
            "\n"
          ],
          "name": "stdout"
        }
      ]
    },
    {
      "cell_type": "code",
      "metadata": {
        "id": "e6R56QeI9onF",
        "colab": {
          "base_uri": "https://localhost:8080/",
          "height": 542
        },
        "outputId": "77ac1913-a5b8-4c29-fc0d-a95a4785ec73"
      },
      "source": [
        "# Plot the total number of purchases for each customer\n",
        "pandasdf = countdf.toPandas()\n",
        "companyCol = pandasdf['company'].tolist()\n",
        "countCol = pandasdf['count(price_in_EUR)'].tolist()\n",
        "\n",
        "fig = go.Figure()\n",
        "\n",
        "fig.add_trace(\n",
        "      go.Bar(x=companyCol,\n",
        "             y=countCol)                   \n",
        "      )\n",
        "\n",
        "fig.show()"
      ],
      "execution_count": 107,
      "outputs": [
        {
          "output_type": "display_data",
          "data": {
            "text/html": [
              "<html>\n",
              "<head><meta charset=\"utf-8\" /></head>\n",
              "<body>\n",
              "    <div>\n",
              "            <script src=\"https://cdnjs.cloudflare.com/ajax/libs/mathjax/2.7.5/MathJax.js?config=TeX-AMS-MML_SVG\"></script><script type=\"text/javascript\">if (window.MathJax) {MathJax.Hub.Config({SVG: {font: \"STIX-Web\"}});}</script>\n",
              "                <script type=\"text/javascript\">window.PlotlyConfig = {MathJaxConfig: 'local'};</script>\n",
              "        <script src=\"https://cdn.plot.ly/plotly-latest.min.js\"></script>    \n",
              "            <div id=\"937f7447-e1aa-472d-a4a2-00b85199d30a\" class=\"plotly-graph-div\" style=\"height:525px; width:100%;\"></div>\n",
              "            <script type=\"text/javascript\">\n",
              "                \n",
              "                    window.PLOTLYENV=window.PLOTLYENV || {};\n",
              "                    \n",
              "                if (document.getElementById(\"937f7447-e1aa-472d-a4a2-00b85199d30a\")) {\n",
              "                    Plotly.newPlot(\n",
              "                        '937f7447-e1aa-472d-a4a2-00b85199d30a',\n",
              "                        [{\"type\": \"bar\", \"x\": [\"Thoughtmix\", \"Twitterbeat\", \"Zooxo\", \"Chatterbridge\", \"Shufflebeat\", \"Ntags\", \"Buzzbean\", \"Brainsphere\", \"Flipstorm\", \"Wordify\", \"Yozio\", \"Roodel\", \"Eimbee\", \"Zoonder\", \"Teklist\", \"Gabcube\", \"Voomm\", \"Avaveo\", \"Lajo\", \"Rhycero\", \"Riffpath\", \"Realpoint\", \"Kanoodle\", \"Bubblemix\", \"Innojam\", \"Gevee\", \"Gabtune\", \"Tagtune\"], \"y\": [2497, 2028, 1504, 1417, 1375, 1348, 1119, 1110, 1037, 851, 582, 551, 450, 395, 387, 322, 219, 181, 201, 177, 130, 143, 110, 45, 40, 35, 24, 11]}],\n",
              "                        {\"template\": {\"data\": {\"bar\": [{\"error_x\": {\"color\": \"#2a3f5f\"}, \"error_y\": {\"color\": \"#2a3f5f\"}, \"marker\": {\"line\": {\"color\": \"#E5ECF6\", \"width\": 0.5}}, \"type\": \"bar\"}], \"barpolar\": [{\"marker\": {\"line\": {\"color\": \"#E5ECF6\", \"width\": 0.5}}, \"type\": \"barpolar\"}], \"carpet\": [{\"aaxis\": {\"endlinecolor\": \"#2a3f5f\", \"gridcolor\": \"white\", \"linecolor\": \"white\", \"minorgridcolor\": \"white\", \"startlinecolor\": \"#2a3f5f\"}, \"baxis\": {\"endlinecolor\": \"#2a3f5f\", \"gridcolor\": \"white\", \"linecolor\": \"white\", \"minorgridcolor\": \"white\", \"startlinecolor\": \"#2a3f5f\"}, \"type\": \"carpet\"}], \"choropleth\": [{\"colorbar\": {\"outlinewidth\": 0, \"ticks\": \"\"}, \"type\": \"choropleth\"}], \"contour\": [{\"colorbar\": {\"outlinewidth\": 0, \"ticks\": \"\"}, \"colorscale\": [[0.0, \"#0d0887\"], [0.1111111111111111, \"#46039f\"], [0.2222222222222222, \"#7201a8\"], [0.3333333333333333, \"#9c179e\"], [0.4444444444444444, \"#bd3786\"], [0.5555555555555556, \"#d8576b\"], [0.6666666666666666, \"#ed7953\"], [0.7777777777777778, \"#fb9f3a\"], [0.8888888888888888, \"#fdca26\"], [1.0, \"#f0f921\"]], \"type\": \"contour\"}], \"contourcarpet\": [{\"colorbar\": {\"outlinewidth\": 0, \"ticks\": \"\"}, \"type\": \"contourcarpet\"}], \"heatmap\": [{\"colorbar\": {\"outlinewidth\": 0, \"ticks\": \"\"}, \"colorscale\": [[0.0, \"#0d0887\"], [0.1111111111111111, \"#46039f\"], [0.2222222222222222, \"#7201a8\"], [0.3333333333333333, \"#9c179e\"], [0.4444444444444444, \"#bd3786\"], [0.5555555555555556, \"#d8576b\"], [0.6666666666666666, \"#ed7953\"], [0.7777777777777778, \"#fb9f3a\"], [0.8888888888888888, \"#fdca26\"], [1.0, \"#f0f921\"]], \"type\": \"heatmap\"}], \"heatmapgl\": [{\"colorbar\": {\"outlinewidth\": 0, \"ticks\": \"\"}, \"colorscale\": [[0.0, \"#0d0887\"], [0.1111111111111111, \"#46039f\"], [0.2222222222222222, \"#7201a8\"], [0.3333333333333333, \"#9c179e\"], [0.4444444444444444, \"#bd3786\"], [0.5555555555555556, \"#d8576b\"], [0.6666666666666666, \"#ed7953\"], [0.7777777777777778, \"#fb9f3a\"], [0.8888888888888888, \"#fdca26\"], [1.0, \"#f0f921\"]], \"type\": \"heatmapgl\"}], \"histogram\": [{\"marker\": {\"colorbar\": {\"outlinewidth\": 0, \"ticks\": \"\"}}, \"type\": \"histogram\"}], \"histogram2d\": [{\"colorbar\": {\"outlinewidth\": 0, \"ticks\": \"\"}, \"colorscale\": [[0.0, \"#0d0887\"], [0.1111111111111111, \"#46039f\"], [0.2222222222222222, \"#7201a8\"], [0.3333333333333333, \"#9c179e\"], [0.4444444444444444, \"#bd3786\"], [0.5555555555555556, \"#d8576b\"], [0.6666666666666666, \"#ed7953\"], [0.7777777777777778, \"#fb9f3a\"], [0.8888888888888888, \"#fdca26\"], [1.0, \"#f0f921\"]], \"type\": \"histogram2d\"}], \"histogram2dcontour\": [{\"colorbar\": {\"outlinewidth\": 0, \"ticks\": \"\"}, \"colorscale\": [[0.0, \"#0d0887\"], [0.1111111111111111, \"#46039f\"], [0.2222222222222222, \"#7201a8\"], [0.3333333333333333, \"#9c179e\"], [0.4444444444444444, \"#bd3786\"], [0.5555555555555556, \"#d8576b\"], [0.6666666666666666, \"#ed7953\"], [0.7777777777777778, \"#fb9f3a\"], [0.8888888888888888, \"#fdca26\"], [1.0, \"#f0f921\"]], \"type\": \"histogram2dcontour\"}], \"mesh3d\": [{\"colorbar\": {\"outlinewidth\": 0, \"ticks\": \"\"}, \"type\": \"mesh3d\"}], \"parcoords\": [{\"line\": {\"colorbar\": {\"outlinewidth\": 0, \"ticks\": \"\"}}, \"type\": \"parcoords\"}], \"pie\": [{\"automargin\": true, \"type\": \"pie\"}], \"scatter\": [{\"marker\": {\"colorbar\": {\"outlinewidth\": 0, \"ticks\": \"\"}}, \"type\": \"scatter\"}], \"scatter3d\": [{\"line\": {\"colorbar\": {\"outlinewidth\": 0, \"ticks\": \"\"}}, \"marker\": {\"colorbar\": {\"outlinewidth\": 0, \"ticks\": \"\"}}, \"type\": \"scatter3d\"}], \"scattercarpet\": [{\"marker\": {\"colorbar\": {\"outlinewidth\": 0, \"ticks\": \"\"}}, \"type\": \"scattercarpet\"}], \"scattergeo\": [{\"marker\": {\"colorbar\": {\"outlinewidth\": 0, \"ticks\": \"\"}}, \"type\": \"scattergeo\"}], \"scattergl\": [{\"marker\": {\"colorbar\": {\"outlinewidth\": 0, \"ticks\": \"\"}}, \"type\": \"scattergl\"}], \"scattermapbox\": [{\"marker\": {\"colorbar\": {\"outlinewidth\": 0, \"ticks\": \"\"}}, \"type\": \"scattermapbox\"}], \"scatterpolar\": [{\"marker\": {\"colorbar\": {\"outlinewidth\": 0, \"ticks\": \"\"}}, \"type\": \"scatterpolar\"}], \"scatterpolargl\": [{\"marker\": {\"colorbar\": {\"outlinewidth\": 0, \"ticks\": \"\"}}, \"type\": \"scatterpolargl\"}], \"scatterternary\": [{\"marker\": {\"colorbar\": {\"outlinewidth\": 0, \"ticks\": \"\"}}, \"type\": \"scatterternary\"}], \"surface\": [{\"colorbar\": {\"outlinewidth\": 0, \"ticks\": \"\"}, \"colorscale\": [[0.0, \"#0d0887\"], [0.1111111111111111, \"#46039f\"], [0.2222222222222222, \"#7201a8\"], [0.3333333333333333, \"#9c179e\"], [0.4444444444444444, \"#bd3786\"], [0.5555555555555556, \"#d8576b\"], [0.6666666666666666, \"#ed7953\"], [0.7777777777777778, \"#fb9f3a\"], [0.8888888888888888, \"#fdca26\"], [1.0, \"#f0f921\"]], \"type\": \"surface\"}], \"table\": [{\"cells\": {\"fill\": {\"color\": \"#EBF0F8\"}, \"line\": {\"color\": \"white\"}}, \"header\": {\"fill\": {\"color\": \"#C8D4E3\"}, \"line\": {\"color\": \"white\"}}, \"type\": \"table\"}]}, \"layout\": {\"annotationdefaults\": {\"arrowcolor\": \"#2a3f5f\", \"arrowhead\": 0, \"arrowwidth\": 1}, \"coloraxis\": {\"colorbar\": {\"outlinewidth\": 0, \"ticks\": \"\"}}, \"colorscale\": {\"diverging\": [[0, \"#8e0152\"], [0.1, \"#c51b7d\"], [0.2, \"#de77ae\"], [0.3, \"#f1b6da\"], [0.4, \"#fde0ef\"], [0.5, \"#f7f7f7\"], [0.6, \"#e6f5d0\"], [0.7, \"#b8e186\"], [0.8, \"#7fbc41\"], [0.9, \"#4d9221\"], [1, \"#276419\"]], \"sequential\": [[0.0, \"#0d0887\"], [0.1111111111111111, \"#46039f\"], [0.2222222222222222, \"#7201a8\"], [0.3333333333333333, \"#9c179e\"], [0.4444444444444444, \"#bd3786\"], [0.5555555555555556, \"#d8576b\"], [0.6666666666666666, \"#ed7953\"], [0.7777777777777778, \"#fb9f3a\"], [0.8888888888888888, \"#fdca26\"], [1.0, \"#f0f921\"]], \"sequentialminus\": [[0.0, \"#0d0887\"], [0.1111111111111111, \"#46039f\"], [0.2222222222222222, \"#7201a8\"], [0.3333333333333333, \"#9c179e\"], [0.4444444444444444, \"#bd3786\"], [0.5555555555555556, \"#d8576b\"], [0.6666666666666666, \"#ed7953\"], [0.7777777777777778, \"#fb9f3a\"], [0.8888888888888888, \"#fdca26\"], [1.0, \"#f0f921\"]]}, \"colorway\": [\"#636efa\", \"#EF553B\", \"#00cc96\", \"#ab63fa\", \"#FFA15A\", \"#19d3f3\", \"#FF6692\", \"#B6E880\", \"#FF97FF\", \"#FECB52\"], \"font\": {\"color\": \"#2a3f5f\"}, \"geo\": {\"bgcolor\": \"white\", \"lakecolor\": \"white\", \"landcolor\": \"#E5ECF6\", \"showlakes\": true, \"showland\": true, \"subunitcolor\": \"white\"}, \"hoverlabel\": {\"align\": \"left\"}, \"hovermode\": \"closest\", \"mapbox\": {\"style\": \"light\"}, \"paper_bgcolor\": \"white\", \"plot_bgcolor\": \"#E5ECF6\", \"polar\": {\"angularaxis\": {\"gridcolor\": \"white\", \"linecolor\": \"white\", \"ticks\": \"\"}, \"bgcolor\": \"#E5ECF6\", \"radialaxis\": {\"gridcolor\": \"white\", \"linecolor\": \"white\", \"ticks\": \"\"}}, \"scene\": {\"xaxis\": {\"backgroundcolor\": \"#E5ECF6\", \"gridcolor\": \"white\", \"gridwidth\": 2, \"linecolor\": \"white\", \"showbackground\": true, \"ticks\": \"\", \"zerolinecolor\": \"white\"}, \"yaxis\": {\"backgroundcolor\": \"#E5ECF6\", \"gridcolor\": \"white\", \"gridwidth\": 2, \"linecolor\": \"white\", \"showbackground\": true, \"ticks\": \"\", \"zerolinecolor\": \"white\"}, \"zaxis\": {\"backgroundcolor\": \"#E5ECF6\", \"gridcolor\": \"white\", \"gridwidth\": 2, \"linecolor\": \"white\", \"showbackground\": true, \"ticks\": \"\", \"zerolinecolor\": \"white\"}}, \"shapedefaults\": {\"line\": {\"color\": \"#2a3f5f\"}}, \"ternary\": {\"aaxis\": {\"gridcolor\": \"white\", \"linecolor\": \"white\", \"ticks\": \"\"}, \"baxis\": {\"gridcolor\": \"white\", \"linecolor\": \"white\", \"ticks\": \"\"}, \"bgcolor\": \"#E5ECF6\", \"caxis\": {\"gridcolor\": \"white\", \"linecolor\": \"white\", \"ticks\": \"\"}}, \"title\": {\"x\": 0.05}, \"xaxis\": {\"automargin\": true, \"gridcolor\": \"white\", \"linecolor\": \"white\", \"ticks\": \"\", \"title\": {\"standoff\": 15}, \"zerolinecolor\": \"white\", \"zerolinewidth\": 2}, \"yaxis\": {\"automargin\": true, \"gridcolor\": \"white\", \"linecolor\": \"white\", \"ticks\": \"\", \"title\": {\"standoff\": 15}, \"zerolinecolor\": \"white\", \"zerolinewidth\": 2}}}},\n",
              "                        {\"responsive\": true}\n",
              "                    ).then(function(){\n",
              "                            \n",
              "var gd = document.getElementById('937f7447-e1aa-472d-a4a2-00b85199d30a');\n",
              "var x = new MutationObserver(function (mutations, observer) {{\n",
              "        var display = window.getComputedStyle(gd).display;\n",
              "        if (!display || display === 'none') {{\n",
              "            console.log([gd, 'removed!']);\n",
              "            Plotly.purge(gd);\n",
              "            observer.disconnect();\n",
              "        }}\n",
              "}});\n",
              "\n",
              "// Listen for the removal of the full notebook cells\n",
              "var notebookContainer = gd.closest('#notebook-container');\n",
              "if (notebookContainer) {{\n",
              "    x.observe(notebookContainer, {childList: true});\n",
              "}}\n",
              "\n",
              "// Listen for the clearing of the current output cell\n",
              "var outputEl = gd.closest('.output');\n",
              "if (outputEl) {{\n",
              "    x.observe(outputEl, {childList: true});\n",
              "}}\n",
              "\n",
              "                        })\n",
              "                };\n",
              "                \n",
              "            </script>\n",
              "        </div>\n",
              "</body>\n",
              "</html>"
            ]
          },
          "metadata": {
            "tags": []
          }
        }
      ]
    },
    {
      "cell_type": "markdown",
      "metadata": {
        "id": "G5qYGkyame4M"
      },
      "source": [
        "### Text for part 2.2 (#2)\n",
        "This barchart looks almost exactly like the barchart for the sum of orders. Meaning that Thoughtmix and Twitterbeat have a lot of orders, and then it drops steeply down already at the 3rd company, Zooxo. This makes sense, since the average order price for all companies were close to identical, meaning that in order for companies like Thoughtmix to be the highest revenue-generating companies, they would have to have a large amount of orders."
      ]
    },
    {
      "cell_type": "markdown",
      "metadata": {
        "id": "C8kIdjQbOiTe"
      },
      "source": [
        "#### 2.3. Which parts have become more popular lately, also which are becoming less popular? (5 pts)\n",
        "\n",
        "Improving stock turnover is important to a company. Large quantites of a product that don't sell will bring no revenue to the company as well as storage costs. Too few parts of a popular item may lead to possibly lost sales as they risk being sold out.\n",
        "\n",
        "Compute the answer, plot appropriately, and write a paragraph describing the findings."
      ]
    },
    {
      "cell_type": "code",
      "metadata": {
        "id": "K35l8ZBvPB54",
        "colab": {
          "base_uri": "https://localhost:8080/",
          "height": 992
        },
        "outputId": "9f620a0f-c439-4ac7-fabf-4c5c2a63d037"
      },
      "source": [
        "# Count the number of sales of each part through time\n",
        "q4 = \"\"\" \n",
        "  SELECT\n",
        "    part, CONCAT(CAST(YEAR(date) AS string), 'Q', CAST(QUARTER(date) AS string)) AS yrq, count(part)\n",
        "  FROM\n",
        "    convert_df\n",
        "  GROUP BY part, yrq\n",
        "  ORDER BY part, yrq\n",
        "    \"\"\"\n",
        "parthist = spark.sql(q4)\n",
        "parthist.show()\n",
        "\n",
        "# Plot the result\n",
        "pandasdf = parthist.toPandas()\n",
        "\n",
        "fig = go.Figure()\n",
        "all_parts = pandasdf['part'].unique()\n",
        "\n",
        "for parts in all_parts:\n",
        "  fig.add_trace(\n",
        "        go.Scatter(x=pandasdf[pandasdf['part'] == parts]['yrq'].values,\n",
        "                   y=pandasdf[pandasdf['part'] == parts]['count(part)'].values,\n",
        "                   name=parts)                   \n",
        "        )\n",
        "fig.show()"
      ],
      "execution_count": 108,
      "outputs": [
        {
          "output_type": "stream",
          "text": [
            "+---------+------+-----------+\n",
            "|     part|   yrq|count(part)|\n",
            "+---------+------+-----------+\n",
            "|0185-0373|2016Q1|         15|\n",
            "|0185-0373|2016Q2|          6|\n",
            "|0185-0373|2016Q3|          9|\n",
            "|0185-0373|2016Q4|          4|\n",
            "|0185-0373|2017Q1|         10|\n",
            "|0185-0373|2017Q2|          4|\n",
            "|0185-0373|2017Q3|         16|\n",
            "|0185-0373|2017Q4|         13|\n",
            "|0185-0373|2018Q1|         12|\n",
            "|0185-0373|2018Q2|          9|\n",
            "|0185-0373|2018Q3|         11|\n",
            "|0185-0373|2018Q4|         13|\n",
            "|0228-2167|2016Q1|         25|\n",
            "|0228-2167|2016Q2|         26|\n",
            "|0228-2167|2016Q3|         13|\n",
            "|0228-2167|2016Q4|         11|\n",
            "|0228-2167|2017Q1|         14|\n",
            "|0228-2167|2017Q2|          7|\n",
            "|0228-2167|2017Q3|         25|\n",
            "|0228-2167|2017Q4|         21|\n",
            "+---------+------+-----------+\n",
            "only showing top 20 rows\n",
            "\n"
          ],
          "name": "stdout"
        },
        {
          "output_type": "display_data",
          "data": {
            "text/html": [
              "<html>\n",
              "<head><meta charset=\"utf-8\" /></head>\n",
              "<body>\n",
              "    <div>\n",
              "            <script src=\"https://cdnjs.cloudflare.com/ajax/libs/mathjax/2.7.5/MathJax.js?config=TeX-AMS-MML_SVG\"></script><script type=\"text/javascript\">if (window.MathJax) {MathJax.Hub.Config({SVG: {font: \"STIX-Web\"}});}</script>\n",
              "                <script type=\"text/javascript\">window.PlotlyConfig = {MathJaxConfig: 'local'};</script>\n",
              "        <script src=\"https://cdn.plot.ly/plotly-latest.min.js\"></script>    \n",
              "            <div id=\"f65822c0-9e67-45b5-a402-8d71d4a68535\" class=\"plotly-graph-div\" style=\"height:525px; width:100%;\"></div>\n",
              "            <script type=\"text/javascript\">\n",
              "                \n",
              "                    window.PLOTLYENV=window.PLOTLYENV || {};\n",
              "                    \n",
              "                if (document.getElementById(\"f65822c0-9e67-45b5-a402-8d71d4a68535\")) {\n",
              "                    Plotly.newPlot(\n",
              "                        'f65822c0-9e67-45b5-a402-8d71d4a68535',\n",
              "                        [{\"name\": \"0185-0373\", \"type\": \"scatter\", \"x\": [\"2016Q1\", \"2016Q2\", \"2016Q3\", \"2016Q4\", \"2017Q1\", \"2017Q2\", \"2017Q3\", \"2017Q4\", \"2018Q1\", \"2018Q2\", \"2018Q3\", \"2018Q4\"], \"y\": [15, 6, 9, 4, 10, 4, 16, 13, 12, 9, 11, 13]}, {\"name\": \"0228-2167\", \"type\": \"scatter\", \"x\": [\"2016Q1\", \"2016Q2\", \"2016Q3\", \"2016Q4\", \"2017Q1\", \"2017Q2\", \"2017Q3\", \"2017Q4\", \"2018Q1\", \"2018Q2\", \"2018Q3\", \"2018Q4\"], \"y\": [25, 26, 13, 11, 14, 7, 25, 21, 14, 13, 19, 30]}, {\"name\": \"0268-1128\", \"type\": \"scatter\", \"x\": [\"2016Q1\", \"2016Q2\", \"2016Q3\", \"2016Q4\", \"2017Q1\", \"2017Q2\", \"2017Q3\", \"2017Q4\", \"2018Q1\", \"2018Q2\", \"2018Q3\", \"2018Q4\"], \"y\": [13, 14, 15, 8, 16, 15, 17, 12, 9, 18, 15, 11]}, {\"name\": \"0268-1401\", \"type\": \"scatter\", \"x\": [\"2016Q1\", \"2016Q2\", \"2016Q3\", \"2016Q4\", \"2017Q1\", \"2017Q2\", \"2017Q3\", \"2017Q4\", \"2018Q1\", \"2018Q2\", \"2018Q3\", \"2018Q4\"], \"y\": [15, 20, 10, 5, 13, 14, 18, 19, 20, 13, 17, 21]}, {\"name\": \"0268-1604\", \"type\": \"scatter\", \"x\": [\"2016Q1\", \"2016Q2\", \"2016Q3\", \"2016Q4\", \"2017Q1\", \"2017Q2\", \"2017Q3\", \"2017Q4\", \"2018Q1\", \"2018Q2\", \"2018Q3\", \"2018Q4\"], \"y\": [35, 10, 11, 6, 17, 10, 15, 13, 12, 13, 18, 14]}, {\"name\": \"0268-6107\", \"type\": \"scatter\", \"x\": [\"2016Q1\", \"2016Q2\", \"2016Q3\", \"2016Q4\", \"2017Q1\", \"2017Q2\", \"2017Q3\", \"2017Q4\", \"2018Q1\", \"2018Q2\", \"2018Q3\", \"2018Q4\"], \"y\": [30, 31, 24, 10, 26, 21, 22, 19, 17, 22, 22, 23]}, {\"name\": \"0603-6134\", \"type\": \"scatter\", \"x\": [\"2016Q1\", \"2016Q2\", \"2016Q3\", \"2016Q4\", \"2017Q1\", \"2017Q2\", \"2017Q3\", \"2017Q4\", \"2018Q1\", \"2018Q2\", \"2018Q3\", \"2018Q4\"], \"y\": [28, 24, 18, 9, 19, 17, 23, 17, 17, 16, 19, 12]}, {\"name\": \"0615-7679\", \"type\": \"scatter\", \"x\": [\"2016Q1\", \"2016Q2\", \"2016Q3\", \"2016Q4\", \"2017Q1\", \"2017Q2\", \"2017Q3\", \"2017Q4\", \"2018Q1\", \"2018Q2\", \"2018Q3\", \"2018Q4\"], \"y\": [18, 21, 12, 6, 14, 17, 17, 21, 17, 13, 14, 23]}, {\"name\": \"0699-7041\", \"type\": \"scatter\", \"x\": [\"2016Q1\", \"2016Q2\", \"2016Q3\", \"2016Q4\", \"2017Q1\", \"2017Q2\", \"2017Q3\", \"2017Q4\", \"2018Q1\", \"2018Q2\", \"2018Q3\", \"2018Q4\"], \"y\": [21, 28, 23, 13, 16, 7, 18, 20, 29, 18, 21, 27]}, {\"name\": \"10237-832\", \"type\": \"scatter\", \"x\": [\"2016Q1\", \"2016Q2\", \"2016Q3\", \"2016Q4\", \"2017Q1\", \"2017Q2\", \"2017Q3\", \"2017Q4\", \"2018Q1\", \"2018Q2\", \"2018Q3\", \"2018Q4\"], \"y\": [20, 22, 12, 13, 24, 20, 30, 31, 20, 15, 14, 24]}, {\"name\": \"10267-2529\", \"type\": \"scatter\", \"x\": [\"2016Q1\", \"2016Q2\", \"2016Q3\", \"2016Q4\", \"2017Q1\", \"2017Q2\", \"2017Q3\", \"2017Q4\", \"2018Q1\", \"2018Q2\", \"2018Q3\", \"2018Q4\"], \"y\": [25, 16, 8, 7, 11, 9, 13, 13, 17, 20, 14, 15]}, {\"name\": \"10578-049\", \"type\": \"scatter\", \"x\": [\"2016Q1\", \"2016Q2\", \"2016Q3\", \"2016Q4\", \"2017Q1\", \"2017Q2\", \"2017Q3\", \"2017Q4\", \"2018Q1\", \"2018Q2\", \"2018Q3\", \"2018Q4\"], \"y\": [21, 10, 10, 11, 15, 13, 12, 9, 13, 19, 14, 11]}, {\"name\": \"13537-259\", \"type\": \"scatter\", \"x\": [\"2016Q1\", \"2016Q2\", \"2016Q3\", \"2016Q4\", \"2017Q1\", \"2017Q2\", \"2017Q3\", \"2017Q4\", \"2018Q1\", \"2018Q2\", \"2018Q3\", \"2018Q4\"], \"y\": [23, 25, 23, 5, 29, 19, 20, 13, 27, 28, 25, 20]}, {\"name\": \"13537-468\", \"type\": \"scatter\", \"x\": [\"2016Q1\", \"2016Q2\", \"2016Q3\", \"2016Q4\", \"2017Q1\", \"2017Q2\", \"2017Q3\", \"2017Q4\", \"2018Q1\", \"2018Q2\", \"2018Q3\", \"2018Q4\"], \"y\": [17, 17, 8, 4, 10, 9, 18, 7, 14, 14, 9, 12]}, {\"name\": \"16477-306\", \"type\": \"scatter\", \"x\": [\"2016Q1\", \"2016Q2\", \"2016Q3\", \"2016Q4\", \"2017Q1\", \"2017Q2\", \"2017Q3\", \"2017Q4\", \"2018Q1\", \"2018Q2\", \"2018Q3\", \"2018Q4\"], \"y\": [11, 9, 8, 5, 18, 8, 7, 7, 7, 11, 9, 11]}, {\"name\": \"16590-177\", \"type\": \"scatter\", \"x\": [\"2016Q1\", \"2016Q2\", \"2016Q3\", \"2016Q4\", \"2017Q1\", \"2017Q2\", \"2017Q3\", \"2017Q4\", \"2018Q1\", \"2018Q2\", \"2018Q3\", \"2018Q4\"], \"y\": [27, 24, 14, 2, 12, 15, 18, 15, 15, 15, 24, 16]}, {\"name\": \"16714-295\", \"type\": \"scatter\", \"x\": [\"2016Q1\", \"2016Q2\", \"2016Q3\", \"2016Q4\", \"2017Q1\", \"2017Q2\", \"2017Q3\", \"2017Q4\", \"2018Q1\", \"2018Q2\", \"2018Q3\", \"2018Q4\"], \"y\": [32, 21, 10, 10, 22, 18, 20, 21, 15, 21, 26, 20]}, {\"name\": \"16729-167\", \"type\": \"scatter\", \"x\": [\"2016Q1\", \"2016Q2\", \"2016Q3\", \"2016Q4\", \"2017Q1\", \"2017Q2\", \"2017Q3\", \"2017Q4\", \"2018Q1\", \"2018Q2\", \"2018Q3\", \"2018Q4\"], \"y\": [33, 22, 12, 13, 22, 10, 14, 18, 22, 27, 16, 20]}, {\"name\": \"17156-617\", \"type\": \"scatter\", \"x\": [null, \"2016Q1\", \"2016Q2\", \"2016Q3\", \"2016Q4\", \"2017Q1\", \"2017Q2\", \"2017Q3\", \"2017Q4\", \"2018Q1\", \"2018Q2\", \"2018Q3\", \"2018Q4\"], \"y\": [1, 31, 25, 24, 6, 38, 15, 22, 25, 19, 21, 24, 24]}, {\"name\": \"21695-267\", \"type\": \"scatter\", \"x\": [\"2016Q1\", \"2016Q2\", \"2016Q3\", \"2016Q4\", \"2017Q1\", \"2017Q2\", \"2017Q3\", \"2017Q4\", \"2018Q1\", \"2018Q2\", \"2018Q3\", \"2018Q4\"], \"y\": [22, 16, 11, 7, 20, 9, 20, 17, 12, 12, 10, 15]}, {\"name\": \"21695-931\", \"type\": \"scatter\", \"x\": [\"2016Q1\", \"2016Q2\", \"2016Q3\", \"2016Q4\", \"2017Q1\", \"2017Q2\", \"2017Q3\", \"2017Q4\", \"2018Q1\", \"2018Q2\", \"2018Q3\", \"2018Q4\"], \"y\": [17, 15, 14, 9, 12, 7, 17, 14, 13, 20, 19, 18]}, {\"name\": \"24286-1562\", \"type\": \"scatter\", \"x\": [\"2016Q1\", \"2016Q2\", \"2016Q3\", \"2016Q4\", \"2017Q1\", \"2017Q2\", \"2017Q3\", \"2017Q4\", \"2018Q1\", \"2018Q2\", \"2018Q3\", \"2018Q4\"], \"y\": [26, 26, 18, 8, 20, 19, 22, 15, 14, 28, 20, 21]}, {\"name\": \"24385-268\", \"type\": \"scatter\", \"x\": [\"2016Q1\", \"2016Q2\", \"2016Q3\", \"2016Q4\", \"2017Q1\", \"2017Q2\", \"2017Q3\", \"2017Q4\", \"2018Q1\", \"2018Q2\", \"2018Q3\", \"2018Q4\"], \"y\": [28, 28, 12, 10, 24, 21, 22, 18, 23, 17, 22, 19]}, {\"name\": \"35356-325\", \"type\": \"scatter\", \"x\": [\"2016Q1\", \"2016Q2\", \"2016Q3\", \"2016Q4\", \"2017Q1\", \"2017Q2\", \"2017Q3\", \"2017Q4\", \"2018Q1\", \"2018Q2\", \"2018Q3\", \"2018Q4\"], \"y\": [26, 19, 12, 4, 26, 10, 18, 23, 14, 19, 17, 12]}, {\"name\": \"36800-952\", \"type\": \"scatter\", \"x\": [\"2016Q1\", \"2016Q2\", \"2016Q3\", \"2016Q4\", \"2017Q1\", \"2017Q2\", \"2017Q3\", \"2017Q4\", \"2018Q1\", \"2018Q2\", \"2018Q3\", \"2018Q4\"], \"y\": [20, 13, 9, 5, 10, 5, 8, 9, 8, 11, 12, 12]}, {\"name\": \"36987-1697\", \"type\": \"scatter\", \"x\": [\"2016Q1\", \"2016Q2\", \"2016Q3\", \"2016Q4\", \"2017Q1\", \"2017Q2\", \"2017Q3\", \"2017Q4\", \"2018Q1\", \"2018Q2\", \"2018Q3\", \"2018Q4\"], \"y\": [22, 27, 8, 9, 18, 13, 18, 19, 18, 17, 14, 22]}, {\"name\": \"37205-951\", \"type\": \"scatter\", \"x\": [\"2016Q1\", \"2016Q2\", \"2016Q3\", \"2016Q4\", \"2017Q1\", \"2017Q2\", \"2017Q3\", \"2017Q4\", \"2018Q1\", \"2018Q2\", \"2018Q3\", \"2018Q4\"], \"y\": [31, 19, 14, 8, 18, 20, 22, 17, 23, 12, 16, 27]}, {\"name\": \"37205-992\", \"type\": \"scatter\", \"x\": [\"2016Q1\", \"2016Q2\", \"2016Q3\", \"2016Q4\", \"2017Q1\", \"2017Q2\", \"2017Q3\", \"2017Q4\", \"2018Q1\", \"2018Q2\", \"2018Q3\", \"2018Q4\"], \"y\": [41, 33, 19, 10, 18, 11, 16, 20, 20, 28, 24, 25]}, {\"name\": \"41163-428\", \"type\": \"scatter\", \"x\": [\"2016Q1\", \"2016Q2\", \"2016Q3\", \"2016Q4\", \"2017Q1\", \"2017Q2\", \"2017Q3\", \"2017Q4\", \"2018Q1\", \"2018Q2\", \"2018Q3\", \"2018Q4\"], \"y\": [22, 19, 18, 6, 17, 18, 15, 12, 17, 12, 16, 14]}, {\"name\": \"41167-0843\", \"type\": \"scatter\", \"x\": [\"2016Q1\", \"2016Q2\", \"2016Q3\", \"2017Q1\", \"2017Q2\", \"2017Q3\", \"2017Q4\", \"2018Q1\", \"2018Q2\", \"2018Q3\", \"2018Q4\"], \"y\": [10, 14, 8, 8, 7, 6, 6, 14, 8, 6, 10]}, {\"name\": \"42254-213\", \"type\": \"scatter\", \"x\": [\"2016Q1\", \"2016Q2\", \"2016Q3\", \"2016Q4\", \"2017Q1\", \"2017Q2\", \"2017Q3\", \"2017Q4\", \"2018Q1\", \"2018Q2\", \"2018Q3\", \"2018Q4\"], \"y\": [10, 13, 11, 1, 16, 8, 8, 14, 4, 15, 11, 11]}, {\"name\": \"43419-018\", \"type\": \"scatter\", \"x\": [\"2016Q1\", \"2016Q2\", \"2016Q3\", \"2016Q4\", \"2017Q1\", \"2017Q2\", \"2017Q3\", \"2017Q4\", \"2018Q1\", \"2018Q2\", \"2018Q3\", \"2018Q4\"], \"y\": [17, 20, 8, 2, 17, 17, 15, 13, 15, 6, 11, 15]}, {\"name\": \"44946-1046\", \"type\": \"scatter\", \"x\": [\"2016Q1\", \"2016Q2\", \"2016Q3\", \"2016Q4\", \"2017Q1\", \"2017Q2\", \"2017Q3\", \"2017Q4\", \"2018Q1\", \"2018Q2\", \"2018Q3\", \"2018Q4\"], \"y\": [15, 21, 12, 9, 11, 8, 15, 13, 12, 12, 17, 11]}, {\"name\": \"48951-4042\", \"type\": \"scatter\", \"x\": [\"2016Q1\", \"2016Q2\", \"2016Q3\", \"2016Q4\", \"2017Q1\", \"2017Q2\", \"2017Q3\", \"2017Q4\", \"2018Q1\", \"2018Q2\", \"2018Q3\", \"2018Q4\"], \"y\": [26, 15, 12, 5, 17, 14, 25, 17, 13, 20, 23, 20]}, {\"name\": \"49035-530\", \"type\": \"scatter\", \"x\": [\"2016Q1\", \"2016Q2\", \"2016Q3\", \"2016Q4\", \"2017Q1\", \"2017Q2\", \"2017Q3\", \"2017Q4\", \"2018Q1\", \"2018Q2\", \"2018Q3\", \"2018Q4\"], \"y\": [16, 16, 9, 4, 12, 10, 13, 10, 15, 11, 7, 11]}, {\"name\": \"49288-0285\", \"type\": \"scatter\", \"x\": [\"2016Q1\", \"2016Q2\", \"2016Q3\", \"2016Q4\", \"2017Q1\", \"2017Q2\", \"2017Q3\", \"2017Q4\", \"2018Q1\", \"2018Q2\", \"2018Q3\", \"2018Q4\"], \"y\": [10, 15, 7, 2, 7, 9, 11, 11, 12, 9, 11, 7]}, {\"name\": \"49288-0655\", \"type\": \"scatter\", \"x\": [\"2016Q1\", \"2016Q2\", \"2016Q3\", \"2016Q4\", \"2017Q1\", \"2017Q2\", \"2017Q3\", \"2017Q4\", \"2018Q1\", \"2018Q2\", \"2018Q3\", \"2018Q4\"], \"y\": [14, 8, 7, 1, 5, 4, 10, 8, 6, 11, 9, 8]}, {\"name\": \"49348-574\", \"type\": \"scatter\", \"x\": [\"2016Q1\", \"2016Q2\", \"2016Q3\", \"2016Q4\", \"2017Q1\", \"2017Q2\", \"2017Q3\", \"2017Q4\", \"2018Q1\", \"2018Q2\", \"2018Q3\", \"2018Q4\"], \"y\": [34, 24, 16, 3, 25, 12, 30, 19, 21, 24, 21, 20]}, {\"name\": \"49349-106\", \"type\": \"scatter\", \"x\": [\"2016Q1\", \"2016Q2\", \"2016Q3\", \"2016Q4\", \"2017Q1\", \"2017Q2\", \"2017Q3\", \"2017Q4\", \"2018Q1\", \"2018Q2\", \"2018Q3\", \"2018Q4\"], \"y\": [26, 24, 13, 9, 20, 15, 25, 21, 24, 21, 18, 21]}, {\"name\": \"49349-314\", \"type\": \"scatter\", \"x\": [\"2016Q1\", \"2016Q2\", \"2016Q3\", \"2016Q4\", \"2017Q1\", \"2017Q2\", \"2017Q3\", \"2017Q4\", \"2018Q1\", \"2018Q2\", \"2018Q3\", \"2018Q4\"], \"y\": [14, 14, 5, 4, 13, 12, 5, 7, 10, 13, 11, 8]}, {\"name\": \"49349-471\", \"type\": \"scatter\", \"x\": [\"2016Q1\", \"2016Q2\", \"2016Q3\", \"2016Q4\", \"2017Q1\", \"2017Q2\", \"2017Q3\", \"2017Q4\", \"2018Q1\", \"2018Q2\", \"2018Q3\", \"2018Q4\"], \"y\": [22, 12, 11, 4, 19, 15, 17, 17, 10, 13, 14, 15]}, {\"name\": \"49349-820\", \"type\": \"scatter\", \"x\": [\"2016Q1\", \"2016Q2\", \"2016Q3\", \"2016Q4\", \"2017Q1\", \"2017Q2\", \"2017Q3\", \"2017Q4\", \"2018Q1\", \"2018Q2\", \"2018Q3\", \"2018Q4\"], \"y\": [20, 23, 10, 5, 16, 13, 11, 15, 15, 12, 18, 13]}, {\"name\": \"49349-842\", \"type\": \"scatter\", \"x\": [\"2016Q1\", \"2016Q2\", \"2016Q3\", \"2016Q4\", \"2017Q1\", \"2017Q2\", \"2017Q3\", \"2017Q4\", \"2018Q1\", \"2018Q2\", \"2018Q3\", \"2018Q4\"], \"y\": [21, 19, 10, 5, 13, 16, 8, 9, 11, 15, 17, 21]}, {\"name\": \"49520-501\", \"type\": \"scatter\", \"x\": [\"2016Q1\", \"2016Q2\", \"2016Q3\", \"2016Q4\", \"2017Q1\", \"2017Q2\", \"2017Q3\", \"2017Q4\", \"2018Q1\", \"2018Q2\", \"2018Q3\", \"2018Q4\"], \"y\": [19, 24, 24, 5, 23, 18, 16, 21, 26, 21, 25, 19]}, {\"name\": \"49738-105\", \"type\": \"scatter\", \"x\": [\"2016Q1\", \"2016Q2\", \"2016Q3\", \"2016Q4\", \"2017Q1\", \"2017Q2\", \"2017Q3\", \"2017Q4\", \"2018Q1\", \"2018Q2\", \"2018Q3\", \"2018Q4\"], \"y\": [22, 17, 15, 6, 16, 14, 21, 20, 12, 11, 27, 21]}, {\"name\": \"49967-724\", \"type\": \"scatter\", \"x\": [\"2016Q1\", \"2016Q2\", \"2016Q3\", \"2016Q4\", \"2017Q1\", \"2017Q2\", \"2017Q3\", \"2017Q4\", \"2018Q1\", \"2018Q2\", \"2018Q3\", \"2018Q4\"], \"y\": [33, 25, 13, 13, 14, 14, 18, 20, 17, 25, 10, 24]}, {\"name\": \"49999-737\", \"type\": \"scatter\", \"x\": [\"2016Q1\", \"2016Q2\", \"2016Q3\", \"2016Q4\", \"2017Q1\", \"2017Q2\", \"2017Q3\", \"2017Q4\", \"2018Q1\", \"2018Q2\", \"2018Q3\", \"2018Q4\"], \"y\": [17, 10, 11, 5, 16, 11, 6, 15, 5, 15, 22, 17]}, {\"name\": \"50458-560\", \"type\": \"scatter\", \"x\": [\"2016Q1\", \"2016Q2\", \"2016Q3\", \"2016Q4\", \"2017Q1\", \"2017Q2\", \"2017Q3\", \"2017Q4\", \"2018Q1\", \"2018Q2\", \"2018Q3\", \"2018Q4\"], \"y\": [12, 8, 7, 6, 14, 9, 11, 12, 7, 11, 8, 10]}, {\"name\": \"50563-113\", \"type\": \"scatter\", \"x\": [\"2016Q1\", \"2016Q2\", \"2016Q3\", \"2016Q4\", \"2017Q1\", \"2017Q2\", \"2017Q3\", \"2017Q4\", \"2018Q1\", \"2018Q2\", \"2018Q3\", \"2018Q4\"], \"y\": [19, 16, 15, 7, 15, 17, 10, 13, 20, 23, 18, 13]}, {\"name\": \"51060-032\", \"type\": \"scatter\", \"x\": [\"2016Q1\", \"2016Q2\", \"2016Q3\", \"2016Q4\", \"2017Q1\", \"2017Q2\", \"2017Q3\", \"2017Q4\", \"2018Q1\", \"2018Q2\", \"2018Q3\", \"2018Q4\"], \"y\": [12, 13, 10, 7, 14, 8, 11, 16, 11, 6, 8, 13]}, {\"name\": \"51079-947\", \"type\": \"scatter\", \"x\": [\"2016Q1\", \"2016Q2\", \"2016Q3\", \"2016Q4\", \"2017Q1\", \"2017Q2\", \"2017Q3\", \"2017Q4\", \"2018Q1\", \"2018Q2\", \"2018Q3\", \"2018Q4\"], \"y\": [17, 11, 20, 8, 11, 7, 13, 6, 16, 13, 13, 8]}, {\"name\": \"51138-049\", \"type\": \"scatter\", \"x\": [\"2016Q1\", \"2016Q2\", \"2016Q3\", \"2016Q4\", \"2017Q1\", \"2017Q2\", \"2017Q3\", \"2017Q4\", \"2018Q1\", \"2018Q2\", \"2018Q3\", \"2018Q4\"], \"y\": [37, 34, 18, 1, 14, 16, 21, 19, 22, 27, 17, 26]}, {\"name\": \"51346-126\", \"type\": \"scatter\", \"x\": [\"2016Q1\", \"2016Q2\", \"2016Q3\", \"2016Q4\", \"2017Q1\", \"2017Q2\", \"2017Q3\", \"2017Q4\", \"2018Q1\", \"2018Q2\", \"2018Q3\", \"2018Q4\"], \"y\": [22, 20, 13, 1, 13, 11, 14, 14, 13, 19, 13, 8]}, {\"name\": \"51346-145\", \"type\": \"scatter\", \"x\": [\"2016Q1\", \"2016Q2\", \"2016Q3\", \"2016Q4\", \"2017Q1\", \"2017Q2\", \"2017Q3\", \"2017Q4\", \"2018Q1\", \"2018Q2\", \"2018Q3\", \"2018Q4\"], \"y\": [32, 28, 13, 7, 21, 22, 25, 33, 21, 16, 23, 20]}, {\"name\": \"51523-002\", \"type\": \"scatter\", \"x\": [\"2016Q1\", \"2016Q2\", \"2016Q3\", \"2016Q4\", \"2017Q1\", \"2017Q2\", \"2017Q3\", \"2017Q4\", \"2018Q1\", \"2018Q2\", \"2018Q3\", \"2018Q4\"], \"y\": [23, 19, 9, 3, 21, 19, 17, 31, 14, 23, 25, 18]}, {\"name\": \"51531-9500\", \"type\": \"scatter\", \"x\": [\"2016Q1\", \"2016Q2\", \"2016Q3\", \"2016Q4\", \"2017Q1\", \"2017Q2\", \"2017Q3\", \"2017Q4\", \"2018Q1\", \"2018Q2\", \"2018Q3\", \"2018Q4\"], \"y\": [10, 15, 9, 3, 8, 9, 9, 11, 14, 10, 4, 11]}, {\"name\": \"52125-136\", \"type\": \"scatter\", \"x\": [\"2016Q1\", \"2016Q2\", \"2016Q3\", \"2016Q4\", \"2017Q1\", \"2017Q2\", \"2017Q3\", \"2017Q4\", \"2018Q1\", \"2018Q2\", \"2018Q3\", \"2018Q4\"], \"y\": [20, 25, 18, 6, 14, 25, 18, 27, 23, 27, 19, 26]}, {\"name\": \"52125-444\", \"type\": \"scatter\", \"x\": [\"2016Q1\", \"2016Q2\", \"2016Q3\", \"2016Q4\", \"2017Q1\", \"2017Q2\", \"2017Q3\", \"2017Q4\", \"2018Q1\", \"2018Q2\", \"2018Q3\", \"2018Q4\"], \"y\": [11, 15, 10, 2, 23, 12, 14, 14, 15, 17, 13, 15]}, {\"name\": \"52343-025\", \"type\": \"scatter\", \"x\": [\"2016Q1\", \"2016Q2\", \"2016Q3\", \"2016Q4\", \"2017Q1\", \"2017Q2\", \"2017Q3\", \"2017Q4\", \"2018Q1\", \"2018Q2\", \"2018Q3\", \"2018Q4\"], \"y\": [25, 28, 15, 3, 20, 15, 30, 21, 23, 19, 25, 24]}, {\"name\": \"52380-1102\", \"type\": \"scatter\", \"x\": [\"2016Q1\", \"2016Q2\", \"2016Q3\", \"2016Q4\", \"2017Q1\", \"2017Q2\", \"2017Q3\", \"2017Q4\", \"2018Q1\", \"2018Q2\", \"2018Q3\", \"2018Q4\"], \"y\": [17, 24, 4, 6, 7, 12, 16, 20, 15, 17, 12, 16]}, {\"name\": \"52959-433\", \"type\": \"scatter\", \"x\": [\"2016Q1\", \"2016Q2\", \"2016Q3\", \"2016Q4\", \"2017Q1\", \"2017Q2\", \"2017Q3\", \"2017Q4\", \"2018Q1\", \"2018Q2\", \"2018Q3\", \"2018Q4\"], \"y\": [39, 23, 17, 5, 27, 25, 21, 21, 21, 19, 19, 29]}, {\"name\": \"54092-515\", \"type\": \"scatter\", \"x\": [\"2016Q1\", \"2016Q2\", \"2016Q3\", \"2016Q4\", \"2017Q1\", \"2017Q2\", \"2017Q3\", \"2017Q4\", \"2018Q1\", \"2018Q2\", \"2018Q3\", \"2018Q4\"], \"y\": [20, 19, 14, 7, 19, 15, 17, 19, 19, 18, 15, 16]}, {\"name\": \"54123-957\", \"type\": \"scatter\", \"x\": [\"2016Q1\", \"2016Q2\", \"2016Q3\", \"2016Q4\", \"2017Q1\", \"2017Q2\", \"2017Q3\", \"2017Q4\", \"2018Q1\", \"2018Q2\", \"2018Q3\", \"2018Q4\"], \"y\": [12, 6, 12, 6, 6, 8, 8, 14, 17, 13, 7, 8]}, {\"name\": \"54473-578\", \"type\": \"scatter\", \"x\": [\"2016Q1\", \"2016Q2\", \"2016Q3\", \"2016Q4\", \"2017Q1\", \"2017Q2\", \"2017Q3\", \"2017Q4\", \"2018Q1\", \"2018Q2\", \"2018Q3\", \"2018Q4\"], \"y\": [23, 17, 13, 8, 9, 15, 14, 10, 13, 19, 16, 18]}, {\"name\": \"54868-0823\", \"type\": \"scatter\", \"x\": [\"2016Q1\", \"2016Q2\", \"2016Q3\", \"2016Q4\", \"2017Q1\", \"2017Q2\", \"2017Q3\", \"2017Q4\", \"2018Q1\", \"2018Q2\", \"2018Q3\", \"2018Q4\"], \"y\": [21, 19, 15, 6, 26, 25, 22, 24, 35, 22, 23, 21]}, {\"name\": \"54868-5165\", \"type\": \"scatter\", \"x\": [null, \"2016Q1\", \"2016Q2\", \"2016Q3\", \"2016Q4\", \"2017Q1\", \"2017Q2\", \"2017Q3\", \"2017Q4\", \"2018Q1\", \"2018Q2\", \"2018Q3\", \"2018Q4\"], \"y\": [1, 9, 21, 12, 3, 18, 16, 20, 22, 15, 15, 20, 12]}, {\"name\": \"54868-6311\", \"type\": \"scatter\", \"x\": [\"2016Q1\", \"2016Q2\", \"2016Q3\", \"2016Q4\", \"2017Q1\", \"2017Q2\", \"2017Q3\", \"2017Q4\", \"2018Q1\", \"2018Q2\", \"2018Q3\", \"2018Q4\"], \"y\": [7, 16, 9, 3, 10, 9, 13, 8, 13, 13, 17, 19]}, {\"name\": \"54973-9150\", \"type\": \"scatter\", \"x\": [\"2016Q1\", \"2016Q2\", \"2016Q3\", \"2016Q4\", \"2017Q1\", \"2017Q2\", \"2017Q3\", \"2017Q4\", \"2018Q1\", \"2018Q2\", \"2018Q3\", \"2018Q4\"], \"y\": [11, 13, 6, 1, 15, 6, 12, 12, 13, 9, 12, 16]}, {\"name\": \"55154-5057\", \"type\": \"scatter\", \"x\": [\"2016Q1\", \"2016Q2\", \"2016Q3\", \"2016Q4\", \"2017Q1\", \"2017Q2\", \"2017Q3\", \"2017Q4\", \"2018Q1\", \"2018Q2\", \"2018Q3\", \"2018Q4\"], \"y\": [24, 23, 9, 9, 21, 19, 18, 17, 22, 20, 8, 17]}, {\"name\": \"55289-164\", \"type\": \"scatter\", \"x\": [\"2016Q1\", \"2016Q2\", \"2016Q3\", \"2016Q4\", \"2017Q1\", \"2017Q2\", \"2017Q3\", \"2017Q4\", \"2018Q1\", \"2018Q2\", \"2018Q3\", \"2018Q4\"], \"y\": [17, 13, 8, 4, 15, 8, 13, 10, 22, 18, 15, 14]}, {\"name\": \"55566-2100\", \"type\": \"scatter\", \"x\": [\"2016Q1\", \"2016Q2\", \"2016Q3\", \"2016Q4\", \"2017Q1\", \"2017Q2\", \"2017Q3\", \"2017Q4\", \"2018Q1\", \"2018Q2\", \"2018Q3\", \"2018Q4\"], \"y\": [22, 16, 14, 8, 10, 15, 12, 17, 15, 13, 11, 13]}, {\"name\": \"55700-014\", \"type\": \"scatter\", \"x\": [\"2016Q1\", \"2016Q2\", \"2016Q3\", \"2016Q4\", \"2017Q1\", \"2017Q2\", \"2017Q3\", \"2017Q4\", \"2018Q1\", \"2018Q2\", \"2018Q3\", \"2018Q4\"], \"y\": [25, 21, 10, 6, 13, 15, 22, 17, 24, 21, 20, 29]}, {\"name\": \"55856-0003\", \"type\": \"scatter\", \"x\": [\"2016Q1\", \"2016Q2\", \"2016Q3\", \"2016Q4\", \"2017Q1\", \"2017Q2\", \"2017Q3\", \"2017Q4\", \"2018Q1\", \"2018Q2\", \"2018Q3\", \"2018Q4\"], \"y\": [26, 23, 16, 8, 12, 21, 20, 16, 16, 13, 15, 16]}, {\"name\": \"58118-5060\", \"type\": \"scatter\", \"x\": [\"2016Q1\", \"2016Q2\", \"2016Q3\", \"2016Q4\", \"2017Q1\", \"2017Q2\", \"2017Q3\", \"2017Q4\", \"2018Q1\", \"2018Q2\", \"2018Q3\", \"2018Q4\"], \"y\": [29, 22, 23, 3, 29, 22, 26, 23, 26, 20, 23, 15]}, {\"name\": \"58596-001\", \"type\": \"scatter\", \"x\": [\"2016Q1\", \"2016Q2\", \"2016Q3\", \"2016Q4\", \"2017Q1\", \"2017Q2\", \"2017Q3\", \"2017Q4\", \"2018Q1\", \"2018Q2\", \"2018Q3\", \"2018Q4\"], \"y\": [19, 14, 7, 6, 8, 12, 15, 14, 7, 17, 16, 14]}, {\"name\": \"58668-4281\", \"type\": \"scatter\", \"x\": [\"2016Q1\", \"2016Q2\", \"2016Q3\", \"2016Q4\", \"2017Q1\", \"2017Q2\", \"2017Q3\", \"2017Q4\", \"2018Q1\", \"2018Q2\", \"2018Q3\", \"2018Q4\"], \"y\": [20, 12, 8, 6, 16, 14, 14, 14, 10, 17, 11, 16]}, {\"name\": \"59779-028\", \"type\": \"scatter\", \"x\": [\"2016Q1\", \"2016Q2\", \"2016Q3\", \"2016Q4\", \"2017Q1\", \"2017Q2\", \"2017Q3\", \"2017Q4\", \"2018Q1\", \"2018Q2\", \"2018Q3\", \"2018Q4\"], \"y\": [10, 10, 7, 1, 5, 11, 11, 7, 3, 11, 6, 6]}, {\"name\": \"59779-601\", \"type\": \"scatter\", \"x\": [\"2016Q1\", \"2016Q2\", \"2016Q3\", \"2016Q4\", \"2017Q1\", \"2017Q2\", \"2017Q3\", \"2017Q4\", \"2018Q1\", \"2018Q2\", \"2018Q3\", \"2018Q4\"], \"y\": [9, 13, 9, 4, 4, 4, 10, 9, 12, 14, 8, 9]}, {\"name\": \"60505-2867\", \"type\": \"scatter\", \"x\": [\"2016Q1\", \"2016Q2\", \"2016Q3\", \"2016Q4\", \"2017Q1\", \"2017Q2\", \"2017Q3\", \"2017Q4\", \"2018Q1\", \"2018Q2\", \"2018Q3\", \"2018Q4\"], \"y\": [19, 19, 7, 4, 15, 11, 17, 11, 12, 16, 9, 10]}, {\"name\": \"61398-0828\", \"type\": \"scatter\", \"x\": [\"2016Q1\", \"2016Q2\", \"2016Q3\", \"2016Q4\", \"2017Q1\", \"2017Q2\", \"2017Q3\", \"2017Q4\", \"2018Q1\", \"2018Q2\", \"2018Q3\", \"2018Q4\"], \"y\": [22, 21, 12, 6, 12, 6, 15, 26, 12, 15, 15, 15]}, {\"name\": \"62011-0219\", \"type\": \"scatter\", \"x\": [\"2016Q1\", \"2016Q2\", \"2016Q3\", \"2016Q4\", \"2017Q1\", \"2017Q2\", \"2017Q3\", \"2017Q4\", \"2018Q1\", \"2018Q2\", \"2018Q3\", \"2018Q4\"], \"y\": [31, 23, 29, 7, 17, 17, 36, 19, 14, 19, 29, 16]}, {\"name\": \"62670-4404\", \"type\": \"scatter\", \"x\": [\"2016Q1\", \"2016Q2\", \"2016Q3\", \"2016Q4\", \"2017Q1\", \"2017Q2\", \"2017Q3\", \"2017Q4\", \"2018Q1\", \"2018Q2\", \"2018Q3\", \"2018Q4\"], \"y\": [15, 11, 9, 8, 10, 4, 14, 7, 15, 16, 11, 12]}, {\"name\": \"62742-4030\", \"type\": \"scatter\", \"x\": [\"2016Q1\", \"2016Q2\", \"2016Q3\", \"2016Q4\", \"2017Q1\", \"2017Q2\", \"2017Q3\", \"2017Q4\", \"2018Q1\", \"2018Q2\", \"2018Q3\", \"2018Q4\"], \"y\": [15, 7, 8, 3, 5, 8, 8, 6, 6, 7, 8, 10]}, {\"name\": \"62756-707\", \"type\": \"scatter\", \"x\": [\"2016Q1\", \"2016Q2\", \"2016Q3\", \"2016Q4\", \"2017Q1\", \"2017Q2\", \"2017Q3\", \"2017Q4\", \"2018Q1\", \"2018Q2\", \"2018Q3\", \"2018Q4\"], \"y\": [13, 16, 8, 3, 14, 11, 10, 20, 14, 12, 20, 16]}, {\"name\": \"63629-2733\", \"type\": \"scatter\", \"x\": [\"2016Q1\", \"2016Q2\", \"2016Q3\", \"2016Q4\", \"2017Q1\", \"2017Q2\", \"2017Q3\", \"2017Q4\", \"2018Q1\", \"2018Q2\", \"2018Q3\", \"2018Q4\"], \"y\": [11, 7, 9, 5, 10, 5, 9, 4, 11, 14, 10, 5]}, {\"name\": \"65044-3014\", \"type\": \"scatter\", \"x\": [\"2016Q1\", \"2016Q2\", \"2016Q3\", \"2016Q4\", \"2017Q1\", \"2017Q2\", \"2017Q3\", \"2017Q4\", \"2018Q1\", \"2018Q2\", \"2018Q3\", \"2018Q4\"], \"y\": [27, 22, 15, 8, 21, 16, 22, 15, 10, 17, 12, 27]}, {\"name\": \"67046-030\", \"type\": \"scatter\", \"x\": [\"2016Q1\", \"2016Q2\", \"2016Q3\", \"2016Q4\", \"2017Q1\", \"2017Q2\", \"2017Q3\", \"2017Q4\", \"2018Q1\", \"2018Q2\", \"2018Q3\", \"2018Q4\"], \"y\": [22, 19, 14, 6, 20, 14, 10, 23, 22, 16, 19, 23]}, {\"name\": \"67544-356\", \"type\": \"scatter\", \"x\": [\"2016Q1\", \"2016Q2\", \"2016Q3\", \"2016Q4\", \"2017Q1\", \"2017Q2\", \"2017Q3\", \"2017Q4\", \"2018Q1\", \"2018Q2\", \"2018Q3\", \"2018Q4\"], \"y\": [17, 14, 8, 2, 15, 10, 14, 10, 14, 26, 11, 10]}, {\"name\": \"68084-172\", \"type\": \"scatter\", \"x\": [\"2016Q1\", \"2016Q2\", \"2016Q3\", \"2016Q4\", \"2017Q1\", \"2017Q2\", \"2017Q3\", \"2017Q4\", \"2018Q1\", \"2018Q2\", \"2018Q3\", \"2018Q4\"], \"y\": [36, 18, 14, 14, 25, 17, 25, 22, 18, 19, 27, 13]}, {\"name\": \"68084-595\", \"type\": \"scatter\", \"x\": [\"2016Q1\", \"2016Q2\", \"2016Q3\", \"2016Q4\", \"2017Q1\", \"2017Q2\", \"2017Q3\", \"2017Q4\", \"2018Q1\", \"2018Q2\", \"2018Q3\", \"2018Q4\"], \"y\": [12, 11, 13, 5, 15, 13, 19, 11, 12, 9, 10, 21]}, {\"name\": \"68180-121\", \"type\": \"scatter\", \"x\": [\"2016Q1\", \"2016Q2\", \"2016Q3\", \"2016Q4\", \"2017Q1\", \"2017Q2\", \"2017Q3\", \"2017Q4\", \"2018Q1\", \"2018Q2\", \"2018Q3\", \"2018Q4\"], \"y\": [19, 16, 7, 5, 12, 10, 11, 7, 9, 8, 12, 15]}, {\"name\": \"68233-011\", \"type\": \"scatter\", \"x\": [\"2016Q1\", \"2016Q2\", \"2016Q3\", \"2016Q4\", \"2017Q1\", \"2017Q2\", \"2017Q3\", \"2017Q4\", \"2018Q1\", \"2018Q2\", \"2018Q3\", \"2018Q4\"], \"y\": [22, 12, 17, 7, 15, 7, 17, 16, 19, 19, 17, 19]}, {\"name\": \"68462-565\", \"type\": \"scatter\", \"x\": [\"2016Q1\", \"2016Q2\", \"2016Q3\", \"2016Q4\", \"2017Q1\", \"2017Q2\", \"2017Q3\", \"2017Q4\", \"2018Q1\", \"2018Q2\", \"2018Q3\", \"2018Q4\"], \"y\": [25, 26, 20, 10, 31, 16, 18, 25, 21, 17, 24, 12]}, {\"name\": \"68752-024\", \"type\": \"scatter\", \"x\": [\"2016Q1\", \"2016Q2\", \"2016Q3\", \"2016Q4\", \"2017Q1\", \"2017Q2\", \"2017Q3\", \"2017Q4\", \"2018Q1\", \"2018Q2\", \"2018Q3\", \"2018Q4\"], \"y\": [23, 22, 11, 6, 16, 24, 19, 30, 24, 18, 22, 26]}, {\"name\": \"70253-307\", \"type\": \"scatter\", \"x\": [\"2016Q1\", \"2016Q2\", \"2016Q3\", \"2016Q4\", \"2017Q1\", \"2017Q2\", \"2017Q3\", \"2017Q4\", \"2018Q1\", \"2018Q2\", \"2018Q3\", \"2018Q4\"], \"y\": [19, 16, 10, 8, 22, 19, 18, 18, 18, 16, 22, 19]}, {\"name\": \"76117-001\", \"type\": \"scatter\", \"x\": [\"2016Q1\", \"2016Q2\", \"2016Q3\", \"2016Q4\", \"2017Q1\", \"2017Q2\", \"2017Q3\", \"2017Q4\", \"2018Q1\", \"2018Q2\", \"2018Q3\", \"2018Q4\"], \"y\": [12, 6, 8, 6, 9, 12, 11, 11, 11, 10, 4, 10]}, {\"name\": \"76314-002\", \"type\": \"scatter\", \"x\": [\"2016Q1\", \"2016Q2\", \"2016Q3\", \"2016Q4\", \"2017Q1\", \"2017Q2\", \"2017Q3\", \"2017Q4\", \"2018Q1\", \"2018Q2\", \"2018Q3\", \"2018Q4\"], \"y\": [21, 29, 7, 5, 9, 8, 21, 13, 6, 17, 22, 20]}, {\"name\": \"76335-006\", \"type\": \"scatter\", \"x\": [\"2016Q1\", \"2016Q2\", \"2016Q3\", \"2016Q4\", \"2017Q1\", \"2017Q2\", \"2017Q3\", \"2017Q4\", \"2018Q1\", \"2018Q2\", \"2018Q3\", \"2018Q4\"], \"y\": [12, 15, 6, 5, 6, 6, 9, 10, 5, 13, 11, 4]}, {\"name\": \"76454-100\", \"type\": \"scatter\", \"x\": [\"2016Q1\", \"2016Q2\", \"2016Q3\", \"2016Q4\", \"2017Q1\", \"2017Q2\", \"2017Q3\", \"2017Q4\", \"2018Q1\", \"2018Q2\", \"2018Q3\", \"2018Q4\"], \"y\": [32, 26, 22, 11, 18, 14, 20, 19, 25, 20, 12, 20]}, {\"name\": \"98132-889\", \"type\": \"scatter\", \"x\": [\"2016Q1\", \"2016Q2\", \"2016Q3\", \"2016Q4\", \"2017Q1\", \"2017Q2\", \"2017Q3\", \"2017Q4\", \"2018Q1\", \"2018Q2\", \"2018Q3\", \"2018Q4\"], \"y\": [21, 21, 8, 11, 17, 19, 22, 11, 20, 18, 27, 10]}],\n",
              "                        {\"template\": {\"data\": {\"bar\": [{\"error_x\": {\"color\": \"#2a3f5f\"}, \"error_y\": {\"color\": \"#2a3f5f\"}, \"marker\": {\"line\": {\"color\": \"#E5ECF6\", \"width\": 0.5}}, \"type\": \"bar\"}], \"barpolar\": [{\"marker\": {\"line\": {\"color\": \"#E5ECF6\", \"width\": 0.5}}, \"type\": \"barpolar\"}], \"carpet\": [{\"aaxis\": {\"endlinecolor\": \"#2a3f5f\", \"gridcolor\": \"white\", \"linecolor\": \"white\", \"minorgridcolor\": \"white\", \"startlinecolor\": \"#2a3f5f\"}, \"baxis\": {\"endlinecolor\": \"#2a3f5f\", \"gridcolor\": \"white\", \"linecolor\": \"white\", \"minorgridcolor\": \"white\", \"startlinecolor\": \"#2a3f5f\"}, \"type\": \"carpet\"}], \"choropleth\": [{\"colorbar\": {\"outlinewidth\": 0, \"ticks\": \"\"}, \"type\": \"choropleth\"}], \"contour\": [{\"colorbar\": {\"outlinewidth\": 0, \"ticks\": \"\"}, \"colorscale\": [[0.0, \"#0d0887\"], [0.1111111111111111, \"#46039f\"], [0.2222222222222222, \"#7201a8\"], [0.3333333333333333, \"#9c179e\"], [0.4444444444444444, \"#bd3786\"], [0.5555555555555556, \"#d8576b\"], [0.6666666666666666, \"#ed7953\"], [0.7777777777777778, \"#fb9f3a\"], [0.8888888888888888, \"#fdca26\"], [1.0, \"#f0f921\"]], \"type\": \"contour\"}], \"contourcarpet\": [{\"colorbar\": {\"outlinewidth\": 0, \"ticks\": \"\"}, \"type\": \"contourcarpet\"}], \"heatmap\": [{\"colorbar\": {\"outlinewidth\": 0, \"ticks\": \"\"}, \"colorscale\": [[0.0, \"#0d0887\"], [0.1111111111111111, \"#46039f\"], [0.2222222222222222, \"#7201a8\"], [0.3333333333333333, \"#9c179e\"], [0.4444444444444444, \"#bd3786\"], [0.5555555555555556, \"#d8576b\"], [0.6666666666666666, \"#ed7953\"], [0.7777777777777778, \"#fb9f3a\"], [0.8888888888888888, \"#fdca26\"], [1.0, \"#f0f921\"]], \"type\": \"heatmap\"}], \"heatmapgl\": [{\"colorbar\": {\"outlinewidth\": 0, \"ticks\": \"\"}, \"colorscale\": [[0.0, \"#0d0887\"], [0.1111111111111111, \"#46039f\"], [0.2222222222222222, \"#7201a8\"], [0.3333333333333333, \"#9c179e\"], [0.4444444444444444, \"#bd3786\"], [0.5555555555555556, \"#d8576b\"], [0.6666666666666666, \"#ed7953\"], [0.7777777777777778, \"#fb9f3a\"], [0.8888888888888888, \"#fdca26\"], [1.0, \"#f0f921\"]], \"type\": \"heatmapgl\"}], \"histogram\": [{\"marker\": {\"colorbar\": {\"outlinewidth\": 0, \"ticks\": \"\"}}, \"type\": \"histogram\"}], \"histogram2d\": [{\"colorbar\": {\"outlinewidth\": 0, \"ticks\": \"\"}, \"colorscale\": [[0.0, \"#0d0887\"], [0.1111111111111111, \"#46039f\"], [0.2222222222222222, \"#7201a8\"], [0.3333333333333333, \"#9c179e\"], [0.4444444444444444, \"#bd3786\"], [0.5555555555555556, \"#d8576b\"], [0.6666666666666666, \"#ed7953\"], [0.7777777777777778, \"#fb9f3a\"], [0.8888888888888888, \"#fdca26\"], [1.0, \"#f0f921\"]], \"type\": \"histogram2d\"}], \"histogram2dcontour\": [{\"colorbar\": {\"outlinewidth\": 0, \"ticks\": \"\"}, \"colorscale\": [[0.0, \"#0d0887\"], [0.1111111111111111, \"#46039f\"], [0.2222222222222222, \"#7201a8\"], [0.3333333333333333, \"#9c179e\"], [0.4444444444444444, \"#bd3786\"], [0.5555555555555556, \"#d8576b\"], [0.6666666666666666, \"#ed7953\"], [0.7777777777777778, \"#fb9f3a\"], [0.8888888888888888, \"#fdca26\"], [1.0, \"#f0f921\"]], \"type\": \"histogram2dcontour\"}], \"mesh3d\": [{\"colorbar\": {\"outlinewidth\": 0, \"ticks\": \"\"}, \"type\": \"mesh3d\"}], \"parcoords\": [{\"line\": {\"colorbar\": {\"outlinewidth\": 0, \"ticks\": \"\"}}, \"type\": \"parcoords\"}], \"pie\": [{\"automargin\": true, \"type\": \"pie\"}], \"scatter\": [{\"marker\": {\"colorbar\": {\"outlinewidth\": 0, \"ticks\": \"\"}}, \"type\": \"scatter\"}], \"scatter3d\": [{\"line\": {\"colorbar\": {\"outlinewidth\": 0, \"ticks\": \"\"}}, \"marker\": {\"colorbar\": {\"outlinewidth\": 0, \"ticks\": \"\"}}, \"type\": \"scatter3d\"}], \"scattercarpet\": [{\"marker\": {\"colorbar\": {\"outlinewidth\": 0, \"ticks\": \"\"}}, \"type\": \"scattercarpet\"}], \"scattergeo\": [{\"marker\": {\"colorbar\": {\"outlinewidth\": 0, \"ticks\": \"\"}}, \"type\": \"scattergeo\"}], \"scattergl\": [{\"marker\": {\"colorbar\": {\"outlinewidth\": 0, \"ticks\": \"\"}}, \"type\": \"scattergl\"}], \"scattermapbox\": [{\"marker\": {\"colorbar\": {\"outlinewidth\": 0, \"ticks\": \"\"}}, \"type\": \"scattermapbox\"}], \"scatterpolar\": [{\"marker\": {\"colorbar\": {\"outlinewidth\": 0, \"ticks\": \"\"}}, \"type\": \"scatterpolar\"}], \"scatterpolargl\": [{\"marker\": {\"colorbar\": {\"outlinewidth\": 0, \"ticks\": \"\"}}, \"type\": \"scatterpolargl\"}], \"scatterternary\": [{\"marker\": {\"colorbar\": {\"outlinewidth\": 0, \"ticks\": \"\"}}, \"type\": \"scatterternary\"}], \"surface\": [{\"colorbar\": {\"outlinewidth\": 0, \"ticks\": \"\"}, \"colorscale\": [[0.0, \"#0d0887\"], [0.1111111111111111, \"#46039f\"], [0.2222222222222222, \"#7201a8\"], [0.3333333333333333, \"#9c179e\"], [0.4444444444444444, \"#bd3786\"], [0.5555555555555556, \"#d8576b\"], [0.6666666666666666, \"#ed7953\"], [0.7777777777777778, \"#fb9f3a\"], [0.8888888888888888, \"#fdca26\"], [1.0, \"#f0f921\"]], \"type\": \"surface\"}], \"table\": [{\"cells\": {\"fill\": {\"color\": \"#EBF0F8\"}, \"line\": {\"color\": \"white\"}}, \"header\": {\"fill\": {\"color\": \"#C8D4E3\"}, \"line\": {\"color\": \"white\"}}, \"type\": \"table\"}]}, \"layout\": {\"annotationdefaults\": {\"arrowcolor\": \"#2a3f5f\", \"arrowhead\": 0, \"arrowwidth\": 1}, \"coloraxis\": {\"colorbar\": {\"outlinewidth\": 0, \"ticks\": \"\"}}, \"colorscale\": {\"diverging\": [[0, \"#8e0152\"], [0.1, \"#c51b7d\"], [0.2, \"#de77ae\"], [0.3, \"#f1b6da\"], [0.4, \"#fde0ef\"], [0.5, \"#f7f7f7\"], [0.6, \"#e6f5d0\"], [0.7, \"#b8e186\"], [0.8, \"#7fbc41\"], [0.9, \"#4d9221\"], [1, \"#276419\"]], \"sequential\": [[0.0, \"#0d0887\"], [0.1111111111111111, \"#46039f\"], [0.2222222222222222, \"#7201a8\"], [0.3333333333333333, \"#9c179e\"], [0.4444444444444444, \"#bd3786\"], [0.5555555555555556, \"#d8576b\"], [0.6666666666666666, \"#ed7953\"], [0.7777777777777778, \"#fb9f3a\"], [0.8888888888888888, \"#fdca26\"], [1.0, \"#f0f921\"]], \"sequentialminus\": [[0.0, \"#0d0887\"], [0.1111111111111111, \"#46039f\"], [0.2222222222222222, \"#7201a8\"], [0.3333333333333333, \"#9c179e\"], [0.4444444444444444, \"#bd3786\"], [0.5555555555555556, \"#d8576b\"], [0.6666666666666666, \"#ed7953\"], [0.7777777777777778, \"#fb9f3a\"], [0.8888888888888888, \"#fdca26\"], [1.0, \"#f0f921\"]]}, \"colorway\": [\"#636efa\", \"#EF553B\", \"#00cc96\", \"#ab63fa\", \"#FFA15A\", \"#19d3f3\", \"#FF6692\", \"#B6E880\", \"#FF97FF\", \"#FECB52\"], \"font\": {\"color\": \"#2a3f5f\"}, \"geo\": {\"bgcolor\": \"white\", \"lakecolor\": \"white\", \"landcolor\": \"#E5ECF6\", \"showlakes\": true, \"showland\": true, \"subunitcolor\": \"white\"}, \"hoverlabel\": {\"align\": \"left\"}, \"hovermode\": \"closest\", \"mapbox\": {\"style\": \"light\"}, \"paper_bgcolor\": \"white\", \"plot_bgcolor\": \"#E5ECF6\", \"polar\": {\"angularaxis\": {\"gridcolor\": \"white\", \"linecolor\": \"white\", \"ticks\": \"\"}, \"bgcolor\": \"#E5ECF6\", \"radialaxis\": {\"gridcolor\": \"white\", \"linecolor\": \"white\", \"ticks\": \"\"}}, \"scene\": {\"xaxis\": {\"backgroundcolor\": \"#E5ECF6\", \"gridcolor\": \"white\", \"gridwidth\": 2, \"linecolor\": \"white\", \"showbackground\": true, \"ticks\": \"\", \"zerolinecolor\": \"white\"}, \"yaxis\": {\"backgroundcolor\": \"#E5ECF6\", \"gridcolor\": \"white\", \"gridwidth\": 2, \"linecolor\": \"white\", \"showbackground\": true, \"ticks\": \"\", \"zerolinecolor\": \"white\"}, \"zaxis\": {\"backgroundcolor\": \"#E5ECF6\", \"gridcolor\": \"white\", \"gridwidth\": 2, \"linecolor\": \"white\", \"showbackground\": true, \"ticks\": \"\", \"zerolinecolor\": \"white\"}}, \"shapedefaults\": {\"line\": {\"color\": \"#2a3f5f\"}}, \"ternary\": {\"aaxis\": {\"gridcolor\": \"white\", \"linecolor\": \"white\", \"ticks\": \"\"}, \"baxis\": {\"gridcolor\": \"white\", \"linecolor\": \"white\", \"ticks\": \"\"}, \"bgcolor\": \"#E5ECF6\", \"caxis\": {\"gridcolor\": \"white\", \"linecolor\": \"white\", \"ticks\": \"\"}}, \"title\": {\"x\": 0.05}, \"xaxis\": {\"automargin\": true, \"gridcolor\": \"white\", \"linecolor\": \"white\", \"ticks\": \"\", \"title\": {\"standoff\": 15}, \"zerolinecolor\": \"white\", \"zerolinewidth\": 2}, \"yaxis\": {\"automargin\": true, \"gridcolor\": \"white\", \"linecolor\": \"white\", \"ticks\": \"\", \"title\": {\"standoff\": 15}, \"zerolinecolor\": \"white\", \"zerolinewidth\": 2}}}},\n",
              "                        {\"responsive\": true}\n",
              "                    ).then(function(){\n",
              "                            \n",
              "var gd = document.getElementById('f65822c0-9e67-45b5-a402-8d71d4a68535');\n",
              "var x = new MutationObserver(function (mutations, observer) {{\n",
              "        var display = window.getComputedStyle(gd).display;\n",
              "        if (!display || display === 'none') {{\n",
              "            console.log([gd, 'removed!']);\n",
              "            Plotly.purge(gd);\n",
              "            observer.disconnect();\n",
              "        }}\n",
              "}});\n",
              "\n",
              "// Listen for the removal of the full notebook cells\n",
              "var notebookContainer = gd.closest('#notebook-container');\n",
              "if (notebookContainer) {{\n",
              "    x.observe(notebookContainer, {childList: true});\n",
              "}}\n",
              "\n",
              "// Listen for the clearing of the current output cell\n",
              "var outputEl = gd.closest('.output');\n",
              "if (outputEl) {{\n",
              "    x.observe(outputEl, {childList: true});\n",
              "}}\n",
              "\n",
              "                        })\n",
              "                };\n",
              "                \n",
              "            </script>\n",
              "        </div>\n",
              "</body>\n",
              "</html>"
            ]
          },
          "metadata": {
            "tags": []
          }
        }
      ]
    },
    {
      "cell_type": "markdown",
      "metadata": {
        "id": "EVzxXVlGni-W"
      },
      "source": [
        "### Text for part 2.3\n",
        "The sale of all parts go up and down throughout the years. In the 4th quarter of 2016, the sale of all parts went down quite a lot, but already in 2017 Q1 the sales went back to normal."
      ]
    },
    {
      "cell_type": "markdown",
      "metadata": {
        "id": "lapWpWIaOl2L"
      },
      "source": [
        "#### 2.4. What is the average price paid for a part and the price history for parts? (5 pts)\n",
        "\n",
        "Identify product trends. If a product is very expensive and purchase orders are going down, it might be worth considering the price of the item, as well as its relevance in the market. If a product has suddenly become very popular, it could be interesting to increase the price and see if costumers will continue to buy it, as this could increase profit for the company.\n",
        "\n",
        "Compute the answer, plot appropriately, and write a paragraph describing the findings."
      ]
    },
    {
      "cell_type": "code",
      "metadata": {
        "id": "IVDsRjedPBeW",
        "colab": {
          "base_uri": "https://localhost:8080/",
          "height": 992
        },
        "outputId": "cca34afc-fddc-4f0b-a270-a91b33bff47f"
      },
      "source": [
        "## Compute average price paid for a part\n",
        "q5 = \"\"\" \n",
        "  SELECT\n",
        "    part, AVG(price_in_EUR)\n",
        "  FROM\n",
        "    convert_df\n",
        "  GROUP BY part\n",
        "  ORDER BY AVG(price_in_EUR) DESC\n",
        "    \"\"\"\n",
        "avgpartdf = spark.sql(q5)\n",
        "avgpartdf.show()\n",
        "\n",
        "# Plot of average price of parts\n",
        "pandasdf = avgpartdf.toPandas()\n",
        "partCol = pandasdf['part'].tolist()\n",
        "avgCol = pandasdf['avg(price_in_EUR)'].tolist()\n",
        "\n",
        "fig = go.Figure()\n",
        "\n",
        "fig.add_trace(\n",
        "      go.Bar(x=partCol,\n",
        "             y=avgCol)                   \n",
        "      )\n",
        "\n",
        "fig.show()"
      ],
      "execution_count": 127,
      "outputs": [
        {
          "output_type": "stream",
          "text": [
            "+----------+-----------------+\n",
            "|      part|avg(price_in_EUR)|\n",
            "+----------+-----------------+\n",
            "| 17156-617|997.8348326526989|\n",
            "| 0268-1401|993.7937224516998|\n",
            "| 16477-306|987.8669186153927|\n",
            "| 76117-001| 975.295038951527|\n",
            "|51531-9500|973.5012871396225|\n",
            "| 0185-0373|972.5495600465869|\n",
            "| 51346-145|967.1697090704322|\n",
            "| 51138-049|965.2877874223012|\n",
            "| 49035-530| 955.460543732145|\n",
            "| 16590-177|951.8460761520463|\n",
            "|36987-1697|942.6777791837367|\n",
            "|58668-4281|934.5654344679434|\n",
            "|49288-0285|928.0713993794209|\n",
            "| 51523-002|925.0196736825479|\n",
            "|54973-9150|912.8091193305122|\n",
            "| 0268-1128|904.5122330788454|\n",
            "| 70253-307|900.8515285584984|\n",
            "| 68462-565| 896.886028056242|\n",
            "| 68180-121|886.0683847674886|\n",
            "| 10578-049|876.1968303149259|\n",
            "+----------+-----------------+\n",
            "only showing top 20 rows\n",
            "\n"
          ],
          "name": "stdout"
        },
        {
          "output_type": "display_data",
          "data": {
            "text/html": [
              "<html>\n",
              "<head><meta charset=\"utf-8\" /></head>\n",
              "<body>\n",
              "    <div>\n",
              "            <script src=\"https://cdnjs.cloudflare.com/ajax/libs/mathjax/2.7.5/MathJax.js?config=TeX-AMS-MML_SVG\"></script><script type=\"text/javascript\">if (window.MathJax) {MathJax.Hub.Config({SVG: {font: \"STIX-Web\"}});}</script>\n",
              "                <script type=\"text/javascript\">window.PlotlyConfig = {MathJaxConfig: 'local'};</script>\n",
              "        <script src=\"https://cdn.plot.ly/plotly-latest.min.js\"></script>    \n",
              "            <div id=\"ac30768e-dd22-4f33-8194-130c261fff2e\" class=\"plotly-graph-div\" style=\"height:525px; width:100%;\"></div>\n",
              "            <script type=\"text/javascript\">\n",
              "                \n",
              "                    window.PLOTLYENV=window.PLOTLYENV || {};\n",
              "                    \n",
              "                if (document.getElementById(\"ac30768e-dd22-4f33-8194-130c261fff2e\")) {\n",
              "                    Plotly.newPlot(\n",
              "                        'ac30768e-dd22-4f33-8194-130c261fff2e',\n",
              "                        [{\"type\": \"bar\", \"x\": [\"17156-617\", \"0268-1401\", \"16477-306\", \"76117-001\", \"51531-9500\", \"0185-0373\", \"51346-145\", \"51138-049\", \"49035-530\", \"16590-177\", \"36987-1697\", \"58668-4281\", \"49288-0285\", \"51523-002\", \"54973-9150\", \"0268-1128\", \"70253-307\", \"68462-565\", \"68180-121\", \"10578-049\", \"50458-560\", \"49999-737\", \"0228-2167\", \"49349-471\", \"49349-106\", \"49520-501\", \"68752-024\", \"62011-0219\", \"54868-5165\", \"52343-025\", \"51060-032\", \"65044-3014\", \"0603-6134\", \"55154-5057\", \"54092-515\", \"59779-028\", \"0699-7041\", \"13537-259\", \"67544-356\", \"55700-014\", \"51079-947\", \"13537-468\", \"10237-832\", \"55566-2100\", \"50563-113\", \"68233-011\", \"16714-295\", \"41167-0843\", \"52125-136\", \"49349-820\", \"49967-724\", \"37205-992\", \"62742-4030\", \"35356-325\", \"68084-172\", \"52380-1102\", \"49349-314\", \"21695-931\", \"49738-105\", \"0268-6107\", \"55856-0003\", \"58596-001\", \"54868-6311\", \"16729-167\", \"10267-2529\", \"76314-002\", \"62670-4404\", \"44946-1046\", \"55289-164\", \"21695-267\", \"24286-1562\", \"61398-0828\", \"76335-006\", \"49349-842\", \"0615-7679\", \"52959-433\", \"62756-707\", \"49348-574\", \"52125-444\", \"36800-952\", \"37205-951\", \"43419-018\", \"98132-889\", \"42254-213\", \"68084-595\", \"58118-5060\", \"49288-0655\", \"48951-4042\", \"63629-2733\", \"24385-268\", \"60505-2867\", \"54473-578\", \"59779-601\", \"54123-957\", \"54868-0823\", \"67046-030\", \"51346-126\", \"0268-1604\", \"41163-428\", \"76454-100\"], \"y\": [997.8348326526989, 993.7937224516998, 987.8669186153927, 975.295038951527, 973.5012871396225, 972.5495600465869, 967.1697090704322, 965.2877874223012, 955.460543732145, 951.8460761520463, 942.6777791837367, 934.5654344679434, 928.0713993794209, 925.0196736825479, 912.8091193305122, 904.5122330788454, 900.8515285584984, 896.886028056242, 886.0683847674886, 876.1968303149259, 874.5345904806386, 867.9674772135417, 866.2057662316419, 865.8465294471154, 860.0349889505765, 851.1318417624319, 838.8852184501426, 822.9923159825663, 819.4612353573675, 816.1341280783377, 795.8937327067057, 793.900418551463, 791.388626447007, 777.5321835354331, 769.9874369303385, 761.1183487285267, 733.5498716742171, 729.3897468774699, 672.9632678505601, 658.676728526573, 650.3176877748716, 637.3297283803817, 623.4802751813617, 615.5911549028144, 591.9518582743983, 574.649002238391, 572.5192741458699, 560.3824250919303, 555.8178233485067, 554.125116537886, 536.9857400539702, 535.624036857317, 532.3993889106499, 532.2302188098431, 514.9281156909082, 501.75202346709835, 496.137530096646, 493.52006127493723, 487.7130912554146, 476.00894907976357, 465.3738133081115, 464.1186076938706, 448.2128247170553, 446.2775364921603, 444.74674733479816, 443.9714209738742, 419.72928383856106, 411.6026120308118, 411.2815587718016, 393.32544917948763, 377.2223765377254, 366.9830318386272, 365.04611475327437, 364.5554079460375, 361.9857909049395, 334.06049260878024, 304.82682534236056, 304.2863475385919, 280.523038212557, 256.00610213983254, 226.5232048538813, 222.0692371466221, 221.58105479914968, 219.6328450187308, 215.13969391071242, 214.60089683898107, 214.58154812487928, 212.67243541035674, 202.79219451904297, 200.2315215751773, 185.53870936075847, 174.45663543701173, 169.19705708821616, 164.92220569166363, 157.4151828132541, 154.10044061220609, 137.96825814099046, 131.92622528953115, 128.2161618304509, 127.24681849459724]}],\n",
              "                        {\"template\": {\"data\": {\"bar\": [{\"error_x\": {\"color\": \"#2a3f5f\"}, \"error_y\": {\"color\": \"#2a3f5f\"}, \"marker\": {\"line\": {\"color\": \"#E5ECF6\", \"width\": 0.5}}, \"type\": \"bar\"}], \"barpolar\": [{\"marker\": {\"line\": {\"color\": \"#E5ECF6\", \"width\": 0.5}}, \"type\": \"barpolar\"}], \"carpet\": [{\"aaxis\": {\"endlinecolor\": \"#2a3f5f\", \"gridcolor\": \"white\", \"linecolor\": \"white\", \"minorgridcolor\": \"white\", \"startlinecolor\": \"#2a3f5f\"}, \"baxis\": {\"endlinecolor\": \"#2a3f5f\", \"gridcolor\": \"white\", \"linecolor\": \"white\", \"minorgridcolor\": \"white\", \"startlinecolor\": \"#2a3f5f\"}, \"type\": \"carpet\"}], \"choropleth\": [{\"colorbar\": {\"outlinewidth\": 0, \"ticks\": \"\"}, \"type\": \"choropleth\"}], \"contour\": [{\"colorbar\": {\"outlinewidth\": 0, \"ticks\": \"\"}, \"colorscale\": [[0.0, \"#0d0887\"], [0.1111111111111111, \"#46039f\"], [0.2222222222222222, \"#7201a8\"], [0.3333333333333333, \"#9c179e\"], [0.4444444444444444, \"#bd3786\"], [0.5555555555555556, \"#d8576b\"], [0.6666666666666666, \"#ed7953\"], [0.7777777777777778, \"#fb9f3a\"], [0.8888888888888888, \"#fdca26\"], [1.0, \"#f0f921\"]], \"type\": \"contour\"}], \"contourcarpet\": [{\"colorbar\": {\"outlinewidth\": 0, \"ticks\": \"\"}, \"type\": \"contourcarpet\"}], \"heatmap\": [{\"colorbar\": {\"outlinewidth\": 0, \"ticks\": \"\"}, \"colorscale\": [[0.0, \"#0d0887\"], [0.1111111111111111, \"#46039f\"], [0.2222222222222222, \"#7201a8\"], [0.3333333333333333, \"#9c179e\"], [0.4444444444444444, \"#bd3786\"], [0.5555555555555556, \"#d8576b\"], [0.6666666666666666, \"#ed7953\"], [0.7777777777777778, \"#fb9f3a\"], [0.8888888888888888, \"#fdca26\"], [1.0, \"#f0f921\"]], \"type\": \"heatmap\"}], \"heatmapgl\": [{\"colorbar\": {\"outlinewidth\": 0, \"ticks\": \"\"}, \"colorscale\": [[0.0, \"#0d0887\"], [0.1111111111111111, \"#46039f\"], [0.2222222222222222, \"#7201a8\"], [0.3333333333333333, \"#9c179e\"], [0.4444444444444444, \"#bd3786\"], [0.5555555555555556, \"#d8576b\"], [0.6666666666666666, \"#ed7953\"], [0.7777777777777778, \"#fb9f3a\"], [0.8888888888888888, \"#fdca26\"], [1.0, \"#f0f921\"]], \"type\": \"heatmapgl\"}], \"histogram\": [{\"marker\": {\"colorbar\": {\"outlinewidth\": 0, \"ticks\": \"\"}}, \"type\": \"histogram\"}], \"histogram2d\": [{\"colorbar\": {\"outlinewidth\": 0, \"ticks\": \"\"}, \"colorscale\": [[0.0, \"#0d0887\"], [0.1111111111111111, \"#46039f\"], [0.2222222222222222, \"#7201a8\"], [0.3333333333333333, \"#9c179e\"], [0.4444444444444444, \"#bd3786\"], [0.5555555555555556, \"#d8576b\"], [0.6666666666666666, \"#ed7953\"], [0.7777777777777778, \"#fb9f3a\"], [0.8888888888888888, \"#fdca26\"], [1.0, \"#f0f921\"]], \"type\": \"histogram2d\"}], \"histogram2dcontour\": [{\"colorbar\": {\"outlinewidth\": 0, \"ticks\": \"\"}, \"colorscale\": [[0.0, \"#0d0887\"], [0.1111111111111111, \"#46039f\"], [0.2222222222222222, \"#7201a8\"], [0.3333333333333333, \"#9c179e\"], [0.4444444444444444, \"#bd3786\"], [0.5555555555555556, \"#d8576b\"], [0.6666666666666666, \"#ed7953\"], [0.7777777777777778, \"#fb9f3a\"], [0.8888888888888888, \"#fdca26\"], [1.0, \"#f0f921\"]], \"type\": \"histogram2dcontour\"}], \"mesh3d\": [{\"colorbar\": {\"outlinewidth\": 0, \"ticks\": \"\"}, \"type\": \"mesh3d\"}], \"parcoords\": [{\"line\": {\"colorbar\": {\"outlinewidth\": 0, \"ticks\": \"\"}}, \"type\": \"parcoords\"}], \"pie\": [{\"automargin\": true, \"type\": \"pie\"}], \"scatter\": [{\"marker\": {\"colorbar\": {\"outlinewidth\": 0, \"ticks\": \"\"}}, \"type\": \"scatter\"}], \"scatter3d\": [{\"line\": {\"colorbar\": {\"outlinewidth\": 0, \"ticks\": \"\"}}, \"marker\": {\"colorbar\": {\"outlinewidth\": 0, \"ticks\": \"\"}}, \"type\": \"scatter3d\"}], \"scattercarpet\": [{\"marker\": {\"colorbar\": {\"outlinewidth\": 0, \"ticks\": \"\"}}, \"type\": \"scattercarpet\"}], \"scattergeo\": [{\"marker\": {\"colorbar\": {\"outlinewidth\": 0, \"ticks\": \"\"}}, \"type\": \"scattergeo\"}], \"scattergl\": [{\"marker\": {\"colorbar\": {\"outlinewidth\": 0, \"ticks\": \"\"}}, \"type\": \"scattergl\"}], \"scattermapbox\": [{\"marker\": {\"colorbar\": {\"outlinewidth\": 0, \"ticks\": \"\"}}, \"type\": \"scattermapbox\"}], \"scatterpolar\": [{\"marker\": {\"colorbar\": {\"outlinewidth\": 0, \"ticks\": \"\"}}, \"type\": \"scatterpolar\"}], \"scatterpolargl\": [{\"marker\": {\"colorbar\": {\"outlinewidth\": 0, \"ticks\": \"\"}}, \"type\": \"scatterpolargl\"}], \"scatterternary\": [{\"marker\": {\"colorbar\": {\"outlinewidth\": 0, \"ticks\": \"\"}}, \"type\": \"scatterternary\"}], \"surface\": [{\"colorbar\": {\"outlinewidth\": 0, \"ticks\": \"\"}, \"colorscale\": [[0.0, \"#0d0887\"], [0.1111111111111111, \"#46039f\"], [0.2222222222222222, \"#7201a8\"], [0.3333333333333333, \"#9c179e\"], [0.4444444444444444, \"#bd3786\"], [0.5555555555555556, \"#d8576b\"], [0.6666666666666666, \"#ed7953\"], [0.7777777777777778, \"#fb9f3a\"], [0.8888888888888888, \"#fdca26\"], [1.0, \"#f0f921\"]], \"type\": \"surface\"}], \"table\": [{\"cells\": {\"fill\": {\"color\": \"#EBF0F8\"}, \"line\": {\"color\": \"white\"}}, \"header\": {\"fill\": {\"color\": \"#C8D4E3\"}, \"line\": {\"color\": \"white\"}}, \"type\": \"table\"}]}, \"layout\": {\"annotationdefaults\": {\"arrowcolor\": \"#2a3f5f\", \"arrowhead\": 0, \"arrowwidth\": 1}, \"coloraxis\": {\"colorbar\": {\"outlinewidth\": 0, \"ticks\": \"\"}}, \"colorscale\": {\"diverging\": [[0, \"#8e0152\"], [0.1, \"#c51b7d\"], [0.2, \"#de77ae\"], [0.3, \"#f1b6da\"], [0.4, \"#fde0ef\"], [0.5, \"#f7f7f7\"], [0.6, \"#e6f5d0\"], [0.7, \"#b8e186\"], [0.8, \"#7fbc41\"], [0.9, \"#4d9221\"], [1, \"#276419\"]], \"sequential\": [[0.0, \"#0d0887\"], [0.1111111111111111, \"#46039f\"], [0.2222222222222222, \"#7201a8\"], [0.3333333333333333, \"#9c179e\"], [0.4444444444444444, \"#bd3786\"], [0.5555555555555556, \"#d8576b\"], [0.6666666666666666, \"#ed7953\"], [0.7777777777777778, \"#fb9f3a\"], [0.8888888888888888, \"#fdca26\"], [1.0, \"#f0f921\"]], \"sequentialminus\": [[0.0, \"#0d0887\"], [0.1111111111111111, \"#46039f\"], [0.2222222222222222, \"#7201a8\"], [0.3333333333333333, \"#9c179e\"], [0.4444444444444444, \"#bd3786\"], [0.5555555555555556, \"#d8576b\"], [0.6666666666666666, \"#ed7953\"], [0.7777777777777778, \"#fb9f3a\"], [0.8888888888888888, \"#fdca26\"], [1.0, \"#f0f921\"]]}, \"colorway\": [\"#636efa\", \"#EF553B\", \"#00cc96\", \"#ab63fa\", \"#FFA15A\", \"#19d3f3\", \"#FF6692\", \"#B6E880\", \"#FF97FF\", \"#FECB52\"], \"font\": {\"color\": \"#2a3f5f\"}, \"geo\": {\"bgcolor\": \"white\", \"lakecolor\": \"white\", \"landcolor\": \"#E5ECF6\", \"showlakes\": true, \"showland\": true, \"subunitcolor\": \"white\"}, \"hoverlabel\": {\"align\": \"left\"}, \"hovermode\": \"closest\", \"mapbox\": {\"style\": \"light\"}, \"paper_bgcolor\": \"white\", \"plot_bgcolor\": \"#E5ECF6\", \"polar\": {\"angularaxis\": {\"gridcolor\": \"white\", \"linecolor\": \"white\", \"ticks\": \"\"}, \"bgcolor\": \"#E5ECF6\", \"radialaxis\": {\"gridcolor\": \"white\", \"linecolor\": \"white\", \"ticks\": \"\"}}, \"scene\": {\"xaxis\": {\"backgroundcolor\": \"#E5ECF6\", \"gridcolor\": \"white\", \"gridwidth\": 2, \"linecolor\": \"white\", \"showbackground\": true, \"ticks\": \"\", \"zerolinecolor\": \"white\"}, \"yaxis\": {\"backgroundcolor\": \"#E5ECF6\", \"gridcolor\": \"white\", \"gridwidth\": 2, \"linecolor\": \"white\", \"showbackground\": true, \"ticks\": \"\", \"zerolinecolor\": \"white\"}, \"zaxis\": {\"backgroundcolor\": \"#E5ECF6\", \"gridcolor\": \"white\", \"gridwidth\": 2, \"linecolor\": \"white\", \"showbackground\": true, \"ticks\": \"\", \"zerolinecolor\": \"white\"}}, \"shapedefaults\": {\"line\": {\"color\": \"#2a3f5f\"}}, \"ternary\": {\"aaxis\": {\"gridcolor\": \"white\", \"linecolor\": \"white\", \"ticks\": \"\"}, \"baxis\": {\"gridcolor\": \"white\", \"linecolor\": \"white\", \"ticks\": \"\"}, \"bgcolor\": \"#E5ECF6\", \"caxis\": {\"gridcolor\": \"white\", \"linecolor\": \"white\", \"ticks\": \"\"}}, \"title\": {\"x\": 0.05}, \"xaxis\": {\"automargin\": true, \"gridcolor\": \"white\", \"linecolor\": \"white\", \"ticks\": \"\", \"title\": {\"standoff\": 15}, \"zerolinecolor\": \"white\", \"zerolinewidth\": 2}, \"yaxis\": {\"automargin\": true, \"gridcolor\": \"white\", \"linecolor\": \"white\", \"ticks\": \"\", \"title\": {\"standoff\": 15}, \"zerolinecolor\": \"white\", \"zerolinewidth\": 2}}}},\n",
              "                        {\"responsive\": true}\n",
              "                    ).then(function(){\n",
              "                            \n",
              "var gd = document.getElementById('ac30768e-dd22-4f33-8194-130c261fff2e');\n",
              "var x = new MutationObserver(function (mutations, observer) {{\n",
              "        var display = window.getComputedStyle(gd).display;\n",
              "        if (!display || display === 'none') {{\n",
              "            console.log([gd, 'removed!']);\n",
              "            Plotly.purge(gd);\n",
              "            observer.disconnect();\n",
              "        }}\n",
              "}});\n",
              "\n",
              "// Listen for the removal of the full notebook cells\n",
              "var notebookContainer = gd.closest('#notebook-container');\n",
              "if (notebookContainer) {{\n",
              "    x.observe(notebookContainer, {childList: true});\n",
              "}}\n",
              "\n",
              "// Listen for the clearing of the current output cell\n",
              "var outputEl = gd.closest('.output');\n",
              "if (outputEl) {{\n",
              "    x.observe(outputEl, {childList: true});\n",
              "}}\n",
              "\n",
              "                        })\n",
              "                };\n",
              "                \n",
              "            </script>\n",
              "        </div>\n",
              "</body>\n",
              "</html>"
            ]
          },
          "metadata": {
            "tags": []
          }
        }
      ]
    },
    {
      "cell_type": "markdown",
      "metadata": {
        "id": "pEsXkXLLnrdM"
      },
      "source": [
        "### Text for part 2.4 (#1)\n",
        "There is a very steady decline in the average price from the most expensive part to the cheapest one. The most expensive part is close to 1000 EUR, while the cheapest one is 127 EUR."
      ]
    },
    {
      "cell_type": "code",
      "metadata": {
        "id": "syEIyfn2-C2R",
        "colab": {
          "base_uri": "https://localhost:8080/",
          "height": 992
        },
        "outputId": "6f4e1ec5-b3ca-4e38-d655-96b305b62dcf"
      },
      "source": [
        "# Price history of part\n",
        "q6 = \"\"\" \n",
        "  SELECT\n",
        "    part, CONCAT(CAST(YEAR(date) AS string), 'Q', CAST(QUARTER(date) AS string)) AS yrq, AVG(price_in_EUR)\n",
        "  FROM\n",
        "    convert_df\n",
        "  GROUP BY part, yrq\n",
        "  ORDER BY part, yrq\n",
        "    \"\"\"\n",
        "histdf = spark.sql(q6)\n",
        "histdf.show()\n",
        "\n",
        "# Plot of price history of part\n",
        "pandasdf = histdf.toPandas()\n",
        "\n",
        "fig = go.Figure()\n",
        "all_parts = pandasdf['part'].unique()\n",
        "\n",
        "for part in all_parts:\n",
        "  fig.add_trace(\n",
        "        go.Scatter(x=pandasdf[pandasdf['part'] == part]['yrq'].values,\n",
        "                   y=pandasdf[pandasdf['part'] == part]['avg(price_in_EUR)'].values,\n",
        "                   name=part)                   \n",
        "        )\n",
        "fig.show()"
      ],
      "execution_count": 110,
      "outputs": [
        {
          "output_type": "stream",
          "text": [
            "+---------+------+------------------+\n",
            "|     part|   yrq| avg(price_in_EUR)|\n",
            "+---------+------+------------------+\n",
            "|0185-0373|2016Q1| 986.2514322916667|\n",
            "|0185-0373|2016Q2| 961.9665934244791|\n",
            "|0185-0373|2016Q3| 977.2460123697916|\n",
            "|0185-0373|2016Q4|1002.1425018310547|\n",
            "|0185-0373|2017Q1| 959.0280151367188|\n",
            "|0185-0373|2017Q2| 984.2100982666016|\n",
            "|0185-0373|2017Q3| 969.0784149169922|\n",
            "|0185-0373|2017Q4| 968.4276968149038|\n",
            "|0185-0373|2018Q1| 971.1654866536459|\n",
            "|0185-0373|2018Q2| 979.1437920464409|\n",
            "|0185-0373|2018Q3| 964.2817660245029|\n",
            "|0185-0373|2018Q4| 968.1828096829928|\n",
            "|0228-2167|2016Q1| 943.7960458374023|\n",
            "|0228-2167|2016Q2| 836.0039963355431|\n",
            "|0228-2167|2016Q3| 921.8467278113732|\n",
            "|0228-2167|2016Q4| 925.5546736283736|\n",
            "|0228-2167|2017Q1| 937.7330780029297|\n",
            "|0228-2167|2017Q2| 781.3775503976004|\n",
            "|0228-2167|2017Q3| 807.7562789916992|\n",
            "|0228-2167|2017Q4| 877.2920437767392|\n",
            "+---------+------+------------------+\n",
            "only showing top 20 rows\n",
            "\n"
          ],
          "name": "stdout"
        },
        {
          "output_type": "display_data",
          "data": {
            "text/html": [
              "<html>\n",
              "<head><meta charset=\"utf-8\" /></head>\n",
              "<body>\n",
              "    <div>\n",
              "            <script src=\"https://cdnjs.cloudflare.com/ajax/libs/mathjax/2.7.5/MathJax.js?config=TeX-AMS-MML_SVG\"></script><script type=\"text/javascript\">if (window.MathJax) {MathJax.Hub.Config({SVG: {font: \"STIX-Web\"}});}</script>\n",
              "                <script type=\"text/javascript\">window.PlotlyConfig = {MathJaxConfig: 'local'};</script>\n",
              "        <script src=\"https://cdn.plot.ly/plotly-latest.min.js\"></script>    \n",
              "            <div id=\"2ff2efb0-8496-4f7f-9c13-bdaebdfb695c\" class=\"plotly-graph-div\" style=\"height:525px; width:100%;\"></div>\n",
              "            <script type=\"text/javascript\">\n",
              "                \n",
              "                    window.PLOTLYENV=window.PLOTLYENV || {};\n",
              "                    \n",
              "                if (document.getElementById(\"2ff2efb0-8496-4f7f-9c13-bdaebdfb695c\")) {\n",
              "                    Plotly.newPlot(\n",
              "                        '2ff2efb0-8496-4f7f-9c13-bdaebdfb695c',\n",
              "                        [{\"name\": \"0185-0373\", \"type\": \"scatter\", \"x\": [\"2016Q1\", \"2016Q2\", \"2016Q3\", \"2016Q4\", \"2017Q1\", \"2017Q2\", \"2017Q3\", \"2017Q4\", \"2018Q1\", \"2018Q2\", \"2018Q3\", \"2018Q4\"], \"y\": [986.2514322916667, 961.9665934244791, 977.2460123697916, 1002.1425018310547, 959.0280151367188, 984.2100982666016, 969.0784149169922, 968.4276968149038, 971.1654866536459, 979.1437920464409, 964.2817660245029, 968.1828096829928]}, {\"name\": \"0228-2167\", \"type\": \"scatter\", \"x\": [\"2016Q1\", \"2016Q2\", \"2016Q3\", \"2016Q4\", \"2017Q1\", \"2017Q2\", \"2017Q3\", \"2017Q4\", \"2018Q1\", \"2018Q2\", \"2018Q3\", \"2018Q4\"], \"y\": [943.7960458374023, 836.0039963355431, 921.8467278113732, 925.5546736283736, 937.7330780029297, 781.3775503976004, 807.7562789916992, 877.2920437767392, 831.8345336914062, 873.3575028639573, 960.4622805745978, 762.4560979207357]}, {\"name\": \"0268-1128\", \"type\": \"scatter\", \"x\": [\"2016Q1\", \"2016Q2\", \"2016Q3\", \"2016Q4\", \"2017Q1\", \"2017Q2\", \"2017Q3\", \"2017Q4\", \"2018Q1\", \"2018Q2\", \"2018Q3\", \"2018Q4\"], \"y\": [858.8801495478704, 873.5107214791434, 998.7326497395833, 797.9676303863525, 787.1388130187988, 933.6946655273438, 904.5398254394531, 935.672487894694, 971.2644373575846, 819.4531093173557, 1009.5048665364583, 985.1976706764915]}, {\"name\": \"0268-1401\", \"type\": \"scatter\", \"x\": [\"2016Q1\", \"2016Q2\", \"2016Q3\", \"2016Q4\", \"2017Q1\", \"2017Q2\", \"2017Q3\", \"2017Q4\", \"2018Q1\", \"2018Q2\", \"2018Q3\", \"2018Q4\"], \"y\": [910.4326700846354, 1030.5341186523438, 815.0113830566406, 1012.5351440429688, 1045.511483999399, 1042.6111842564173, 1062.4337565104167, 1003.2959626850329, 968.8521270751953, 1077.2472393329326, 1055.4914263556984, 889.1728094191778]}, {\"name\": \"0268-1604\", \"type\": \"scatter\", \"x\": [\"2016Q1\", \"2016Q2\", \"2016Q3\", \"2016Q4\", \"2017Q1\", \"2017Q2\", \"2017Q3\", \"2017Q4\", \"2018Q1\", \"2018Q2\", \"2018Q3\", \"2018Q4\"], \"y\": [135.3899163382394, 130.55950012207032, 125.79879968816584, 128.10833485921225, 123.96379089355469, 124.80639953613282, 131.28919677734376, 133.4524929340069, 141.66130193074545, 133.2276353102464, 136.50836944580078, 129.26928492954798]}, {\"name\": \"0268-6107\", \"type\": \"scatter\", \"x\": [\"2016Q1\", \"2016Q2\", \"2016Q3\", \"2016Q4\", \"2017Q1\", \"2017Q2\", \"2017Q3\", \"2017Q4\", \"2018Q1\", \"2018Q2\", \"2018Q3\", \"2018Q4\"], \"y\": [475.4007578531901, 474.26370731476817, 477.0589256286621, 477.6631805419922, 473.96561255821814, 473.9361354282924, 482.6282681551847, 483.8381572522615, 473.05016371783086, 473.67941145463425, 475.687612360174, 473.46551115616506]}, {\"name\": \"0603-6134\", \"type\": \"scatter\", \"x\": [\"2016Q1\", \"2016Q2\", \"2016Q3\", \"2016Q4\", \"2017Q1\", \"2017Q2\", \"2017Q3\", \"2017Q4\", \"2018Q1\", \"2018Q2\", \"2018Q3\", \"2018Q4\"], \"y\": [792.5243355887277, 798.3893280029297, 792.10400390625, 782.1133422851562, 791.6055908203125, 783.246535357307, 779.5742612092391, 791.6268561868106, 784.8307136086856, 802.0456199645996, 786.9946481805099, 816.1566263834635]}, {\"name\": \"0615-7679\", \"type\": \"scatter\", \"x\": [\"2016Q1\", \"2016Q2\", \"2016Q3\", \"2016Q4\", \"2017Q1\", \"2017Q2\", \"2017Q3\", \"2017Q4\", \"2018Q1\", \"2018Q2\", \"2018Q3\", \"2018Q4\"], \"y\": [365.3931816948785, 370.76268513997394, 356.47640736897785, 354.5835367838542, 369.7927507672991, 362.6706866096048, 349.33142179601333, 356.5403994605655, 353.8011743882123, 342.5464583176833, 355.30863189697266, 386.2790593686311]}, {\"name\": \"0699-7041\", \"type\": \"scatter\", \"x\": [\"2016Q1\", \"2016Q2\", \"2016Q3\", \"2016Q4\", \"2017Q1\", \"2017Q2\", \"2017Q3\", \"2017Q4\", \"2018Q1\", \"2018Q2\", \"2018Q3\", \"2018Q4\"], \"y\": [790.6372593470982, 715.1312190464565, 723.8027051842731, 768.3379657451923, 742.2108726501465, 839.08447265625, 793.5171576605903, 733.4508865356445, 712.2976926606277, 647.928002251519, 732.512445359003, 708.1191259313513]}, {\"name\": \"10237-832\", \"type\": \"scatter\", \"x\": [\"2016Q1\", \"2016Q2\", \"2016Q3\", \"2016Q4\", \"2017Q1\", \"2017Q2\", \"2017Q3\", \"2017Q4\", \"2018Q1\", \"2018Q2\", \"2018Q3\", \"2018Q4\"], \"y\": [564.3685836791992, 576.1342953768643, 692.5743153889974, 579.9612520658053, 666.7730630238851, 525.0899612426758, 626.745908610026, 601.4267863612021, 665.3116050720215, 766.3996826171875, 702.0373164585659, 598.2601267496744]}, {\"name\": \"10267-2529\", \"type\": \"scatter\", \"x\": [\"2016Q1\", \"2016Q2\", \"2016Q3\", \"2016Q4\", \"2017Q1\", \"2017Q2\", \"2017Q3\", \"2017Q4\", \"2018Q1\", \"2018Q2\", \"2018Q3\", \"2018Q4\"], \"y\": [462.7089001464844, 449.0859432220459, 479.3075065612793, 420.5642830984933, 463.8454506613991, 435.9249030219184, 415.3971252441406, 461.16500150240387, 430.06199915268843, 424.7534698486328, 440.01828220912387, 453.24232381184896]}, {\"name\": \"10578-049\", \"type\": \"scatter\", \"x\": [\"2016Q1\", \"2016Q2\", \"2016Q3\", \"2016Q4\", \"2017Q1\", \"2017Q2\", \"2017Q3\", \"2017Q4\", \"2018Q1\", \"2018Q2\", \"2018Q3\", \"2018Q4\"], \"y\": [820.8506644112723, 762.7224975585938, 973.5678321838379, 989.2103881835938, 736.0826782226562, 793.2840740497296, 847.1151580810547, 950.5517951117622, 798.5518963153546, 1052.2656089381169, 1002.0860857282366, 770.8463689630681]}, {\"name\": \"13537-259\", \"type\": \"scatter\", \"x\": [\"2016Q1\", \"2016Q2\", \"2016Q3\", \"2016Q4\", \"2017Q1\", \"2017Q2\", \"2017Q3\", \"2017Q4\", \"2018Q1\", \"2018Q2\", \"2018Q3\", \"2018Q4\"], \"y\": [756.2646298615829, 717.3516540527344, 742.5430961277174, 700.5219970703125, 708.5519072433998, 743.5743119089227, 720.2951141357422, 734.4805908203125, 701.6321411132812, 721.5914786202567, 736.1347998046875, 768.1059753417969]}, {\"name\": \"13537-468\", \"type\": \"scatter\", \"x\": [\"2016Q1\", \"2016Q2\", \"2016Q3\", \"2016Q4\", \"2017Q1\", \"2017Q2\", \"2017Q3\", \"2017Q4\", \"2018Q1\", \"2018Q2\", \"2018Q3\", \"2018Q4\"], \"y\": [653.0844475241269, 690.8590123793658, 633.236629486084, 658.3103790283203, 569.0646240234375, 661.6468777126736, 631.3610653347439, 604.7055184500558, 672.6940808977399, 600.0067007882254, 597.324951171875, 633.8347854614258]}, {\"name\": \"16477-306\", \"type\": \"scatter\", \"x\": [\"2016Q1\", \"2016Q2\", \"2016Q3\", \"2016Q4\", \"2017Q1\", \"2017Q2\", \"2017Q3\", \"2017Q4\", \"2018Q1\", \"2018Q2\", \"2018Q3\", \"2018Q4\"], \"y\": [968.6379949396306, 1003.9580891927084, 979.4878158569336, 974.0880004882813, 967.3449266221788, 1027.2174987792969, 1003.720458984375, 1011.1142578125, 981.4022565569196, 998.4877985174006, 975.9223700629341, 989.6336447975852]}, {\"name\": \"16590-177\", \"type\": \"scatter\", \"x\": [\"2016Q1\", \"2016Q2\", \"2016Q3\", \"2016Q4\", \"2017Q1\", \"2017Q2\", \"2017Q3\", \"2017Q4\", \"2018Q1\", \"2018Q2\", \"2018Q3\", \"2018Q4\"], \"y\": [902.4545169406467, 850.8747990926107, 1036.9713178362165, 1229.966552734375, 868.5859680175781, 980.9291341145833, 1012.6369756062826, 1018.8733642578125, 1165.2427001953124, 806.7161926269531, 961.969165802002, 902.1687679290771]}, {\"name\": \"16714-295\", \"type\": \"scatter\", \"x\": [\"2016Q1\", \"2016Q2\", \"2016Q3\", \"2016Q4\", \"2017Q1\", \"2017Q2\", \"2017Q3\", \"2017Q4\", \"2018Q1\", \"2018Q2\", \"2018Q3\", \"2018Q4\"], \"y\": [516.2517418861389, 603.9581872849237, 583.607553100586, 599.1600677490235, 538.3875912753018, 558.7189059787327, 575.8166213989258, 573.0696483793713, 612.5167846679688, 560.3794559297107, 590.0762775127704, 616.6864448547364]}, {\"name\": \"16729-167\", \"type\": \"scatter\", \"x\": [\"2016Q1\", \"2016Q2\", \"2016Q3\", \"2016Q4\", \"2017Q1\", \"2017Q2\", \"2017Q3\", \"2017Q4\", \"2018Q1\", \"2018Q2\", \"2018Q3\", \"2018Q4\"], \"y\": [424.9412156307336, 526.1855524236506, 451.50574684143066, 403.82999361478363, 468.1997250643644, 453.00880279541013, 376.59228515625, 444.29741923014325, 447.5675638372248, 436.94015199166756, 421.9767692089081, 471.74641876220704]}, {\"name\": \"17156-617\", \"type\": \"scatter\", \"x\": [null, \"2016Q1\", \"2016Q2\", \"2016Q3\", \"2016Q4\", \"2017Q1\", \"2017Q2\", \"2017Q3\", \"2017Q4\", \"2018Q1\", \"2018Q2\", \"2018Q3\", \"2018Q4\"], \"y\": [791.8599853515625, 991.2489948887979, 1004.5529663085938, 983.5197041829427, 926.1116638183594, 992.4455261230469, 916.7856811523437, 993.1502838134766, 1005.0646484375, 1056.1594591642681, 1039.1488356817335, 1011.2234751383463, 1000.4115320841471]}, {\"name\": \"21695-267\", \"type\": \"scatter\", \"x\": [\"2016Q1\", \"2016Q2\", \"2016Q3\", \"2016Q4\", \"2017Q1\", \"2017Q2\", \"2017Q3\", \"2017Q4\", \"2018Q1\", \"2018Q2\", \"2018Q3\", \"2018Q4\"], \"y\": [412.73737820712, 385.60083389282227, 372.2307336980646, 433.350350516183, 405.29674835205077, 406.81164889865454, 385.230729675293, 370.93273836023667, 422.4740956624349, 376.4327100118001, 327.58518981933594, 416.02540690104166]}, {\"name\": \"21695-931\", \"type\": \"scatter\", \"x\": [\"2016Q1\", \"2016Q2\", \"2016Q3\", \"2016Q4\", \"2017Q1\", \"2017Q2\", \"2017Q3\", \"2017Q4\", \"2018Q1\", \"2018Q2\", \"2018Q3\", \"2018Q4\"], \"y\": [556.811622170841, 426.6698252360026, 409.0467442103795, 558.1523810492622, 472.0783405303955, 507.92999267578125, 542.7561943951775, 478.6005663190569, 438.7846174973708, 581.6242835998535, 448.2153733905993, 486.09160317314996]}, {\"name\": \"24286-1562\", \"type\": \"scatter\", \"x\": [\"2016Q1\", \"2016Q2\", \"2016Q3\", \"2016Q4\", \"2017Q1\", \"2017Q2\", \"2017Q3\", \"2017Q4\", \"2018Q1\", \"2018Q2\", \"2018Q3\", \"2018Q4\"], \"y\": [345.9088792067308, 390.5218998835637, 389.59076436360675, 389.9569396972656, 380.2628967285156, 395.0732727050781, 351.04166412353516, 353.80215911865236, 398.8688223702567, 373.5453747340611, 395.38135223388673, 382.3596925281343]}, {\"name\": \"24385-268\", \"type\": \"scatter\", \"x\": [\"2016Q1\", \"2016Q2\", \"2016Q3\", \"2016Q4\", \"2017Q1\", \"2017Q2\", \"2017Q3\", \"2017Q4\", \"2018Q1\", \"2018Q2\", \"2018Q3\", \"2018Q4\"], \"y\": [189.57567160470145, 198.58785574776786, 217.42750040690103, 210.80122299194335, 187.17693328857422, 187.53170413062685, 206.97813207452947, 213.69134648640951, 205.61526522429094, 190.775354273179, 201.16302837025034, 212.7619046662983]}, {\"name\": \"35356-325\", \"type\": \"scatter\", \"x\": [\"2016Q1\", \"2016Q2\", \"2016Q3\", \"2016Q4\", \"2017Q1\", \"2017Q2\", \"2017Q3\", \"2017Q4\", \"2018Q1\", \"2018Q2\", \"2018Q3\", \"2018Q4\"], \"y\": [463.040798333975, 446.8147141306024, 584.7383117675781, 540.1774978637695, 592.6914606827957, 556.6563369750977, 614.4103883107504, 456.1690026988154, 539.5205658333642, 572.7944127133018, 498.42784477682676, 608.5385983784994]}, {\"name\": \"36800-952\", \"type\": \"scatter\", \"x\": [\"2016Q1\", \"2016Q2\", \"2016Q3\", \"2016Q4\", \"2017Q1\", \"2017Q2\", \"2017Q3\", \"2017Q4\", \"2018Q1\", \"2018Q2\", \"2018Q3\", \"2018Q4\"], \"y\": [264.40080947875975, 257.0857426570012, 277.53442721896704, 256.32371826171874, 248.54717254638672, 254.3183135986328, 236.56000137329102, 248.0890146891276, 257.05969047546387, 253.00334583629262, 243.7246996561686, 264.7191683451335]}, {\"name\": \"36987-1697\", \"type\": \"scatter\", \"x\": [\"2016Q1\", \"2016Q2\", \"2016Q3\", \"2016Q4\", \"2017Q1\", \"2017Q2\", \"2017Q3\", \"2017Q4\", \"2018Q1\", \"2018Q2\", \"2018Q3\", \"2018Q4\"], \"y\": [951.2080091996627, 921.0874871148003, 933.4829177856445, 964.8433363172743, 904.004153781467, 871.346693772536, 932.2474568684896, 881.7977182488693, 1015.1200900607639, 999.7093092974494, 950.6590772356305, 981.4051541415128]}, {\"name\": \"37205-951\", \"type\": \"scatter\", \"x\": [\"2016Q1\", \"2016Q2\", \"2016Q3\", \"2016Q4\", \"2017Q1\", \"2017Q2\", \"2017Q3\", \"2017Q4\", \"2018Q1\", \"2018Q2\", \"2018Q3\", \"2018Q4\"], \"y\": [209.0976343462544, 220.10730060778167, 218.21155003138952, 192.63249683380127, 237.33324432373047, 240.92221450805664, 243.0183403708718, 230.6007843017578, 230.33000083591628, 231.38298161824545, 237.87579107284546, 219.3860179759838]}, {\"name\": \"37205-992\", \"type\": \"scatter\", \"x\": [\"2016Q1\", \"2016Q2\", \"2016Q3\", \"2016Q4\", \"2017Q1\", \"2017Q2\", \"2017Q3\", \"2017Q4\", \"2018Q1\", \"2018Q2\", \"2018Q3\", \"2018Q4\"], \"y\": [547.0986189725922, 530.2275331670588, 453.6142096268503, 610.8420013427734, 580.3373641967773, 629.6792935458096, 527.1855249404907, 488.6426231384277, 564.0424591064453, 544.9238417489188, 531.7761433919271, 496.12071838378904]}, {\"name\": \"41163-428\", \"type\": \"scatter\", \"x\": [\"2016Q1\", \"2016Q2\", \"2016Q3\", \"2016Q4\", \"2017Q1\", \"2017Q2\", \"2017Q3\", \"2017Q4\", \"2018Q1\", \"2018Q2\", \"2018Q3\", \"2018Q4\"], \"y\": [126.66859782825817, 125.06349583675987, 127.1945292154948, 132.39666748046875, 130.3673988791073, 130.65086703830295, 128.75784657796223, 130.00138664245605, 124.15891400505515, 129.74037297566733, 129.0195369720459, 129.29747608729772]}, {\"name\": \"41167-0843\", \"type\": \"scatter\", \"x\": [\"2016Q1\", \"2016Q2\", \"2016Q3\", \"2017Q1\", \"2017Q2\", \"2017Q3\", \"2017Q4\", \"2018Q1\", \"2018Q2\", \"2018Q3\", \"2018Q4\"], \"y\": [556.1927093505859, 591.929315839495, 599.8062438964844, 596.5550003051758, 495.44950212751115, 642.2480672200521, 525.8001505533854, 512.8538077218192, 536.1237525939941, 568.9267069498698, 557.8328372955323]}, {\"name\": \"42254-213\", \"type\": \"scatter\", \"x\": [\"2016Q1\", \"2016Q2\", \"2016Q3\", \"2016Q4\", \"2017Q1\", \"2017Q2\", \"2017Q3\", \"2017Q4\", \"2018Q1\", \"2018Q2\", \"2018Q3\", \"2018Q4\"], \"y\": [221.23394012451172, 222.71288240872897, 219.07391634854403, 232.89999389648438, 227.731951713562, 215.38302993774414, 229.92157554626465, 213.84092712402344, 217.71293258666992, 219.25179341634114, 205.99407681551847, 219.9456925825639]}, {\"name\": \"43419-018\", \"type\": \"scatter\", \"x\": [\"2016Q1\", \"2016Q2\", \"2016Q3\", \"2016Q4\", \"2017Q1\", \"2017Q2\", \"2017Q3\", \"2017Q4\", \"2018Q1\", \"2018Q2\", \"2018Q3\", \"2018Q4\"], \"y\": [232.7148338766659, 209.74424057006837, 227.51688385009766, 268.0550003051758, 208.605359694537, 240.48010164148667, 214.58856760660808, 222.2374044565054, 213.1200378417969, 218.07923634847006, 233.00747541947797, 221.65287373860676]}, {\"name\": \"44946-1046\", \"type\": \"scatter\", \"x\": [\"2016Q1\", \"2016Q2\", \"2016Q3\", \"2016Q4\", \"2017Q1\", \"2017Q2\", \"2017Q3\", \"2017Q4\", \"2018Q1\", \"2018Q2\", \"2018Q3\", \"2018Q4\"], \"y\": [418.4990559895833, 420.33864048549106, 412.4740397135417, 406.01111178927954, 404.7553350275213, 417.4761276245117, 410.9967732747396, 412.9702594463642, 405.42289479573566, 407.6381352742513, 411.1783770392923, 402.6522050337358]}, {\"name\": \"48951-4042\", \"type\": \"scatter\", \"x\": [\"2016Q1\", \"2016Q2\", \"2016Q3\", \"2016Q4\", \"2017Q1\", \"2017Q2\", \"2017Q3\", \"2017Q4\", \"2018Q1\", \"2018Q2\", \"2018Q3\", \"2018Q4\"], \"y\": [231.51848396888147, 197.60777893066407, 227.26000022888184, 220.71796875, 227.20691366756662, 214.60738509041923, 226.67140838623047, 196.10035862642175, 200.0160622229943, 215.34450416564943, 188.0479039731233, 205.45870513916014]}, {\"name\": \"49035-530\", \"type\": \"scatter\", \"x\": [\"2016Q1\", \"2016Q2\", \"2016Q3\", \"2016Q4\", \"2017Q1\", \"2017Q2\", \"2017Q3\", \"2017Q4\", \"2018Q1\", \"2018Q2\", \"2018Q3\", \"2018Q4\"], \"y\": [926.6021614074707, 1022.7553825378418, 862.6766526963976, 1066.7375030517578, 966.1292063395182, 882.0919189453125, 967.7305297851562, 879.302001953125, 967.515625, 950.7446566495029, 956.3860212053571, 1032.4852683327415]}, {\"name\": \"49288-0285\", \"type\": \"scatter\", \"x\": [\"2016Q1\", \"2016Q2\", \"2016Q3\", \"2016Q4\", \"2017Q1\", \"2017Q2\", \"2017Q3\", \"2017Q4\", \"2018Q1\", \"2018Q2\", \"2018Q3\", \"2018Q4\"], \"y\": [888.9538879394531, 883.401909383138, 1241.6671316964287, 1069.3650207519531, 640.3628627232143, 1093.7629055447048, 1019.191972212358, 929.9873324307529, 899.2619514465332, 837.1613947550455, 841.9155162464489, 955.8446655273438]}, {\"name\": \"49288-0655\", \"type\": \"scatter\", \"x\": [\"2016Q1\", \"2016Q2\", \"2016Q3\", \"2016Q4\", \"2017Q1\", \"2017Q2\", \"2017Q3\", \"2017Q4\", \"2018Q1\", \"2018Q2\", \"2018Q3\", \"2018Q4\"], \"y\": [237.470703125, 220.43967819213867, 207.97285788399833, 149.61000061035156, 314.73020629882814, 181.94750022888184, 206.0446434020996, 195.17014122009277, 192.46500142415366, 206.57444312355736, 204.686156378852, 205.1075897216797]}, {\"name\": \"49348-574\", \"type\": \"scatter\", \"x\": [\"2016Q1\", \"2016Q2\", \"2016Q3\", \"2016Q4\", \"2017Q1\", \"2017Q2\", \"2017Q3\", \"2017Q4\", \"2018Q1\", \"2018Q2\", \"2018Q3\", \"2018Q4\"], \"y\": [316.9226101146025, 312.49106216430664, 294.4099178314209, 326.8199971516927, 297.9293389892578, 307.98511505126953, 302.06919352213544, 311.58977227461963, 293.5477040608724, 311.7523962656657, 278.87699526832216, 308.590754699707]}, {\"name\": \"49349-106\", \"type\": \"scatter\", \"x\": [\"2016Q1\", \"2016Q2\", \"2016Q3\", \"2016Q4\", \"2017Q1\", \"2017Q2\", \"2017Q3\", \"2017Q4\", \"2018Q1\", \"2018Q2\", \"2018Q3\", \"2018Q4\"], \"y\": [812.3059269831731, 767.3385887145996, 855.1189129169171, 884.9728461371528, 841.4471298217774, 943.3786600748698, 885.7058605957031, 938.5399736676898, 820.2411861419678, 905.7152975173224, 918.0421176486545, 816.6063988095239]}, {\"name\": \"49349-314\", \"type\": \"scatter\", \"x\": [\"2016Q1\", \"2016Q2\", \"2016Q3\", \"2016Q4\", \"2017Q1\", \"2017Q2\", \"2017Q3\", \"2017Q4\", \"2018Q1\", \"2018Q2\", \"2018Q3\", \"2018Q4\"], \"y\": [497.58998325892856, 499.54329354422435, 487.8648986816406, 509.85999298095703, 495.22298490084137, 495.6768213907878, 494.2526489257813, 501.4757167271205, 495.7724090576172, 497.5967994103065, 494.8459555886009, 484.4901542663574]}, {\"name\": \"49349-471\", \"type\": \"scatter\", \"x\": [\"2016Q1\", \"2016Q2\", \"2016Q3\", \"2016Q4\", \"2017Q1\", \"2017Q2\", \"2017Q3\", \"2017Q4\", \"2018Q1\", \"2018Q2\", \"2018Q3\", \"2018Q4\"], \"y\": [860.3746615323154, 893.4246215820312, 867.9561157226562, 802.6681213378906, 889.0865510639392, 878.3112670898438, 874.0716157801011, 875.8535335765165, 856.217626953125, 844.6918663611779, 818.5530657087054, 873.4387491861979]}, {\"name\": \"49349-820\", \"type\": \"scatter\", \"x\": [\"2016Q1\", \"2016Q2\", \"2016Q3\", \"2016Q4\", \"2017Q1\", \"2017Q2\", \"2017Q3\", \"2017Q4\", \"2018Q1\", \"2018Q2\", \"2018Q3\", \"2018Q4\"], \"y\": [522.7760879516602, 508.69214198900306, 576.1493240356446, 536.9940032958984, 574.0759868621826, 611.4557236891526, 466.6222353848544, 536.134814453125, 571.9530293782552, 618.1885732014974, 613.949210272895, 522.7568875826322]}, {\"name\": \"49349-842\", \"type\": \"scatter\", \"x\": [\"2016Q1\", \"2016Q2\", \"2016Q3\", \"2016Q4\", \"2017Q1\", \"2017Q2\", \"2017Q3\", \"2017Q4\", \"2018Q1\", \"2018Q2\", \"2018Q3\", \"2018Q4\"], \"y\": [365.9395744687035, 335.4877560264186, 346.8989967346191, 394.689306640625, 341.3061505831205, 323.81433725357056, 390.039457321167, 330.56973436143664, 388.1999997225675, 403.70136210123695, 392.78878155876606, 377.7916688464937]}, {\"name\": \"49520-501\", \"type\": \"scatter\", \"x\": [\"2016Q1\", \"2016Q2\", \"2016Q3\", \"2016Q4\", \"2017Q1\", \"2017Q2\", \"2017Q3\", \"2017Q4\", \"2018Q1\", \"2018Q2\", \"2018Q3\", \"2018Q4\"], \"y\": [797.0973896227384, 870.160270690918, 932.5623931884766, 782.1920043945313, 883.7752340565557, 819.1494310167101, 869.8058280944824, 848.1960216703869, 821.5272087684044, 867.2702200753348, 829.5993688964844, 825.7222836143092]}, {\"name\": \"49738-105\", \"type\": \"scatter\", \"x\": [\"2016Q1\", \"2016Q2\", \"2016Q3\", \"2016Q4\", \"2017Q1\", \"2017Q2\", \"2017Q3\", \"2017Q4\", \"2018Q1\", \"2018Q2\", \"2018Q3\", \"2018Q4\"], \"y\": [496.2531807639382, 490.99097936293657, 491.0546610514323, 514.5477244059244, 478.2200298309326, 489.51599557059154, 483.3129039946057, 487.3111846923828, 477.23011779785156, 494.65228271484375, 481.64525802047166, 487.0297124953497]}, {\"name\": \"49967-724\", \"type\": \"scatter\", \"x\": [\"2016Q1\", \"2016Q2\", \"2016Q3\", \"2016Q4\", \"2017Q1\", \"2017Q2\", \"2017Q3\", \"2017Q4\", \"2018Q1\", \"2018Q2\", \"2018Q3\", \"2018Q4\"], \"y\": [522.5508487585819, 508.6411975097656, 537.504396878756, 544.7890789325421, 511.1337694440569, 550.3479156494141, 550.7104746500651, 547.7552444458008, 541.7221374511719, 540.9627856445312, 575.6452209472657, 546.263287862142]}, {\"name\": \"49999-737\", \"type\": \"scatter\", \"x\": [\"2016Q1\", \"2016Q2\", \"2016Q3\", \"2016Q4\", \"2017Q1\", \"2017Q2\", \"2017Q3\", \"2017Q4\", \"2018Q1\", \"2018Q2\", \"2018Q3\", \"2018Q4\"], \"y\": [883.3096133961398, 873.43935546875, 874.5800337357955, 865.0547119140625, 870.8212471008301, 852.0573397549716, 834.7350667317709, 844.215987141927, 883.6654174804687, 856.1864217122396, 873.1984641335227, 885.2882439108456]}, {\"name\": \"50458-560\", \"type\": \"scatter\", \"x\": [\"2016Q1\", \"2016Q2\", \"2016Q3\", \"2016Q4\", \"2017Q1\", \"2017Q2\", \"2017Q3\", \"2017Q4\", \"2018Q1\", \"2018Q2\", \"2018Q3\", \"2018Q4\"], \"y\": [909.1738611857096, 654.8668193817139, 788.7114345005581, 699.2705586751302, 1019.3678588867188, 1100.2535671657986, 899.2840229381214, 859.3574752807617, 781.9313572474888, 778.0174671519886, 868.4100036621094, 934.9015869140625]}, {\"name\": \"50563-113\", \"type\": \"scatter\", \"x\": [\"2016Q1\", \"2016Q2\", \"2016Q3\", \"2016Q4\", \"2017Q1\", \"2017Q2\", \"2017Q3\", \"2017Q4\", \"2018Q1\", \"2018Q2\", \"2018Q3\", \"2018Q4\"], \"y\": [673.2926266318873, 486.5325336456299, 508.47753117879233, 541.2507934570312, 498.22056477864584, 621.2130207734949, 563.5918167114257, 638.9446434607872, 595.0104476928711, 627.9189705226732, 606.0386324988472, 683.2982811560997]}, {\"name\": \"51060-032\", \"type\": \"scatter\", \"x\": [\"2016Q1\", \"2016Q2\", \"2016Q3\", \"2016Q4\", \"2017Q1\", \"2017Q2\", \"2017Q3\", \"2017Q4\", \"2018Q1\", \"2018Q2\", \"2018Q3\", \"2018Q4\"], \"y\": [794.1411666870117, 738.3138545109675, 726.3819274902344, 909.5742710658482, 793.7610593523298, 607.3592910766602, 845.5395563299006, 723.9735794067383, 809.9781660600142, 1078.6466674804688, 875.9332542419434, 820.5023709810697]}, {\"name\": \"51079-947\", \"type\": \"scatter\", \"x\": [\"2016Q1\", \"2016Q2\", \"2016Q3\", \"2016Q4\", \"2017Q1\", \"2017Q2\", \"2017Q3\", \"2017Q4\", \"2018Q1\", \"2018Q2\", \"2018Q3\", \"2018Q4\"], \"y\": [635.9030384736902, 648.1780340021306, 651.1319946289062, 650.1275482177734, 628.4515658291904, 651.6362566266741, 658.5369309645432, 655.7318827311198, 650.3624649047852, 650.2572209284856, 658.1095205453726, 680.8874435424805]}, {\"name\": \"51138-049\", \"type\": \"scatter\", \"x\": [\"2016Q1\", \"2016Q2\", \"2016Q3\", \"2016Q4\", \"2017Q1\", \"2017Q2\", \"2017Q3\", \"2017Q4\", \"2018Q1\", \"2018Q2\", \"2018Q3\", \"2018Q4\"], \"y\": [929.5448212494721, 1044.2459573184742, 982.0389997694227, 690.1199951171875, 977.2059609549386, 997.324161529541, 870.1989513578869, 955.4155369808799, 987.7933724143288, 916.8905560528791, 1017.633404900046, 966.7603536752554]}, {\"name\": \"51346-126\", \"type\": \"scatter\", \"x\": [\"2016Q1\", \"2016Q2\", \"2016Q3\", \"2016Q4\", \"2017Q1\", \"2017Q2\", \"2017Q3\", \"2017Q4\", \"2018Q1\", \"2018Q2\", \"2018Q3\", \"2018Q4\"], \"y\": [124.93438027121805, 134.71311569213867, 141.27153719388522, 137.17999267578125, 140.56613041804388, 131.22386100075462, 144.24558476039343, 140.0177241734096, 137.98548889160156, 144.45216048391242, 152.2361544095553, 128.5475001335144]}, {\"name\": \"51346-145\", \"type\": \"scatter\", \"x\": [\"2016Q1\", \"2016Q2\", \"2016Q3\", \"2016Q4\", \"2017Q1\", \"2017Q2\", \"2017Q3\", \"2017Q4\", \"2018Q1\", \"2018Q2\", \"2018Q3\", \"2018Q4\"], \"y\": [970.0432243347168, 980.8945704868862, 978.3291250375601, 960.0192609514509, 964.1312662760416, 968.7987421209162, 961.4199731445312, 962.17275353634, 970.236310686384, 955.9250221252441, 962.2977135699729, 966.8155029296875]}, {\"name\": \"51523-002\", \"type\": \"scatter\", \"x\": [\"2016Q1\", \"2016Q2\", \"2016Q3\", \"2016Q4\", \"2017Q1\", \"2017Q2\", \"2017Q3\", \"2017Q4\", \"2018Q1\", \"2018Q2\", \"2018Q3\", \"2018Q4\"], \"y\": [889.2771778935971, 960.1836933336759, 879.0755530463325, 964.3480224609375, 972.6881539481027, 843.7807360197369, 918.9652835621554, 972.9474329794607, 825.772484098162, 961.0924603006114, 955.3717004394531, 892.2488284640842]}, {\"name\": \"51531-9500\", \"type\": \"scatter\", \"x\": [\"2016Q1\", \"2016Q2\", \"2016Q3\", \"2016Q4\", \"2017Q1\", \"2017Q2\", \"2017Q3\", \"2017Q4\", \"2018Q1\", \"2018Q2\", \"2018Q3\", \"2018Q4\"], \"y\": [950.8741821289062, 970.2424967447917, 976.8295152452257, 975.3394165039062, 993.47509765625, 973.3056301540798, 967.0722249348959, 933.7188498757102, 998.7807224818638, 948.62099609375, 976.0724792480469, 1015.4766790216619]}, {\"name\": \"52125-136\", \"type\": \"scatter\", \"x\": [\"2016Q1\", \"2016Q2\", \"2016Q3\", \"2016Q4\", \"2017Q1\", \"2017Q2\", \"2017Q3\", \"2017Q4\", \"2018Q1\", \"2018Q2\", \"2018Q3\", \"2018Q4\"], \"y\": [509.1834144592285, 524.4581658935547, 579.8439136081272, 588.9451395670573, 522.7792892456055, 551.4430151367187, 516.6319342719185, 581.8230133056641, 582.9607179061226, 538.8957576045284, 529.7894624408923, 632.2681966928335]}, {\"name\": \"52125-444\", \"type\": \"scatter\", \"x\": [\"2016Q1\", \"2016Q2\", \"2016Q3\", \"2016Q4\", \"2017Q1\", \"2017Q2\", \"2017Q3\", \"2017Q4\", \"2018Q1\", \"2018Q2\", \"2018Q3\", \"2018Q4\"], \"y\": [280.3892461603338, 281.8255330403646, 288.5793518066406, 274.2530822753906, 279.5395753279976, 280.15091196695965, 280.63420540945873, 278.96421813964844, 282.05933430989586, 279.041800106273, 278.9932814378005, 279.40882568359376]}, {\"name\": \"52343-025\", \"type\": \"scatter\", \"x\": [\"2016Q1\", \"2016Q2\", \"2016Q3\", \"2016Q4\", \"2017Q1\", \"2017Q2\", \"2017Q3\", \"2017Q4\", \"2018Q1\", \"2018Q2\", \"2018Q3\", \"2018Q4\"], \"y\": [850.5787890625, 833.6607927594866, 795.8445536295573, 879.8799845377604, 815.4815216064453, 754.7765767415365, 785.0381490071615, 778.72707257952, 812.137082307235, 868.8242797851562, 820.9036962890625, 832.1618703206381]}, {\"name\": \"52380-1102\", \"type\": \"scatter\", \"x\": [\"2016Q1\", \"2016Q2\", \"2016Q3\", \"2016Q4\", \"2017Q1\", \"2017Q2\", \"2017Q3\", \"2017Q4\", \"2018Q1\", \"2018Q2\", \"2018Q3\", \"2018Q4\"], \"y\": [508.5347792681526, 481.1321449279785, 317.12810134887695, 436.38008308410645, 609.2952183314732, 544.4689712524414, 434.3703088760376, 535.1434627532959, 475.20757853190105, 509.587256936466, 609.7829284667969, 478.23748111724854]}, {\"name\": \"52959-433\", \"type\": \"scatter\", \"x\": [\"2016Q1\", \"2016Q2\", \"2016Q3\", \"2016Q4\", \"2017Q1\", \"2017Q2\", \"2017Q3\", \"2017Q4\", \"2018Q1\", \"2018Q2\", \"2018Q3\", \"2018Q4\"], \"y\": [331.6257574619391, 331.5382716966712, 336.333641501034, 332.1204772949219, 336.1443357114439, 338.18533813476563, 333.50189499627976, 327.82640148344495, 338.7720569428943, 335.81855051141036, 333.5978570235403, 333.4993885961072]}, {\"name\": \"54092-515\", \"type\": \"scatter\", \"x\": [\"2016Q1\", \"2016Q2\", \"2016Q3\", \"2016Q4\", \"2017Q1\", \"2017Q2\", \"2017Q3\", \"2017Q4\", \"2018Q1\", \"2018Q2\", \"2018Q3\", \"2018Q4\"], \"y\": [770.87841796875, 774.7113968698602, 766.6478969029018, 747.142333984375, 766.8231554533306, 770.0432739257812, 765.4892039579504, 774.7487150493421, 772.1956626490543, 769.0421922471788, 776.6730061848958, 771.1848411560059]}, {\"name\": \"54123-957\", \"type\": \"scatter\", \"x\": [\"2016Q1\", \"2016Q2\", \"2016Q3\", \"2016Q4\", \"2017Q1\", \"2017Q2\", \"2017Q3\", \"2017Q4\", \"2018Q1\", \"2018Q2\", \"2018Q3\", \"2018Q4\"], \"y\": [168.78416792551675, 178.568115234375, 158.01416746775308, 161.24917856852213, 148.02833302815756, 161.5999994277954, 160.36499977111816, 191.45462202174323, 146.92572952719297, 160.26323655935434, 134.68073735918318, 208.4043674468994]}, {\"name\": \"54473-578\", \"type\": \"scatter\", \"x\": [\"2016Q1\", \"2016Q2\", \"2016Q3\", \"2016Q4\", \"2017Q1\", \"2017Q2\", \"2017Q3\", \"2017Q4\", \"2018Q1\", \"2018Q2\", \"2018Q3\", \"2018Q4\"], \"y\": [187.86754077413806, 184.1092260024127, 175.4107407789964, 172.8494873046875, 195.26444498697916, 158.2650110880534, 167.71328680855888, 192.36900177001954, 176.55274787315955, 168.53810320402445, 160.18707036972046, 164.02952109442816]}, {\"name\": \"54868-0823\", \"type\": \"scatter\", \"x\": [\"2016Q1\", \"2016Q2\", \"2016Q3\", \"2016Q4\", \"2017Q1\", \"2017Q2\", \"2017Q3\", \"2017Q4\", \"2018Q1\", \"2018Q2\", \"2018Q3\", \"2018Q4\"], \"y\": [149.38324301583427, 153.90982497365852, 158.18680623372396, 135.79642486572266, 165.90162482628455, 158.49146820068358, 154.93361351706764, 152.73642762502035, 161.16545976911272, 161.03072808005592, 150.20593029519787, 168.26051003592355]}, {\"name\": \"54868-5165\", \"type\": \"scatter\", \"x\": [null, \"2016Q1\", \"2016Q2\", \"2016Q3\", \"2016Q4\", \"2017Q1\", \"2017Q2\", \"2017Q3\", \"2017Q4\", \"2018Q1\", \"2018Q2\", \"2018Q3\", \"2018Q4\"], \"y\": [525.239990234375, 962.8177829318577, 845.62987554641, 995.9732666015625, 1118.3299763997395, 782.2735782199436, 717.1678829193115, 862.3216133117676, 677.4088148637252, 698.2574289957682, 863.7741536458333, 788.127425956726, 968.9426472981771]}, {\"name\": \"54868-6311\", \"type\": \"scatter\", \"x\": [\"2016Q1\", \"2016Q2\", \"2016Q3\", \"2016Q4\", \"2017Q1\", \"2017Q2\", \"2017Q3\", \"2017Q4\", \"2018Q1\", \"2018Q2\", \"2018Q3\", \"2018Q4\"], \"y\": [371.9414324079241, 491.6170425415039, 466.3598056369358, 623.67333984375, 450.60645599365233, 377.41551378038196, 467.4781024639423, 486.58232498168945, 441.6422048715445, 464.8835637019231, 433.26764544318706, 412.86173308523075]}, {\"name\": \"54973-9150\", \"type\": \"scatter\", \"x\": [\"2016Q1\", \"2016Q2\", \"2016Q3\", \"2016Q4\", \"2017Q1\", \"2017Q2\", \"2017Q3\", \"2017Q4\", \"2018Q1\", \"2018Q2\", \"2018Q3\", \"2018Q4\"], \"y\": [862.4590953480114, 934.323716383714, 917.7035319010416, 929.0205078125, 903.2745686848958, 821.691151936849, 927.6750691731771, 930.4258270263672, 942.2249145507812, 920.3371921115452, 925.3568929036459, 908.2957153320312]}, {\"name\": \"55154-5057\", \"type\": \"scatter\", \"x\": [\"2016Q1\", \"2016Q2\", \"2016Q3\", \"2016Q4\", \"2017Q1\", \"2017Q2\", \"2017Q3\", \"2017Q4\", \"2018Q1\", \"2018Q2\", \"2018Q3\", \"2018Q4\"], \"y\": [651.8273204167684, 648.0750460417374, 1029.2916581895615, 808.4282057020399, 723.779036748977, 754.7572503340872, 656.614925702413, 953.3596909466912, 882.1424543207341, 759.7380832076072, 1073.916145324707, 770.6438652487362]}, {\"name\": \"55289-164\", \"type\": \"scatter\", \"x\": [\"2016Q1\", \"2016Q2\", \"2016Q3\", \"2016Q4\", \"2017Q1\", \"2017Q2\", \"2017Q3\", \"2017Q4\", \"2018Q1\", \"2018Q2\", \"2018Q3\", \"2018Q4\"], \"y\": [414.53941614487593, 407.8453310452975, 342.06053924560547, 490.6274871826172, 425.4294474283854, 500.87877655029297, 443.8283245380108, 381.5679992675781, 441.58608661998403, 402.1602554321289, 369.50941874186196, 360.90794045584545]}, {\"name\": \"55566-2100\", \"type\": \"scatter\", \"x\": [\"2016Q1\", \"2016Q2\", \"2016Q3\", \"2016Q4\", \"2017Q1\", \"2017Q2\", \"2017Q3\", \"2017Q4\", \"2018Q1\", \"2018Q2\", \"2018Q3\", \"2018Q4\"], \"y\": [636.6854400634766, 634.9032077789307, 584.4368460518973, 563.8129196166992, 510.191796875, 625.06005859375, 630.200127919515, 624.2092626235064, 690.1580546061198, 533.0824854924128, 679.7807339754971, 609.0901888333834]}, {\"name\": \"55700-014\", \"type\": \"scatter\", \"x\": [\"2016Q1\", \"2016Q2\", \"2016Q3\", \"2016Q4\", \"2017Q1\", \"2017Q2\", \"2017Q3\", \"2017Q4\", \"2018Q1\", \"2018Q2\", \"2018Q3\", \"2018Q4\"], \"y\": [657.19341796875, 657.1169811430432, 668.9092468261719, 638.9249979654948, 668.0262310321515, 652.3027709960937, 654.9128667658025, 645.5862354951746, 668.8711751302084, 653.8894072033111, 661.4510131835938, 664.3944239123114]}, {\"name\": \"55856-0003\", \"type\": \"scatter\", \"x\": [\"2016Q1\", \"2016Q2\", \"2016Q3\", \"2016Q4\", \"2017Q1\", \"2017Q2\", \"2017Q3\", \"2017Q4\", \"2018Q1\", \"2018Q2\", \"2018Q3\", \"2018Q4\"], \"y\": [407.4401285464947, 460.9552406642748, 419.03192615509033, 301.08127427101135, 586.8465770085653, 532.3876698811849, 458.829634475708, 538.345404624939, 425.413875579834, 484.4920161320613, 429.78279164632164, 508.2972593307495]}, {\"name\": \"58118-5060\", \"type\": \"scatter\", \"x\": [\"2016Q1\", \"2016Q2\", \"2016Q3\", \"2016Q4\", \"2017Q1\", \"2017Q2\", \"2017Q3\", \"2017Q4\", \"2018Q1\", \"2018Q2\", \"2018Q3\", \"2018Q4\"], \"y\": [220.6189675166689, 227.17091126875445, 207.25482878477678, 329.7566731770833, 218.11242202232623, 215.76192890514028, 246.54864766047552, 182.00858406398606, 172.23100053347073, 227.6466194152832, 206.9000245799189, 226.72459818522137]}, {\"name\": \"58596-001\", \"type\": \"scatter\", \"x\": [\"2016Q1\", \"2016Q2\", \"2016Q3\", \"2016Q4\", \"2017Q1\", \"2017Q2\", \"2017Q3\", \"2017Q4\", \"2018Q1\", \"2018Q2\", \"2018Q3\", \"2018Q4\"], \"y\": [469.4789380525288, 462.1160866873605, 470.4628601074219, 457.2846221923828, 461.1696319580078, 468.7088979085286, 461.4926289876302, 464.8307538713728, 458.78428867885043, 468.3853131462546, 467.8262424468994, 451.7039794921875]}, {\"name\": \"58668-4281\", \"type\": \"scatter\", \"x\": [\"2016Q1\", \"2016Q2\", \"2016Q3\", \"2016Q4\", \"2017Q1\", \"2017Q2\", \"2017Q3\", \"2017Q4\", \"2018Q1\", \"2018Q2\", \"2018Q3\", \"2018Q4\"], \"y\": [905.9787502288818, 815.5983371734619, 1081.4541473388672, 877.0082117716471, 1090.351884841919, 1036.7565165928431, 996.2783061436245, 702.9168330601284, 841.9480682373047, 868.0040319106158, 936.9764217029918, 1038.1036214828491]}, {\"name\": \"59779-028\", \"type\": \"scatter\", \"x\": [\"2016Q1\", \"2016Q2\", \"2016Q3\", \"2016Q4\", \"2017Q1\", \"2017Q2\", \"2017Q3\", \"2017Q4\", \"2018Q1\", \"2018Q2\", \"2018Q3\", \"2018Q4\"], \"y\": [887.7557556152344, 765.7889984130859, 625.979474748884, 854.4400024414062, 873.9338745117187, 761.7646567604759, 672.0472634055398, 746.6485682896206, 549.5700073242188, 678.2682106711648, 843.9683329264323, 944.1766688028971]}, {\"name\": \"59779-601\", \"type\": \"scatter\", \"x\": [\"2016Q1\", \"2016Q2\", \"2016Q3\", \"2016Q4\", \"2017Q1\", \"2017Q2\", \"2017Q3\", \"2017Q4\", \"2018Q1\", \"2018Q2\", \"2018Q3\", \"2018Q4\"], \"y\": [178.27251519097223, 143.24076989980844, 197.2537324693468, 208.49249839782715, 169.6948070526123, 193.54155158996582, 156.07400093078613, 171.98702918158637, 164.5576025644938, 174.84582737513952, 182.8557472229004, 138.1008071899414]}, {\"name\": \"60505-2867\", \"type\": \"scatter\", \"x\": [\"2016Q1\", \"2016Q2\", \"2016Q3\", \"2016Q4\", \"2017Q1\", \"2017Q2\", \"2017Q3\", \"2017Q4\", \"2018Q1\", \"2018Q2\", \"2018Q3\", \"2018Q4\"], \"y\": [203.32918147036904, 180.98952002274362, 162.3565172467913, 148.59500122070312, 191.09742838541666, 176.832726912065, 193.37812625660615, 177.37427312677556, 180.46846644083658, 183.79711723327637, 192.19518873426648, 191.1576705932617]}, {\"name\": \"61398-0828\", \"type\": \"scatter\", \"x\": [\"2016Q1\", \"2016Q2\", \"2016Q3\", \"2016Q4\", \"2017Q1\", \"2017Q2\", \"2017Q3\", \"2017Q4\", \"2018Q1\", \"2018Q2\", \"2018Q3\", \"2018Q4\"], \"y\": [382.8257716785778, 342.06834411621094, 441.9690704345703, 353.6800003051758, 404.71340306599933, 424.52500406901044, 341.18921661376953, 351.85760087233325, 340.58559163411456, 348.7681467692057, 379.35052693684895, 349.7354431152344]}, {\"name\": \"62011-0219\", \"type\": \"scatter\", \"x\": [\"2016Q1\", \"2016Q2\", \"2016Q3\", \"2016Q4\", \"2017Q1\", \"2017Q2\", \"2017Q3\", \"2017Q4\", \"2018Q1\", \"2018Q2\", \"2018Q3\", \"2018Q4\"], \"y\": [839.884509671119, 820.4983838952106, 817.3902735216864, 785.4126238141741, 829.0064733168658, 823.9443969726562, 805.745836046007, 833.869673879523, 807.0502798897879, 799.0521432976974, 841.4782883216595, 847.8020362854004]}, {\"name\": \"62670-4404\", \"type\": \"scatter\", \"x\": [\"2016Q1\", \"2016Q2\", \"2016Q3\", \"2016Q4\", \"2017Q1\", \"2017Q2\", \"2017Q3\", \"2017Q4\", \"2018Q1\", \"2018Q2\", \"2018Q3\", \"2018Q4\"], \"y\": [422.8441121419271, 465.1818348277699, 370.4624065823025, 436.67499923706055, 382.3928741455078, 241.31000518798828, 467.42977469308033, 311.7528599330357, 427.4903157552083, 428.4494639635086, 432.7212468927557, 464.5088704427083]}, {\"name\": \"62742-4030\", \"type\": \"scatter\", \"x\": [\"2016Q1\", \"2016Q2\", \"2016Q3\", \"2016Q4\", \"2017Q1\", \"2017Q2\", \"2017Q3\", \"2017Q4\", \"2018Q1\", \"2018Q2\", \"2018Q3\", \"2018Q4\"], \"y\": [534.98935546875, 529.798845563616, 524.8286399841309, 559.4000040690104, 531.2839965820312, 540.4406433105469, 529.2437438964844, 533.9664560953776, 544.7833251953125, 524.8097054617746, 521.3324165344238, 530.736196899414]}, {\"name\": \"62756-707\", \"type\": \"scatter\", \"x\": [\"2016Q1\", \"2016Q2\", \"2016Q3\", \"2016Q4\", \"2017Q1\", \"2017Q2\", \"2017Q3\", \"2017Q4\", \"2018Q1\", \"2018Q2\", \"2018Q3\", \"2018Q4\"], \"y\": [247.61727142333984, 308.3335847854614, 348.36792755126953, 310.77867635091144, 291.8011703491211, 312.4144453568892, 362.45001220703125, 312.23891220092776, 349.47824314662387, 277.0838139851888, 287.99665718078614, 288.5926424264908]}, {\"name\": \"63629-2733\", \"type\": \"scatter\", \"x\": [\"2016Q1\", \"2016Q2\", \"2016Q3\", \"2016Q4\", \"2017Q1\", \"2017Q2\", \"2017Q3\", \"2017Q4\", \"2018Q1\", \"2018Q2\", \"2018Q3\", \"2018Q4\"], \"y\": [224.98685524680397, 207.66839163643974, 197.96854061550565, 194.6236572265625, 209.041259765625, 162.93325500488282, 203.13171217176648, 203.38750076293945, 194.72168176824397, 209.38678523472376, 195.33614196777344, 204.4641906738281]}, {\"name\": \"65044-3014\", \"type\": \"scatter\", \"x\": [\"2016Q1\", \"2016Q2\", \"2016Q3\", \"2016Q4\", \"2017Q1\", \"2017Q2\", \"2017Q3\", \"2017Q4\", \"2018Q1\", \"2018Q2\", \"2018Q3\", \"2018Q4\"], \"y\": [815.5333364981192, 759.9277912486683, 795.2379964192709, 793.1846008300781, 776.1394391741071, 760.8061904907227, 795.2014076926491, 789.2986043294271, 820.049609375, 805.4076484231388, 842.9673665364584, 795.6021728515625]}, {\"name\": \"67046-030\", \"type\": \"scatter\", \"x\": [\"2016Q1\", \"2016Q2\", \"2016Q3\", \"2016Q4\", \"2017Q1\", \"2017Q2\", \"2017Q3\", \"2017Q4\", \"2018Q1\", \"2018Q2\", \"2018Q3\", \"2018Q4\"], \"y\": [155.47227235273883, 153.6107049239309, 154.53636060442244, 149.41152826944986, 147.26170082092284, 156.88150351388114, 163.74784088134766, 151.83774865191916, 158.97921752929688, 152.7991886138916, 147.19119142231187, 158.41895261018172]}, {\"name\": \"67544-356\", \"type\": \"scatter\", \"x\": [\"2016Q1\", \"2016Q2\", \"2016Q3\", \"2016Q4\", \"2017Q1\", \"2017Q2\", \"2017Q3\", \"2017Q4\", \"2018Q1\", \"2018Q2\", \"2018Q3\", \"2018Q4\"], \"y\": [651.0124152688419, 657.2936804635184, 749.8351936340332, 890.4850158691406, 717.4049092610677, 647.3178985595703, 682.6464364188058, 609.1969940185547, 639.0143781389509, 673.8993753286509, 724.6583085493608, 624.6380157470703]}, {\"name\": \"68084-172\", \"type\": \"scatter\", \"x\": [\"2016Q1\", \"2016Q2\", \"2016Q3\", \"2016Q4\", \"2017Q1\", \"2017Q2\", \"2017Q3\", \"2017Q4\", \"2018Q1\", \"2018Q2\", \"2018Q3\", \"2018Q4\"], \"y\": [507.87821663750543, 487.0038121541341, 587.0407126290457, 612.0509599958148, 566.4594958496094, 504.6078993853401, 540.813161315918, 483.40977963534266, 496.3947228325738, 542.4372221294202, 458.08775499131946, 412.3274899996244]}, {\"name\": \"68084-595\", \"type\": \"scatter\", \"x\": [\"2016Q1\", \"2016Q2\", \"2016Q3\", \"2016Q4\", \"2017Q1\", \"2017Q2\", \"2017Q3\", \"2017Q4\", \"2018Q1\", \"2018Q2\", \"2018Q3\", \"2018Q4\"], \"y\": [193.25583457946777, 232.43372275612572, 221.4807645357572, 209.64232177734374, 219.99220479329426, 217.77275789701022, 222.3799655311986, 211.34866818514737, 217.5973014831543, 213.60829501681857, 228.0000015258789, 199.43644569033668]}, {\"name\": \"68180-121\", \"type\": \"scatter\", \"x\": [\"2016Q1\", \"2016Q2\", \"2016Q3\", \"2016Q4\", \"2017Q1\", \"2017Q2\", \"2017Q3\", \"2017Q4\", \"2018Q1\", \"2018Q2\", \"2018Q3\", \"2018Q4\"], \"y\": [951.6412899619654, 906.4181175231934, 825.8512398856027, 657.8545288085937, 956.9873860677084, 908.044140625, 971.9867165305398, 996.9585745675223, 667.9995761447483, 821.222972869873, 869.5382410685221, 877.9839925130208]}, {\"name\": \"68233-011\", \"type\": \"scatter\", \"x\": [\"2016Q1\", \"2016Q2\", \"2016Q3\", \"2016Q4\", \"2017Q1\", \"2017Q2\", \"2017Q3\", \"2017Q4\", \"2018Q1\", \"2018Q2\", \"2018Q3\", \"2018Q4\"], \"y\": [571.2960205078125, 534.7257944742838, 585.0535969453699, 624.8566502162388, 556.1000732421875, 566.4371555873325, 556.0955774643842, 578.1823463439941, 594.6944387335526, 600.6814286081415, 588.3300924862133, 548.9145861173931]}, {\"name\": \"68462-565\", \"type\": \"scatter\", \"x\": [\"2016Q1\", \"2016Q2\", \"2016Q3\", \"2016Q4\", \"2017Q1\", \"2017Q2\", \"2017Q3\", \"2017Q4\", \"2018Q1\", \"2018Q2\", \"2018Q3\", \"2018Q4\"], \"y\": [939.9868896484375, 910.5737469012921, 971.8715026855468, 998.7102722167969, 871.3246893113659, 854.8464164733887, 836.9046495225695, 870.7996520996094, 901.3085123697916, 858.8362390854779, 856.7272109985352, 960.4936269124349]}, {\"name\": \"68752-024\", \"type\": \"scatter\", \"x\": [\"2016Q1\", \"2016Q2\", \"2016Q3\", \"2016Q4\", \"2017Q1\", \"2017Q2\", \"2017Q3\", \"2017Q4\", \"2018Q1\", \"2018Q2\", \"2018Q3\", \"2018Q4\"], \"y\": [825.5482867697011, 868.5214177911931, 839.7079911665483, 823.7723083496094, 856.4195556640625, 851.115608215332, 833.1399150647616, 826.4136962890625, 821.0091985066732, 837.4549458821615, 840.998721036044, 840.9575265737681]}, {\"name\": \"70253-307\", \"type\": \"scatter\", \"x\": [\"2016Q1\", \"2016Q2\", \"2016Q3\", \"2016Q4\", \"2017Q1\", \"2017Q2\", \"2017Q3\", \"2017Q4\", \"2018Q1\", \"2018Q2\", \"2018Q3\", \"2018Q4\"], \"y\": [909.7022030479029, 925.3753814697266, 911.4872497558594, 910.5214691162109, 904.2294311523438, 872.5346486944901, 907.0734083387587, 902.7644483778212, 878.7454494900173, 913.5315322875977, 876.4157770330256, 916.937589946546]}, {\"name\": \"76117-001\", \"type\": \"scatter\", \"x\": [\"2016Q1\", \"2016Q2\", \"2016Q3\", \"2016Q4\", \"2017Q1\", \"2017Q2\", \"2017Q3\", \"2017Q4\", \"2018Q1\", \"2018Q2\", \"2018Q3\", \"2018Q4\"], \"y\": [975.8967997233073, 974.672617594401, 1009.9254531860352, 1009.308339436849, 1024.8351711697048, 1014.8402811686198, 1032.8585316051137, 879.1341275301846, 877.7300803444602, 1013.4088195800781, 907.5045623779297, 973.5746826171875]}, {\"name\": \"76314-002\", \"type\": \"scatter\", \"x\": [\"2016Q1\", \"2016Q2\", \"2016Q3\", \"2016Q4\", \"2017Q1\", \"2017Q2\", \"2017Q3\", \"2017Q4\", \"2018Q1\", \"2018Q2\", \"2018Q3\", \"2018Q4\"], \"y\": [448.56185041155135, 444.64058501144933, 435.35999843052457, 436.2725036621094, 441.4664577907986, 440.46814727783203, 446.04736182803197, 452.2666790301983, 435.4453938802083, 443.45294189453125, 442.4354872270064, 442.7648391723633]}, {\"name\": \"76335-006\", \"type\": \"scatter\", \"x\": [\"2016Q1\", \"2016Q2\", \"2016Q3\", \"2016Q4\", \"2017Q1\", \"2017Q2\", \"2017Q3\", \"2017Q4\", \"2018Q1\", \"2018Q2\", \"2018Q3\", \"2018Q4\"], \"y\": [357.1124216715495, 364.65398559570315, 376.935551961263, 351.9106811523437, 370.9458465576172, 334.086664835612, 374.07555135091144, 366.0514282226562, 389.35, 349.60615891676684, 372.3490905761719, 403.3796920776367]}, {\"name\": \"76454-100\", \"type\": \"scatter\", \"x\": [\"2016Q1\", \"2016Q2\", \"2016Q3\", \"2016Q4\", \"2017Q1\", \"2017Q2\", \"2017Q3\", \"2017Q4\", \"2018Q1\", \"2018Q2\", \"2018Q3\", \"2018Q4\"], \"y\": [126.27456617355347, 121.08573620135968, 129.145000631159, 128.55281829833984, 132.127505408393, 124.84893580845424, 136.17257118225098, 127.62381985313014, 127.25257629394531, 126.00950088500977, 128.43271573384604, 122.52610664367675]}, {\"name\": \"98132-889\", \"type\": \"scatter\", \"x\": [\"2016Q1\", \"2016Q2\", \"2016Q3\", \"2016Q4\", \"2017Q1\", \"2017Q2\", \"2017Q3\", \"2017Q4\", \"2018Q1\", \"2018Q2\", \"2018Q3\", \"2018Q4\"], \"y\": [228.82457188197546, 212.5257379441034, 226.87933540344238, 229.9220927845348, 224.67352653952207, 230.62222209729646, 222.3972736705433, 209.7273746837269, 207.84544143676757, 225.76429748535156, 226.56058926052518, 207.27666168212892]}],\n",
              "                        {\"template\": {\"data\": {\"bar\": [{\"error_x\": {\"color\": \"#2a3f5f\"}, \"error_y\": {\"color\": \"#2a3f5f\"}, \"marker\": {\"line\": {\"color\": \"#E5ECF6\", \"width\": 0.5}}, \"type\": \"bar\"}], \"barpolar\": [{\"marker\": {\"line\": {\"color\": \"#E5ECF6\", \"width\": 0.5}}, \"type\": \"barpolar\"}], \"carpet\": [{\"aaxis\": {\"endlinecolor\": \"#2a3f5f\", \"gridcolor\": \"white\", \"linecolor\": \"white\", \"minorgridcolor\": \"white\", \"startlinecolor\": \"#2a3f5f\"}, \"baxis\": {\"endlinecolor\": \"#2a3f5f\", \"gridcolor\": \"white\", \"linecolor\": \"white\", \"minorgridcolor\": \"white\", \"startlinecolor\": \"#2a3f5f\"}, \"type\": \"carpet\"}], \"choropleth\": [{\"colorbar\": {\"outlinewidth\": 0, \"ticks\": \"\"}, \"type\": \"choropleth\"}], \"contour\": [{\"colorbar\": {\"outlinewidth\": 0, \"ticks\": \"\"}, \"colorscale\": [[0.0, \"#0d0887\"], [0.1111111111111111, \"#46039f\"], [0.2222222222222222, \"#7201a8\"], [0.3333333333333333, \"#9c179e\"], [0.4444444444444444, \"#bd3786\"], [0.5555555555555556, \"#d8576b\"], [0.6666666666666666, \"#ed7953\"], [0.7777777777777778, \"#fb9f3a\"], [0.8888888888888888, \"#fdca26\"], [1.0, \"#f0f921\"]], \"type\": \"contour\"}], \"contourcarpet\": [{\"colorbar\": {\"outlinewidth\": 0, \"ticks\": \"\"}, \"type\": \"contourcarpet\"}], \"heatmap\": [{\"colorbar\": {\"outlinewidth\": 0, \"ticks\": \"\"}, \"colorscale\": [[0.0, \"#0d0887\"], [0.1111111111111111, \"#46039f\"], [0.2222222222222222, \"#7201a8\"], [0.3333333333333333, \"#9c179e\"], [0.4444444444444444, \"#bd3786\"], [0.5555555555555556, \"#d8576b\"], [0.6666666666666666, \"#ed7953\"], [0.7777777777777778, \"#fb9f3a\"], [0.8888888888888888, \"#fdca26\"], [1.0, \"#f0f921\"]], \"type\": \"heatmap\"}], \"heatmapgl\": [{\"colorbar\": {\"outlinewidth\": 0, \"ticks\": \"\"}, \"colorscale\": [[0.0, \"#0d0887\"], [0.1111111111111111, \"#46039f\"], [0.2222222222222222, \"#7201a8\"], [0.3333333333333333, \"#9c179e\"], [0.4444444444444444, \"#bd3786\"], [0.5555555555555556, \"#d8576b\"], [0.6666666666666666, \"#ed7953\"], [0.7777777777777778, \"#fb9f3a\"], [0.8888888888888888, \"#fdca26\"], [1.0, \"#f0f921\"]], \"type\": \"heatmapgl\"}], \"histogram\": [{\"marker\": {\"colorbar\": {\"outlinewidth\": 0, \"ticks\": \"\"}}, \"type\": \"histogram\"}], \"histogram2d\": [{\"colorbar\": {\"outlinewidth\": 0, \"ticks\": \"\"}, \"colorscale\": [[0.0, \"#0d0887\"], [0.1111111111111111, \"#46039f\"], [0.2222222222222222, \"#7201a8\"], [0.3333333333333333, \"#9c179e\"], [0.4444444444444444, \"#bd3786\"], [0.5555555555555556, \"#d8576b\"], [0.6666666666666666, \"#ed7953\"], [0.7777777777777778, \"#fb9f3a\"], [0.8888888888888888, \"#fdca26\"], [1.0, \"#f0f921\"]], \"type\": \"histogram2d\"}], \"histogram2dcontour\": [{\"colorbar\": {\"outlinewidth\": 0, \"ticks\": \"\"}, \"colorscale\": [[0.0, \"#0d0887\"], [0.1111111111111111, \"#46039f\"], [0.2222222222222222, \"#7201a8\"], [0.3333333333333333, \"#9c179e\"], [0.4444444444444444, \"#bd3786\"], [0.5555555555555556, \"#d8576b\"], [0.6666666666666666, \"#ed7953\"], [0.7777777777777778, \"#fb9f3a\"], [0.8888888888888888, \"#fdca26\"], [1.0, \"#f0f921\"]], \"type\": \"histogram2dcontour\"}], \"mesh3d\": [{\"colorbar\": {\"outlinewidth\": 0, \"ticks\": \"\"}, \"type\": \"mesh3d\"}], \"parcoords\": [{\"line\": {\"colorbar\": {\"outlinewidth\": 0, \"ticks\": \"\"}}, \"type\": \"parcoords\"}], \"pie\": [{\"automargin\": true, \"type\": \"pie\"}], \"scatter\": [{\"marker\": {\"colorbar\": {\"outlinewidth\": 0, \"ticks\": \"\"}}, \"type\": \"scatter\"}], \"scatter3d\": [{\"line\": {\"colorbar\": {\"outlinewidth\": 0, \"ticks\": \"\"}}, \"marker\": {\"colorbar\": {\"outlinewidth\": 0, \"ticks\": \"\"}}, \"type\": \"scatter3d\"}], \"scattercarpet\": [{\"marker\": {\"colorbar\": {\"outlinewidth\": 0, \"ticks\": \"\"}}, \"type\": \"scattercarpet\"}], \"scattergeo\": [{\"marker\": {\"colorbar\": {\"outlinewidth\": 0, \"ticks\": \"\"}}, \"type\": \"scattergeo\"}], \"scattergl\": [{\"marker\": {\"colorbar\": {\"outlinewidth\": 0, \"ticks\": \"\"}}, \"type\": \"scattergl\"}], \"scattermapbox\": [{\"marker\": {\"colorbar\": {\"outlinewidth\": 0, \"ticks\": \"\"}}, \"type\": \"scattermapbox\"}], \"scatterpolar\": [{\"marker\": {\"colorbar\": {\"outlinewidth\": 0, \"ticks\": \"\"}}, \"type\": \"scatterpolar\"}], \"scatterpolargl\": [{\"marker\": {\"colorbar\": {\"outlinewidth\": 0, \"ticks\": \"\"}}, \"type\": \"scatterpolargl\"}], \"scatterternary\": [{\"marker\": {\"colorbar\": {\"outlinewidth\": 0, \"ticks\": \"\"}}, \"type\": \"scatterternary\"}], \"surface\": [{\"colorbar\": {\"outlinewidth\": 0, \"ticks\": \"\"}, \"colorscale\": [[0.0, \"#0d0887\"], [0.1111111111111111, \"#46039f\"], [0.2222222222222222, \"#7201a8\"], [0.3333333333333333, \"#9c179e\"], [0.4444444444444444, \"#bd3786\"], [0.5555555555555556, \"#d8576b\"], [0.6666666666666666, \"#ed7953\"], [0.7777777777777778, \"#fb9f3a\"], [0.8888888888888888, \"#fdca26\"], [1.0, \"#f0f921\"]], \"type\": \"surface\"}], \"table\": [{\"cells\": {\"fill\": {\"color\": \"#EBF0F8\"}, \"line\": {\"color\": \"white\"}}, \"header\": {\"fill\": {\"color\": \"#C8D4E3\"}, \"line\": {\"color\": \"white\"}}, \"type\": \"table\"}]}, \"layout\": {\"annotationdefaults\": {\"arrowcolor\": \"#2a3f5f\", \"arrowhead\": 0, \"arrowwidth\": 1}, \"coloraxis\": {\"colorbar\": {\"outlinewidth\": 0, \"ticks\": \"\"}}, \"colorscale\": {\"diverging\": [[0, \"#8e0152\"], [0.1, \"#c51b7d\"], [0.2, \"#de77ae\"], [0.3, \"#f1b6da\"], [0.4, \"#fde0ef\"], [0.5, \"#f7f7f7\"], [0.6, \"#e6f5d0\"], [0.7, \"#b8e186\"], [0.8, \"#7fbc41\"], [0.9, \"#4d9221\"], [1, \"#276419\"]], \"sequential\": [[0.0, \"#0d0887\"], [0.1111111111111111, \"#46039f\"], [0.2222222222222222, \"#7201a8\"], [0.3333333333333333, \"#9c179e\"], [0.4444444444444444, \"#bd3786\"], [0.5555555555555556, \"#d8576b\"], [0.6666666666666666, \"#ed7953\"], [0.7777777777777778, \"#fb9f3a\"], [0.8888888888888888, \"#fdca26\"], [1.0, \"#f0f921\"]], \"sequentialminus\": [[0.0, \"#0d0887\"], [0.1111111111111111, \"#46039f\"], [0.2222222222222222, \"#7201a8\"], [0.3333333333333333, \"#9c179e\"], [0.4444444444444444, \"#bd3786\"], [0.5555555555555556, \"#d8576b\"], [0.6666666666666666, \"#ed7953\"], [0.7777777777777778, \"#fb9f3a\"], [0.8888888888888888, \"#fdca26\"], [1.0, \"#f0f921\"]]}, \"colorway\": [\"#636efa\", \"#EF553B\", \"#00cc96\", \"#ab63fa\", \"#FFA15A\", \"#19d3f3\", \"#FF6692\", \"#B6E880\", \"#FF97FF\", \"#FECB52\"], \"font\": {\"color\": \"#2a3f5f\"}, \"geo\": {\"bgcolor\": \"white\", \"lakecolor\": \"white\", \"landcolor\": \"#E5ECF6\", \"showlakes\": true, \"showland\": true, \"subunitcolor\": \"white\"}, \"hoverlabel\": {\"align\": \"left\"}, \"hovermode\": \"closest\", \"mapbox\": {\"style\": \"light\"}, \"paper_bgcolor\": \"white\", \"plot_bgcolor\": \"#E5ECF6\", \"polar\": {\"angularaxis\": {\"gridcolor\": \"white\", \"linecolor\": \"white\", \"ticks\": \"\"}, \"bgcolor\": \"#E5ECF6\", \"radialaxis\": {\"gridcolor\": \"white\", \"linecolor\": \"white\", \"ticks\": \"\"}}, \"scene\": {\"xaxis\": {\"backgroundcolor\": \"#E5ECF6\", \"gridcolor\": \"white\", \"gridwidth\": 2, \"linecolor\": \"white\", \"showbackground\": true, \"ticks\": \"\", \"zerolinecolor\": \"white\"}, \"yaxis\": {\"backgroundcolor\": \"#E5ECF6\", \"gridcolor\": \"white\", \"gridwidth\": 2, \"linecolor\": \"white\", \"showbackground\": true, \"ticks\": \"\", \"zerolinecolor\": \"white\"}, \"zaxis\": {\"backgroundcolor\": \"#E5ECF6\", \"gridcolor\": \"white\", \"gridwidth\": 2, \"linecolor\": \"white\", \"showbackground\": true, \"ticks\": \"\", \"zerolinecolor\": \"white\"}}, \"shapedefaults\": {\"line\": {\"color\": \"#2a3f5f\"}}, \"ternary\": {\"aaxis\": {\"gridcolor\": \"white\", \"linecolor\": \"white\", \"ticks\": \"\"}, \"baxis\": {\"gridcolor\": \"white\", \"linecolor\": \"white\", \"ticks\": \"\"}, \"bgcolor\": \"#E5ECF6\", \"caxis\": {\"gridcolor\": \"white\", \"linecolor\": \"white\", \"ticks\": \"\"}}, \"title\": {\"x\": 0.05}, \"xaxis\": {\"automargin\": true, \"gridcolor\": \"white\", \"linecolor\": \"white\", \"ticks\": \"\", \"title\": {\"standoff\": 15}, \"zerolinecolor\": \"white\", \"zerolinewidth\": 2}, \"yaxis\": {\"automargin\": true, \"gridcolor\": \"white\", \"linecolor\": \"white\", \"ticks\": \"\", \"title\": {\"standoff\": 15}, \"zerolinecolor\": \"white\", \"zerolinewidth\": 2}}}},\n",
              "                        {\"responsive\": true}\n",
              "                    ).then(function(){\n",
              "                            \n",
              "var gd = document.getElementById('2ff2efb0-8496-4f7f-9c13-bdaebdfb695c');\n",
              "var x = new MutationObserver(function (mutations, observer) {{\n",
              "        var display = window.getComputedStyle(gd).display;\n",
              "        if (!display || display === 'none') {{\n",
              "            console.log([gd, 'removed!']);\n",
              "            Plotly.purge(gd);\n",
              "            observer.disconnect();\n",
              "        }}\n",
              "}});\n",
              "\n",
              "// Listen for the removal of the full notebook cells\n",
              "var notebookContainer = gd.closest('#notebook-container');\n",
              "if (notebookContainer) {{\n",
              "    x.observe(notebookContainer, {childList: true});\n",
              "}}\n",
              "\n",
              "// Listen for the clearing of the current output cell\n",
              "var outputEl = gd.closest('.output');\n",
              "if (outputEl) {{\n",
              "    x.observe(outputEl, {childList: true});\n",
              "}}\n",
              "\n",
              "                        })\n",
              "                };\n",
              "                \n",
              "            </script>\n",
              "        </div>\n",
              "</body>\n",
              "</html>"
            ]
          },
          "metadata": {
            "tags": []
          }
        }
      ]
    },
    {
      "cell_type": "markdown",
      "metadata": {
        "id": "b_zh0fAKoQtG"
      },
      "source": [
        "### Text for part 2.4 (#2)\n",
        "\n",
        "We can see that most of the parts have a relatively constant price throughout all the years. There are a few exceptions, where the prices wary wildly. For these parts, it could be that the part is seasonal based or possibly a product that is hyped for a time, and then people lose interest later on, resulting in less demand and consequently a lower price tag.\n"
      ]
    },
    {
      "cell_type": "markdown",
      "metadata": {
        "id": "e5TbMoeROxym"
      },
      "source": [
        "### Are there any clients for which profit is declining? (12.5 pts)\n",
        "\n",
        "Declining profit from a specific client may indicate that the client is dissatisfied with the product. Gaining a new client is often much more work than retaining one. Early warnings about declining profit may help your boss fighting customer churn. Answer the following questions and provide appropriate visualisations for each of them. As mentioned before, include headers, legends and well-written descriptions for graphs/charts.\n"
      ]
    },
    {
      "cell_type": "markdown",
      "metadata": {
        "id": "MsDYc835O2lz"
      },
      "source": [
        "#### 2.5. Compute and visualise the trend in total purchases for all customers, per yearly quarter. (5 pts)\n"
      ]
    },
    {
      "cell_type": "markdown",
      "metadata": {
        "id": "_jkmB3WIkc2p"
      },
      "source": [
        "You should also add a paragraph describing your findings."
      ]
    },
    {
      "cell_type": "code",
      "metadata": {
        "id": "2PY6OiqlO_c3",
        "colab": {
          "base_uri": "https://localhost:8080/",
          "height": 992
        },
        "outputId": "a86e1124-3b15-4008-ed07-caee79bf19b6"
      },
      "source": [
        "# Compute the number of purchase per company per quarter\n",
        "q7 = \"\"\" \n",
        "  SELECT\n",
        "    company, CONCAT(CAST(YEAR(date) AS string), 'Q', CAST(QUARTER(date) AS string)) AS yrq, COUNT(part)\n",
        "  FROM\n",
        "    convert_df\n",
        "  GROUP BY company, yrq\n",
        "  ORDER BY company, yrq\n",
        "    \"\"\"\n",
        "custhist = spark.sql(q7)\n",
        "custhist.show()\n",
        "\n",
        "# plot the result\n",
        "pandasdf = custhist.toPandas()\n",
        "\n",
        "fig = go.Figure()\n",
        "all_company = pandasdf['company'].unique()\n",
        "\n",
        "for comp in all_company:\n",
        "  fig.add_trace(\n",
        "        go.Scatter(x=pandasdf[pandasdf['company'] == comp]['yrq'].values,\n",
        "                   y=pandasdf[pandasdf['company'] == comp]['count(part)'].values,\n",
        "                   name=comp)                   \n",
        "        )\n",
        "fig.show()"
      ],
      "execution_count": 111,
      "outputs": [
        {
          "output_type": "stream",
          "text": [
            "+-----------+------+-----------+\n",
            "|    company|   yrq|count(part)|\n",
            "+-----------+------+-----------+\n",
            "|     Avaveo|2016Q1|         13|\n",
            "|     Avaveo|2016Q2|         12|\n",
            "|     Avaveo|2016Q3|         11|\n",
            "|     Avaveo|2016Q4|          7|\n",
            "|     Avaveo|2017Q1|         17|\n",
            "|     Avaveo|2017Q2|         15|\n",
            "|     Avaveo|2017Q3|         17|\n",
            "|     Avaveo|2017Q4|         17|\n",
            "|     Avaveo|2018Q1|         17|\n",
            "|     Avaveo|2018Q2|         18|\n",
            "|     Avaveo|2018Q3|         18|\n",
            "|     Avaveo|2018Q4|         19|\n",
            "|Brainsphere|2016Q1|        109|\n",
            "|Brainsphere|2016Q2|        113|\n",
            "|Brainsphere|2016Q3|         69|\n",
            "|Brainsphere|2016Q4|         33|\n",
            "|Brainsphere|2017Q1|        100|\n",
            "|Brainsphere|2017Q2|         83|\n",
            "|Brainsphere|2017Q3|        119|\n",
            "|Brainsphere|2017Q4|        105|\n",
            "+-----------+------+-----------+\n",
            "only showing top 20 rows\n",
            "\n"
          ],
          "name": "stdout"
        },
        {
          "output_type": "display_data",
          "data": {
            "text/html": [
              "<html>\n",
              "<head><meta charset=\"utf-8\" /></head>\n",
              "<body>\n",
              "    <div>\n",
              "            <script src=\"https://cdnjs.cloudflare.com/ajax/libs/mathjax/2.7.5/MathJax.js?config=TeX-AMS-MML_SVG\"></script><script type=\"text/javascript\">if (window.MathJax) {MathJax.Hub.Config({SVG: {font: \"STIX-Web\"}});}</script>\n",
              "                <script type=\"text/javascript\">window.PlotlyConfig = {MathJaxConfig: 'local'};</script>\n",
              "        <script src=\"https://cdn.plot.ly/plotly-latest.min.js\"></script>    \n",
              "            <div id=\"42966925-102a-448e-97aa-816f28e92625\" class=\"plotly-graph-div\" style=\"height:525px; width:100%;\"></div>\n",
              "            <script type=\"text/javascript\">\n",
              "                \n",
              "                    window.PLOTLYENV=window.PLOTLYENV || {};\n",
              "                    \n",
              "                if (document.getElementById(\"42966925-102a-448e-97aa-816f28e92625\")) {\n",
              "                    Plotly.newPlot(\n",
              "                        '42966925-102a-448e-97aa-816f28e92625',\n",
              "                        [{\"name\": \"Avaveo\", \"type\": \"scatter\", \"x\": [\"2016Q1\", \"2016Q2\", \"2016Q3\", \"2016Q4\", \"2017Q1\", \"2017Q2\", \"2017Q3\", \"2017Q4\", \"2018Q1\", \"2018Q2\", \"2018Q3\", \"2018Q4\"], \"y\": [13, 12, 11, 7, 17, 15, 17, 17, 17, 18, 18, 19]}, {\"name\": \"Brainsphere\", \"type\": \"scatter\", \"x\": [\"2016Q1\", \"2016Q2\", \"2016Q3\", \"2016Q4\", \"2017Q1\", \"2017Q2\", \"2017Q3\", \"2017Q4\", \"2018Q1\", \"2018Q2\", \"2018Q3\", \"2018Q4\"], \"y\": [109, 113, 69, 33, 100, 83, 119, 105, 101, 97, 89, 92]}, {\"name\": \"Bubblemix\", \"type\": \"scatter\", \"x\": [\"2016Q1\", \"2016Q2\", \"2016Q3\", \"2016Q4\", \"2017Q1\", \"2017Q2\", \"2017Q3\", \"2017Q4\", \"2018Q1\", \"2018Q2\", \"2018Q3\", \"2018Q4\"], \"y\": [1, 5, 3, 1, 3, 1, 8, 5, 3, 3, 5, 7]}, {\"name\": \"Buzzbean\", \"type\": \"scatter\", \"x\": [\"2016Q1\", \"2016Q2\", \"2016Q3\", \"2016Q4\", \"2017Q1\", \"2017Q2\", \"2017Q3\", \"2017Q4\", \"2018Q1\", \"2018Q2\", \"2018Q3\", \"2018Q4\"], \"y\": [107, 91, 58, 42, 96, 90, 103, 89, 117, 100, 112, 114]}, {\"name\": \"Chatterbridge\", \"type\": \"scatter\", \"x\": [\"2016Q1\", \"2016Q2\", \"2016Q3\", \"2016Q4\", \"2017Q1\", \"2017Q2\", \"2017Q3\", \"2017Q4\", \"2018Q1\", \"2018Q2\", \"2018Q3\", \"2018Q4\"], \"y\": [143, 138, 89, 38, 121, 99, 127, 123, 116, 148, 140, 135]}, {\"name\": \"Eimbee\", \"type\": \"scatter\", \"x\": [\"2016Q1\", \"2016Q2\", \"2016Q3\", \"2016Q4\", \"2017Q1\", \"2017Q2\", \"2017Q3\", \"2017Q4\", \"2018Q1\", \"2018Q2\", \"2018Q3\", \"2018Q4\"], \"y\": [31, 36, 28, 13, 38, 39, 50, 35, 46, 48, 43, 43]}, {\"name\": \"Flipstorm\", \"type\": \"scatter\", \"x\": [\"2016Q1\", \"2016Q2\", \"2016Q3\", \"2016Q4\", \"2017Q1\", \"2017Q2\", \"2017Q3\", \"2017Q4\", \"2018Q1\", \"2018Q2\", \"2018Q3\", \"2018Q4\"], \"y\": [459, 281, 110, 32, 75, 28, 17, 18, 10, 2, 4, 1]}, {\"name\": \"Gabcube\", \"type\": \"scatter\", \"x\": [\"2016Q1\", \"2016Q2\", \"2016Q3\", \"2016Q4\", \"2017Q1\", \"2017Q2\", \"2017Q3\", \"2017Q4\", \"2018Q1\", \"2018Q2\", \"2018Q3\", \"2018Q4\"], \"y\": [34, 19, 21, 14, 31, 28, 31, 21, 33, 32, 23, 35]}, {\"name\": \"Gabtune\", \"type\": \"scatter\", \"x\": [\"2016Q1\", \"2016Q2\", \"2017Q1\", \"2017Q2\", \"2017Q3\", \"2017Q4\", \"2018Q1\", \"2018Q2\", \"2018Q3\", \"2018Q4\"], \"y\": [3, 2, 1, 1, 1, 1, 5, 2, 3, 5]}, {\"name\": \"Gevee\", \"type\": \"scatter\", \"x\": [\"2016Q1\", \"2016Q2\", \"2016Q3\", \"2016Q4\", \"2017Q1\", \"2017Q3\", \"2017Q4\", \"2018Q1\", \"2018Q2\", \"2018Q3\", \"2018Q4\"], \"y\": [4, 1, 5, 1, 5, 3, 5, 4, 1, 2, 4]}, {\"name\": \"Innojam\", \"type\": \"scatter\", \"x\": [\"2016Q1\", \"2016Q2\", \"2016Q3\", \"2017Q1\", \"2017Q2\", \"2017Q3\", \"2017Q4\", \"2018Q1\", \"2018Q2\", \"2018Q3\", \"2018Q4\"], \"y\": [5, 4, 3, 4, 3, 2, 1, 4, 7, 5, 2]}, {\"name\": \"Kanoodle\", \"type\": \"scatter\", \"x\": [\"2016Q1\", \"2016Q2\", \"2016Q3\", \"2016Q4\", \"2017Q1\", \"2017Q2\", \"2017Q3\", \"2017Q4\", \"2018Q1\", \"2018Q2\", \"2018Q3\", \"2018Q4\"], \"y\": [5, 13, 6, 8, 9, 9, 9, 18, 6, 12, 11, 4]}, {\"name\": \"Lajo\", \"type\": \"scatter\", \"x\": [\"2016Q1\", \"2016Q2\", \"2016Q3\", \"2016Q4\", \"2017Q1\", \"2017Q2\", \"2017Q3\", \"2017Q4\", \"2018Q1\", \"2018Q2\", \"2018Q3\", \"2018Q4\"], \"y\": [23, 21, 11, 9, 24, 11, 19, 14, 20, 14, 19, 16]}, {\"name\": \"Ntags\", \"type\": \"scatter\", \"x\": [\"2016Q1\", \"2016Q2\", \"2016Q3\", \"2016Q4\", \"2017Q1\", \"2017Q2\", \"2017Q3\", \"2017Q4\", \"2018Q1\", \"2018Q2\", \"2018Q3\", \"2018Q4\"], \"y\": [129, 106, 92, 54, 112, 107, 134, 124, 132, 133, 107, 118]}, {\"name\": \"Realpoint\", \"type\": \"scatter\", \"x\": [\"2016Q1\", \"2016Q2\", \"2016Q3\", \"2016Q4\", \"2017Q1\", \"2017Q2\", \"2017Q3\", \"2017Q4\", \"2018Q1\", \"2018Q2\", \"2018Q3\", \"2018Q4\"], \"y\": [9, 6, 7, 6, 17, 6, 14, 15, 12, 17, 18, 16]}, {\"name\": \"Rhycero\", \"type\": \"scatter\", \"x\": [\"2016Q1\", \"2016Q2\", \"2016Q3\", \"2016Q4\", \"2017Q1\", \"2017Q2\", \"2017Q3\", \"2017Q4\", \"2018Q1\", \"2018Q2\", \"2018Q3\", \"2018Q4\"], \"y\": [16, 16, 12, 3, 16, 12, 14, 20, 13, 21, 20, 14]}, {\"name\": \"Riffpath\", \"type\": \"scatter\", \"x\": [\"2016Q1\", \"2016Q2\", \"2016Q3\", \"2016Q4\", \"2017Q1\", \"2017Q2\", \"2017Q3\", \"2017Q4\", \"2018Q1\", \"2018Q2\", \"2018Q3\", \"2018Q4\"], \"y\": [9, 13, 6, 6, 13, 13, 7, 13, 8, 17, 14, 11]}, {\"name\": \"Roodel\", \"type\": \"scatter\", \"x\": [\"2016Q1\", \"2016Q2\", \"2016Q3\", \"2016Q4\", \"2017Q1\", \"2017Q2\", \"2017Q3\", \"2017Q4\", \"2018Q1\", \"2018Q2\", \"2018Q3\", \"2018Q4\"], \"y\": [49, 48, 35, 17, 55, 35, 47, 49, 48, 49, 58, 61]}, {\"name\": \"Shufflebeat\", \"type\": \"scatter\", \"x\": [null, \"2016Q1\", \"2016Q2\", \"2016Q3\", \"2016Q4\", \"2017Q1\", \"2017Q2\", \"2017Q3\", \"2017Q4\", \"2018Q1\", \"2018Q2\", \"2018Q3\", \"2018Q4\"], \"y\": [1, 127, 146, 97, 43, 113, 89, 132, 125, 126, 118, 122, 136]}, {\"name\": \"Tagtune\", \"type\": \"scatter\", \"x\": [\"2016Q1\", \"2017Q2\", \"2017Q4\", \"2018Q1\", \"2018Q3\", \"2018Q4\"], \"y\": [1, 1, 2, 4, 2, 1]}, {\"name\": \"Teklist\", \"type\": \"scatter\", \"x\": [\"2016Q1\", \"2016Q2\", \"2016Q3\", \"2016Q4\", \"2017Q1\", \"2017Q2\", \"2017Q3\", \"2017Q4\", \"2018Q1\", \"2018Q2\", \"2018Q3\", \"2018Q4\"], \"y\": [34, 28, 28, 16, 40, 28, 38, 34, 30, 47, 28, 36]}, {\"name\": \"Thoughtmix\", \"type\": \"scatter\", \"x\": [null, \"2016Q1\", \"2016Q2\", \"2016Q3\", \"2016Q4\", \"2017Q1\", \"2017Q2\", \"2017Q3\", \"2017Q4\", \"2018Q1\", \"2018Q2\", \"2018Q3\", \"2018Q4\"], \"y\": [1, 215, 212, 179, 80, 215, 186, 234, 222, 245, 239, 226, 243]}, {\"name\": \"Twitterbeat\", \"type\": \"scatter\", \"x\": [\"2016Q1\", \"2016Q2\", \"2016Q3\", \"2016Q4\", \"2017Q1\", \"2017Q2\", \"2017Q3\", \"2017Q4\", \"2018Q1\", \"2018Q2\", \"2018Q3\", \"2018Q4\"], \"y\": [168, 160, 137, 71, 194, 145, 206, 189, 166, 191, 191, 210]}, {\"name\": \"Voomm\", \"type\": \"scatter\", \"x\": [\"2016Q1\", \"2016Q2\", \"2016Q3\", \"2016Q4\", \"2017Q1\", \"2017Q2\", \"2017Q3\", \"2017Q4\", \"2018Q1\"], \"y\": [102, 59, 24, 7, 12, 1, 9, 3, 2]}, {\"name\": \"Wordify\", \"type\": \"scatter\", \"x\": [\"2016Q1\", \"2016Q2\", \"2016Q3\", \"2016Q4\", \"2017Q1\", \"2017Q2\", \"2017Q3\", \"2017Q4\", \"2018Q1\", \"2018Q2\", \"2018Q3\", \"2018Q4\"], \"y\": [70, 74, 42, 36, 69, 74, 75, 88, 71, 80, 87, 85]}, {\"name\": \"Yozio\", \"type\": \"scatter\", \"x\": [\"2016Q1\", \"2016Q2\", \"2016Q3\", \"2016Q4\", \"2017Q1\", \"2017Q2\", \"2017Q3\", \"2017Q4\", \"2018Q1\", \"2018Q2\", \"2018Q3\", \"2018Q4\"], \"y\": [64, 52, 33, 20, 48, 50, 59, 51, 49, 40, 67, 49]}, {\"name\": \"Zoonder\", \"type\": \"scatter\", \"x\": [\"2016Q1\", \"2016Q2\", \"2016Q3\", \"2016Q4\", \"2017Q1\", \"2017Q2\", \"2017Q3\", \"2017Q4\", \"2018Q1\", \"2018Q2\", \"2018Q3\", \"2018Q4\"], \"y\": [36, 34, 36, 10, 25, 36, 36, 41, 28, 39, 32, 42]}, {\"name\": \"Zooxo\", \"type\": \"scatter\", \"x\": [\"2016Q1\", \"2016Q2\", \"2016Q3\", \"2016Q4\", \"2017Q1\", \"2017Q2\", \"2017Q3\", \"2017Q4\", \"2018Q1\", \"2018Q2\", \"2018Q3\", \"2018Q4\"], \"y\": [121, 144, 91, 39, 136, 117, 134, 151, 139, 151, 147, 134]}],\n",
              "                        {\"template\": {\"data\": {\"bar\": [{\"error_x\": {\"color\": \"#2a3f5f\"}, \"error_y\": {\"color\": \"#2a3f5f\"}, \"marker\": {\"line\": {\"color\": \"#E5ECF6\", \"width\": 0.5}}, \"type\": \"bar\"}], \"barpolar\": [{\"marker\": {\"line\": {\"color\": \"#E5ECF6\", \"width\": 0.5}}, \"type\": \"barpolar\"}], \"carpet\": [{\"aaxis\": {\"endlinecolor\": \"#2a3f5f\", \"gridcolor\": \"white\", \"linecolor\": \"white\", \"minorgridcolor\": \"white\", \"startlinecolor\": \"#2a3f5f\"}, \"baxis\": {\"endlinecolor\": \"#2a3f5f\", \"gridcolor\": \"white\", \"linecolor\": \"white\", \"minorgridcolor\": \"white\", \"startlinecolor\": \"#2a3f5f\"}, \"type\": \"carpet\"}], \"choropleth\": [{\"colorbar\": {\"outlinewidth\": 0, \"ticks\": \"\"}, \"type\": \"choropleth\"}], \"contour\": [{\"colorbar\": {\"outlinewidth\": 0, \"ticks\": \"\"}, \"colorscale\": [[0.0, \"#0d0887\"], [0.1111111111111111, \"#46039f\"], [0.2222222222222222, \"#7201a8\"], [0.3333333333333333, \"#9c179e\"], [0.4444444444444444, \"#bd3786\"], [0.5555555555555556, \"#d8576b\"], [0.6666666666666666, \"#ed7953\"], [0.7777777777777778, \"#fb9f3a\"], [0.8888888888888888, \"#fdca26\"], [1.0, \"#f0f921\"]], \"type\": \"contour\"}], \"contourcarpet\": [{\"colorbar\": {\"outlinewidth\": 0, \"ticks\": \"\"}, \"type\": \"contourcarpet\"}], \"heatmap\": [{\"colorbar\": {\"outlinewidth\": 0, \"ticks\": \"\"}, \"colorscale\": [[0.0, \"#0d0887\"], [0.1111111111111111, \"#46039f\"], [0.2222222222222222, \"#7201a8\"], [0.3333333333333333, \"#9c179e\"], [0.4444444444444444, \"#bd3786\"], [0.5555555555555556, \"#d8576b\"], [0.6666666666666666, \"#ed7953\"], [0.7777777777777778, \"#fb9f3a\"], [0.8888888888888888, \"#fdca26\"], [1.0, \"#f0f921\"]], \"type\": \"heatmap\"}], \"heatmapgl\": [{\"colorbar\": {\"outlinewidth\": 0, \"ticks\": \"\"}, \"colorscale\": [[0.0, \"#0d0887\"], [0.1111111111111111, \"#46039f\"], [0.2222222222222222, \"#7201a8\"], [0.3333333333333333, \"#9c179e\"], [0.4444444444444444, \"#bd3786\"], [0.5555555555555556, \"#d8576b\"], [0.6666666666666666, \"#ed7953\"], [0.7777777777777778, \"#fb9f3a\"], [0.8888888888888888, \"#fdca26\"], [1.0, \"#f0f921\"]], \"type\": \"heatmapgl\"}], \"histogram\": [{\"marker\": {\"colorbar\": {\"outlinewidth\": 0, \"ticks\": \"\"}}, \"type\": \"histogram\"}], \"histogram2d\": [{\"colorbar\": {\"outlinewidth\": 0, \"ticks\": \"\"}, \"colorscale\": [[0.0, \"#0d0887\"], [0.1111111111111111, \"#46039f\"], [0.2222222222222222, \"#7201a8\"], [0.3333333333333333, \"#9c179e\"], [0.4444444444444444, \"#bd3786\"], [0.5555555555555556, \"#d8576b\"], [0.6666666666666666, \"#ed7953\"], [0.7777777777777778, \"#fb9f3a\"], [0.8888888888888888, \"#fdca26\"], [1.0, \"#f0f921\"]], \"type\": \"histogram2d\"}], \"histogram2dcontour\": [{\"colorbar\": {\"outlinewidth\": 0, \"ticks\": \"\"}, \"colorscale\": [[0.0, \"#0d0887\"], [0.1111111111111111, \"#46039f\"], [0.2222222222222222, \"#7201a8\"], [0.3333333333333333, \"#9c179e\"], [0.4444444444444444, \"#bd3786\"], [0.5555555555555556, \"#d8576b\"], [0.6666666666666666, \"#ed7953\"], [0.7777777777777778, \"#fb9f3a\"], [0.8888888888888888, \"#fdca26\"], [1.0, \"#f0f921\"]], \"type\": \"histogram2dcontour\"}], \"mesh3d\": [{\"colorbar\": {\"outlinewidth\": 0, \"ticks\": \"\"}, \"type\": \"mesh3d\"}], \"parcoords\": [{\"line\": {\"colorbar\": {\"outlinewidth\": 0, \"ticks\": \"\"}}, \"type\": \"parcoords\"}], \"pie\": [{\"automargin\": true, \"type\": \"pie\"}], \"scatter\": [{\"marker\": {\"colorbar\": {\"outlinewidth\": 0, \"ticks\": \"\"}}, \"type\": \"scatter\"}], \"scatter3d\": [{\"line\": {\"colorbar\": {\"outlinewidth\": 0, \"ticks\": \"\"}}, \"marker\": {\"colorbar\": {\"outlinewidth\": 0, \"ticks\": \"\"}}, \"type\": \"scatter3d\"}], \"scattercarpet\": [{\"marker\": {\"colorbar\": {\"outlinewidth\": 0, \"ticks\": \"\"}}, \"type\": \"scattercarpet\"}], \"scattergeo\": [{\"marker\": {\"colorbar\": {\"outlinewidth\": 0, \"ticks\": \"\"}}, \"type\": \"scattergeo\"}], \"scattergl\": [{\"marker\": {\"colorbar\": {\"outlinewidth\": 0, \"ticks\": \"\"}}, \"type\": \"scattergl\"}], \"scattermapbox\": [{\"marker\": {\"colorbar\": {\"outlinewidth\": 0, \"ticks\": \"\"}}, \"type\": \"scattermapbox\"}], \"scatterpolar\": [{\"marker\": {\"colorbar\": {\"outlinewidth\": 0, \"ticks\": \"\"}}, \"type\": \"scatterpolar\"}], \"scatterpolargl\": [{\"marker\": {\"colorbar\": {\"outlinewidth\": 0, \"ticks\": \"\"}}, \"type\": \"scatterpolargl\"}], \"scatterternary\": [{\"marker\": {\"colorbar\": {\"outlinewidth\": 0, \"ticks\": \"\"}}, \"type\": \"scatterternary\"}], \"surface\": [{\"colorbar\": {\"outlinewidth\": 0, \"ticks\": \"\"}, \"colorscale\": [[0.0, \"#0d0887\"], [0.1111111111111111, \"#46039f\"], [0.2222222222222222, \"#7201a8\"], [0.3333333333333333, \"#9c179e\"], [0.4444444444444444, \"#bd3786\"], [0.5555555555555556, \"#d8576b\"], [0.6666666666666666, \"#ed7953\"], [0.7777777777777778, \"#fb9f3a\"], [0.8888888888888888, \"#fdca26\"], [1.0, \"#f0f921\"]], \"type\": \"surface\"}], \"table\": [{\"cells\": {\"fill\": {\"color\": \"#EBF0F8\"}, \"line\": {\"color\": \"white\"}}, \"header\": {\"fill\": {\"color\": \"#C8D4E3\"}, \"line\": {\"color\": \"white\"}}, \"type\": \"table\"}]}, \"layout\": {\"annotationdefaults\": {\"arrowcolor\": \"#2a3f5f\", \"arrowhead\": 0, \"arrowwidth\": 1}, \"coloraxis\": {\"colorbar\": {\"outlinewidth\": 0, \"ticks\": \"\"}}, \"colorscale\": {\"diverging\": [[0, \"#8e0152\"], [0.1, \"#c51b7d\"], [0.2, \"#de77ae\"], [0.3, \"#f1b6da\"], [0.4, \"#fde0ef\"], [0.5, \"#f7f7f7\"], [0.6, \"#e6f5d0\"], [0.7, \"#b8e186\"], [0.8, \"#7fbc41\"], [0.9, \"#4d9221\"], [1, \"#276419\"]], \"sequential\": [[0.0, \"#0d0887\"], [0.1111111111111111, \"#46039f\"], [0.2222222222222222, \"#7201a8\"], [0.3333333333333333, \"#9c179e\"], [0.4444444444444444, \"#bd3786\"], [0.5555555555555556, \"#d8576b\"], [0.6666666666666666, \"#ed7953\"], [0.7777777777777778, \"#fb9f3a\"], [0.8888888888888888, \"#fdca26\"], [1.0, \"#f0f921\"]], \"sequentialminus\": [[0.0, \"#0d0887\"], [0.1111111111111111, \"#46039f\"], [0.2222222222222222, \"#7201a8\"], [0.3333333333333333, \"#9c179e\"], [0.4444444444444444, \"#bd3786\"], [0.5555555555555556, \"#d8576b\"], [0.6666666666666666, \"#ed7953\"], [0.7777777777777778, \"#fb9f3a\"], [0.8888888888888888, \"#fdca26\"], [1.0, \"#f0f921\"]]}, \"colorway\": [\"#636efa\", \"#EF553B\", \"#00cc96\", \"#ab63fa\", \"#FFA15A\", \"#19d3f3\", \"#FF6692\", \"#B6E880\", \"#FF97FF\", \"#FECB52\"], \"font\": {\"color\": \"#2a3f5f\"}, \"geo\": {\"bgcolor\": \"white\", \"lakecolor\": \"white\", \"landcolor\": \"#E5ECF6\", \"showlakes\": true, \"showland\": true, \"subunitcolor\": \"white\"}, \"hoverlabel\": {\"align\": \"left\"}, \"hovermode\": \"closest\", \"mapbox\": {\"style\": \"light\"}, \"paper_bgcolor\": \"white\", \"plot_bgcolor\": \"#E5ECF6\", \"polar\": {\"angularaxis\": {\"gridcolor\": \"white\", \"linecolor\": \"white\", \"ticks\": \"\"}, \"bgcolor\": \"#E5ECF6\", \"radialaxis\": {\"gridcolor\": \"white\", \"linecolor\": \"white\", \"ticks\": \"\"}}, \"scene\": {\"xaxis\": {\"backgroundcolor\": \"#E5ECF6\", \"gridcolor\": \"white\", \"gridwidth\": 2, \"linecolor\": \"white\", \"showbackground\": true, \"ticks\": \"\", \"zerolinecolor\": \"white\"}, \"yaxis\": {\"backgroundcolor\": \"#E5ECF6\", \"gridcolor\": \"white\", \"gridwidth\": 2, \"linecolor\": \"white\", \"showbackground\": true, \"ticks\": \"\", \"zerolinecolor\": \"white\"}, \"zaxis\": {\"backgroundcolor\": \"#E5ECF6\", \"gridcolor\": \"white\", \"gridwidth\": 2, \"linecolor\": \"white\", \"showbackground\": true, \"ticks\": \"\", \"zerolinecolor\": \"white\"}}, \"shapedefaults\": {\"line\": {\"color\": \"#2a3f5f\"}}, \"ternary\": {\"aaxis\": {\"gridcolor\": \"white\", \"linecolor\": \"white\", \"ticks\": \"\"}, \"baxis\": {\"gridcolor\": \"white\", \"linecolor\": \"white\", \"ticks\": \"\"}, \"bgcolor\": \"#E5ECF6\", \"caxis\": {\"gridcolor\": \"white\", \"linecolor\": \"white\", \"ticks\": \"\"}}, \"title\": {\"x\": 0.05}, \"xaxis\": {\"automargin\": true, \"gridcolor\": \"white\", \"linecolor\": \"white\", \"ticks\": \"\", \"title\": {\"standoff\": 15}, \"zerolinecolor\": \"white\", \"zerolinewidth\": 2}, \"yaxis\": {\"automargin\": true, \"gridcolor\": \"white\", \"linecolor\": \"white\", \"ticks\": \"\", \"title\": {\"standoff\": 15}, \"zerolinecolor\": \"white\", \"zerolinewidth\": 2}}}},\n",
              "                        {\"responsive\": true}\n",
              "                    ).then(function(){\n",
              "                            \n",
              "var gd = document.getElementById('42966925-102a-448e-97aa-816f28e92625');\n",
              "var x = new MutationObserver(function (mutations, observer) {{\n",
              "        var display = window.getComputedStyle(gd).display;\n",
              "        if (!display || display === 'none') {{\n",
              "            console.log([gd, 'removed!']);\n",
              "            Plotly.purge(gd);\n",
              "            observer.disconnect();\n",
              "        }}\n",
              "}});\n",
              "\n",
              "// Listen for the removal of the full notebook cells\n",
              "var notebookContainer = gd.closest('#notebook-container');\n",
              "if (notebookContainer) {{\n",
              "    x.observe(notebookContainer, {childList: true});\n",
              "}}\n",
              "\n",
              "// Listen for the clearing of the current output cell\n",
              "var outputEl = gd.closest('.output');\n",
              "if (outputEl) {{\n",
              "    x.observe(outputEl, {childList: true});\n",
              "}}\n",
              "\n",
              "                        })\n",
              "                };\n",
              "                \n",
              "            </script>\n",
              "        </div>\n",
              "</body>\n",
              "</html>"
            ]
          },
          "metadata": {
            "tags": []
          }
        }
      ]
    },
    {
      "cell_type": "markdown",
      "metadata": {
        "id": "7QlEowA6owK8"
      },
      "source": [
        "### Text for part 2.5\n",
        "Here we again see the drop in 2016Q4. Flipstorm buys many things in early 2016, but drop a lot after that. Even after 2016Q4, Flipstorm never starts buying many parts again. Most of the companies buy roughly the same amount of parts throughout all the years, and also within each quarter of each year."
      ]
    },
    {
      "cell_type": "markdown",
      "metadata": {
        "id": "Iqt7w6L7O69l"
      },
      "source": [
        "#### 2.6 Find profit-per-customer trends. (7.5 pts)\n",
        "\n",
        "Find the customers for which profit declined in 2018, relative to 2016. By how much has profit declined? What are the three customers for which profit is declining the most?\n",
        "\n",
        "Compute the answer, plot appropriately, and write a paragraph describing the findings.\n"
      ]
    },
    {
      "cell_type": "code",
      "metadata": {
        "id": "KClkLOwZO_6o",
        "colab": {
          "base_uri": "https://localhost:8080/",
          "height": 680
        },
        "outputId": "0151d5cc-7b88-43af-cb7e-a9986f719ac6"
      },
      "source": [
        "# Create a \"temp\" df to store all the different data using the conditions.\n",
        "q8 = \"\"\"\n",
        "  WITH temp_df AS\n",
        "  (\n",
        "    SELECT company, \n",
        "      SUM(CASE WHEN CAST(YEAR(date) AS string) = 2016 THEN (price_in_EUR) END) AS sum16,\n",
        "      SUM(CASE WHEN CAST(YEAR(date) AS string) = 2018 THEN (price_in_EUR) END) AS sum18,\n",
        "      SUM(CASE WHEN CAST(YEAR(date) AS string) = 2018 THEN (price_in_EUR) END) - SUM(CASE WHEN CAST(YEAR(date) AS string) = 2016 THEN (price_in_EUR) END) AS diff\n",
        "    FROM\n",
        "      convert_df\n",
        "    GROUP BY company\n",
        "  )\n",
        "  SELECT company, sum16, sum18, diff\n",
        "  FROM temp_df\n",
        "  WHERE diff < 0\n",
        "  ORDER BY diff ASC\n",
        "    \"\"\"\n",
        "profhist = spark.sql(q8)\n",
        "profhist.show()\n",
        "\n",
        "# Plot of difference in sales\n",
        "pandasdf = profhist.toPandas()\n",
        "compCol = pandasdf['company'].tolist()\n",
        "diffCol = pandasdf['diff'].tolist()\n",
        "\n",
        "fig = go.Figure()\n",
        "\n",
        "fig.add_trace(\n",
        "      go.Bar(x=compCol,\n",
        "             y=diffCol)                   \n",
        "      )\n",
        "\n",
        "fig.show()"
      ],
      "execution_count": 112,
      "outputs": [
        {
          "output_type": "stream",
          "text": [
            "+---------+------------------+-----------------+-------------------+\n",
            "|  company|             sum16|            sum18|               diff|\n",
            "+---------+------------------+-----------------+-------------------+\n",
            "|Flipstorm|502195.33996486664|10362.53003692627|-491832.80992794037|\n",
            "|    Voomm|107739.66032409668|1717.719970703125|-106021.94035339355|\n",
            "|    Gevee|  6178.70002746582|5834.569984436035|-344.13004302978516|\n",
            "+---------+------------------+-----------------+-------------------+\n",
            "\n"
          ],
          "name": "stdout"
        },
        {
          "output_type": "display_data",
          "data": {
            "text/html": [
              "<html>\n",
              "<head><meta charset=\"utf-8\" /></head>\n",
              "<body>\n",
              "    <div>\n",
              "            <script src=\"https://cdnjs.cloudflare.com/ajax/libs/mathjax/2.7.5/MathJax.js?config=TeX-AMS-MML_SVG\"></script><script type=\"text/javascript\">if (window.MathJax) {MathJax.Hub.Config({SVG: {font: \"STIX-Web\"}});}</script>\n",
              "                <script type=\"text/javascript\">window.PlotlyConfig = {MathJaxConfig: 'local'};</script>\n",
              "        <script src=\"https://cdn.plot.ly/plotly-latest.min.js\"></script>    \n",
              "            <div id=\"9d3e95f9-5642-44a7-80ae-2b2f84e22f96\" class=\"plotly-graph-div\" style=\"height:525px; width:100%;\"></div>\n",
              "            <script type=\"text/javascript\">\n",
              "                \n",
              "                    window.PLOTLYENV=window.PLOTLYENV || {};\n",
              "                    \n",
              "                if (document.getElementById(\"9d3e95f9-5642-44a7-80ae-2b2f84e22f96\")) {\n",
              "                    Plotly.newPlot(\n",
              "                        '9d3e95f9-5642-44a7-80ae-2b2f84e22f96',\n",
              "                        [{\"type\": \"bar\", \"x\": [\"Flipstorm\", \"Voomm\", \"Gevee\"], \"y\": [-491832.80992794037, -106021.94035339355, -344.13004302978516]}],\n",
              "                        {\"template\": {\"data\": {\"bar\": [{\"error_x\": {\"color\": \"#2a3f5f\"}, \"error_y\": {\"color\": \"#2a3f5f\"}, \"marker\": {\"line\": {\"color\": \"#E5ECF6\", \"width\": 0.5}}, \"type\": \"bar\"}], \"barpolar\": [{\"marker\": {\"line\": {\"color\": \"#E5ECF6\", \"width\": 0.5}}, \"type\": \"barpolar\"}], \"carpet\": [{\"aaxis\": {\"endlinecolor\": \"#2a3f5f\", \"gridcolor\": \"white\", \"linecolor\": \"white\", \"minorgridcolor\": \"white\", \"startlinecolor\": \"#2a3f5f\"}, \"baxis\": {\"endlinecolor\": \"#2a3f5f\", \"gridcolor\": \"white\", \"linecolor\": \"white\", \"minorgridcolor\": \"white\", \"startlinecolor\": \"#2a3f5f\"}, \"type\": \"carpet\"}], \"choropleth\": [{\"colorbar\": {\"outlinewidth\": 0, \"ticks\": \"\"}, \"type\": \"choropleth\"}], \"contour\": [{\"colorbar\": {\"outlinewidth\": 0, \"ticks\": \"\"}, \"colorscale\": [[0.0, \"#0d0887\"], [0.1111111111111111, \"#46039f\"], [0.2222222222222222, \"#7201a8\"], [0.3333333333333333, \"#9c179e\"], [0.4444444444444444, \"#bd3786\"], [0.5555555555555556, \"#d8576b\"], [0.6666666666666666, \"#ed7953\"], [0.7777777777777778, \"#fb9f3a\"], [0.8888888888888888, \"#fdca26\"], [1.0, \"#f0f921\"]], \"type\": \"contour\"}], \"contourcarpet\": [{\"colorbar\": {\"outlinewidth\": 0, \"ticks\": \"\"}, \"type\": \"contourcarpet\"}], \"heatmap\": [{\"colorbar\": {\"outlinewidth\": 0, \"ticks\": \"\"}, \"colorscale\": [[0.0, \"#0d0887\"], [0.1111111111111111, \"#46039f\"], [0.2222222222222222, \"#7201a8\"], [0.3333333333333333, \"#9c179e\"], [0.4444444444444444, \"#bd3786\"], [0.5555555555555556, \"#d8576b\"], [0.6666666666666666, \"#ed7953\"], [0.7777777777777778, \"#fb9f3a\"], [0.8888888888888888, \"#fdca26\"], [1.0, \"#f0f921\"]], \"type\": \"heatmap\"}], \"heatmapgl\": [{\"colorbar\": {\"outlinewidth\": 0, \"ticks\": \"\"}, \"colorscale\": [[0.0, \"#0d0887\"], [0.1111111111111111, \"#46039f\"], [0.2222222222222222, \"#7201a8\"], [0.3333333333333333, \"#9c179e\"], [0.4444444444444444, \"#bd3786\"], [0.5555555555555556, \"#d8576b\"], [0.6666666666666666, \"#ed7953\"], [0.7777777777777778, \"#fb9f3a\"], [0.8888888888888888, \"#fdca26\"], [1.0, \"#f0f921\"]], \"type\": \"heatmapgl\"}], \"histogram\": [{\"marker\": {\"colorbar\": {\"outlinewidth\": 0, \"ticks\": \"\"}}, \"type\": \"histogram\"}], \"histogram2d\": [{\"colorbar\": {\"outlinewidth\": 0, \"ticks\": \"\"}, \"colorscale\": [[0.0, \"#0d0887\"], [0.1111111111111111, \"#46039f\"], [0.2222222222222222, \"#7201a8\"], [0.3333333333333333, \"#9c179e\"], [0.4444444444444444, \"#bd3786\"], [0.5555555555555556, \"#d8576b\"], [0.6666666666666666, \"#ed7953\"], [0.7777777777777778, \"#fb9f3a\"], [0.8888888888888888, \"#fdca26\"], [1.0, \"#f0f921\"]], \"type\": \"histogram2d\"}], \"histogram2dcontour\": [{\"colorbar\": {\"outlinewidth\": 0, \"ticks\": \"\"}, \"colorscale\": [[0.0, \"#0d0887\"], [0.1111111111111111, \"#46039f\"], [0.2222222222222222, \"#7201a8\"], [0.3333333333333333, \"#9c179e\"], [0.4444444444444444, \"#bd3786\"], [0.5555555555555556, \"#d8576b\"], [0.6666666666666666, \"#ed7953\"], [0.7777777777777778, \"#fb9f3a\"], [0.8888888888888888, \"#fdca26\"], [1.0, \"#f0f921\"]], \"type\": \"histogram2dcontour\"}], \"mesh3d\": [{\"colorbar\": {\"outlinewidth\": 0, \"ticks\": \"\"}, \"type\": \"mesh3d\"}], \"parcoords\": [{\"line\": {\"colorbar\": {\"outlinewidth\": 0, \"ticks\": \"\"}}, \"type\": \"parcoords\"}], \"pie\": [{\"automargin\": true, \"type\": \"pie\"}], \"scatter\": [{\"marker\": {\"colorbar\": {\"outlinewidth\": 0, \"ticks\": \"\"}}, \"type\": \"scatter\"}], \"scatter3d\": [{\"line\": {\"colorbar\": {\"outlinewidth\": 0, \"ticks\": \"\"}}, \"marker\": {\"colorbar\": {\"outlinewidth\": 0, \"ticks\": \"\"}}, \"type\": \"scatter3d\"}], \"scattercarpet\": [{\"marker\": {\"colorbar\": {\"outlinewidth\": 0, \"ticks\": \"\"}}, \"type\": \"scattercarpet\"}], \"scattergeo\": [{\"marker\": {\"colorbar\": {\"outlinewidth\": 0, \"ticks\": \"\"}}, \"type\": \"scattergeo\"}], \"scattergl\": [{\"marker\": {\"colorbar\": {\"outlinewidth\": 0, \"ticks\": \"\"}}, \"type\": \"scattergl\"}], \"scattermapbox\": [{\"marker\": {\"colorbar\": {\"outlinewidth\": 0, \"ticks\": \"\"}}, \"type\": \"scattermapbox\"}], \"scatterpolar\": [{\"marker\": {\"colorbar\": {\"outlinewidth\": 0, \"ticks\": \"\"}}, \"type\": \"scatterpolar\"}], \"scatterpolargl\": [{\"marker\": {\"colorbar\": {\"outlinewidth\": 0, \"ticks\": \"\"}}, \"type\": \"scatterpolargl\"}], \"scatterternary\": [{\"marker\": {\"colorbar\": {\"outlinewidth\": 0, \"ticks\": \"\"}}, \"type\": \"scatterternary\"}], \"surface\": [{\"colorbar\": {\"outlinewidth\": 0, \"ticks\": \"\"}, \"colorscale\": [[0.0, \"#0d0887\"], [0.1111111111111111, \"#46039f\"], [0.2222222222222222, \"#7201a8\"], [0.3333333333333333, \"#9c179e\"], [0.4444444444444444, \"#bd3786\"], [0.5555555555555556, \"#d8576b\"], [0.6666666666666666, \"#ed7953\"], [0.7777777777777778, \"#fb9f3a\"], [0.8888888888888888, \"#fdca26\"], [1.0, \"#f0f921\"]], \"type\": \"surface\"}], \"table\": [{\"cells\": {\"fill\": {\"color\": \"#EBF0F8\"}, \"line\": {\"color\": \"white\"}}, \"header\": {\"fill\": {\"color\": \"#C8D4E3\"}, \"line\": {\"color\": \"white\"}}, \"type\": \"table\"}]}, \"layout\": {\"annotationdefaults\": {\"arrowcolor\": \"#2a3f5f\", \"arrowhead\": 0, \"arrowwidth\": 1}, \"coloraxis\": {\"colorbar\": {\"outlinewidth\": 0, \"ticks\": \"\"}}, \"colorscale\": {\"diverging\": [[0, \"#8e0152\"], [0.1, \"#c51b7d\"], [0.2, \"#de77ae\"], [0.3, \"#f1b6da\"], [0.4, \"#fde0ef\"], [0.5, \"#f7f7f7\"], [0.6, \"#e6f5d0\"], [0.7, \"#b8e186\"], [0.8, \"#7fbc41\"], [0.9, \"#4d9221\"], [1, \"#276419\"]], \"sequential\": [[0.0, \"#0d0887\"], [0.1111111111111111, \"#46039f\"], [0.2222222222222222, \"#7201a8\"], [0.3333333333333333, \"#9c179e\"], [0.4444444444444444, \"#bd3786\"], [0.5555555555555556, \"#d8576b\"], [0.6666666666666666, \"#ed7953\"], [0.7777777777777778, \"#fb9f3a\"], [0.8888888888888888, \"#fdca26\"], [1.0, \"#f0f921\"]], \"sequentialminus\": [[0.0, \"#0d0887\"], [0.1111111111111111, \"#46039f\"], [0.2222222222222222, \"#7201a8\"], [0.3333333333333333, \"#9c179e\"], [0.4444444444444444, \"#bd3786\"], [0.5555555555555556, \"#d8576b\"], [0.6666666666666666, \"#ed7953\"], [0.7777777777777778, \"#fb9f3a\"], [0.8888888888888888, \"#fdca26\"], [1.0, \"#f0f921\"]]}, \"colorway\": [\"#636efa\", \"#EF553B\", \"#00cc96\", \"#ab63fa\", \"#FFA15A\", \"#19d3f3\", \"#FF6692\", \"#B6E880\", \"#FF97FF\", \"#FECB52\"], \"font\": {\"color\": \"#2a3f5f\"}, \"geo\": {\"bgcolor\": \"white\", \"lakecolor\": \"white\", \"landcolor\": \"#E5ECF6\", \"showlakes\": true, \"showland\": true, \"subunitcolor\": \"white\"}, \"hoverlabel\": {\"align\": \"left\"}, \"hovermode\": \"closest\", \"mapbox\": {\"style\": \"light\"}, \"paper_bgcolor\": \"white\", \"plot_bgcolor\": \"#E5ECF6\", \"polar\": {\"angularaxis\": {\"gridcolor\": \"white\", \"linecolor\": \"white\", \"ticks\": \"\"}, \"bgcolor\": \"#E5ECF6\", \"radialaxis\": {\"gridcolor\": \"white\", \"linecolor\": \"white\", \"ticks\": \"\"}}, \"scene\": {\"xaxis\": {\"backgroundcolor\": \"#E5ECF6\", \"gridcolor\": \"white\", \"gridwidth\": 2, \"linecolor\": \"white\", \"showbackground\": true, \"ticks\": \"\", \"zerolinecolor\": \"white\"}, \"yaxis\": {\"backgroundcolor\": \"#E5ECF6\", \"gridcolor\": \"white\", \"gridwidth\": 2, \"linecolor\": \"white\", \"showbackground\": true, \"ticks\": \"\", \"zerolinecolor\": \"white\"}, \"zaxis\": {\"backgroundcolor\": \"#E5ECF6\", \"gridcolor\": \"white\", \"gridwidth\": 2, \"linecolor\": \"white\", \"showbackground\": true, \"ticks\": \"\", \"zerolinecolor\": \"white\"}}, \"shapedefaults\": {\"line\": {\"color\": \"#2a3f5f\"}}, \"ternary\": {\"aaxis\": {\"gridcolor\": \"white\", \"linecolor\": \"white\", \"ticks\": \"\"}, \"baxis\": {\"gridcolor\": \"white\", \"linecolor\": \"white\", \"ticks\": \"\"}, \"bgcolor\": \"#E5ECF6\", \"caxis\": {\"gridcolor\": \"white\", \"linecolor\": \"white\", \"ticks\": \"\"}}, \"title\": {\"x\": 0.05}, \"xaxis\": {\"automargin\": true, \"gridcolor\": \"white\", \"linecolor\": \"white\", \"ticks\": \"\", \"title\": {\"standoff\": 15}, \"zerolinecolor\": \"white\", \"zerolinewidth\": 2}, \"yaxis\": {\"automargin\": true, \"gridcolor\": \"white\", \"linecolor\": \"white\", \"ticks\": \"\", \"title\": {\"standoff\": 15}, \"zerolinecolor\": \"white\", \"zerolinewidth\": 2}}}},\n",
              "                        {\"responsive\": true}\n",
              "                    ).then(function(){\n",
              "                            \n",
              "var gd = document.getElementById('9d3e95f9-5642-44a7-80ae-2b2f84e22f96');\n",
              "var x = new MutationObserver(function (mutations, observer) {{\n",
              "        var display = window.getComputedStyle(gd).display;\n",
              "        if (!display || display === 'none') {{\n",
              "            console.log([gd, 'removed!']);\n",
              "            Plotly.purge(gd);\n",
              "            observer.disconnect();\n",
              "        }}\n",
              "}});\n",
              "\n",
              "// Listen for the removal of the full notebook cells\n",
              "var notebookContainer = gd.closest('#notebook-container');\n",
              "if (notebookContainer) {{\n",
              "    x.observe(notebookContainer, {childList: true});\n",
              "}}\n",
              "\n",
              "// Listen for the clearing of the current output cell\n",
              "var outputEl = gd.closest('.output');\n",
              "if (outputEl) {{\n",
              "    x.observe(outputEl, {childList: true});\n",
              "}}\n",
              "\n",
              "                        })\n",
              "                };\n",
              "                \n",
              "            </script>\n",
              "        </div>\n",
              "</body>\n",
              "</html>"
            ]
          },
          "metadata": {
            "tags": []
          }
        }
      ]
    },
    {
      "cell_type": "markdown",
      "metadata": {
        "id": "OVaqxL56pB9H"
      },
      "source": [
        "### Text for part 2.6\n",
        "We see here that Flipstorm buys almost for half a million less in 2018 than they did in 2016. Voomm buys about 100k less, and Gevee just barely buys less with only 343 EUR difference."
      ]
    },
    {
      "cell_type": "markdown",
      "metadata": {
        "id": "jiAsuVan3VIx"
      },
      "source": [
        "## Part 3: Your own insights (10 pts)\n",
        "\n",
        "Time to explore the data freely to create two valuable, actionable insights. This is your chance to show your ability to do fully self-directed data analysis. \n",
        "\n",
        "Your insights should be non-trivial. A trivial finding would be, e.g., \"the number of currencies in which we record transations is $n$\". That's not a particularly groundbreaking insight. Dig a bit deeper!"
      ]
    },
    {
      "cell_type": "markdown",
      "metadata": {
        "id": "e6Qugm1KO9Ws"
      },
      "source": [
        "#### 3.1. Add your own query #1 (5 pts)\n",
        "\n",
        "Impress your boss providing a valuable data-driven insight. Why is this relevant? Describe the query in words and provide appropriate visualisations. Write a paragraph describing your findings."
      ]
    },
    {
      "cell_type": "code",
      "metadata": {
        "id": "3L1nigLW3Ult",
        "colab": {
          "base_uri": "https://localhost:8080/"
        },
        "outputId": "ff186eec-8c85-463a-9de9-ce50478656f3"
      },
      "source": [
        "# Calculate Which countries we sell to the most\n",
        "q9 = \"\"\" \n",
        "  SELECT\n",
        "    country, COUNT(country), SUM(price_in_EUR)\n",
        "  FROM\n",
        "    convert_df\n",
        "  GROUP BY country\n",
        "  ORDER BY count(country) DESC\n",
        "    \"\"\"\n",
        "countrydf = spark.sql(q9)\n",
        "countrydf.show()"
      ],
      "execution_count": 113,
      "outputs": [
        {
          "output_type": "stream",
          "text": [
            "+--------------+--------------+------------------+\n",
            "|       country|count(country)| sum(price_in_EUR)|\n",
            "+--------------+--------------+------------------+\n",
            "|      Portugal|          7346| 4261813.588921905|\n",
            "|        France|          3444|2010787.5593736172|\n",
            "|        Greece|          1620| 912204.2607011795|\n",
            "|United Kingdom|          1504| 860209.0433979034|\n",
            "|         Spain|          1417| 824121.1000556946|\n",
            "| United States|          1246| 680523.5413062572|\n",
            "|       Germany|          1119|  643675.999961853|\n",
            "|   Netherlands|           427|241739.01028442383|\n",
            "|         Japan|           155| 88103.91493225098|\n",
            "|   Switzerland|            11|6167.9500732421875|\n",
            "+--------------+--------------+------------------+\n",
            "\n"
          ],
          "name": "stdout"
        }
      ]
    },
    {
      "cell_type": "code",
      "metadata": {
        "id": "-VqRGC4Q-3cu",
        "colab": {
          "base_uri": "https://localhost:8080/",
          "height": 542
        },
        "outputId": "0c73a374-b01f-48cf-f4b0-79594109dbd0"
      },
      "source": [
        "# Plot the number of purchases per country\n",
        "pandasdf = countrydf.toPandas()\n",
        "countryCol = pandasdf['country'].tolist()\n",
        "saleCol = pandasdf['count(country)'].tolist()\n",
        "\n",
        "fig = go.Figure()\n",
        "\n",
        "fig.add_trace(\n",
        "      go.Bar(x=countryCol,\n",
        "             y=saleCol)                   \n",
        "      )\n",
        "\n",
        "fig.show()"
      ],
      "execution_count": 114,
      "outputs": [
        {
          "output_type": "display_data",
          "data": {
            "text/html": [
              "<html>\n",
              "<head><meta charset=\"utf-8\" /></head>\n",
              "<body>\n",
              "    <div>\n",
              "            <script src=\"https://cdnjs.cloudflare.com/ajax/libs/mathjax/2.7.5/MathJax.js?config=TeX-AMS-MML_SVG\"></script><script type=\"text/javascript\">if (window.MathJax) {MathJax.Hub.Config({SVG: {font: \"STIX-Web\"}});}</script>\n",
              "                <script type=\"text/javascript\">window.PlotlyConfig = {MathJaxConfig: 'local'};</script>\n",
              "        <script src=\"https://cdn.plot.ly/plotly-latest.min.js\"></script>    \n",
              "            <div id=\"23425294-642d-4de7-a02e-36f25c72db93\" class=\"plotly-graph-div\" style=\"height:525px; width:100%;\"></div>\n",
              "            <script type=\"text/javascript\">\n",
              "                \n",
              "                    window.PLOTLYENV=window.PLOTLYENV || {};\n",
              "                    \n",
              "                if (document.getElementById(\"23425294-642d-4de7-a02e-36f25c72db93\")) {\n",
              "                    Plotly.newPlot(\n",
              "                        '23425294-642d-4de7-a02e-36f25c72db93',\n",
              "                        [{\"type\": \"bar\", \"x\": [\"Portugal\", \"France\", \"Greece\", \"United Kingdom\", \"Spain\", \"United States\", \"Germany\", \"Netherlands\", \"Japan\", \"Switzerland\"], \"y\": [7346, 3444, 1620, 1504, 1417, 1246, 1119, 427, 155, 11]}],\n",
              "                        {\"template\": {\"data\": {\"bar\": [{\"error_x\": {\"color\": \"#2a3f5f\"}, \"error_y\": {\"color\": \"#2a3f5f\"}, \"marker\": {\"line\": {\"color\": \"#E5ECF6\", \"width\": 0.5}}, \"type\": \"bar\"}], \"barpolar\": [{\"marker\": {\"line\": {\"color\": \"#E5ECF6\", \"width\": 0.5}}, \"type\": \"barpolar\"}], \"carpet\": [{\"aaxis\": {\"endlinecolor\": \"#2a3f5f\", \"gridcolor\": \"white\", \"linecolor\": \"white\", \"minorgridcolor\": \"white\", \"startlinecolor\": \"#2a3f5f\"}, \"baxis\": {\"endlinecolor\": \"#2a3f5f\", \"gridcolor\": \"white\", \"linecolor\": \"white\", \"minorgridcolor\": \"white\", \"startlinecolor\": \"#2a3f5f\"}, \"type\": \"carpet\"}], \"choropleth\": [{\"colorbar\": {\"outlinewidth\": 0, \"ticks\": \"\"}, \"type\": \"choropleth\"}], \"contour\": [{\"colorbar\": {\"outlinewidth\": 0, \"ticks\": \"\"}, \"colorscale\": [[0.0, \"#0d0887\"], [0.1111111111111111, \"#46039f\"], [0.2222222222222222, \"#7201a8\"], [0.3333333333333333, \"#9c179e\"], [0.4444444444444444, \"#bd3786\"], [0.5555555555555556, \"#d8576b\"], [0.6666666666666666, \"#ed7953\"], [0.7777777777777778, \"#fb9f3a\"], [0.8888888888888888, \"#fdca26\"], [1.0, \"#f0f921\"]], \"type\": \"contour\"}], \"contourcarpet\": [{\"colorbar\": {\"outlinewidth\": 0, \"ticks\": \"\"}, \"type\": \"contourcarpet\"}], \"heatmap\": [{\"colorbar\": {\"outlinewidth\": 0, \"ticks\": \"\"}, \"colorscale\": [[0.0, \"#0d0887\"], [0.1111111111111111, \"#46039f\"], [0.2222222222222222, \"#7201a8\"], [0.3333333333333333, \"#9c179e\"], [0.4444444444444444, \"#bd3786\"], [0.5555555555555556, \"#d8576b\"], [0.6666666666666666, \"#ed7953\"], [0.7777777777777778, \"#fb9f3a\"], [0.8888888888888888, \"#fdca26\"], [1.0, \"#f0f921\"]], \"type\": \"heatmap\"}], \"heatmapgl\": [{\"colorbar\": {\"outlinewidth\": 0, \"ticks\": \"\"}, \"colorscale\": [[0.0, \"#0d0887\"], [0.1111111111111111, \"#46039f\"], [0.2222222222222222, \"#7201a8\"], [0.3333333333333333, \"#9c179e\"], [0.4444444444444444, \"#bd3786\"], [0.5555555555555556, \"#d8576b\"], [0.6666666666666666, \"#ed7953\"], [0.7777777777777778, \"#fb9f3a\"], [0.8888888888888888, \"#fdca26\"], [1.0, \"#f0f921\"]], \"type\": \"heatmapgl\"}], \"histogram\": [{\"marker\": {\"colorbar\": {\"outlinewidth\": 0, \"ticks\": \"\"}}, \"type\": \"histogram\"}], \"histogram2d\": [{\"colorbar\": {\"outlinewidth\": 0, \"ticks\": \"\"}, \"colorscale\": [[0.0, \"#0d0887\"], [0.1111111111111111, \"#46039f\"], [0.2222222222222222, \"#7201a8\"], [0.3333333333333333, \"#9c179e\"], [0.4444444444444444, \"#bd3786\"], [0.5555555555555556, \"#d8576b\"], [0.6666666666666666, \"#ed7953\"], [0.7777777777777778, \"#fb9f3a\"], [0.8888888888888888, \"#fdca26\"], [1.0, \"#f0f921\"]], \"type\": \"histogram2d\"}], \"histogram2dcontour\": [{\"colorbar\": {\"outlinewidth\": 0, \"ticks\": \"\"}, \"colorscale\": [[0.0, \"#0d0887\"], [0.1111111111111111, \"#46039f\"], [0.2222222222222222, \"#7201a8\"], [0.3333333333333333, \"#9c179e\"], [0.4444444444444444, \"#bd3786\"], [0.5555555555555556, \"#d8576b\"], [0.6666666666666666, \"#ed7953\"], [0.7777777777777778, \"#fb9f3a\"], [0.8888888888888888, \"#fdca26\"], [1.0, \"#f0f921\"]], \"type\": \"histogram2dcontour\"}], \"mesh3d\": [{\"colorbar\": {\"outlinewidth\": 0, \"ticks\": \"\"}, \"type\": \"mesh3d\"}], \"parcoords\": [{\"line\": {\"colorbar\": {\"outlinewidth\": 0, \"ticks\": \"\"}}, \"type\": \"parcoords\"}], \"pie\": [{\"automargin\": true, \"type\": \"pie\"}], \"scatter\": [{\"marker\": {\"colorbar\": {\"outlinewidth\": 0, \"ticks\": \"\"}}, \"type\": \"scatter\"}], \"scatter3d\": [{\"line\": {\"colorbar\": {\"outlinewidth\": 0, \"ticks\": \"\"}}, \"marker\": {\"colorbar\": {\"outlinewidth\": 0, \"ticks\": \"\"}}, \"type\": \"scatter3d\"}], \"scattercarpet\": [{\"marker\": {\"colorbar\": {\"outlinewidth\": 0, \"ticks\": \"\"}}, \"type\": \"scattercarpet\"}], \"scattergeo\": [{\"marker\": {\"colorbar\": {\"outlinewidth\": 0, \"ticks\": \"\"}}, \"type\": \"scattergeo\"}], \"scattergl\": [{\"marker\": {\"colorbar\": {\"outlinewidth\": 0, \"ticks\": \"\"}}, \"type\": \"scattergl\"}], \"scattermapbox\": [{\"marker\": {\"colorbar\": {\"outlinewidth\": 0, \"ticks\": \"\"}}, \"type\": \"scattermapbox\"}], \"scatterpolar\": [{\"marker\": {\"colorbar\": {\"outlinewidth\": 0, \"ticks\": \"\"}}, \"type\": \"scatterpolar\"}], \"scatterpolargl\": [{\"marker\": {\"colorbar\": {\"outlinewidth\": 0, \"ticks\": \"\"}}, \"type\": \"scatterpolargl\"}], \"scatterternary\": [{\"marker\": {\"colorbar\": {\"outlinewidth\": 0, \"ticks\": \"\"}}, \"type\": \"scatterternary\"}], \"surface\": [{\"colorbar\": {\"outlinewidth\": 0, \"ticks\": \"\"}, \"colorscale\": [[0.0, \"#0d0887\"], [0.1111111111111111, \"#46039f\"], [0.2222222222222222, \"#7201a8\"], [0.3333333333333333, \"#9c179e\"], [0.4444444444444444, \"#bd3786\"], [0.5555555555555556, \"#d8576b\"], [0.6666666666666666, \"#ed7953\"], [0.7777777777777778, \"#fb9f3a\"], [0.8888888888888888, \"#fdca26\"], [1.0, \"#f0f921\"]], \"type\": \"surface\"}], \"table\": [{\"cells\": {\"fill\": {\"color\": \"#EBF0F8\"}, \"line\": {\"color\": \"white\"}}, \"header\": {\"fill\": {\"color\": \"#C8D4E3\"}, \"line\": {\"color\": \"white\"}}, \"type\": \"table\"}]}, \"layout\": {\"annotationdefaults\": {\"arrowcolor\": \"#2a3f5f\", \"arrowhead\": 0, \"arrowwidth\": 1}, \"coloraxis\": {\"colorbar\": {\"outlinewidth\": 0, \"ticks\": \"\"}}, \"colorscale\": {\"diverging\": [[0, \"#8e0152\"], [0.1, \"#c51b7d\"], [0.2, \"#de77ae\"], [0.3, \"#f1b6da\"], [0.4, \"#fde0ef\"], [0.5, \"#f7f7f7\"], [0.6, \"#e6f5d0\"], [0.7, \"#b8e186\"], [0.8, \"#7fbc41\"], [0.9, \"#4d9221\"], [1, \"#276419\"]], \"sequential\": [[0.0, \"#0d0887\"], [0.1111111111111111, \"#46039f\"], [0.2222222222222222, \"#7201a8\"], [0.3333333333333333, \"#9c179e\"], [0.4444444444444444, \"#bd3786\"], [0.5555555555555556, \"#d8576b\"], [0.6666666666666666, \"#ed7953\"], [0.7777777777777778, \"#fb9f3a\"], [0.8888888888888888, \"#fdca26\"], [1.0, \"#f0f921\"]], \"sequentialminus\": [[0.0, \"#0d0887\"], [0.1111111111111111, \"#46039f\"], [0.2222222222222222, \"#7201a8\"], [0.3333333333333333, \"#9c179e\"], [0.4444444444444444, \"#bd3786\"], [0.5555555555555556, \"#d8576b\"], [0.6666666666666666, \"#ed7953\"], [0.7777777777777778, \"#fb9f3a\"], [0.8888888888888888, \"#fdca26\"], [1.0, \"#f0f921\"]]}, \"colorway\": [\"#636efa\", \"#EF553B\", \"#00cc96\", \"#ab63fa\", \"#FFA15A\", \"#19d3f3\", \"#FF6692\", \"#B6E880\", \"#FF97FF\", \"#FECB52\"], \"font\": {\"color\": \"#2a3f5f\"}, \"geo\": {\"bgcolor\": \"white\", \"lakecolor\": \"white\", \"landcolor\": \"#E5ECF6\", \"showlakes\": true, \"showland\": true, \"subunitcolor\": \"white\"}, \"hoverlabel\": {\"align\": \"left\"}, \"hovermode\": \"closest\", \"mapbox\": {\"style\": \"light\"}, \"paper_bgcolor\": \"white\", \"plot_bgcolor\": \"#E5ECF6\", \"polar\": {\"angularaxis\": {\"gridcolor\": \"white\", \"linecolor\": \"white\", \"ticks\": \"\"}, \"bgcolor\": \"#E5ECF6\", \"radialaxis\": {\"gridcolor\": \"white\", \"linecolor\": \"white\", \"ticks\": \"\"}}, \"scene\": {\"xaxis\": {\"backgroundcolor\": \"#E5ECF6\", \"gridcolor\": \"white\", \"gridwidth\": 2, \"linecolor\": \"white\", \"showbackground\": true, \"ticks\": \"\", \"zerolinecolor\": \"white\"}, \"yaxis\": {\"backgroundcolor\": \"#E5ECF6\", \"gridcolor\": \"white\", \"gridwidth\": 2, \"linecolor\": \"white\", \"showbackground\": true, \"ticks\": \"\", \"zerolinecolor\": \"white\"}, \"zaxis\": {\"backgroundcolor\": \"#E5ECF6\", \"gridcolor\": \"white\", \"gridwidth\": 2, \"linecolor\": \"white\", \"showbackground\": true, \"ticks\": \"\", \"zerolinecolor\": \"white\"}}, \"shapedefaults\": {\"line\": {\"color\": \"#2a3f5f\"}}, \"ternary\": {\"aaxis\": {\"gridcolor\": \"white\", \"linecolor\": \"white\", \"ticks\": \"\"}, \"baxis\": {\"gridcolor\": \"white\", \"linecolor\": \"white\", \"ticks\": \"\"}, \"bgcolor\": \"#E5ECF6\", \"caxis\": {\"gridcolor\": \"white\", \"linecolor\": \"white\", \"ticks\": \"\"}}, \"title\": {\"x\": 0.05}, \"xaxis\": {\"automargin\": true, \"gridcolor\": \"white\", \"linecolor\": \"white\", \"ticks\": \"\", \"title\": {\"standoff\": 15}, \"zerolinecolor\": \"white\", \"zerolinewidth\": 2}, \"yaxis\": {\"automargin\": true, \"gridcolor\": \"white\", \"linecolor\": \"white\", \"ticks\": \"\", \"title\": {\"standoff\": 15}, \"zerolinecolor\": \"white\", \"zerolinewidth\": 2}}}},\n",
              "                        {\"responsive\": true}\n",
              "                    ).then(function(){\n",
              "                            \n",
              "var gd = document.getElementById('23425294-642d-4de7-a02e-36f25c72db93');\n",
              "var x = new MutationObserver(function (mutations, observer) {{\n",
              "        var display = window.getComputedStyle(gd).display;\n",
              "        if (!display || display === 'none') {{\n",
              "            console.log([gd, 'removed!']);\n",
              "            Plotly.purge(gd);\n",
              "            observer.disconnect();\n",
              "        }}\n",
              "}});\n",
              "\n",
              "// Listen for the removal of the full notebook cells\n",
              "var notebookContainer = gd.closest('#notebook-container');\n",
              "if (notebookContainer) {{\n",
              "    x.observe(notebookContainer, {childList: true});\n",
              "}}\n",
              "\n",
              "// Listen for the clearing of the current output cell\n",
              "var outputEl = gd.closest('.output');\n",
              "if (outputEl) {{\n",
              "    x.observe(outputEl, {childList: true});\n",
              "}}\n",
              "\n",
              "                        })\n",
              "                };\n",
              "                \n",
              "            </script>\n",
              "        </div>\n",
              "</body>\n",
              "</html>"
            ]
          },
          "metadata": {
            "tags": []
          }
        }
      ]
    },
    {
      "cell_type": "markdown",
      "metadata": {
        "id": "a58sy5CeqVSo"
      },
      "source": [
        "### Text for part 3.1: Description of results\n",
        "We can see that most of the sales are in Europe. In fact, only 1401 sales out of the total 18289 sales are outside of EU, with 1246 of those sales being to the US. The US is 6.81% of sales, and Japan is 0.85%, which makes the percentage of sales outside of Europe amount to only 7.66%.\n",
        "\n",
        "This means that either the company can try to expand in these areas, where there is a possibility for growth, or the company can choose to spend its resources on keeping the customer base in Europe happy, since they are more than 90% of the sales generated."
      ]
    },
    {
      "cell_type": "markdown",
      "metadata": {
        "id": "nPoM8mtz3kmt"
      },
      "source": [
        "#### 3.2. Add your own query #2 (5 pts)\n",
        "\n",
        "Impress your boss providing a valuable data-driven insight. Why is this relevant? Describe the query in words and provide appropriate visualisations. Write a paragraph describing your findings."
      ]
    },
    {
      "cell_type": "code",
      "metadata": {
        "id": "gwDFiCH741FL",
        "colab": {
          "base_uri": "https://localhost:8080/"
        },
        "outputId": "5112db1d-0e42-4d51-f4ea-f420bcc39087"
      },
      "source": [
        "# Calculate the top 3 parts for each of the 3 most revenue-generating customers\n",
        "q10 = \"\"\" \n",
        "  SELECT\n",
        "    company, part, COUNT(part)\n",
        "  FROM\n",
        "    convert_df\n",
        "  WHERE\n",
        "    (company = 'Thoughtmix' OR company = 'Twitterbeat' OR company = 'Zooxo')\n",
        "  GROUP BY company, part\n",
        "  ORDER BY company, count(part) DESC\n",
        "    \"\"\"\n",
        "custpart = spark.sql(q10)\n",
        "\n",
        "# Show the results in a readable format\n",
        "custpart = custpart.toPandas()\n",
        "out = custpart.loc[[0,1,2,100,101,102,200,201,202]]\n",
        "print(out)"
      ],
      "execution_count": 130,
      "outputs": [
        {
          "output_type": "stream",
          "text": [
            "         company        part  count(part)\n",
            "0     Thoughtmix   68084-172           46\n",
            "1     Thoughtmix   37205-992           44\n",
            "2     Thoughtmix   0268-6107           43\n",
            "100  Twitterbeat   17156-617           43\n",
            "101  Twitterbeat   49349-106           37\n",
            "102  Twitterbeat   52959-433           35\n",
            "200        Zooxo   0228-2167           28\n",
            "201        Zooxo   49348-574           27\n",
            "202        Zooxo  48951-4042           25\n"
          ],
          "name": "stdout"
        }
      ]
    },
    {
      "cell_type": "markdown",
      "metadata": {
        "id": "6kDim8RAqxhy"
      },
      "source": [
        "### Text for part 3.2\n",
        "Here we can see the three parts that the top three revenue generating companies buy the most. None of the parts show up more than once in this list, meaning that we can sadly not focus more intently on any of these parts to increase sales."
      ]
    }
  ]
}